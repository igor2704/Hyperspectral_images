{
 "cells": [
  {
   "cell_type": "code",
   "execution_count": null,
   "metadata": {},
   "outputs": [],
   "source": [
    "import pandas as pd\n",
    "import numpy as np\n",
    "\n",
    "import seaborn as sns\n",
    "import matplotlib.pyplot as plt\n",
    "\n",
    "import tifffile as tiff\n",
    "\n",
    "from sklearn.decomposition import PCA\n",
    "from sklearn.preprocessing import StandardScaler\n",
    "from sklearn.pipeline import Pipeline\n",
    "\n",
    "import hyper_img as hyper"
   ]
  },
  {
   "cell_type": "code",
   "execution_count": null,
   "metadata": {},
   "outputs": [],
   "source": [
    "IMG_PATH = '/home/igor/projects/Seed/data/golozernost'\n",
    "CALIBR_WHITE_PATH = '/home/igor/projects/Seed/data/golozernost/session_001_004_snapshot_cube.tiff'\n",
    "CALIBR_BLACK_PATH = '/home/igor/projects/Seed/data/golozernost/session_001_005_snapshot_cube.tiff'"
   ]
  },
  {
   "cell_type": "code",
   "execution_count": null,
   "metadata": {},
   "outputs": [],
   "source": [
    "class GolozernostHyperImg(hyper.HyperImg):\n",
    "    \n",
    "    def _get_tiff(self) -> np.ndarray:\n",
    "        img = tiff.imread(self.path)\n",
    "        bl_img = tiff.imread(CALIBR_BLACK_PATH)\n",
    "        new_img = np.where(bl_img > img, 0, img - bl_img)\n",
    "        wh_img = tiff.imread(CALIBR_WHITE_PATH)\n",
    "        return new_img /(wh_img - bl_img)\n",
    "\n",
    "    \n",
    "    def _get_target_varible(self) -> str:\n",
    "        if not set(IMG_PATH.split('/')).issubset(set(self.path.split('.')[0].split('/'))):\n",
    "            raise NameError('Error in path')\n",
    "        \n",
    "        if 'голозерные' in self.path:\n",
    "            return 'голозерные'\n",
    "        \n",
    "        if 'пленчатые' in self.path:\n",
    "            return 'пленчатые'\n",
    "        \n",
    "        return 'калибровка'"
   ]
  },
  {
   "cell_type": "code",
   "execution_count": null,
   "metadata": {},
   "outputs": [],
   "source": [
    "img_lst: list[GolozernostHyperImg] = hyper.get_list_hyper_img(path=IMG_PATH, \n",
    "                                                       class_name=GolozernostHyperImg,\n",
    "                                                       filter=lambda x: x != 'калибровка', \n",
    "                                                       threshold_value=25, \n",
    "                                                       target_varible_name= 'Голозерность/Пленчатость')"
   ]
  },
  {
   "cell_type": "code",
   "execution_count": null,
   "metadata": {},
   "outputs": [],
   "source": [
    "img_lst[0]"
   ]
  },
  {
   "cell_type": "code",
   "execution_count": null,
   "metadata": {},
   "outputs": [],
   "source": [
    "len(img_lst)"
   ]
  },
  {
   "cell_type": "code",
   "execution_count": null,
   "metadata": {},
   "outputs": [],
   "source": [
    "plt.figure(figsize=(7,5))\n",
    "plt.grid()\n",
    "sns.lineplot(data=hyper.get_df_graphics_medians_wavelenght(img_lst), \n",
    "             x='Wavelength', y='Median', hue='Голозерность/Пленчатость')"
   ]
  },
  {
   "cell_type": "code",
   "execution_count": null,
   "metadata": {},
   "outputs": [],
   "source": [
    "plt.figure(figsize=(15,7))\n",
    "sns.scatterplot(data=pd.DataFrame(hyper.get_df_2_pca(img_lst), \n",
    "                                  columns=['1', '2', 'Голозерность/Пленчатость']), x='1', y='2', hue='Голозерность/Пленчатость')"
   ]
  },
  {
   "cell_type": "code",
   "execution_count": null,
   "metadata": {},
   "outputs": [],
   "source": [
    "pipe = Pipeline([('scaler', StandardScaler()), ('pca', PCA(n_components=5))])"
   ]
  },
  {
   "cell_type": "code",
   "execution_count": null,
   "metadata": {},
   "outputs": [],
   "source": [
    "df = hyper.get_df_medians(img_lst)\n",
    "df.head()"
   ]
  },
  {
   "cell_type": "code",
   "execution_count": null,
   "metadata": {},
   "outputs": [],
   "source": [
    "X = df.drop(['Голозерность/Пленчатость'], axis = 1)\n",
    "y = df[['Голозерность/Пленчатость']]\n",
    "X = pipe.fit_transform(X)\n",
    "pipe['pca'].explained_variance_ratio_"
   ]
  }
 ],
 "metadata": {
  "kernelspec": {
   "display_name": "Python 3",
   "language": "python",
   "name": "python3"
  },
  "language_info": {
   "codemirror_mode": {
    "name": "ipython",
    "version": 3
   },
   "file_extension": ".py",
   "mimetype": "text/x-python",
   "name": "python",
   "nbconvert_exporter": "python",
   "pygments_lexer": "ipython3",
   "version": "3.10.6"
  },
  "orig_nbformat": 4,
  "vscode": {
   "interpreter": {
    "hash": "31f2aee4e71d21fbe5cf8b01ff0e069b9275f58929596ceb00d14d90e3e16cd6"
   }
  }
 },
 "nbformat": 4,
 "nbformat_minor": 2
}
