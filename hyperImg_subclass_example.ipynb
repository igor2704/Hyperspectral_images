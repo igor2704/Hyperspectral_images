{
 "cells": [
  {
   "cell_type": "markdown",
   "metadata": {},
   "source": [
    "An example of creating a subclass of HyperImg and working with it"
   ]
  },
  {
   "cell_type": "code",
   "execution_count": null,
   "metadata": {},
   "outputs": [],
   "source": [
    "import pandas as pd\n",
    "import numpy as np\n",
    "\n",
    "import seaborn as sns\n",
    "import matplotlib.pyplot as plt\n",
    "\n",
    "import tifffile as tiff\n",
    "\n",
    "import hyper_img as hyper"
   ]
  },
  {
   "cell_type": "markdown",
   "metadata": {},
   "source": [
    "Pathes and constants"
   ]
  },
  {
   "cell_type": "code",
   "execution_count": null,
   "metadata": {},
   "outputs": [],
   "source": [
    "IMG_PATH = '/home/igor/projects/Seed/data/golozernost'\n",
    "CALIBR_WHITE_PATH = IMG_PATH + '/2022_12_21_session_001_004_snapshot_cube.tiff'\n",
    "CALIBR_BLACK_PATH = IMG_PATH + '/2022_12_21_session_001_005_snapshot_cube.tiff'\n",
    "TARGET_VARIABLE = 'Голозерность/Пленчатость'"
   ]
  },
  {
   "cell_type": "markdown",
   "metadata": {},
   "source": [
    "Example of HyperImg subclass"
   ]
  },
  {
   "cell_type": "code",
   "execution_count": null,
   "metadata": {},
   "outputs": [],
   "source": [
    "import hyper_img as hyper\n\n",
    "class GolozernostHyperImg(hyper.HyperImg):\n",
    "    \n",
    "    def _get_tiff(self) -> np.ndarray:\n",
    "        img = tiff.imread(self.path)\n",
    "        bl_img = tiff.imread(CALIBR_BLACK_PATH)\n",
    "        new_img = np.where(bl_img > img, 0, img - bl_img)\n",
    "        wh_img = tiff.imread(CALIBR_WHITE_PATH)\n",
    "        try:\n",
    "            return new_img /(wh_img - bl_img)\n",
    "        except ZeroDivisionError:\n",
    "            raise ZeroDivisionError('black image is equal to white in one component')\n",
    "\n",
    "    \n",
    "    def _get_target_varible(self) -> str:\n",
    "        if not set(IMG_PATH.split('/')).issubset(set(self.path.split('.')[0].split('/'))):\n",
    "            raise NameError('Error in path')\n",
    "        \n",
    "        if 'голозерные' in self.path:\n",
    "            return 'голозерные'\n",
    "        \n",
    "        if 'пленчатые' in self.path:\n",
    "            return 'пленчатые'\n",
    "        \n",
    "        return 'калибровка'"
   ]
  },
  {
   "cell_type": "markdown",
   "metadata": {},
   "source": [
    "Get a list of GolozernostHyperImg"
   ]
  },
  {
   "cell_type": "code",
   "execution_count": null,
   "metadata": {},
   "outputs": [],
   "source": [
    "img_lst: list[GolozernostHyperImg] = hyper.get_list_hyper_img(path=IMG_PATH, \n",
    "                                                              class_name=GolozernostHyperImg,\n",
    "                                                              filter=lambda x: x != 'калибровка',\n",
    "                                                              threshold_value=25,\n",
    "                                                              target_varible_name=TARGET_VARIABLE,\n",
    "                                                              black_calibration_img_name=CALIBR_BLACK_PATH.split('/')[-1],\n",
    "                                                              white_calibration_img_name=CALIBR_WHITE_PATH.split('/')[-1])"
   ]
  },
  {
   "cell_type": "markdown",
   "metadata": {},
   "source": [
    "Example of elements and some main operation with them"
   ]
  },
  {
   "cell_type": "code",
   "execution_count": null,
   "metadata": {},
   "outputs": [],
   "source": [
    "img_lst[0]"
   ]
  },
  {
   "cell_type": "code",
   "execution_count": null,
   "metadata": {},
   "outputs": [],
   "source": [
    "img_lst[1]"
   ]
  },
  {
   "cell_type": "code",
   "execution_count": null,
   "metadata": {},
   "outputs": [],
   "source": [
    "img_lst[0] - img_lst[1]"
   ]
  },
  {
   "cell_type": "code",
   "execution_count": null,
   "metadata": {},
   "outputs": [],
   "source": [
    "img_lst[0] + img_lst[1]"
   ]
  },
  {
   "cell_type": "markdown",
   "metadata": {},
   "source": [
    "Charts"
   ]
  },
  {
   "cell_type": "code",
   "execution_count": null,
   "metadata": {},
   "outputs": [],
   "source": [
    "hyper.get_medians_wavelenght_graph(img_lst)"
   ]
  },
  {
   "cell_type": "code",
   "execution_count": null,
   "metadata": {},
   "outputs": [],
   "source": [
    "hyper.get_mean_diff_and_confident_interval_graph(img_lst, 'пленчатые', 'голозерные', 0.95)"
   ]
  },
  {
   "cell_type": "code",
   "execution_count": null,
   "metadata": {},
   "outputs": [],
   "source": [
    "hyper.get_2_pca_graph(img_lst)"
   ]
  },
  {
   "cell_type": "code",
   "execution_count": null,
   "metadata": {},
   "outputs": [],
   "source": [
    "hyper.get_umap_graph(img_lst, n_neighbors=3)"
   ]
  },
  {
   "cell_type": "markdown",
   "metadata": {},
   "source": [
    "Some examples of getting useful pd.DataFrame (see more in get_data_funcs.py)"
   ]
  },
  {
   "cell_type": "code",
   "execution_count": null,
   "metadata": {},
   "outputs": [],
   "source": [
    "df = hyper.get_df_graphics_medians_wavelenght(img_lst)\n",
    "df.head()"
   ]
  },
  {
   "cell_type": "code",
   "execution_count": null,
   "metadata": {},
   "outputs": [],
   "source": [
    "plt.figure(figsize=(7,5))\n",
    "plt.grid()\n",
    "sns.lineplot(data=hyper.get_df_graphics_medians_wavelenght(img_lst), \n",
    "             x='Wavelength', y='Median', hue=TARGET_VARIABLE)"
   ]
  },
  {
   "cell_type": "code",
   "execution_count": null,
   "metadata": {},
   "outputs": [],
   "source": [
    "df = hyper.get_df_medians(img_lst)\n",
    "df.head()"
   ]
  },
  {
   "cell_type": "code",
   "execution_count": null,
   "metadata": {},
   "outputs": [],
   "source": [
    "df[TARGET_VARIABLE].hist()"
   ]
  },
  {
   "cell_type": "code",
   "execution_count": null,
   "metadata": {},
   "outputs": [],
   "source": [
    "df, explained_variance = hyper.get_df_2_pca_and_explained_variance(img_lst)\n",
    "df.head()"
   ]
  },
  {
   "cell_type": "markdown",
   "metadata": {},
   "source": [
    "Create annotation"
   ]
  },
  {
   "cell_type": "code",
   "execution_count": null,
   "metadata": {},
   "outputs": [],
   "source": [
    "hyper.create_table_annotation_df(img_lst)"
   ]
  },
  {
   "cell_type": "code",
   "execution_count": null,
   "metadata": {},
   "outputs": [],
   "source": []
  }
 ],
 "metadata": {
  "kernelspec": {
   "display_name": "Python 3 (ipykernel)",
   "language": "python",
   "name": "python3"
  },
  "language_info": {
   "codemirror_mode": {
    "name": "ipython",
    "version": 3
   },
   "file_extension": ".py",
   "mimetype": "text/x-python",
   "name": "python",
   "nbconvert_exporter": "python",
   "pygments_lexer": "ipython3",
   "version": "3.10.6"
  },
  "vscode": {
   "interpreter": {
    "hash": "31f2aee4e71d21fbe5cf8b01ff0e069b9275f58929596ceb00d14d90e3e16cd6"
   }
  }
 },
 "nbformat": 4,
 "nbformat_minor": 2
}
