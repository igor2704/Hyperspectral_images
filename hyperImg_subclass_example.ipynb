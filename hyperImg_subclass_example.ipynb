{
 "cells": [
  {
   "cell_type": "markdown",
   "metadata": {},
   "source": [
    "An example of creating a subclass of HyperImg and working with it"
   ]
  },
  {
   "cell_type": "code",
   "execution_count": 2,
   "metadata": {},
   "outputs": [],
   "source": [
    "import pandas as pd\n",
    "import numpy as np\n",
    "\n",
    "import seaborn as sns\n",
    "import matplotlib.pyplot as plt\n",
    "\n",
    "import tifffile as tiff\n",
    "\n",
    "import hyper_img as hyper"
   ]
  },
  {
   "cell_type": "markdown",
   "metadata": {},
   "source": [
    "Pathes and constants"
   ]
  },
  {
   "cell_type": "code",
   "execution_count": 4,
   "metadata": {},
   "outputs": [],
   "source": [
    "IMG_PATH = '/home/igor/projects/Seed/data/golozernost'\n",
    "CALIBR_WHITE_PATH = IMG_PATH + '/2022_12_21_session_001_004_snapshot_cube.tiff'\n",
    "CALIBR_BLACK_PATH = IMG_PATH + '/2022_12_21_session_001_005_snapshot_cube.tiff'\n",
    "TARGET_VARIABLE = 'Голозерность/Пленчатость'"
   ]
  },
  {
   "cell_type": "markdown",
   "metadata": {},
   "source": [
    "Example of HyperImg subclass"
   ]
  },
  {
   "cell_type": "code",
   "execution_count": 5,
   "metadata": {},
   "outputs": [],
   "source": [
    "class GolozernostHyperImg(hyper.HyperImg):\n",
    "    \n",
    "    def _get_image(self) -> np.ndarray:\n",
    "        img = tiff.imread(self.path)\n",
    "        bl_img = tiff.imread(CALIBR_BLACK_PATH)\n",
    "        new_img = np.where(bl_img > img, 0, img - bl_img)\n",
    "        wh_img = tiff.imread(CALIBR_WHITE_PATH)\n",
    "        try:\n",
    "            return new_img /(wh_img - bl_img)\n",
    "        except ZeroDivisionError:\n",
    "            raise ZeroDivisionError('black image is equal to white in one component')\n",
    "\n",
    "    \n",
    "    def _get_target_varible(self) -> str:\n",
    "        \n",
    "        if 'голозерные' in self.path:\n",
    "            return 'голозерные'\n",
    "        \n",
    "        if 'пленчатые' in self.path:\n",
    "            return 'пленчатые'\n",
    "        \n",
    "        return 'калибровка'"
   ]
  },
  {
   "cell_type": "markdown",
   "metadata": {},
   "source": [
    "Get a list of GolozernostHyperImg"
   ]
  },
  {
   "cell_type": "code",
   "execution_count": 6,
   "metadata": {},
   "outputs": [],
   "source": [
    "img_lst: list[hyper.TableHyperImg] = hyper.get_list_hyper_img(path=IMG_PATH,\n",
    "                                                             class_name=GolozernostHyperImg,\n",
    "                                                             segmenter=hyper.PlainCv2Segmenter(25),\n",
    "                                                             filter=lambda x: x != '',\n",
    "                                                             target_varible_name=TARGET_VARIABLE)"
   ]
  },
  {
   "cell_type": "code",
   "execution_count": 7,
   "metadata": {},
   "outputs": [
    {
     "data": {
      "text/plain": [
       "{'калибровка': 2, 'пленчатые': 6, 'голозерные': 6}"
      ]
     },
     "execution_count": 7,
     "metadata": {},
     "output_type": "execute_result"
    }
   ],
   "source": [
    "hyper.get_count_group(img_lst)"
   ]
  },
  {
   "cell_type": "markdown",
   "metadata": {},
   "source": [
    "Then we work with the list in the same way as in tableImg_example.ipynb (see my github)"
   ]
  },
  {
   "cell_type": "code",
   "execution_count": null,
   "metadata": {},
   "outputs": [],
   "source": []
  }
 ],
 "metadata": {
  "kernelspec": {
   "display_name": "Python 3 (ipykernel)",
   "language": "python",
   "name": "python3"
  },
  "language_info": {
   "codemirror_mode": {
    "name": "ipython",
    "version": 3
   },
   "file_extension": ".py",
   "mimetype": "text/x-python",
   "name": "python",
   "nbconvert_exporter": "python",
   "pygments_lexer": "ipython3",
   "version": "3.10.6"
  },
  "vscode": {
   "interpreter": {
    "hash": "31f2aee4e71d21fbe5cf8b01ff0e069b9275f58929596ceb00d14d90e3e16cd6"
   }
  }
 },
 "nbformat": 4,
 "nbformat_minor": 2
}
