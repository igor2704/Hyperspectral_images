{
 "cells": [
  {
   "cell_type": "code",
   "execution_count": null,
   "metadata": {},
   "outputs": [],
   "source": [
    "import pandas as pd\n",
    "import numpy as np\n",
    "\n",
    "import seaborn as sns\n",
    "import matplotlib.pyplot as plt\n",
    "\n",
    "import tifffile as tiff\n",
    "\n",
    "from sklearn.decomposition import PCA\n",
    "from sklearn.preprocessing import StandardScaler\n",
    "from sklearn.pipeline import Pipeline\n",
    "\n",
    "import hyper_img as hyper"
   ]
  },
  {
   "cell_type": "code",
   "execution_count": null,
   "metadata": {},
   "outputs": [],
   "source": [
    "IMG_PATH = '/home/igor/projects/Seed/data/mutation/session_000/'\n",
    "CALIBR_WHITE_PATH = '/home/igor/projects/Seed/data/mutation/calibr/session_000_024_snapshot_cube.tiff'\n",
    "CALIBR_BLACK_CAP_PATH = '/home/igor/projects/Seed/data/mutation/calibr/session_000_025_snapshot_cube.tiff'\n",
    "CALIBR_BLACK_BACKGROUND_PATH = '/home/igor/projects/Seed/data/mutation/calibr/session_000_026_snapshot_cube.tiff'\n",
    "PURPLE_IMG = '/home/igor/projects/Seed/data/mutation/session_000/session_000_046_snapshot_cube.tiff'"
   ]
  },
  {
   "cell_type": "code",
   "execution_count": null,
   "metadata": {},
   "outputs": [],
   "source": [
    "class MutationHyperImg(hyper.HyperImg):\n",
    "    \n",
    "    def _get_tiff(self) -> np.ndarray:\n",
    "        img = tiff.imread(self.path)\n",
    "        bl_img = tiff.imread(CALIBR_BLACK_BACKGROUND_PATH)\n",
    "        new_img = np.where(bl_img > img, 0, img - bl_img)\n",
    "        wh_img = tiff.imread(CALIBR_WHITE_PATH)\n",
    "        return new_img /(wh_img - bl_img)\n",
    "\n",
    "    \n",
    "    def _get_target_varible(self) -> str:\n",
    "        if not set(IMG_PATH.split('/')).issubset(set(self.path.split('.')[0].split('/'))):\n",
    "            raise NameError('Error in path')\n",
    "        \n",
    "        number = int(self.path.split('/')[-1].split('.')[0].split('_')[2])\n",
    "        \n",
    "        if number < 25 and number > 0:\n",
    "            return '-4'  \n",
    "        elif number > 24 and number < 27:\n",
    "            return '-1' \n",
    "        elif number > 26 and number < 41:\n",
    "            return 'wt' \n",
    "        elif number > 40 and number < 45:\n",
    "            return '-1'\n",
    "        elif number == 45:\n",
    "            return 'light'\n",
    "        elif number == 46:\n",
    "            return 'purple'\n",
    "        elif number == 47:\n",
    "            return 'blue'\n",
    "        else:\n",
    "            return 'control'"
   ]
  },
  {
   "cell_type": "code",
   "execution_count": null,
   "metadata": {},
   "outputs": [],
   "source": [
    "img_lst: list[MutationHyperImg] = hyper.get_list_hyper_img(path=IMG_PATH, \n",
    "                                                       class_name=MutationHyperImg,\n",
    "                                                       filter=lambda x: x != 'control', \n",
    "                                                       threshold_value=28.27608638, \n",
    "                                                       target_varible_name= 'Mutation')"
   ]
  },
  {
   "cell_type": "code",
   "execution_count": null,
   "metadata": {},
   "outputs": [],
   "source": [
    "img_lst[0]"
   ]
  },
  {
   "cell_type": "code",
   "execution_count": null,
   "metadata": {},
   "outputs": [],
   "source": [
    "len(img_lst)"
   ]
  },
  {
   "cell_type": "code",
   "execution_count": null,
   "metadata": {},
   "outputs": [],
   "source": [
    "plt.figure(figsize=(7,5))\n",
    "plt.grid()\n",
    "sns.lineplot(data=hyper.get_df_graphics_medians_wavelenght(img_lst), \n",
    "             x='Wavelength', y='Median', hue='Mutation')"
   ]
  },
  {
   "cell_type": "code",
   "execution_count": null,
   "metadata": {},
   "outputs": [],
   "source": [
    "plt.figure(figsize=(7,5))\n",
    "plt.grid()\n",
    "sns.lineplot(data=hyper.get_df_graphics_medians_wavelenght(img_lst, PURPLE_IMG), \n",
    "             x='Wavelength', y='Median', hue='Mutation')"
   ]
  },
  {
   "cell_type": "code",
   "execution_count": null,
   "metadata": {},
   "outputs": [],
   "source": [
    "pipe = Pipeline([('scaler', StandardScaler()), ('pca', PCA(n_components=5))])"
   ]
  },
  {
   "cell_type": "code",
   "execution_count": null,
   "metadata": {},
   "outputs": [],
   "source": [
    "df = hyper.get_df_medians(img_lst)\n",
    "df.head()"
   ]
  },
  {
   "cell_type": "code",
   "execution_count": null,
   "metadata": {},
   "outputs": [],
   "source": [
    "X = df.drop(['Mutation'], axis = 1)\n",
    "y = df[['Mutation']]\n",
    "X = pipe.fit_transform(X)\n",
    "pipe['pca'].explained_variance_ratio_"
   ]
  },
  {
   "cell_type": "code",
   "execution_count": null,
   "metadata": {},
   "outputs": [],
   "source": [
    "plt.figure(figsize=(7,5))\n",
    "sns.scatterplot(data=pd.DataFrame(hyper.get_df_2_pca(img_lst), \n",
    "                                  columns=['1', '2', 'Mutation']), x='1', y='2', hue='Mutation')"
   ]
  },
  {
   "cell_type": "code",
   "execution_count": null,
   "metadata": {},
   "outputs": [],
   "source": [
    "plt.figure(figsize=(7,5))\n",
    "sns.scatterplot(data=pd.DataFrame(hyper.get_df_2_pca(img_lst, 'purple'), \n",
    "                                  columns=['1', '2', 'Mutation']), x='1', y='2', hue='Mutation')"
   ]
  }
 ],
 "metadata": {
  "kernelspec": {
   "display_name": "Python 3",
   "language": "python",
   "name": "python3"
  },
  "language_info": {
   "codemirror_mode": {
    "name": "ipython",
    "version": 3
   },
   "file_extension": ".py",
   "mimetype": "text/x-python",
   "name": "python",
   "nbconvert_exporter": "python",
   "pygments_lexer": "ipython3",
   "version": "3.10.6"
  },
  "orig_nbformat": 4,
  "vscode": {
   "interpreter": {
    "hash": "31f2aee4e71d21fbe5cf8b01ff0e069b9275f58929596ceb00d14d90e3e16cd6"
   }
  }
 },
 "nbformat": 4,
 "nbformat_minor": 2
}
