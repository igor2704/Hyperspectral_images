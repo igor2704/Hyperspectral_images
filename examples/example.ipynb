{
 "cells": [
  {
   "cell_type": "markdown",
   "metadata": {},
   "source": [
    "An example of working with pipeline"
   ]
  },
  {
   "cell_type": "code",
   "execution_count": 1,
   "metadata": {
    "ExecuteTime": {
     "end_time": "2023-04-18T21:47:53.037461Z",
     "start_time": "2023-04-18T21:47:45.939644Z"
    }
   },
   "outputs": [],
   "source": [
    "import numpy as np\n",
    "import pandas as pd\n",
    "\n",
    "import seaborn as sns\n",
    "import matplotlib.pyplot as plt\n",
    "\n",
    "from itertools import combinations\n",
    "from copy import deepcopy\n",
    "\n",
    "import hyper_img as hyper"
   ]
  },
  {
   "cell_type": "code",
   "execution_count": 2,
   "metadata": {},
   "outputs": [],
   "source": [
    "import warnings\n",
    "warnings.filterwarnings(\"ignore\")"
   ]
  },
  {
   "cell_type": "markdown",
   "metadata": {},
   "source": [
    "Pathes and constants"
   ]
  },
  {
   "cell_type": "code",
   "execution_count": 3,
   "metadata": {
    "ExecuteTime": {
     "end_time": "2023-04-18T21:47:53.048781Z",
     "start_time": "2023-04-18T21:47:53.044263Z"
    }
   },
   "outputs": [],
   "source": [
    "IMG_PATH = '/home/igor/projects/Seed/2024_08_12/new_data'\n",
    "TARGET_VARIABLE = 'Mutation(myc2_nud)'"
   ]
  },
  {
   "cell_type": "code",
   "execution_count": 4,
   "metadata": {},
   "outputs": [],
   "source": [
    "import os\n",
    "\n",
    "cube_names = []\n",
    "for name in os.listdir(IMG_PATH):\n",
    "    if name.split('.')[-1] == 'tiff' and name.split('.')[0].split('_')[-1] == 'cube':\n",
    "        cube_names.append(name)"
   ]
  },
  {
   "cell_type": "markdown",
   "metadata": {},
   "source": [
    "Read table"
   ]
  },
  {
   "cell_type": "code",
   "execution_count": 5,
   "metadata": {},
   "outputs": [
    {
     "data": {
      "text/html": [
       "<div>\n",
       "<style scoped>\n",
       "    .dataframe tbody tr th:only-of-type {\n",
       "        vertical-align: middle;\n",
       "    }\n",
       "\n",
       "    .dataframe tbody tr th {\n",
       "        vertical-align: top;\n",
       "    }\n",
       "\n",
       "    .dataframe thead th {\n",
       "        text-align: right;\n",
       "    }\n",
       "</style>\n",
       "<table border=\"1\" class=\"dataframe\">\n",
       "  <thead>\n",
       "    <tr style=\"text-align: right;\">\n",
       "      <th></th>\n",
       "      <th>Line</th>\n",
       "      <th>Mutation(myc2_nud)</th>\n",
       "      <th>Image Name</th>\n",
       "      <th>Black calibration data</th>\n",
       "      <th>White calibration data</th>\n",
       "      <th>Group</th>\n",
       "      <th>Batch</th>\n",
       "      <th>ID партии</th>\n",
       "    </tr>\n",
       "  </thead>\n",
       "  <tbody>\n",
       "    <tr>\n",
       "      <th>0</th>\n",
       "      <td>Donor-line E16-6 (nud)</td>\n",
       "      <td>donor_line_nud</td>\n",
       "      <td>session_002_017_cube.tiff</td>\n",
       "      <td>session_002_015_snapshot_cube.tiff</td>\n",
       "      <td>session_002_014_snapshot_cube.tiff</td>\n",
       "      <td>white naked control</td>\n",
       "      <td>1</td>\n",
       "      <td>12.08.2024</td>\n",
       "    </tr>\n",
       "    <tr>\n",
       "      <th>1</th>\n",
       "      <td>Donor-line E33-4 (nud)</td>\n",
       "      <td>donor_line_nud</td>\n",
       "      <td>session_002_018_cube.tiff</td>\n",
       "      <td>session_002_015_snapshot_cube.tiff</td>\n",
       "      <td>session_002_014_snapshot_cube.tiff</td>\n",
       "      <td>white naked control</td>\n",
       "      <td>1</td>\n",
       "      <td>12.08.2024</td>\n",
       "    </tr>\n",
       "    <tr>\n",
       "      <th>2</th>\n",
       "      <td>E29</td>\n",
       "      <td>WT_-17</td>\n",
       "      <td>session_002_020_cube.tiff</td>\n",
       "      <td>session_002_015_snapshot_cube.tiff</td>\n",
       "      <td>session_002_014_snapshot_cube.tiff</td>\n",
       "      <td>white naked control</td>\n",
       "      <td>1</td>\n",
       "      <td>12.08.2024</td>\n",
       "    </tr>\n",
       "    <tr>\n",
       "      <th>3</th>\n",
       "      <td>E2C-1</td>\n",
       "      <td>-1_-17</td>\n",
       "      <td>session_002_022_cube.tiff</td>\n",
       "      <td>session_002_015_snapshot_cube.tiff</td>\n",
       "      <td>session_002_014_snapshot_cube.tiff</td>\n",
       "      <td>blue mutants</td>\n",
       "      <td>1</td>\n",
       "      <td>12.08.2024</td>\n",
       "    </tr>\n",
       "    <tr>\n",
       "      <th>4</th>\n",
       "      <td>E4A-2</td>\n",
       "      <td>-1_-17</td>\n",
       "      <td>session_002_024_cube.tiff</td>\n",
       "      <td>session_002_015_snapshot_cube.tiff</td>\n",
       "      <td>session_002_014_snapshot_cube.tiff</td>\n",
       "      <td>blue mutants</td>\n",
       "      <td>1</td>\n",
       "      <td>12.08.2024</td>\n",
       "    </tr>\n",
       "  </tbody>\n",
       "</table>\n",
       "</div>"
      ],
      "text/plain": [
       "                     Line Mutation(myc2_nud)                 Image Name  \\\n",
       "0  Donor-line E16-6 (nud)     donor_line_nud  session_002_017_cube.tiff   \n",
       "1  Donor-line E33-4 (nud)     donor_line_nud  session_002_018_cube.tiff   \n",
       "2                     E29             WT_-17  session_002_020_cube.tiff   \n",
       "3                   E2C-1             -1_-17  session_002_022_cube.tiff   \n",
       "4                   E4A-2             -1_-17  session_002_024_cube.tiff   \n",
       "\n",
       "               Black calibration data              White calibration data  \\\n",
       "0  session_002_015_snapshot_cube.tiff  session_002_014_snapshot_cube.tiff   \n",
       "1  session_002_015_snapshot_cube.tiff  session_002_014_snapshot_cube.tiff   \n",
       "2  session_002_015_snapshot_cube.tiff  session_002_014_snapshot_cube.tiff   \n",
       "3  session_002_015_snapshot_cube.tiff  session_002_014_snapshot_cube.tiff   \n",
       "4  session_002_015_snapshot_cube.tiff  session_002_014_snapshot_cube.tiff   \n",
       "\n",
       "                 Group  Batch   ID партии  \n",
       "0  white naked control      1  12.08.2024  \n",
       "1  white naked control      1  12.08.2024  \n",
       "2  white naked control      1  12.08.2024  \n",
       "3         blue mutants      1  12.08.2024  \n",
       "4         blue mutants      1  12.08.2024  "
      ]
     },
     "execution_count": 5,
     "metadata": {},
     "output_type": "execute_result"
    }
   ],
   "source": [
    "df = pd.read_excel('new_data_table.xlsx')\n",
    "df = df.rename(columns={'Mutation (myc2_nud)': TARGET_VARIABLE})\n",
    "\n",
    "for col in ['Image Name', \n",
    "            'Black calibration data', \n",
    "            'White calibration data']:\n",
    "    for i in range(len(df)):\n",
    "        for name in cube_names:\n",
    "            if df.loc[i][col] == '':\n",
    "                continue\n",
    "            name_num = int(name.split('_')[2])\n",
    "            if int(df.loc[i][col].split('_')[1]) == name_num:\n",
    "                df.loc[i, col] = name\n",
    "                break\n",
    "            \n",
    "df['ID партии'] = '12.08.2024'\n",
    "df.head(5)"
   ]
  },
  {
   "cell_type": "markdown",
   "metadata": {},
   "source": [
    "Create HyperDataPixels object"
   ]
  },
  {
   "cell_type": "code",
   "execution_count": 6,
   "metadata": {},
   "outputs": [],
   "source": [
    "# HyperData object\n",
    "data = hyper.HyperDataPixels(seq_names=IMG_PATH + '/' + df['Image Name'],\n",
    "                            class_name=hyper.TableHyperImg,\n",
    "                            segmenter=hyper.CircleCv2Segmenter(threshold=25),\n",
    "                            table=df,\n",
    "                            factors_columns=[TARGET_VARIABLE, 'Batch'],\n",
    "                            number_buckets=20,\n",
    "                            name_column='Image Name',\n",
    "                            plant_number_column='Line',\n",
    "                            column_for_marking='')"
   ]
  },
  {
   "cell_type": "code",
   "execution_count": 7,
   "metadata": {},
   "outputs": [
    {
     "data": {
      "text/plain": [
       " Mutation(myc2_nud)(donor_line_nud); Batch(1);"
      ]
     },
     "execution_count": 7,
     "metadata": {},
     "output_type": "execute_result"
    },
    {
     "data": {
      "image/png": "[encoded data removed]",
      "text/plain": [
       "<Figure size 640x480 with 2 Axes>"
      ]
     },
     "metadata": {},
     "output_type": "display_data"
    }
   ],
   "source": [
    "# HyperImg object\n",
    "hyper_lst = data.hyper_imgs_lst;\n",
    "hyper_lst[0]"
   ]
  },
  {
   "cell_type": "code",
   "execution_count": 8,
   "metadata": {},
   "outputs": [
    {
     "data": {
      "text/html": [
       "<div>\n",
       "<style scoped>\n",
       "    .dataframe tbody tr th:only-of-type {\n",
       "        vertical-align: middle;\n",
       "    }\n",
       "\n",
       "    .dataframe tbody tr th {\n",
       "        vertical-align: top;\n",
       "    }\n",
       "\n",
       "    .dataframe thead th {\n",
       "        text-align: right;\n",
       "    }\n",
       "</style>\n",
       "<table border=\"1\" class=\"dataframe\">\n",
       "  <thead>\n",
       "    <tr style=\"text-align: right;\">\n",
       "      <th></th>\n",
       "      <th>wl_450</th>\n",
       "      <th>wl_454</th>\n",
       "      <th>wl_458</th>\n",
       "      <th>wl_462</th>\n",
       "      <th>wl_466</th>\n",
       "      <th>wl_470</th>\n",
       "      <th>wl_474</th>\n",
       "      <th>wl_478</th>\n",
       "      <th>wl_482</th>\n",
       "      <th>wl_486</th>\n",
       "      <th>...</th>\n",
       "      <th>wl_978</th>\n",
       "      <th>wl_982</th>\n",
       "      <th>wl_986</th>\n",
       "      <th>wl_990</th>\n",
       "      <th>wl_994</th>\n",
       "      <th>wl_998</th>\n",
       "      <th>Object name</th>\n",
       "      <th>Mutation(myc2_nud)</th>\n",
       "      <th>Batch</th>\n",
       "      <th>all_factors</th>\n",
       "    </tr>\n",
       "  </thead>\n",
       "  <tbody>\n",
       "    <tr>\n",
       "      <th>0</th>\n",
       "      <td>0.085935</td>\n",
       "      <td>0.103015</td>\n",
       "      <td>0.112784</td>\n",
       "      <td>0.120138</td>\n",
       "      <td>0.125703</td>\n",
       "      <td>0.130993</td>\n",
       "      <td>0.135313</td>\n",
       "      <td>0.136708</td>\n",
       "      <td>0.139572</td>\n",
       "      <td>0.144431</td>\n",
       "      <td>...</td>\n",
       "      <td>0.252180</td>\n",
       "      <td>0.249786</td>\n",
       "      <td>0.248691</td>\n",
       "      <td>0.247523</td>\n",
       "      <td>0.247076</td>\n",
       "      <td>0.249157</td>\n",
       "      <td>Donor-line E16-6 (nud)</td>\n",
       "      <td>donor_line_nud</td>\n",
       "      <td>1</td>\n",
       "      <td>Mutation(myc2_nud)(donor_line_nud); Batch(1);</td>\n",
       "    </tr>\n",
       "    <tr>\n",
       "      <th>1</th>\n",
       "      <td>0.082550</td>\n",
       "      <td>0.098601</td>\n",
       "      <td>0.107031</td>\n",
       "      <td>0.113090</td>\n",
       "      <td>0.120223</td>\n",
       "      <td>0.125675</td>\n",
       "      <td>0.130008</td>\n",
       "      <td>0.130307</td>\n",
       "      <td>0.134693</td>\n",
       "      <td>0.138405</td>\n",
       "      <td>...</td>\n",
       "      <td>0.251919</td>\n",
       "      <td>0.251019</td>\n",
       "      <td>0.250564</td>\n",
       "      <td>0.248701</td>\n",
       "      <td>0.247626</td>\n",
       "      <td>0.249132</td>\n",
       "      <td>Donor-line E16-6 (nud)</td>\n",
       "      <td>donor_line_nud</td>\n",
       "      <td>1</td>\n",
       "      <td>Mutation(myc2_nud)(donor_line_nud); Batch(1);</td>\n",
       "    </tr>\n",
       "    <tr>\n",
       "      <th>2</th>\n",
       "      <td>0.092713</td>\n",
       "      <td>0.108940</td>\n",
       "      <td>0.118680</td>\n",
       "      <td>0.123962</td>\n",
       "      <td>0.131490</td>\n",
       "      <td>0.137308</td>\n",
       "      <td>0.142038</td>\n",
       "      <td>0.142426</td>\n",
       "      <td>0.146998</td>\n",
       "      <td>0.151151</td>\n",
       "      <td>...</td>\n",
       "      <td>0.250270</td>\n",
       "      <td>0.247825</td>\n",
       "      <td>0.246799</td>\n",
       "      <td>0.244736</td>\n",
       "      <td>0.245531</td>\n",
       "      <td>0.245265</td>\n",
       "      <td>Donor-line E16-6 (nud)</td>\n",
       "      <td>donor_line_nud</td>\n",
       "      <td>1</td>\n",
       "      <td>Mutation(myc2_nud)(donor_line_nud); Batch(1);</td>\n",
       "    </tr>\n",
       "    <tr>\n",
       "      <th>3</th>\n",
       "      <td>0.093869</td>\n",
       "      <td>0.108172</td>\n",
       "      <td>0.118802</td>\n",
       "      <td>0.123566</td>\n",
       "      <td>0.129168</td>\n",
       "      <td>0.135214</td>\n",
       "      <td>0.139904</td>\n",
       "      <td>0.140092</td>\n",
       "      <td>0.145263</td>\n",
       "      <td>0.149948</td>\n",
       "      <td>...</td>\n",
       "      <td>0.246999</td>\n",
       "      <td>0.248716</td>\n",
       "      <td>0.246566</td>\n",
       "      <td>0.247104</td>\n",
       "      <td>0.246862</td>\n",
       "      <td>0.247068</td>\n",
       "      <td>Donor-line E16-6 (nud)</td>\n",
       "      <td>donor_line_nud</td>\n",
       "      <td>1</td>\n",
       "      <td>Mutation(myc2_nud)(donor_line_nud); Batch(1);</td>\n",
       "    </tr>\n",
       "    <tr>\n",
       "      <th>4</th>\n",
       "      <td>0.087795</td>\n",
       "      <td>0.100565</td>\n",
       "      <td>0.110032</td>\n",
       "      <td>0.116345</td>\n",
       "      <td>0.120854</td>\n",
       "      <td>0.127589</td>\n",
       "      <td>0.130552</td>\n",
       "      <td>0.131310</td>\n",
       "      <td>0.136466</td>\n",
       "      <td>0.139955</td>\n",
       "      <td>...</td>\n",
       "      <td>0.253408</td>\n",
       "      <td>0.252995</td>\n",
       "      <td>0.253590</td>\n",
       "      <td>0.254396</td>\n",
       "      <td>0.255051</td>\n",
       "      <td>0.255319</td>\n",
       "      <td>Donor-line E16-6 (nud)</td>\n",
       "      <td>donor_line_nud</td>\n",
       "      <td>1</td>\n",
       "      <td>Mutation(myc2_nud)(donor_line_nud); Batch(1);</td>\n",
       "    </tr>\n",
       "  </tbody>\n",
       "</table>\n",
       "<p>5 rows × 142 columns</p>\n",
       "</div>"
      ],
      "text/plain": [
       "     wl_450    wl_454    wl_458    wl_462    wl_466    wl_470    wl_474  \\\n",
       "0  0.085935  0.103015  0.112784  0.120138  0.125703  0.130993  0.135313   \n",
       "1  0.082550  0.098601  0.107031  0.113090  0.120223  0.125675  0.130008   \n",
       "2  0.092713  0.108940  0.118680  0.123962  0.131490  0.137308  0.142038   \n",
       "3  0.093869  0.108172  0.118802  0.123566  0.129168  0.135214  0.139904   \n",
       "4  0.087795  0.100565  0.110032  0.116345  0.120854  0.127589  0.130552   \n",
       "\n",
       "     wl_478    wl_482    wl_486  ...    wl_978    wl_982    wl_986    wl_990  \\\n",
       "0  0.136708  0.139572  0.144431  ...  0.252180  0.249786  0.248691  0.247523   \n",
       "1  0.130307  0.134693  0.138405  ...  0.251919  0.251019  0.250564  0.248701   \n",
       "2  0.142426  0.146998  0.151151  ...  0.250270  0.247825  0.246799  0.244736   \n",
       "3  0.140092  0.145263  0.149948  ...  0.246999  0.248716  0.246566  0.247104   \n",
       "4  0.131310  0.136466  0.139955  ...  0.253408  0.252995  0.253590  0.254396   \n",
       "\n",
       "     wl_994    wl_998             Object name  Mutation(myc2_nud)  Batch  \\\n",
       "0  0.247076  0.249157  Donor-line E16-6 (nud)      donor_line_nud      1   \n",
       "1  0.247626  0.249132  Donor-line E16-6 (nud)      donor_line_nud      1   \n",
       "2  0.245531  0.245265  Donor-line E16-6 (nud)      donor_line_nud      1   \n",
       "3  0.246862  0.247068  Donor-line E16-6 (nud)      donor_line_nud      1   \n",
       "4  0.255051  0.255319  Donor-line E16-6 (nud)      donor_line_nud      1   \n",
       "\n",
       "                                      all_factors  \n",
       "0   Mutation(myc2_nud)(donor_line_nud); Batch(1);  \n",
       "1   Mutation(myc2_nud)(donor_line_nud); Batch(1);  \n",
       "2   Mutation(myc2_nud)(donor_line_nud); Batch(1);  \n",
       "3   Mutation(myc2_nud)(donor_line_nud); Batch(1);  \n",
       "4   Mutation(myc2_nud)(donor_line_nud); Batch(1);  \n",
       "\n",
       "[5 rows x 142 columns]"
      ]
     },
     "execution_count": 8,
     "metadata": {},
     "output_type": "execute_result"
    }
   ],
   "source": [
    "# HyperImg objects description\n",
    "data.hyper_table.head(5)"
   ]
  },
  {
   "cell_type": "code",
   "execution_count": 9,
   "metadata": {},
   "outputs": [
    {
     "data": {
      "text/plain": [
       "['Mutation(myc2_nud)', 'Batch']"
      ]
     },
     "execution_count": 9,
     "metadata": {},
     "output_type": "execute_result"
    }
   ],
   "source": [
    "# we have 2 factors\n",
    "data.factors"
   ]
  },
  {
   "cell_type": "markdown",
   "metadata": {},
   "source": [
    "run pipeline"
   ]
  },
  {
   "cell_type": "code",
   "execution_count": 10,
   "metadata": {},
   "outputs": [],
   "source": [
    "# run pipeline\n",
    "hyper.create_folder_with_all_graphs(data,\n",
    "                                    stat_test_names=['Tukey', 'Mann-Whitneyu', 'ANOVA'],\n",
    "                                    factors_pairwise_tests=[TARGET_VARIABLE], \n",
    "                                    folder_path='example')"
   ]
  },
  {
   "cell_type": "markdown",
   "metadata": {},
   "source": [
    "run a separate functions"
   ]
  },
  {
   "cell_type": "code",
   "execution_count": 11,
   "metadata": {},
   "outputs": [
    {
     "data": {
      "text/html": [
       "<div>\n",
       "<style scoped>\n",
       "    .dataframe tbody tr th:only-of-type {\n",
       "        vertical-align: middle;\n",
       "    }\n",
       "\n",
       "    .dataframe tbody tr th {\n",
       "        vertical-align: top;\n",
       "    }\n",
       "\n",
       "    .dataframe thead th {\n",
       "        text-align: right;\n",
       "    }\n",
       "</style>\n",
       "<table border=\"1\" class=\"dataframe\">\n",
       "  <thead>\n",
       "    <tr style=\"text-align: right;\">\n",
       "      <th></th>\n",
       "      <th>1</th>\n",
       "      <th>2</th>\n",
       "      <th>3</th>\n",
       "      <th>4</th>\n",
       "      <th>5</th>\n",
       "      <th>Object name</th>\n",
       "      <th>all_factors</th>\n",
       "    </tr>\n",
       "  </thead>\n",
       "  <tbody>\n",
       "    <tr>\n",
       "      <th>0</th>\n",
       "      <td>1.490891</td>\n",
       "      <td>0.111164</td>\n",
       "      <td>0.037304</td>\n",
       "      <td>-0.025030</td>\n",
       "      <td>-0.061225</td>\n",
       "      <td>Donor-line E16-6 (nud)</td>\n",
       "      <td>Mutation(myc2_nud)(donor_line_nud); Batch(1);</td>\n",
       "    </tr>\n",
       "    <tr>\n",
       "      <th>1</th>\n",
       "      <td>1.496340</td>\n",
       "      <td>0.086449</td>\n",
       "      <td>0.032098</td>\n",
       "      <td>-0.045581</td>\n",
       "      <td>-0.060893</td>\n",
       "      <td>Donor-line E16-6 (nud)</td>\n",
       "      <td>Mutation(myc2_nud)(donor_line_nud); Batch(1);</td>\n",
       "    </tr>\n",
       "    <tr>\n",
       "      <th>2</th>\n",
       "      <td>1.705861</td>\n",
       "      <td>0.125309</td>\n",
       "      <td>0.038211</td>\n",
       "      <td>0.035510</td>\n",
       "      <td>-0.065540</td>\n",
       "      <td>Donor-line E16-6 (nud)</td>\n",
       "      <td>Mutation(myc2_nud)(donor_line_nud); Batch(1);</td>\n",
       "    </tr>\n",
       "    <tr>\n",
       "      <th>3</th>\n",
       "      <td>1.622331</td>\n",
       "      <td>0.114004</td>\n",
       "      <td>0.056649</td>\n",
       "      <td>0.031788</td>\n",
       "      <td>-0.050412</td>\n",
       "      <td>Donor-line E16-6 (nud)</td>\n",
       "      <td>Mutation(myc2_nud)(donor_line_nud); Batch(1);</td>\n",
       "    </tr>\n",
       "    <tr>\n",
       "      <th>4</th>\n",
       "      <td>1.494992</td>\n",
       "      <td>0.075862</td>\n",
       "      <td>0.039083</td>\n",
       "      <td>-0.036507</td>\n",
       "      <td>-0.039492</td>\n",
       "      <td>Donor-line E16-6 (nud)</td>\n",
       "      <td>Mutation(myc2_nud)(donor_line_nud); Batch(1);</td>\n",
       "    </tr>\n",
       "  </tbody>\n",
       "</table>\n",
       "</div>"
      ],
      "text/plain": [
       "          1         2         3         4         5             Object name  \\\n",
       "0  1.490891  0.111164  0.037304 -0.025030 -0.061225  Donor-line E16-6 (nud)   \n",
       "1  1.496340  0.086449  0.032098 -0.045581 -0.060893  Donor-line E16-6 (nud)   \n",
       "2  1.705861  0.125309  0.038211  0.035510 -0.065540  Donor-line E16-6 (nud)   \n",
       "3  1.622331  0.114004  0.056649  0.031788 -0.050412  Donor-line E16-6 (nud)   \n",
       "4  1.494992  0.075862  0.039083 -0.036507 -0.039492  Donor-line E16-6 (nud)   \n",
       "\n",
       "                                      all_factors  \n",
       "0   Mutation(myc2_nud)(donor_line_nud); Batch(1);  \n",
       "1   Mutation(myc2_nud)(donor_line_nud); Batch(1);  \n",
       "2   Mutation(myc2_nud)(donor_line_nud); Batch(1);  \n",
       "3   Mutation(myc2_nud)(donor_line_nud); Batch(1);  \n",
       "4   Mutation(myc2_nud)(donor_line_nud); Batch(1);  "
      ]
     },
     "execution_count": 11,
     "metadata": {},
     "output_type": "execute_result"
    }
   ],
   "source": [
    "# also you can create your own pipeline, run a separate function\n",
    "# for example PCA pd.DataFrame\n",
    "hyper.get_df_pca_and_explained_variance(data, n_components=5)[0].head(5)"
   ]
  },
  {
   "cell_type": "code",
   "execution_count": 12,
   "metadata": {},
   "outputs": [],
   "source": [
    "# for example PCA graph\n",
    "hyper.get_2_pca_graph(data, download_path='pca.html')"
   ]
  },
  {
   "cell_type": "markdown",
   "metadata": {},
   "source": [
    "Machine learning"
   ]
  },
  {
   "cell_type": "code",
   "execution_count": 13,
   "metadata": {},
   "outputs": [],
   "source": [
    "# classification by TARGET_VARIABLE\n",
    "hyper.get_table_res_and_confusion_matrix(data, target_varible_name=TARGET_VARIABLE);"
   ]
  }
 ],
 "metadata": {
  "kernelspec": {
   "display_name": "Python 3 (ipykernel)",
   "language": "python",
   "name": "python3"
  },
  "language_info": {
   "codemirror_mode": {
    "name": "ipython",
    "version": 3
   },
   "file_extension": ".py",
   "mimetype": "text/x-python",
   "name": "python",
   "nbconvert_exporter": "python",
   "pygments_lexer": "ipython3",
   "version": "3.10.12"
  },
  "vscode": {
   "interpreter": {
    "hash": "31f2aee4e71d21fbe5cf8b01ff0e069b9275f58929596ceb00d14d90e3e16cd6"
   }
  }
 },
 "nbformat": 4,
 "nbformat_minor": 2
}
