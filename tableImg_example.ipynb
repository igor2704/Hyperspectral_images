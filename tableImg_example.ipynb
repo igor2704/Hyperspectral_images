{
 "cells": [
  {
   "cell_type": "markdown",
   "metadata": {},
   "source": [
    "An example of working with TableHyperImg"
   ]
  },
  {
   "cell_type": "code",
   "execution_count": null,
   "metadata": {},
   "outputs": [],
   "source": [
    "import numpy as np\n",
    "import pandas as pd\n",
    "\n",
    "import seaborn as sns\n",
    "import matplotlib.pyplot as plt\n",
    "\n",
    "from itertools import combinations\n",
    "from copy import deepcopy\n",
    "\n",
    "import hyper_img as hyper"
   ]
  },
  {
   "cell_type": "markdown",
   "metadata": {},
   "source": [
    "Pathes and constants"
   ]
  },
  {
   "cell_type": "code",
   "execution_count": null,
   "metadata": {},
   "outputs": [],
   "source": [
    "IMG_PATH = '/home/igor/projects/Seed/data/hyper_img_data/'\n",
    "URL = 'https://docs.google.com/spreadsheets/d/1-C3XlMbsvuBdVyGzQ6eeVoTBIg9Fb9k6zUQjbzjYCtw/gviz/tq?tqx=out:csv&sheet=annotation'\n",
    "TARGET_VARIABLE = 'Mutation'"
   ]
  },
  {
   "cell_type": "markdown",
   "metadata": {},
   "source": [
    "Read a google table "
   ]
  },
  {
   "cell_type": "code",
   "execution_count": null,
   "metadata": {},
   "outputs": [],
   "source": [
    "df = hyper.get_google_table_sheets()"
   ]
  },
  {
   "cell_type": "code",
   "execution_count": null,
   "metadata": {},
   "outputs": [],
   "source": [
    "df.head()"
   ]
  },
  {
   "cell_type": "markdown",
   "metadata": {},
   "source": [
    "Get a list of TableHyperImg"
   ]
  },
  {
   "cell_type": "code",
   "execution_count": null,
   "metadata": {},
   "outputs": [],
   "source": [
    "img_lst: list[hyper.TableHyperImg] = hyper.get_list_hyper_img(seq_names= IMG_PATH + df[df.Mutation != ''][df['ID партии'] == '2022_09_02']['Image Name'],\n",
    "                                                class_name= hyper.TableHyperImg,\n",
    "                                                filter=lambda x: x != '',\n",
    "                                                same_samples=['purple', 'light', 'blue'],\n",
    "                                                norm_seq_tg_name=['-1', '-4'],\n",
    "                                                table = df,\n",
    "                                                threshold_value=28.27608638,\n",
    "                                                target_varible_name=TARGET_VARIABLE)\n",
    "len(img_lst)"
   ]
  },
  {
   "cell_type": "code",
   "execution_count": null,
   "metadata": {},
   "outputs": [],
   "source": [
    "img_lst_2: list[hyper.TableHyperImg] = hyper.get_list_hyper_img(seq_names= IMG_PATH + df[df.Mutation != ''][df['ID партии'] != '2022_09_02']['Image Name'],\n",
    "                                                class_name=hyper.TableHyperImg,\n",
    "                                                filter=lambda x: x != '',\n",
    "                                                same_samples = ['purple', 'light', 'blue'],\n",
    "                                                norm_seq_tg_name=['-1', '-4'],\n",
    "                                                table = df,\n",
    "                                                threshold_value=28.27608638,\n",
    "                                                target_varible_name=TARGET_VARIABLE)\n",
    "len(img_lst_2)"
   ]
  },
  {
   "cell_type": "code",
   "execution_count": null,
   "metadata": {},
   "outputs": [],
   "source": [
    "img_lst.extend(img_lst_2)"
   ]
  },
  {
   "cell_type": "code",
   "execution_count": null,
   "metadata": {},
   "outputs": [],
   "source": [
    "color={'blue': 'blue',\n",
    "       'purple': 'purple',\n",
    "       'light': 'yellow',\n",
    "       'wt': 'red',\n",
    "       '-1': 'green',\n",
    "       '-4': 'gray',\n",
    "       '-11': 'brown',\n",
    "       '1': 'black'}"
   ]
  },
  {
   "cell_type": "markdown",
   "metadata": {},
   "source": [
    "Example of elements and some main operation with them"
   ]
  },
  {
   "cell_type": "code",
   "execution_count": null,
   "metadata": {},
   "outputs": [],
   "source": [
    "img_lst[0]"
   ]
  },
  {
   "cell_type": "code",
   "execution_count": null,
   "metadata": {},
   "outputs": [],
   "source": [
    "img_lst[0] + img_lst[1]"
   ]
  },
  {
   "cell_type": "markdown",
   "metadata": {},
   "source": [
    "Charts"
   ]
  },
  {
   "cell_type": "code",
   "execution_count": null,
   "metadata": {},
   "outputs": [],
   "source": [
    "hyper.get_medians_wavelenght_graph(img_lst, color=color)"
   ]
  },
  {
   "cell_type": "code",
   "execution_count": null,
   "metadata": {},
   "outputs": [],
   "source": [
    "hyper.get_2_pca_graph(img_lst, color=color)"
   ]
  },
  {
   "cell_type": "code",
   "execution_count": null,
   "metadata": {},
   "outputs": [],
   "source": [
    "compare_targets=['blue', 'purple', 'light', '-4', '-1']\n",
    "img_lst_1 = [deepcopy(img) for img in img_lst \n",
    "             if img.black_calibration_img_name == '2022_09_02_calibr_session_000_026_snapshot_cube.tiff'\n",
    "             and img.target_varible in compare_targets]\n",
    "for img in img_lst_1:\n",
    "    img.target_varible = 's1_' + img.target_varible\n",
    "len(img_lst_1)"
   ]
  },
  {
   "cell_type": "code",
   "execution_count": null,
   "metadata": {},
   "outputs": [],
   "source": [
    "compare_targets=['blue', 'purple', 'light', '-4', '-1']\n",
    "img_lst_2 = [deepcopy(img) for img in img_lst \n",
    "             if img.black_calibration_img_name != '2022_09_02_calibr_session_000_026_snapshot_cube.tiff'\n",
    "             and img.target_varible in compare_targets]\n",
    "for img in img_lst_2:\n",
    "    img.target_varible = 's2_' + img.target_varible\n",
    "len(img_lst_2)"
   ]
  },
  {
   "cell_type": "code",
   "execution_count": null,
   "metadata": {},
   "outputs": [],
   "source": [
    "img_lst_1.extend(img_lst_2)\n",
    "len(img_lst_1)"
   ]
  },
  {
   "cell_type": "code",
   "execution_count": null,
   "metadata": {},
   "outputs": [],
   "source": [
    "hyper.get_medians_wavelenght_graph(img_lst_1)"
   ]
  },
  {
   "cell_type": "code",
   "execution_count": null,
   "metadata": {},
   "outputs": [],
   "source": [
    "hyper.get_2_pca_graph(img_lst_1, download_path='without_calibr_mutation_pca.html')"
   ]
  },
  {
   "cell_type": "code",
   "execution_count": null,
   "metadata": {},
   "outputs": [],
   "source": [
    "hyper.get_umap_graph(img_lst_1, download_path='without_calibr_mutation_umap.html')"
   ]
  },
  {
   "cell_type": "code",
   "execution_count": null,
   "metadata": {},
   "outputs": [],
   "source": [
    "for tg in compare_targets:\n",
    "    hyper.get_mean_diff_and_confident_interval_graph(img_lst_1, 's1_' + tg, 's2_' + tg, 0.95)"
   ]
  },
  {
   "cell_type": "code",
   "execution_count": null,
   "metadata": {},
   "outputs": [],
   "source": [
    "targets = [tg for tg in df[TARGET_VARIABLE].unique() if tg not in ['', 'light', 'purple', 'blue']]\n",
    "for tg_1, tg_2 in combinations(targets, 2):\n",
    "    if tg_1 == tg_2:\n",
    "        continue\n",
    "    hyper.get_mean_diff_and_confident_interval_graph(img_lst, tg_1, tg_2, 0.99)"
   ]
  },
  {
   "cell_type": "code",
   "execution_count": null,
   "metadata": {},
   "outputs": [],
   "source": [
    "hyper.get_2_pca_graph(img_lst, color=color)"
   ]
  },
  {
   "cell_type": "code",
   "execution_count": null,
   "metadata": {},
   "outputs": [],
   "source": [
    "hyper.get_umap_graph(img_lst, color=color)"
   ]
  },
  {
   "cell_type": "markdown",
   "metadata": {},
   "source": [
    "Some examples of getting useful pd.DataFrame (see more in get_data_funcs.py)"
   ]
  },
  {
   "cell_type": "code",
   "execution_count": null,
   "metadata": {},
   "outputs": [],
   "source": [
    "df = hyper.get_df_graphics_medians_wavelenght(img_lst)\n",
    "df.head()"
   ]
  },
  {
   "cell_type": "code",
   "execution_count": null,
   "metadata": {},
   "outputs": [],
   "source": [
    "plt.figure(figsize=(7,5))\n",
    "plt.grid()\n",
    "sns.lineplot(data=df, x='Wavelength', y='Median', hue=TARGET_VARIABLE)"
   ]
  },
  {
   "cell_type": "code",
   "execution_count": null,
   "metadata": {},
   "outputs": [],
   "source": [
    "df = hyper.get_df_medians(img_lst)\n",
    "df.head()"
   ]
  },
  {
   "cell_type": "code",
   "execution_count": null,
   "metadata": {},
   "outputs": [],
   "source": [
    "df[TARGET_VARIABLE].hist()"
   ]
  },
  {
   "cell_type": "code",
   "execution_count": null,
   "metadata": {},
   "outputs": [],
   "source": [
    "df, explained_variance = hyper.get_df_2_pca_and_explained_variance(img_lst)\n",
    "df.head()"
   ]
  },
  {
   "cell_type": "markdown",
   "metadata": {},
   "source": [
    "Create annotation"
   ]
  },
  {
   "cell_type": "code",
   "execution_count": null,
   "metadata": {},
   "outputs": [],
   "source": [
    "hyper.create_table_annotation_df(img_lst)"
   ]
  },
  {
   "cell_type": "code",
   "execution_count": null,
   "metadata": {},
   "outputs": [],
   "source": []
  }
 ],
 "metadata": {
  "kernelspec": {
   "display_name": "Python 3 (ipykernel)",
   "language": "python",
   "name": "python3"
  },
  "language_info": {
   "codemirror_mode": {
    "name": "ipython",
    "version": 3
   },
   "file_extension": ".py",
   "mimetype": "text/x-python",
   "name": "python",
   "nbconvert_exporter": "python",
   "pygments_lexer": "ipython3",
   "version": "3.10.6"
  },
  "vscode": {
   "interpreter": {
    "hash": "31f2aee4e71d21fbe5cf8b01ff0e069b9275f58929596ceb00d14d90e3e16cd6"
   }
  }
 },
 "nbformat": 4,
 "nbformat_minor": 2
}
