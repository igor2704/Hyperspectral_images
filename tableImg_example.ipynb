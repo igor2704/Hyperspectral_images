{
 "cells": [
  {
   "cell_type": "markdown",
   "metadata": {},
   "source": [
    "$\\textbf{An example of working with TableHyperImg}$"
   ]
  },
  {
   "cell_type": "code",
   "execution_count": 2,
   "metadata": {},
   "outputs": [],
   "source": [
    "import numpy as np\n",
    "import pandas as pd\n",
    "\n",
    "import seaborn as sns\n",
    "import matplotlib.pyplot as plt\n",
    "\n",
    "import hyper_img as hyper"
   ]
  },
  {
   "cell_type": "markdown",
   "metadata": {},
   "source": [
    "$\\textbf{Pathes and constants}$"
   ]
  },
  {
   "cell_type": "code",
   "execution_count": 4,
   "metadata": {},
   "outputs": [],
   "source": [
    "IMG_PATH = '/home/igor/projects/Seed/data/hyper_img_data/'\n",
    "URL = 'https://docs.google.com/spreadsheets/some_table'\n",
    "TARGET_VARIABLE = 'Pigment'"
   ]
  },
  {
   "cell_type": "markdown",
   "metadata": {},
   "source": [
    "$\\textbf{Read a google table}$ "
   ]
  },
  {
   "cell_type": "code",
   "execution_count": 5,
   "metadata": {},
   "outputs": [],
   "source": [
    "df = hyper.get_google_table_sheets()"
   ]
  },
  {
   "cell_type": "code",
   "execution_count": 6,
   "metadata": {},
   "outputs": [
    {
     "data": {
      "text/html": [
       "<div>\n",
       "<style scoped>\n",
       "    .dataframe tbody tr th:only-of-type {\n",
       "        vertical-align: middle;\n",
       "    }\n",
       "\n",
       "    .dataframe tbody tr th {\n",
       "        vertical-align: top;\n",
       "    }\n",
       "\n",
       "    .dataframe thead th {\n",
       "        text-align: right;\n",
       "    }\n",
       "</style>\n",
       "<table border=\"1\" class=\"dataframe\">\n",
       "  <thead>\n",
       "    <tr style=\"text-align: right;\">\n",
       "      <th></th>\n",
       "      <th>PlantNumber</th>\n",
       "      <th>Image Name</th>\n",
       "      <th>Mutation</th>\n",
       "      <th>Голозерность/Пленчатость</th>\n",
       "      <th>Хим. анализ (пигмент 1)</th>\n",
       "      <th>Хим. анализ (пигмент 2)</th>\n",
       "      <th>ID партии</th>\n",
       "      <th>Линия/Сорт</th>\n",
       "      <th>Pigment</th>\n",
       "      <th>Black calibration data</th>\n",
       "      <th>White calibration data</th>\n",
       "    </tr>\n",
       "  </thead>\n",
       "  <tbody>\n",
       "    <tr>\n",
       "      <th>0</th>\n",
       "      <td>10А-9-1</td>\n",
       "      <td>2022_09_02_session_000_001_snapshot_cube.tiff</td>\n",
       "      <td>-4</td>\n",
       "      <td>Пленчатые</td>\n",
       "      <td></td>\n",
       "      <td></td>\n",
       "      <td>2022_09_02</td>\n",
       "      <td>Myc2</td>\n",
       "      <td>only anthocyanins</td>\n",
       "      <td>2022_09_02_calibr_session_000_026_snapshot_cub...</td>\n",
       "      <td>2022_09_02_calibr_session_000_024_snapshot_cub...</td>\n",
       "    </tr>\n",
       "    <tr>\n",
       "      <th>1</th>\n",
       "      <td>10А-9-1</td>\n",
       "      <td>2022_09_02_session_000_002_snapshot_cube.tiff</td>\n",
       "      <td>-4</td>\n",
       "      <td>Пленчатые</td>\n",
       "      <td></td>\n",
       "      <td></td>\n",
       "      <td>2022_09_02</td>\n",
       "      <td>Myc2</td>\n",
       "      <td>only anthocyanins</td>\n",
       "      <td>2022_09_02_calibr_session_000_026_snapshot_cub...</td>\n",
       "      <td>2022_09_02_calibr_session_000_024_snapshot_cub...</td>\n",
       "    </tr>\n",
       "    <tr>\n",
       "      <th>2</th>\n",
       "      <td>10А-9-3</td>\n",
       "      <td>2022_09_02_session_000_003_cube.tiff</td>\n",
       "      <td>-4</td>\n",
       "      <td>Пленчатые</td>\n",
       "      <td></td>\n",
       "      <td></td>\n",
       "      <td>2022_09_02</td>\n",
       "      <td>Myc2</td>\n",
       "      <td>only anthocyanins</td>\n",
       "      <td>2022_09_02_calibr_session_000_026_snapshot_cub...</td>\n",
       "      <td>2022_09_02_calibr_session_000_024_snapshot_cub...</td>\n",
       "    </tr>\n",
       "    <tr>\n",
       "      <th>3</th>\n",
       "      <td>10А-9-3</td>\n",
       "      <td>2022_09_02_session_000_004_snapshot_cube.tiff</td>\n",
       "      <td>-4</td>\n",
       "      <td>Пленчатые</td>\n",
       "      <td></td>\n",
       "      <td></td>\n",
       "      <td>2022_09_02</td>\n",
       "      <td>Myc2</td>\n",
       "      <td>only anthocyanins</td>\n",
       "      <td>2022_09_02_calibr_session_000_026_snapshot_cub...</td>\n",
       "      <td>2022_09_02_calibr_session_000_024_snapshot_cub...</td>\n",
       "    </tr>\n",
       "    <tr>\n",
       "      <th>4</th>\n",
       "      <td>10А-9-4</td>\n",
       "      <td>2022_09_02_session_000_005_snapshot_cube.tiff</td>\n",
       "      <td>-4</td>\n",
       "      <td>Пленчатые</td>\n",
       "      <td></td>\n",
       "      <td></td>\n",
       "      <td>2022_09_02</td>\n",
       "      <td>Myc2</td>\n",
       "      <td>only anthocyanins</td>\n",
       "      <td>2022_09_02_calibr_session_000_026_snapshot_cub...</td>\n",
       "      <td>2022_09_02_calibr_session_000_024_snapshot_cub...</td>\n",
       "    </tr>\n",
       "  </tbody>\n",
       "</table>\n",
       "</div>"
      ],
      "text/plain": [
       "  PlantNumber                                     Image Name Mutation  \\\n",
       "0     10А-9-1  2022_09_02_session_000_001_snapshot_cube.tiff       -4   \n",
       "1     10А-9-1  2022_09_02_session_000_002_snapshot_cube.tiff       -4   \n",
       "2     10А-9-3           2022_09_02_session_000_003_cube.tiff       -4   \n",
       "3     10А-9-3  2022_09_02_session_000_004_snapshot_cube.tiff       -4   \n",
       "4     10А-9-4  2022_09_02_session_000_005_snapshot_cube.tiff       -4   \n",
       "\n",
       "  Голозерность/Пленчатость Хим. анализ (пигмент 1) Хим. анализ (пигмент 2)  \\\n",
       "0                Пленчатые                                                   \n",
       "1                Пленчатые                                                   \n",
       "2                Пленчатые                                                   \n",
       "3                Пленчатые                                                   \n",
       "4                Пленчатые                                                   \n",
       "\n",
       "    ID партии Линия/Сорт            Pigment  \\\n",
       "0  2022_09_02       Myc2  only anthocyanins   \n",
       "1  2022_09_02       Myc2  only anthocyanins   \n",
       "2  2022_09_02       Myc2  only anthocyanins   \n",
       "3  2022_09_02       Myc2  only anthocyanins   \n",
       "4  2022_09_02       Myc2  only anthocyanins   \n",
       "\n",
       "                              Black calibration data  \\\n",
       "0  2022_09_02_calibr_session_000_026_snapshot_cub...   \n",
       "1  2022_09_02_calibr_session_000_026_snapshot_cub...   \n",
       "2  2022_09_02_calibr_session_000_026_snapshot_cub...   \n",
       "3  2022_09_02_calibr_session_000_026_snapshot_cub...   \n",
       "4  2022_09_02_calibr_session_000_026_snapshot_cub...   \n",
       "\n",
       "                              White calibration data  \n",
       "0  2022_09_02_calibr_session_000_024_snapshot_cub...  \n",
       "1  2022_09_02_calibr_session_000_024_snapshot_cub...  \n",
       "2  2022_09_02_calibr_session_000_024_snapshot_cub...  \n",
       "3  2022_09_02_calibr_session_000_024_snapshot_cub...  \n",
       "4  2022_09_02_calibr_session_000_024_snapshot_cub...  "
      ]
     },
     "execution_count": 6,
     "metadata": {},
     "output_type": "execute_result"
    }
   ],
   "source": [
    "df.head()"
   ]
  },
  {
   "cell_type": "markdown",
   "metadata": {},
   "source": [
    "$\\textbf{Get a list of TableHyperImg}$"
   ]
  },
  {
   "cell_type": "markdown",
   "metadata": {},
   "source": [
    "With normalization "
   ]
  },
  {
   "cell_type": "markdown",
   "metadata": {},
   "source": [
    "Mutation determination task"
   ]
  },
  {
   "cell_type": "code",
   "execution_count": 38,
   "metadata": {},
   "outputs": [
    {
     "data": {
      "text/plain": [
       "116"
      ]
     },
     "execution_count": 38,
     "metadata": {},
     "output_type": "execute_result"
    }
   ],
   "source": [
    "img_lst = list()\n",
    "for id in df[df.Mutation != '']['ID партии'].unique():\n",
    "    if id in ['', ' ']:\n",
    "        continue\n",
    "    img_lst_id: list[hyper.TableHyperImg] = hyper.get_list_hyper_img(seq_names=IMG_PATH + df[df.Mutation != ''][df['ID партии'] == id]['Image Name'],\n",
    "                                                                     class_name=hyper.TableHyperImg,\n",
    "                                                                     segmenter=hyper.PlainCv2Segmenter(25),\n",
    "                                                                     filter=lambda x: x != '',\n",
    "                                                                     same_samples=['purple', 'light', 'blue'],\n",
    "                                                                     norm_seq_tg_name=['-1', '-4'],\n",
    "                                                                     table=df,\n",
    "                                                                     target_varible_name='Mutation')\n",
    "    img_lst.extend(img_lst_id)\n",
    "len(img_lst)"
   ]
  },
  {
   "cell_type": "code",
   "execution_count": 39,
   "metadata": {},
   "outputs": [
    {
     "data": {
      "text/plain": [
       "{'-4': 36,\n",
       " '-1': 42,\n",
       " 'wt': 14,\n",
       " 'light': 2,\n",
       " 'purple': 2,\n",
       " 'blue': 2,\n",
       " '-11': 10,\n",
       " '1': 8}"
      ]
     },
     "execution_count": 39,
     "metadata": {},
     "output_type": "execute_result"
    }
   ],
   "source": [
    "hyper.get_count_group(img_lst)"
   ]
  },
  {
   "cell_type": "markdown",
   "metadata": {},
   "source": [
    "Without normalization"
   ]
  },
  {
   "cell_type": "markdown",
   "metadata": {},
   "source": [
    "Pigment determination task (we will work on this issue in the future)"
   ]
  },
  {
   "cell_type": "code",
   "execution_count": 40,
   "metadata": {},
   "outputs": [
    {
     "data": {
      "text/plain": [
       "313"
      ]
     },
     "execution_count": 40,
     "metadata": {},
     "output_type": "execute_result"
    }
   ],
   "source": [
    "img_lst = list()\n",
    "for id in df[df[TARGET_VARIABLE] != '']['ID партии'].unique():\n",
    "    if id in ['', ' ']:\n",
    "        continue\n",
    "    img_lst_id: list[hyper.TableHyperImg] = hyper.get_list_hyper_img(seq_names=IMG_PATH + df[df[TARGET_VARIABLE] != ''][df['ID партии'] == id]['Image Name'],\n",
    "                                                                     class_name=hyper.TableHyperImg,\n",
    "                                                                     segmenter=hyper.PlainCv2Segmenter(28.276),\n",
    "                                                                     filter=lambda x: x != '',\n",
    "                                                                     table=df,\n",
    "                                                                     target_varible_name=TARGET_VARIABLE)\n",
    "    img_lst.extend(img_lst_id)\n",
    "len(img_lst)"
   ]
  },
  {
   "cell_type": "code",
   "execution_count": 41,
   "metadata": {},
   "outputs": [
    {
     "data": {
      "text/plain": [
       "{'only anthocyanins': 108,\n",
       " 'white': 88,\n",
       " 'only melanin': 91,\n",
       " 'melanin and anthocyanins': 26}"
      ]
     },
     "execution_count": 41,
     "metadata": {},
     "output_type": "execute_result"
    }
   ],
   "source": [
    "hyper.get_count_group(img_lst)"
   ]
  },
  {
   "cell_type": "markdown",
   "metadata": {},
   "source": [
    "$\\textbf{Plots}$"
   ]
  },
  {
   "cell_type": "markdown",
   "metadata": {},
   "source": [
    "Plots colors"
   ]
  },
  {
   "cell_type": "code",
   "execution_count": 13,
   "metadata": {},
   "outputs": [],
   "source": [
    "color={'only anthocyanins': 'black',\n",
    "       'white': 'green',\n",
    "       'only melanin': 'red',\n",
    "       'melanin and anthocyanins': 'yellow'}"
   ]
  },
  {
   "cell_type": "markdown",
   "metadata": {},
   "source": [
    "Plot of medians versus wavelength"
   ]
  },
  {
   "cell_type": "code",
   "execution_count": null,
   "metadata": {},
   "outputs": [],
   "source": [
    "hyper.get_medians_wavelenght_graph(img_lst, color=color, download_path='graph.html')"
   ]
  },
  {
   "cell_type": "markdown",
   "metadata": {},
   "source": [
    "Visualization in two-dimensional space using PCA"
   ]
  },
  {
   "cell_type": "code",
   "execution_count": null,
   "metadata": {},
   "outputs": [],
   "source": [
    "hyper.get_2_pca_graph(img_lst, color=color, download_path='graph.html')"
   ]
  },
  {
   "cell_type": "markdown",
   "metadata": {},
   "source": [
    "Visualization in two-dimensional space using UMAP"
   ]
  },
  {
   "cell_type": "code",
   "execution_count": null,
   "metadata": {},
   "outputs": [],
   "source": [
    "hyper.get_2_umap_graph(img_lst, color=color, n_neighbors=15, download_path='graph.html')"
   ]
  },
  {
   "cell_type": "markdown",
   "metadata": {},
   "source": [
    "Visualization in two-dimensional space using ISOMAP"
   ]
  },
  {
   "cell_type": "code",
   "execution_count": null,
   "metadata": {},
   "outputs": [],
   "source": [
    "hyper.get_2_isomap_graph(img_lst, color=color, n_neighbors=5, download_path='graph.html')"
   ]
  },
  {
   "cell_type": "markdown",
   "metadata": {},
   "source": [
    "Clustering with the EM algorithm using UMAP for dimensionality reduction"
   ]
  },
  {
   "cell_type": "code",
   "execution_count": null,
   "metadata": {},
   "outputs": [],
   "source": [
    "hyper.get_em_algorithm_clustering_graph(img_lst, downscaling_method='UMAP', dim_clusterization=10, color=color, n_clusters=5,\n",
    "                                        download_path='graph.html', download_path_table='table.xlsx')"
   ]
  },
  {
   "cell_type": "markdown",
   "metadata": {},
   "source": [
    "Statistical analysis"
   ]
  },
  {
   "cell_type": "markdown",
   "metadata": {},
   "source": [
    "95% confidence interval"
   ]
  },
  {
   "cell_type": "code",
   "execution_count": null,
   "metadata": {},
   "outputs": [],
   "source": [
    "hyper.get_mean_diff_and_confident_interval_graph(img_lst, '-1', 'wt', 0.95, download_path='graph.html')"
   ]
  },
  {
   "cell_type": "markdown",
   "metadata": {},
   "source": [
    "U-test Mann-Whitney"
   ]
  },
  {
   "cell_type": "code",
   "execution_count": null,
   "metadata": {},
   "outputs": [],
   "source": [
    "hyper.get_mannwhitneyu_p_value_graph(img_lst, '-1', 'wt', download_path='graph.html')"
   ]
  },
  {
   "cell_type": "markdown",
   "metadata": {},
   "source": [
    "Chi-square test"
   ]
  },
  {
   "cell_type": "code",
   "execution_count": null,
   "metadata": {},
   "outputs": [],
   "source": [
    "hyper.get_chi2_p_value_graph(img_lst, 'wt', '-1', number_bins=5, download_path='graph.html')"
   ]
  },
  {
   "cell_type": "markdown",
   "metadata": {},
   "source": [
    "$\\textbf{Get all plots}$"
   ]
  },
  {
   "cell_type": "code",
   "execution_count": null,
   "metadata": {},
   "outputs": [],
   "source": [
    "hyper.create_folder_with_all_graphs(img_lst, 'FolderName')"
   ]
  },
  {
   "cell_type": "markdown",
   "metadata": {},
   "source": [
    "$\\textbf{Classification in 15-dimensional space using PCA for dimensionality reduction}$"
   ]
  },
  {
   "cell_type": "markdown",
   "metadata": {},
   "source": [
    "Create function converting target variable to integer sequence"
   ]
  },
  {
   "cell_type": "code",
   "execution_count": 15,
   "metadata": {},
   "outputs": [],
   "source": [
    "def get_class(group_name:str):\n",
    "    if group_name in 'only anthocyanins':\n",
    "        return 0, 1\n",
    "    elif group_name == 'only melanin':\n",
    "        return 1, 0\n",
    "    elif group_name == 'melanin and anthocyanins':\n",
    "        return 1, 1\n",
    "    return 0, 0"
   ]
  },
  {
   "cell_type": "markdown",
   "metadata": {},
   "source": [
    "Classification"
   ]
  },
  {
   "cell_type": "code",
   "execution_count": null,
   "metadata": {},
   "outputs": [],
   "source": [
    "tables, matrex = hyper.get_table_res_and_confusion_matrix(img_lst,\n",
    "                                                          downscaling_method='PCA',\n",
    "                                                          n_components=15,\n",
    "                                                          parameters_catboost={'learning_rate': np.arange(0.33, 1, 0.2),\n",
    "                                                                               'iterations': [35],\n",
    "                                                                               'depth':[2, 4]},\n",
    "                                                          parameters_random_forest={'max_depth': [2, 4],\n",
    "                                                                                    'min_samples_split': [1, 4],\n",
    "                                                                                    'min_samples_leaf': [1, 4],\n",
    "                                                                                    'n_estimators': [150]},\n",
    "                                                          class_function=get_class,\n",
    "                                                          shuffle_test=True,\n",
    "                                                          save_path_folder='classification_PCA_15')"
   ]
  },
  {
   "cell_type": "markdown",
   "metadata": {},
   "source": [
    "Confusion matrices"
   ]
  },
  {
   "cell_type": "code",
   "execution_count": null,
   "metadata": {},
   "outputs": [],
   "source": [
    "matrex['Logistic regression']"
   ]
  },
  {
   "cell_type": "code",
   "execution_count": null,
   "metadata": {},
   "outputs": [],
   "source": [
    "matrex['Ridge regression']"
   ]
  },
  {
   "cell_type": "code",
   "execution_count": null,
   "metadata": {},
   "outputs": [],
   "source": [
    "matrex['Random forest']"
   ]
  },
  {
   "cell_type": "code",
   "execution_count": null,
   "metadata": {},
   "outputs": [],
   "source": [
    "matrex['Catboost']"
   ]
  },
  {
   "cell_type": "markdown",
   "metadata": {},
   "source": [
    "Tables with results"
   ]
  },
  {
   "cell_type": "code",
   "execution_count": null,
   "metadata": {},
   "outputs": [],
   "source": [
    "tables['macro_train']"
   ]
  },
  {
   "cell_type": "code",
   "execution_count": null,
   "metadata": {},
   "outputs": [],
   "source": [
    "tables['macro_test']"
   ]
  },
  {
   "cell_type": "code",
   "execution_count": null,
   "metadata": {},
   "outputs": [],
   "source": [
    "tables['micro_train']"
   ]
  },
  {
   "cell_type": "code",
   "execution_count": null,
   "metadata": {},
   "outputs": [],
   "source": [
    "tables['micro_test']"
   ]
  },
  {
   "cell_type": "code",
   "execution_count": null,
   "metadata": {},
   "outputs": [],
   "source": [
    "tables['average_train']"
   ]
  },
  {
   "cell_type": "code",
   "execution_count": null,
   "metadata": {},
   "outputs": [],
   "source": [
    "tables['average_test']"
   ]
  },
  {
   "cell_type": "markdown",
   "metadata": {},
   "source": [
    "Some examples of getting useful pd.DataFrame (see more in get_data_funcs.py)"
   ]
  },
  {
   "cell_type": "code",
   "execution_count": 20,
   "metadata": {},
   "outputs": [
    {
     "data": {
      "text/html": [
       "<div>\n",
       "<style scoped>\n",
       "    .dataframe tbody tr th:only-of-type {\n",
       "        vertical-align: middle;\n",
       "    }\n",
       "\n",
       "    .dataframe tbody tr th {\n",
       "        vertical-align: top;\n",
       "    }\n",
       "\n",
       "    .dataframe thead th {\n",
       "        text-align: right;\n",
       "    }\n",
       "</style>\n",
       "<table border=\"1\" class=\"dataframe\">\n",
       "  <thead>\n",
       "    <tr style=\"text-align: right;\">\n",
       "      <th></th>\n",
       "      <th>Wavelength</th>\n",
       "      <th>Median</th>\n",
       "      <th>Sample</th>\n",
       "      <th>Mutation</th>\n",
       "      <th>Object name</th>\n",
       "    </tr>\n",
       "  </thead>\n",
       "  <tbody>\n",
       "    <tr>\n",
       "      <th>0</th>\n",
       "      <td>450</td>\n",
       "      <td>-0.904163</td>\n",
       "      <td>0</td>\n",
       "      <td>-4</td>\n",
       "      <td>10А-9-1</td>\n",
       "    </tr>\n",
       "    <tr>\n",
       "      <th>1</th>\n",
       "      <td>454</td>\n",
       "      <td>-0.963002</td>\n",
       "      <td>0</td>\n",
       "      <td>-4</td>\n",
       "      <td>10А-9-1</td>\n",
       "    </tr>\n",
       "    <tr>\n",
       "      <th>2</th>\n",
       "      <td>458</td>\n",
       "      <td>-1.038734</td>\n",
       "      <td>0</td>\n",
       "      <td>-4</td>\n",
       "      <td>10А-9-1</td>\n",
       "    </tr>\n",
       "    <tr>\n",
       "      <th>3</th>\n",
       "      <td>462</td>\n",
       "      <td>-1.114622</td>\n",
       "      <td>0</td>\n",
       "      <td>-4</td>\n",
       "      <td>10А-9-1</td>\n",
       "    </tr>\n",
       "    <tr>\n",
       "      <th>4</th>\n",
       "      <td>466</td>\n",
       "      <td>-1.173933</td>\n",
       "      <td>0</td>\n",
       "      <td>-4</td>\n",
       "      <td>10А-9-1</td>\n",
       "    </tr>\n",
       "  </tbody>\n",
       "</table>\n",
       "</div>"
      ],
      "text/plain": [
       "   Wavelength    Median  Sample Mutation Object name\n",
       "0         450 -0.904163       0       -4     10А-9-1\n",
       "1         454 -0.963002       0       -4     10А-9-1\n",
       "2         458 -1.038734       0       -4     10А-9-1\n",
       "3         462 -1.114622       0       -4     10А-9-1\n",
       "4         466 -1.173933       0       -4     10А-9-1"
      ]
     },
     "execution_count": 20,
     "metadata": {},
     "output_type": "execute_result"
    }
   ],
   "source": [
    "df = hyper.get_df_graphics_medians_wavelenght(img_lst)\n",
    "df.head()"
   ]
  },
  {
   "cell_type": "code",
   "execution_count": null,
   "metadata": {},
   "outputs": [],
   "source": [
    "plt.figure(figsize=(7,5))\n",
    "plt.grid()\n",
    "sns.lineplot(data=df, x='Wavelength', y='Median', hue=TARGET_VARIABLE)"
   ]
  },
  {
   "cell_type": "markdown",
   "metadata": {},
   "source": [
    "Create annotation"
   ]
  },
  {
   "cell_type": "code",
   "execution_count": 36,
   "metadata": {},
   "outputs": [
    {
     "data": {
      "text/html": [
       "<div>\n",
       "<style scoped>\n",
       "    .dataframe tbody tr th:only-of-type {\n",
       "        vertical-align: middle;\n",
       "    }\n",
       "\n",
       "    .dataframe tbody tr th {\n",
       "        vertical-align: top;\n",
       "    }\n",
       "\n",
       "    .dataframe thead th {\n",
       "        text-align: right;\n",
       "    }\n",
       "</style>\n",
       "<table border=\"1\" class=\"dataframe\">\n",
       "  <thead>\n",
       "    <tr style=\"text-align: right;\">\n",
       "      <th></th>\n",
       "      <th>Image Name</th>\n",
       "      <th>PlantNumber</th>\n",
       "      <th>Black calibration data</th>\n",
       "      <th>White calibration data</th>\n",
       "      <th>Pigment</th>\n",
       "    </tr>\n",
       "  </thead>\n",
       "  <tbody>\n",
       "    <tr>\n",
       "      <th>0</th>\n",
       "      <td>2022_09_02_session_000_001_snapshot_cube.tiff</td>\n",
       "      <td>10А-9-1</td>\n",
       "      <td>2022_09_02_calibr_session_000_026_snapshot_cub...</td>\n",
       "      <td>2022_09_02_calibr_session_000_024_snapshot_cub...</td>\n",
       "      <td>only anthocyanins</td>\n",
       "    </tr>\n",
       "    <tr>\n",
       "      <th>1</th>\n",
       "      <td>2022_09_02_session_000_002_snapshot_cube.tiff</td>\n",
       "      <td>10А-9-1</td>\n",
       "      <td>2022_09_02_calibr_session_000_026_snapshot_cub...</td>\n",
       "      <td>2022_09_02_calibr_session_000_024_snapshot_cub...</td>\n",
       "      <td>only anthocyanins</td>\n",
       "    </tr>\n",
       "    <tr>\n",
       "      <th>2</th>\n",
       "      <td>2022_09_02_session_000_003_cube.tiff</td>\n",
       "      <td>10А-9-3</td>\n",
       "      <td>2022_09_02_calibr_session_000_026_snapshot_cub...</td>\n",
       "      <td>2022_09_02_calibr_session_000_024_snapshot_cub...</td>\n",
       "      <td>only anthocyanins</td>\n",
       "    </tr>\n",
       "    <tr>\n",
       "      <th>3</th>\n",
       "      <td>2022_09_02_session_000_004_snapshot_cube.tiff</td>\n",
       "      <td>10А-9-3</td>\n",
       "      <td>2022_09_02_calibr_session_000_026_snapshot_cub...</td>\n",
       "      <td>2022_09_02_calibr_session_000_024_snapshot_cub...</td>\n",
       "      <td>only anthocyanins</td>\n",
       "    </tr>\n",
       "    <tr>\n",
       "      <th>4</th>\n",
       "      <td>2022_09_02_session_000_005_snapshot_cube.tiff</td>\n",
       "      <td>10А-9-4</td>\n",
       "      <td>2022_09_02_calibr_session_000_026_snapshot_cub...</td>\n",
       "      <td>2022_09_02_calibr_session_000_024_snapshot_cub...</td>\n",
       "      <td>only anthocyanins</td>\n",
       "    </tr>\n",
       "  </tbody>\n",
       "</table>\n",
       "</div>"
      ],
      "text/plain": [
       "                                      Image Name PlantNumber  \\\n",
       "0  2022_09_02_session_000_001_snapshot_cube.tiff     10А-9-1   \n",
       "1  2022_09_02_session_000_002_snapshot_cube.tiff     10А-9-1   \n",
       "2           2022_09_02_session_000_003_cube.tiff     10А-9-3   \n",
       "3  2022_09_02_session_000_004_snapshot_cube.tiff     10А-9-3   \n",
       "4  2022_09_02_session_000_005_snapshot_cube.tiff     10А-9-4   \n",
       "\n",
       "                              Black calibration data  \\\n",
       "0  2022_09_02_calibr_session_000_026_snapshot_cub...   \n",
       "1  2022_09_02_calibr_session_000_026_snapshot_cub...   \n",
       "2  2022_09_02_calibr_session_000_026_snapshot_cub...   \n",
       "3  2022_09_02_calibr_session_000_026_snapshot_cub...   \n",
       "4  2022_09_02_calibr_session_000_026_snapshot_cub...   \n",
       "\n",
       "                              White calibration data            Pigment  \n",
       "0  2022_09_02_calibr_session_000_024_snapshot_cub...  only anthocyanins  \n",
       "1  2022_09_02_calibr_session_000_024_snapshot_cub...  only anthocyanins  \n",
       "2  2022_09_02_calibr_session_000_024_snapshot_cub...  only anthocyanins  \n",
       "3  2022_09_02_calibr_session_000_024_snapshot_cub...  only anthocyanins  \n",
       "4  2022_09_02_calibr_session_000_024_snapshot_cub...  only anthocyanins  "
      ]
     },
     "execution_count": 36,
     "metadata": {},
     "output_type": "execute_result"
    }
   ],
   "source": [
    "hyper.create_table_annotation_df(img_lst).head()"
   ]
  },
  {
   "cell_type": "code",
   "execution_count": null,
   "metadata": {},
   "outputs": [],
   "source": []
  }
 ],
 "metadata": {
  "kernelspec": {
   "display_name": "Python 3 (ipykernel)",
   "language": "python",
   "name": "python3"
  },
  "language_info": {
   "codemirror_mode": {
    "name": "ipython",
    "version": 3
   },
   "file_extension": ".py",
   "mimetype": "text/x-python",
   "name": "python",
   "nbconvert_exporter": "python",
   "pygments_lexer": "ipython3",
   "version": "3.10.6"
  },
  "vscode": {
   "interpreter": {
    "hash": "31f2aee4e71d21fbe5cf8b01ff0e069b9275f58929596ceb00d14d90e3e16cd6"
   }
  }
 },
 "nbformat": 4,
 "nbformat_minor": 2
}
