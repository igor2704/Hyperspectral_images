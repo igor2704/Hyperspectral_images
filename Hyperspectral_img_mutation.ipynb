{
 "cells": [
  {
   "cell_type": "markdown",
   "metadata": {},
   "source": [
    "Библиотеки"
   ]
  },
  {
   "cell_type": "code",
   "execution_count": null,
   "metadata": {},
   "outputs": [],
   "source": [
    "import os\n",
    "import typing as tp\n",
    "from itertools import product\n",
    "import warnings\n",
    "\n",
    "import numpy as np\n",
    "import seaborn as sns\n",
    "import pandas as pd\n",
    "import matplotlib.pyplot as plt\n",
    "from scipy.signal import savgol_filter\n",
    "\n",
    "import cv2\n",
    "import tifffile as tiff\n",
    "\n",
    "from sklearn.decomposition import PCA\n",
    "from sklearn.preprocessing import StandardScaler\n",
    "from sklearn.pipeline import Pipeline"
   ]
  },
  {
   "cell_type": "markdown",
   "metadata": {},
   "source": [
    "Пути и прочие константы"
   ]
  },
  {
   "cell_type": "code",
   "execution_count": null,
   "metadata": {},
   "outputs": [],
   "source": [
    "IMG_PATH = '/home/jupyter-igor_busov/Seed/Hyperspectral/data/session_000/'\n",
    "PROJECT_PATH = '/home/jupyter-igor_busov/Seed'\n",
    "CALIBR_WHITE_PATH = '/home/jupyter-igor_busov/Seed/Hyperspectral/data/calibr/session_000_024_snapshot_cube.tiff'\n",
    "CALIBR_BLACK_CAP_PATH = '/home/jupyter-igor_busov/Seed/Hyperspectral/data/calibr/session_000_025_snapshot_cube.tiff'\n",
    "CALIBR_BLACK_BACKGROUND_PATH = '/home/jupyter-igor_busov/Seed/Hyperspectral/data/calibr/session_000_026_snapshot_cube.tiff'\n",
    "PURPLE_IMG = '/home/jupyter-igor_busov/Seed/Hyperspectral/data/session_000/session_000_046_snapshot_cube.tiff'"
   ]
  },
  {
   "cell_type": "markdown",
   "metadata": {},
   "source": [
    "$\\textbf{Код}$"
   ]
  },
  {
   "cell_type": "markdown",
   "metadata": {},
   "source": [
    "класс, описывающий гиперспектральное изображение с основными используемыми в этой работе методами "
   ]
  },
  {
   "cell_type": "code",
   "execution_count": null,
   "metadata": {},
   "outputs": [],
   "source": [
    "class Hyper_Img:\n",
    "    \"\"\"\n",
    "    Hyperspectral image with basic methods\n",
    "    \"\"\"\n",
    "    \n",
    "    def __init__(self, path: str, threshold_value: float = 25, \n",
    "                 savgol_par: tp.Tuple[int] = (9, 3)) -> None:\n",
    "        self.savgol_par = savgol_par\n",
    "        self._threshold_value = threshold_value\n",
    "        self.path = path\n",
    "        self.img = self._get_tiff()\n",
    "        self.widht = self.img.shape[0]\n",
    "        self.height = self.img.shape[1]\n",
    "        self.mutation = self._get_mutation()\n",
    "        self.pixels =  self._get_pixels()\n",
    "        self.medians = self._get_medians()\n",
    "    \n",
    "    @staticmethod\n",
    "    def wave_len(x: int, step: int = 4, begin_wave_len: int = 450) -> int:\n",
    "        return int((x - begin_wave_len) // step)\n",
    "    \n",
    "    def _get_tiff(self) -> None:\n",
    "        img = tiff.imread(self.path)\n",
    "        bl_img = tiff.imread(CALIBR_BLACK_BACKGROUND_PATH)\n",
    "        new_img = np.where(bl_img > img, 0, img - bl_img)\n",
    "        wh_img = tiff.imread(CALIBR_WHITE_PATH)\n",
    "        return new_img /(wh_img - bl_img)\n",
    "    \n",
    "    def _get_mutation(self) -> str:\n",
    "        if not set(IMG_PATH.split('/')).issubset(set(self.path.split('.')[0].split('/'))):\n",
    "            raise NameError('Error in path')\n",
    "        \n",
    "        number = int(self.path.split('/')[-1].split('.')[0].split('_')[2])\n",
    "        \n",
    "        if number < 25 and number > 0:\n",
    "            return '-4'  \n",
    "        elif number > 24 and number < 27:\n",
    "            return '-1' \n",
    "        elif number > 26 and number < 41:\n",
    "            return 'wt' \n",
    "        elif number > 40 and number < 45:\n",
    "            return '-1'\n",
    "        elif number == 45:\n",
    "            return 'light'\n",
    "        elif number == 46:\n",
    "            return 'purple'\n",
    "        elif number == 47:\n",
    "            return 'blue'\n",
    "        else:\n",
    "            return 'control'\n",
    "        \n",
    "    def _get_pixels(self) -> tp.List[tp.Tuple[int, int]]:\n",
    "        return [(x, y) for x, y in product(range(self.widht), range(self.height)) \n",
    "                if self.threshold_bgr[x,y] != 0]\n",
    "    \n",
    "    def _get_medians(self) -> np.array:\n",
    "        medians: tp.List[float] = list()\n",
    "        for i in range(self.img.shape[2]):\n",
    "            medians.append(np.median(np.array([self.img[p[0]][p[1]][i] for p in self.pixels])))\n",
    "        return savgol_filter(np.array(medians), *self.savgol_par)\n",
    "    \n",
    "    def is_purple(self) -> bool:\n",
    "        return self.path == PURPLE_IMG\n",
    " \n",
    "    @property\n",
    "    def bgr(self) -> np.array:\n",
    "        \n",
    "        #To accurately display colors, you need to choose constants\n",
    "        \n",
    "        im_r = self.img[:,:,Hyper_Img.wave_len(630)]\n",
    "        im_g = self.img[:,:,Hyper_Img.wave_len(510)]\n",
    "        im_b = self.img[:,:,Hyper_Img.wave_len(450)]\n",
    "    \n",
    "        im_r = (im_r / im_r.max())*255\n",
    "        im_g = (im_g / im_g.max())*255\n",
    "        im_b = (im_b / im_b.max())*255\n",
    "    \n",
    "        im_r = np.clip(im_r,0,255).astype(np.uint8)\n",
    "        im_g = np.clip(im_g,0,255).astype(np.uint8)\n",
    "        im_b = np.clip(im_b,0,255).astype(np.uint8)\n",
    "    \n",
    "        im_bgr = np.zeros((self.widht, self.height, 3), dtype = np.uint8)\n",
    "        im_bgr[:,:,0] = im_b\n",
    "        im_bgr[:,:,1] = im_g\n",
    "        im_bgr[:,:,2] = im_r\n",
    "    \n",
    "        return im_bgr\n",
    "    \n",
    "    @property\n",
    "    def threshold_bgr(self) -> np.array:\n",
    "        im_black = cv2.cvtColor(self.bgr, cv2.COLOR_BGR2GRAY)\n",
    "        _, im_thr = cv2.threshold(im_black, self._threshold_value, 255, cv2.THRESH_BINARY)\n",
    "        return im_thr\n",
    "    \n",
    "    def __repr__(self) -> str:\n",
    "        fig, axes = plt.subplots(1, 2)\n",
    "        \n",
    "        axes[0].imshow(self.bgr, cmap = 'gray')\n",
    "        axes[0].set_title('rgb visualization')\n",
    "        \n",
    "        axes[1].imshow(self.threshold_bgr, cmap = 'gray')\n",
    "        axes[1].set_title('segmentation')\n",
    "        \n",
    "        return f'mutation: {self.mutation}'\n",
    "     "
   ]
  },
  {
   "cell_type": "markdown",
   "metadata": {},
   "source": [
    "Примеры изображений (визуализация не точно передает цвета)"
   ]
  },
  {
   "cell_type": "code",
   "execution_count": null,
   "metadata": {},
   "outputs": [],
   "source": [
    "Hyper_Img(IMG_PATH + 'session_000_046_snapshot_cube.tiff')"
   ]
  },
  {
   "cell_type": "code",
   "execution_count": null,
   "metadata": {},
   "outputs": [],
   "source": [
    "Hyper_Img(IMG_PATH + 'session_000_045_snapshot_cube.tiff')"
   ]
  },
  {
   "cell_type": "code",
   "execution_count": null,
   "metadata": {},
   "outputs": [],
   "source": [
    "Hyper_Img(IMG_PATH + 'session_000_047_cube.tiff')"
   ]
  },
  {
   "cell_type": "code",
   "execution_count": null,
   "metadata": {},
   "outputs": [],
   "source": [
    "Hyper_Img(IMG_PATH + 'session_000_017_snapshot_cube.tiff')"
   ]
  },
  {
   "cell_type": "code",
   "execution_count": null,
   "metadata": {},
   "outputs": [],
   "source": [
    "Hyper_Img(IMG_PATH + 'session_000_025_snapshot_cube.tiff')"
   ]
  },
  {
   "cell_type": "code",
   "execution_count": null,
   "metadata": {},
   "outputs": [],
   "source": [
    "Hyper_Img(IMG_PATH + 'session_000_027_snapshot_cube.tiff')"
   ]
  },
  {
   "cell_type": "markdown",
   "metadata": {},
   "source": [
    "Функция, возвращающая необходимые имена в директории"
   ]
  },
  {
   "cell_type": "code",
   "execution_count": null,
   "metadata": {},
   "outputs": [],
   "source": [
    "def all_tiff_cube_img(path: str) -> tp.List[str]:\n",
    "    img_names: tp.List[str] = list()\n",
    "    for dirname, _, filenames in os.walk(path):\n",
    "        for filename in filenames: \n",
    "            name = os.path.join(filename)\n",
    "            if name.split('.')[-1] != 'tiff':\n",
    "                continue\n",
    "            if name.split('.')[0].split('_')[-1] != 'cube':\n",
    "                continue\n",
    "            img_names.append(dirname + '/' + name)\n",
    "            \n",
    "    return img_names "
   ]
  },
  {
   "cell_type": "markdown",
   "metadata": {},
   "source": [
    "считываем все необходимые изображения "
   ]
  },
  {
   "cell_type": "code",
   "execution_count": null,
   "metadata": {},
   "outputs": [],
   "source": [
    "#hyper_imgs - list with all hyperspectral images\n",
    "hyper_imgs: tp.List[Hyper_Img] = [Hyper_Img(name) for name in all_tiff_cube_img(IMG_PATH)\n",
    "                                  if Hyper_Img(name).mutation != 'control']    "
   ]
  },
  {
   "cell_type": "markdown",
   "metadata": {},
   "source": [
    "$\\textbf{Графики медиан для каждого канала}$"
   ]
  },
  {
   "cell_type": "code",
   "execution_count": null,
   "metadata": {},
   "outputs": [],
   "source": [
    "def get_all_medians(hyper_imgs: tp.List[Hyper_Img], with_purple: bool = True) -> pd.DataFrame:\n",
    "    \"\"\"\n",
    "    create DataFrame for graphics\n",
    "    \"\"\"\n",
    "    \n",
    "    x_axis: tp.List[int] = list(np.arange(0,138)*4 + 450)\n",
    "    points: tp.List[tp.Tuple[float, float, int, str]] = list()\n",
    "    if not with_purple:\n",
    "        pur_img = Hyper_Img(PURPLE_IMG)\n",
    "    \n",
    "    for sample_number, sample in enumerate(hyper_imgs):\n",
    "        \n",
    "        if sample.path == PURPLE_IMG and not with_purple:\n",
    "            continue\n",
    "        \n",
    "        if sample.mutation == 'control':\n",
    "            continue\n",
    "        \n",
    "        if with_purple:\n",
    "            point = zip(x_axis, sample.medians)\n",
    "        else:\n",
    "            point = zip(x_axis, sample.medians - pur_img.medians)\n",
    "        \n",
    "        for p in point:\n",
    "            points.append([p[0], p[1], sample_number, sample.mutation])\n",
    "        \n",
    "\n",
    "    return pd.DataFrame(points, columns = ['Wavelength', 'Median', 'Sample', 'Mutation'])      "
   ]
  },
  {
   "cell_type": "code",
   "execution_count": null,
   "metadata": {},
   "outputs": [],
   "source": [
    "df_all_med = get_all_medians(hyper_imgs)\n",
    "df_all_med.sample(7)"
   ]
  },
  {
   "cell_type": "code",
   "execution_count": null,
   "metadata": {},
   "outputs": [],
   "source": [
    "plt.figure(figsize=(15,10))\n",
    "sns.lineplot(data=df_all_med, x='Wavelength', y='Median', hue='Mutation')"
   ]
  },
  {
   "cell_type": "markdown",
   "metadata": {},
   "source": [
    "$\\textbf{Графики медиан для каждого канала с вычетем вектора медиан фиолетовых зерен}$"
   ]
  },
  {
   "cell_type": "code",
   "execution_count": null,
   "metadata": {},
   "outputs": [],
   "source": [
    "df_med_without_pur = get_all_medians(hyper_imgs, with_purple = False)\n",
    "df_med_without_pur.sample(7)"
   ]
  },
  {
   "cell_type": "code",
   "execution_count": null,
   "metadata": {},
   "outputs": [],
   "source": [
    "plt.figure(figsize=(15,10))\n",
    "sns.lineplot(data=df_med_without_pur, x='Wavelength', y='Median', hue='Mutation')"
   ]
  },
  {
   "cell_type": "markdown",
   "metadata": {},
   "source": [
    "$\\textbf{PCA}$"
   ]
  },
  {
   "cell_type": "code",
   "execution_count": null,
   "metadata": {},
   "outputs": [],
   "source": [
    "#Пайплайн\n",
    "pipe = Pipeline([('scaler', StandardScaler()), ('pca', PCA(n_components=5))])"
   ]
  },
  {
   "cell_type": "code",
   "execution_count": null,
   "metadata": {},
   "outputs": [],
   "source": [
    "def get_med_df(hyper_imgs: tp.List[Hyper_Img]) -> pd.DataFrame:\n",
    "    \"\"\"\n",
    "    create DataFrame for PCA\n",
    "    \"\"\"\n",
    "        \n",
    "    return pd.DataFrame([list(sample.medians) + [sample.mutation] for sample in hyper_imgs \n",
    "                         if sample.mutation != 'control'], \n",
    "                        columns = list(np.arange(0,138)*4 + 450) + ['Mutation'])    "
   ]
  },
  {
   "cell_type": "code",
   "execution_count": null,
   "metadata": {},
   "outputs": [],
   "source": [
    "df = get_med_df(hyper_imgs)\n",
    "df.sample(7)"
   ]
  },
  {
   "cell_type": "code",
   "execution_count": null,
   "metadata": {},
   "outputs": [],
   "source": [
    "X = df.drop(['Mutation'], axis = 1)\n",
    "X.head()"
   ]
  },
  {
   "cell_type": "code",
   "execution_count": null,
   "metadata": {},
   "outputs": [],
   "source": [
    "y = df[['Mutation']]\n",
    "y.head()"
   ]
  },
  {
   "cell_type": "markdown",
   "metadata": {},
   "source": [
    "обучение и процент дисперсии для каждой компаненты"
   ]
  },
  {
   "cell_type": "code",
   "execution_count": null,
   "metadata": {},
   "outputs": [],
   "source": [
    "X = pipe.fit_transform(X)\n",
    "pipe['pca'].explained_variance_ratio_"
   ]
  },
  {
   "cell_type": "markdown",
   "metadata": {},
   "source": [
    "визуализация"
   ]
  },
  {
   "cell_type": "code",
   "execution_count": null,
   "metadata": {},
   "outputs": [],
   "source": [
    "warnings.simplefilter('ignore')\n",
    "new_arr = np.array(tuple(zip(X[:,:2], y['Mutation'])))\n",
    "lst_of_value = [(new_arr[i][0][0], new_arr[i][0][1], new_arr[i][1]) for i, _ in enumerate(new_arr)]\n",
    "pd.DataFrame(lst_of_value, columns = ['1', '2', 'Mutation']).sample(7)"
   ]
  },
  {
   "cell_type": "code",
   "execution_count": null,
   "metadata": {},
   "outputs": [],
   "source": [
    "plt.figure(figsize=(15,10))\n",
    "sns.scatterplot(data=pd.DataFrame(lst_of_value, \n",
    "                                  columns=['1', '2', 'Mutation']), x='1', y='2', hue='Mutation')"
   ]
  },
  {
   "cell_type": "code",
   "execution_count": null,
   "metadata": {},
   "outputs": [],
   "source": [
    "new_arr = np.array(tuple(zip(X[:,:2], y['Mutation'])))\n",
    "lst_of_value = [(new_arr[i][0][0], new_arr[i][0][1], new_arr[i][1]) for i, _ in enumerate(new_arr) \n",
    "                if new_arr[i][1] != 'purple']\n",
    "pd.DataFrame(lst_of_value, columns = ['1', '2', 'Mutation']).sample(7)"
   ]
  },
  {
   "cell_type": "markdown",
   "metadata": {},
   "source": [
    "визуализация без фиолетовых зерен"
   ]
  },
  {
   "cell_type": "code",
   "execution_count": null,
   "metadata": {},
   "outputs": [],
   "source": [
    "plt.figure(figsize=(15,10))\n",
    "sns.scatterplot(data=pd.DataFrame(lst_of_value, \n",
    "                                  columns=['1', '2', 'Mutation']), x='1', y='2', hue='Mutation')"
   ]
  }
 ],
 "metadata": {
  "kernelspec": {
   "display_name": "Python 3 (ipykernel)",
   "language": "python",
   "name": "python3"
  },
  "language_info": {
   "codemirror_mode": {
    "name": "ipython",
    "version": 3
   },
   "file_extension": ".py",
   "mimetype": "text/x-python",
   "name": "python",
   "nbconvert_exporter": "python",
   "pygments_lexer": "ipython3",
   "version": "3.7.11"
  }
 },
 "nbformat": 4,
 "nbformat_minor": 4
}
