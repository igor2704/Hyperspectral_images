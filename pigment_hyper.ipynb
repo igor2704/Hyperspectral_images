{
 "cells": [
  {
   "cell_type": "code",
   "execution_count": null,
   "metadata": {},
   "outputs": [],
   "source": [
    "import pandas as pd\n",
    "import numpy as np\n",
    "\n",
    "import seaborn as sns\n",
    "import matplotlib.pyplot as plt\n",
    "\n",
    "import tifffile as tiff\n",
    "\n",
    "from sklearn.decomposition import PCA\n",
    "from sklearn.preprocessing import StandardScaler\n",
    "from sklearn.pipeline import Pipeline\n",
    "\n",
    "import hyper_img as hyper"
   ]
  },
  {
   "attachments": {},
   "cell_type": "markdown",
   "metadata": {},
   "source": [
    "Пути"
   ]
  },
  {
   "cell_type": "code",
   "execution_count": null,
   "metadata": {},
   "outputs": [],
   "source": [
    "IMG_PATH = '/home/igor/projects/Seed/data/pigment/'\n",
    "IMG_PATH_WHITE = IMG_PATH + 'white/'\n",
    "IMG_PATH_COLORED = IMG_PATH + 'colored/'\n",
    "IMG_PATH_NEW_DATA = IMG_PATH + 'new_data/'\n",
    "CALIBR_WHITE_PATH_WHITE = IMG_PATH_WHITE + 'White_session_000_000_cube.tiff'\n",
    "CALIBR_BLACK_PATH_WHITE = IMG_PATH_WHITE + 'Black_session_000_004_snapshot_cube.tiff'\n",
    "CALIBR_WHITE_PATH_COLORED = IMG_PATH_COLORED + 'White_session_000_000_snapshot_cube.tiff'\n",
    "CALIBR_BLACK_PATH_COLORED = IMG_PATH_COLORED + 'Black_session_000_001_snapshot_cube.tiff'\n",
    "CALIBR_BLACK_PATH_NEW_DATA = IMG_PATH_NEW_DATA + 'Black_session_000_001_snapshot_cube.tiff'\n",
    "CALIBR_WHITE_PATH_NEW_DATA = IMG_PATH_NEW_DATA +'White_session_000_000_snapshot_cube.tiff'"
   ]
  },
  {
   "cell_type": "markdown",
   "metadata": {},
   "source": [
    "Таблица с информацией о пигментном составе цветных изображений"
   ]
  },
  {
   "cell_type": "code",
   "execution_count": null,
   "metadata": {},
   "outputs": [],
   "source": [
    "colored_pigment = pd.read_csv(IMG_PATH + 'colored_pigment.csv')\n",
    "colored_pigment.head()"
   ]
  },
  {
   "cell_type": "code",
   "execution_count": null,
   "metadata": {},
   "outputs": [],
   "source": [
    "needed_columns = [ 'меланин', 'Unnamed: 3', 'антоцианы', 'Unnamed: 5', 'Unnamed: 8']"
   ]
  },
  {
   "cell_type": "code",
   "execution_count": null,
   "metadata": {},
   "outputs": [],
   "source": [
    "colored_pigment = colored_pigment[needed_columns].iloc[1:].rename(columns={ 'меланин': 'melanin_scales', \n",
    "                                                                    'Unnamed: 3': 'melanin_pericarp',\n",
    "                                                                    'антоцианы': 'anthocyanins_scales',\n",
    "                                                                    'Unnamed: 5': 'anthocyanins_pericarp',\n",
    "                                                                    'Unnamed: 8': 'file_name'\n",
    "                                                                }).reset_index(drop=True)\n",
    "colored_pigment = colored_pigment.replace(['нет', 'да'], [0, 1])\n",
    "colored_pigment.head()"
   ]
  },
  {
   "cell_type": "code",
   "execution_count": null,
   "metadata": {},
   "outputs": [],
   "source": [
    "colored_pigment['melanin'] = (colored_pigment['melanin_scales']\n",
    "                              + colored_pigment['melanin_pericarp']).clip(0,1)\n",
    "colored_pigment['anthocyanins'] = (colored_pigment['anthocyanins_scales']\n",
    "                              + colored_pigment['anthocyanins_pericarp']).clip(0,1)\n",
    "colored_pigment.head()"
   ]
  },
  {
   "cell_type": "code",
   "execution_count": null,
   "metadata": {},
   "outputs": [],
   "source": [
    "new_data_table_name = pd.read_excel(IMG_PATH + 'new_data_table_name.xlsx')\n",
    "new_data_table_name = new_data_table_name[['имя файла ']].rename(columns={'имя файла ': 'file_name'})\n",
    "new_data_table_name.head()"
   ]
  },
  {
   "cell_type": "code",
   "execution_count": null,
   "metadata": {},
   "outputs": [],
   "source": [
    "new_data_table = pd.read_excel(IMG_PATH + 'new_data_table.xlsx')\n",
    "new_data_table = new_data_table.join(new_data_table_name)\n",
    "new_data_table = new_data_table.drop(columns=['Нумерация', 'Цвет зерна (на вид)', 'Черный пигмент (на вид)', \n",
    "                             'Blp ген (генотипирование)'])\n",
    "new_data_table.head()"
   ]
  },
  {
   "cell_type": "code",
   "execution_count": null,
   "metadata": {},
   "outputs": [],
   "source": [
    "new_data_table = new_data_table.rename(columns={ 'Антоцианы': 'anthocyanins',\n",
    "                            'Меланины': 'melanin'}).replace(['да', 'нет'], [1, 0]).dropna().reset_index(drop=True)\n",
    "new_data_table['melanin'] = new_data_table['melanin'].astype('int')\n",
    "new_data_table['anthocyanins'] = new_data_table['anthocyanins'].astype('int')\n",
    "new_data_table.head()"
   ]
  },
  {
   "cell_type": "code",
   "execution_count": null,
   "metadata": {},
   "outputs": [],
   "source": [
    "colored_pigment = pd.concat([new_data_table, colored_pigment])\n",
    "colored_pigment.sample(7)"
   ]
  },
  {
   "attachments": {},
   "cell_type": "markdown",
   "metadata": {},
   "source": [
    "Класс и графики"
   ]
  },
  {
   "cell_type": "code",
   "execution_count": null,
   "metadata": {},
   "outputs": [],
   "source": [
    "class PigmentHyperImg(hyper.HyperImg):\n",
    "    \n",
    "    def _get_tiff(self) -> np.ndarray:\n",
    "        img = tiff.imread(self.path)\n",
    "        if set(IMG_PATH_WHITE.split('/')).issubset(set(self.path.split('/'))):\n",
    "            bl_img = tiff.imread(CALIBR_BLACK_PATH_WHITE)\n",
    "            wh_img = tiff.imread(CALIBR_WHITE_PATH_WHITE)\n",
    "        elif set(IMG_PATH_COLORED.split('/')).issubset(set(self.path.split('/'))):\n",
    "            bl_img = tiff.imread(CALIBR_BLACK_PATH_COLORED)\n",
    "            wh_img = tiff.imread(CALIBR_WHITE_PATH_COLORED)\n",
    "        else:\n",
    "            bl_img = tiff.imread(CALIBR_BLACK_PATH_NEW_DATA)\n",
    "            wh_img = tiff.imread(CALIBR_WHITE_PATH_NEW_DATA)\n",
    "        new_img = np.where(bl_img > img, 0, img - bl_img)\n",
    "        return new_img /(wh_img - bl_img)\n",
    "\n",
    "    \n",
    "    def _get_target_varible(self) -> str:\n",
    "        if not set(IMG_PATH.split('/')).issubset(set(self.path.split('.')[0].split('/'))):\n",
    "            raise NameError('Error in path')\n",
    "            \n",
    "        if np.any(np.isnan(self.medians)):\n",
    "            return 'nan'\n",
    "        \n",
    "        if np.allclose(self.medians, np.ones(len(self.medians), dtype=float)) or \\\n",
    "           np.allclose(self.medians, np.zeros(len(self.medians), dtype=float)): \n",
    "            return 'calibration'\n",
    "        \n",
    "        if set(IMG_PATH_WHITE.split('/')).issubset(set(self.path.split('/'))):\n",
    "            return 'white'\n",
    "    \n",
    "        name: str = '_'.join([s for s in self.path.split('/')[-1].split('_')\n",
    "                        if s != 'snapshot' and s != 'cube.tiff' ])\n",
    "            \n",
    "        if name not in np.unique(colored_pigment.file_name):\n",
    "            return 'nan'\n",
    "        \n",
    "        if colored_pigment[colored_pigment.file_name == name].melanin.iloc[0] and \\\n",
    "                            colored_pigment[colored_pigment.file_name == name].anthocyanins.iloc[0]:\n",
    "            return 'melanin and anthocyanins'\n",
    "        \n",
    "        if colored_pigment[colored_pigment.file_name == name].melanin.iloc[0]:\n",
    "            return 'only melanin'\n",
    "        \n",
    "        if colored_pigment[colored_pigment.file_name == name].anthocyanins.iloc[0]:\n",
    "            return 'only anthocyanins'\n",
    "        \n",
    "        return 'white'"
   ]
  },
  {
   "cell_type": "code",
   "execution_count": null,
   "metadata": {},
   "outputs": [],
   "source": [
    "img_lst: list[PigmentHyperImg] = hyper.get_list_hyper_img(path=IMG_PATH, \n",
    "                                                       class_name=PigmentHyperImg,\n",
    "                                                       filter=lambda x: x != 'nan' and x != 'calibration', \n",
    "                                                       threshold_value=19.55076654, \n",
    "                                                       target_varible_name= 'Pigment')"
   ]
  },
  {
   "cell_type": "code",
   "execution_count": null,
   "metadata": {},
   "outputs": [],
   "source": [
    "len(img_lst)"
   ]
  },
  {
   "cell_type": "code",
   "execution_count": null,
   "metadata": {},
   "outputs": [],
   "source": [
    "img_lst[0]"
   ]
  },
  {
   "cell_type": "code",
   "execution_count": null,
   "metadata": {},
   "outputs": [],
   "source": [
    "plt.figure(figsize=(7,5))\n",
    "plt.grid()\n",
    "sns.lineplot(data=hyper.get_df_graphics_medians_wavelenght(img_lst), \n",
    "             x='Wavelength', y='Median', hue='Pigment')"
   ]
  },
  {
   "cell_type": "code",
   "execution_count": null,
   "metadata": {},
   "outputs": [],
   "source": [
    "plt.figure(figsize=(15,7))\n",
    "sns.scatterplot(data=pd.DataFrame(hyper.get_df_2_pca(img_lst), \n",
    "                                  columns=['1', '2', 'Pigment']), x='1', y='2', hue='Pigment')"
   ]
  },
  {
   "cell_type": "code",
   "execution_count": null,
   "metadata": {},
   "outputs": [],
   "source": [
    "pipe = Pipeline([('scaler', StandardScaler()), ('pca', PCA(n_components=5))])"
   ]
  },
  {
   "cell_type": "code",
   "execution_count": null,
   "metadata": {},
   "outputs": [],
   "source": [
    "df = hyper.get_df_medians(img_lst)\n",
    "df.head()"
   ]
  },
  {
   "cell_type": "code",
   "execution_count": null,
   "metadata": {},
   "outputs": [],
   "source": [
    "X = df.drop(['Pigment'], axis = 1)\n",
    "y = df[['Pigment']]\n",
    "X = pipe.fit_transform(X)\n",
    "pipe['pca'].explained_variance_ratio_"
   ]
  }
 ],
 "metadata": {
  "kernelspec": {
   "display_name": "Python 3",
   "language": "python",
   "name": "python3"
  },
  "language_info": {
   "codemirror_mode": {
    "name": "ipython",
    "version": 3
   },
   "file_extension": ".py",
   "mimetype": "text/x-python",
   "name": "python",
   "nbconvert_exporter": "python",
   "pygments_lexer": "ipython3",
   "version": "3.10.6"
  },
  "orig_nbformat": 4,
  "vscode": {
   "interpreter": {
    "hash": "31f2aee4e71d21fbe5cf8b01ff0e069b9275f58929596ceb00d14d90e3e16cd6"
   }
  }
 },
 "nbformat": 4,
 "nbformat_minor": 2
}
