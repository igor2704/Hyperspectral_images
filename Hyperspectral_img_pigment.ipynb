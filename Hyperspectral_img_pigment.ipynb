{
 "cells": [
  {
   "cell_type": "markdown",
   "metadata": {},
   "source": [
    "Библиотеки"
   ]
  },
  {
   "cell_type": "code",
   "execution_count": 111,
   "metadata": {},
   "outputs": [],
   "source": [
    "import os\n",
    "import typing as tp\n",
    "from itertools import product\n",
    "import warnings\n",
    "\n",
    "import numpy as np\n",
    "import seaborn as sns\n",
    "import pandas as pd\n",
    "import matplotlib.pyplot as plt\n",
    "from scipy.signal import savgol_filter\n",
    "\n",
    "import cv2\n",
    "import tifffile as tiff\n",
    "\n",
    "import sklearn\n",
    "\n",
    "from sklearn.model_selection import train_test_split\n",
    "from sklearn.model_selection import StratifiedKFold\n",
    "from sklearn.model_selection import GridSearchCV\n",
    "\n",
    "from sklearn.decomposition import PCA\n",
    "from sklearn.preprocessing import StandardScaler\n",
    "from sklearn.pipeline import Pipeline\n",
    "\n",
    "from sklearn.metrics import f1_score\n",
    "from sklearn.metrics import precision_score\n",
    "from sklearn.metrics import recall_score\n",
    "from sklearn.metrics import accuracy_score\n",
    "\n",
    "from sklearn.linear_model import LogisticRegressionCV\n",
    "from sklearn.ensemble import RandomForestClassifier\n",
    "from sklearn.ensemble import GradientBoostingClassifier"
   ]
  },
  {
   "cell_type": "markdown",
   "metadata": {},
   "source": [
    "Пути и прочие константы"
   ]
  },
  {
   "cell_type": "code",
   "execution_count": 2,
   "metadata": {},
   "outputs": [],
   "source": [
    "IMG_PATH = '/home/jupyter-igor_busov/Seed/Hyperspectral/data/pigment/'\n",
    "IMG_PATH_WHITE = IMG_PATH + 'white/'\n",
    "IMG_PATH_COLORED = IMG_PATH + 'colored/'\n",
    "CALIBR_WHITE_PATH_WHITE = IMG_PATH_WHITE + 'White_session_000_000_cube.tiff'\n",
    "CALIBR_BLACK_PATH_WHITE = IMG_PATH_WHITE + 'Black_session_000_004_snapshot_cube.tiff'\n",
    "CALIBR_WHITE_PATH_COLORED = IMG_PATH_COLORED + 'White_session_000_000_snapshot_cube.tiff'\n",
    "CALIBR_BLACK_PATH_COLORED = IMG_PATH_COLORED + 'Black_session_000_001_snapshot_cube.tiff'"
   ]
  },
  {
   "cell_type": "markdown",
   "metadata": {},
   "source": [
    "$\\textbf{Код}$"
   ]
  },
  {
   "cell_type": "markdown",
   "metadata": {},
   "source": [
    "Таблица с информацией о пигментном составе цветных изображений"
   ]
  },
  {
   "cell_type": "code",
   "execution_count": 3,
   "metadata": {},
   "outputs": [
    {
     "data": {
      "text/html": [
       "<div>\n",
       "<style scoped>\n",
       "    .dataframe tbody tr th:only-of-type {\n",
       "        vertical-align: middle;\n",
       "    }\n",
       "\n",
       "    .dataframe tbody tr th {\n",
       "        vertical-align: top;\n",
       "    }\n",
       "\n",
       "    .dataframe thead th {\n",
       "        text-align: right;\n",
       "    }\n",
       "</style>\n",
       "<table border=\"1\" class=\"dataframe\">\n",
       "  <thead>\n",
       "    <tr style=\"text-align: right;\">\n",
       "      <th></th>\n",
       "      <th>Номер образца</th>\n",
       "      <th>Название образца</th>\n",
       "      <th>меланин</th>\n",
       "      <th>Unnamed: 3</th>\n",
       "      <th>антоцианы</th>\n",
       "      <th>Unnamed: 5</th>\n",
       "      <th>пленчатый/голозерный</th>\n",
       "      <th>Гены окраски</th>\n",
       "      <th>Unnamed: 8</th>\n",
       "      <th>Unnamed: 9</th>\n",
       "      <th>...</th>\n",
       "      <th>Unnamed: 16</th>\n",
       "      <th>Unnamed: 17</th>\n",
       "      <th>Unnamed: 18</th>\n",
       "      <th>Unnamed: 19</th>\n",
       "      <th>Unnamed: 20</th>\n",
       "      <th>Unnamed: 21</th>\n",
       "      <th>Unnamed: 22</th>\n",
       "      <th>Unnamed: 23</th>\n",
       "      <th>Unnamed: 24</th>\n",
       "      <th>Unnamed: 25</th>\n",
       "    </tr>\n",
       "  </thead>\n",
       "  <tbody>\n",
       "    <tr>\n",
       "      <th>0</th>\n",
       "      <td>NaN</td>\n",
       "      <td>NaN</td>\n",
       "      <td>чешуя</td>\n",
       "      <td>перикарп</td>\n",
       "      <td>перикарп</td>\n",
       "      <td>алейрон</td>\n",
       "      <td>NaN</td>\n",
       "      <td>NaN</td>\n",
       "      <td>имя файла</td>\n",
       "      <td>NaN</td>\n",
       "      <td>...</td>\n",
       "      <td>NaN</td>\n",
       "      <td>NaN</td>\n",
       "      <td>NaN</td>\n",
       "      <td>NaN</td>\n",
       "      <td>NaN</td>\n",
       "      <td>NaN</td>\n",
       "      <td>NaN</td>\n",
       "      <td>NaN</td>\n",
       "      <td>NaN</td>\n",
       "      <td>NaN</td>\n",
       "    </tr>\n",
       "    <tr>\n",
       "      <th>1</th>\n",
       "      <td>1.0</td>\n",
       "      <td>Rec</td>\n",
       "      <td>нет</td>\n",
       "      <td>нет</td>\n",
       "      <td>нет</td>\n",
       "      <td>нет</td>\n",
       "      <td>голозерный</td>\n",
       "      <td>нет</td>\n",
       "      <td>session_001_000</td>\n",
       "      <td>NaN</td>\n",
       "      <td>...</td>\n",
       "      <td>NaN</td>\n",
       "      <td>NaN</td>\n",
       "      <td>NaN</td>\n",
       "      <td>NaN</td>\n",
       "      <td>NaN</td>\n",
       "      <td>NaN</td>\n",
       "      <td>NaN</td>\n",
       "      <td>NaN</td>\n",
       "      <td>NaN</td>\n",
       "      <td>NaN</td>\n",
       "    </tr>\n",
       "    <tr>\n",
       "      <th>2</th>\n",
       "      <td>2.0</td>\n",
       "      <td>BLP</td>\n",
       "      <td>да</td>\n",
       "      <td>да</td>\n",
       "      <td>нет</td>\n",
       "      <td>нет</td>\n",
       "      <td>пленчатый</td>\n",
       "      <td>Blp</td>\n",
       "      <td>session_001_001</td>\n",
       "      <td>NaN</td>\n",
       "      <td>...</td>\n",
       "      <td>NaN</td>\n",
       "      <td>NaN</td>\n",
       "      <td>NaN</td>\n",
       "      <td>NaN</td>\n",
       "      <td>NaN</td>\n",
       "      <td>NaN</td>\n",
       "      <td>NaN</td>\n",
       "      <td>NaN</td>\n",
       "      <td>NaN</td>\n",
       "      <td>NaN</td>\n",
       "    </tr>\n",
       "    <tr>\n",
       "      <th>3</th>\n",
       "      <td>3.0</td>\n",
       "      <td>BLP-nud</td>\n",
       "      <td>нет</td>\n",
       "      <td>да</td>\n",
       "      <td>нет</td>\n",
       "      <td>нет</td>\n",
       "      <td>голозерный</td>\n",
       "      <td>Blp</td>\n",
       "      <td>session_001_002</td>\n",
       "      <td>NaN</td>\n",
       "      <td>...</td>\n",
       "      <td>NaN</td>\n",
       "      <td>NaN</td>\n",
       "      <td>NaN</td>\n",
       "      <td>NaN</td>\n",
       "      <td>NaN</td>\n",
       "      <td>NaN</td>\n",
       "      <td>NaN</td>\n",
       "      <td>NaN</td>\n",
       "      <td>NaN</td>\n",
       "      <td>NaN</td>\n",
       "    </tr>\n",
       "    <tr>\n",
       "      <th>4</th>\n",
       "      <td>4.0</td>\n",
       "      <td>Bowman</td>\n",
       "      <td>нет</td>\n",
       "      <td>нет</td>\n",
       "      <td>нет</td>\n",
       "      <td>нет</td>\n",
       "      <td>пленчатый</td>\n",
       "      <td>нет</td>\n",
       "      <td>session_001_003</td>\n",
       "      <td>NaN</td>\n",
       "      <td>...</td>\n",
       "      <td>NaN</td>\n",
       "      <td>NaN</td>\n",
       "      <td>NaN</td>\n",
       "      <td>NaN</td>\n",
       "      <td>NaN</td>\n",
       "      <td>NaN</td>\n",
       "      <td>NaN</td>\n",
       "      <td>NaN</td>\n",
       "      <td>NaN</td>\n",
       "      <td>NaN</td>\n",
       "    </tr>\n",
       "  </tbody>\n",
       "</table>\n",
       "<p>5 rows × 26 columns</p>\n",
       "</div>"
      ],
      "text/plain": [
       "   Номер образца Название образца меланин Unnamed: 3 антоцианы Unnamed: 5  \\\n",
       "0            NaN              NaN   чешуя   перикарп  перикарп    алейрон   \n",
       "1            1.0              Rec     нет        нет       нет        нет   \n",
       "2            2.0              BLP      да         да       нет        нет   \n",
       "3            3.0          BLP-nud     нет         да       нет        нет   \n",
       "4            4.0           Bowman     нет        нет       нет        нет   \n",
       "\n",
       "  пленчатый/голозерный Гены окраски       Unnamed: 8  Unnamed: 9  ...  \\\n",
       "0                  NaN          NaN       имя файла          NaN  ...   \n",
       "1           голозерный          нет  session_001_000         NaN  ...   \n",
       "2            пленчатый          Blp  session_001_001         NaN  ...   \n",
       "3           голозерный          Blp  session_001_002         NaN  ...   \n",
       "4            пленчатый          нет  session_001_003         NaN  ...   \n",
       "\n",
       "   Unnamed: 16  Unnamed: 17  Unnamed: 18  Unnamed: 19  Unnamed: 20  \\\n",
       "0          NaN          NaN          NaN          NaN          NaN   \n",
       "1          NaN          NaN          NaN          NaN          NaN   \n",
       "2          NaN          NaN          NaN          NaN          NaN   \n",
       "3          NaN          NaN          NaN          NaN          NaN   \n",
       "4          NaN          NaN          NaN          NaN          NaN   \n",
       "\n",
       "   Unnamed: 21  Unnamed: 22  Unnamed: 23  Unnamed: 24  Unnamed: 25  \n",
       "0          NaN          NaN          NaN          NaN          NaN  \n",
       "1          NaN          NaN          NaN          NaN          NaN  \n",
       "2          NaN          NaN          NaN          NaN          NaN  \n",
       "3          NaN          NaN          NaN          NaN          NaN  \n",
       "4          NaN          NaN          NaN          NaN          NaN  \n",
       "\n",
       "[5 rows x 26 columns]"
      ]
     },
     "execution_count": 3,
     "metadata": {},
     "output_type": "execute_result"
    }
   ],
   "source": [
    "colored_pigment = pd.read_csv(IMG_PATH + 'colored_pigment.csv')\n",
    "colored_pigment.head()"
   ]
  },
  {
   "cell_type": "code",
   "execution_count": 4,
   "metadata": {},
   "outputs": [],
   "source": [
    "needed_columns = [ 'меланин', 'Unnamed: 3', 'антоцианы', 'Unnamed: 5', 'Unnamed: 8']"
   ]
  },
  {
   "cell_type": "code",
   "execution_count": 5,
   "metadata": {},
   "outputs": [
    {
     "data": {
      "text/html": [
       "<div>\n",
       "<style scoped>\n",
       "    .dataframe tbody tr th:only-of-type {\n",
       "        vertical-align: middle;\n",
       "    }\n",
       "\n",
       "    .dataframe tbody tr th {\n",
       "        vertical-align: top;\n",
       "    }\n",
       "\n",
       "    .dataframe thead th {\n",
       "        text-align: right;\n",
       "    }\n",
       "</style>\n",
       "<table border=\"1\" class=\"dataframe\">\n",
       "  <thead>\n",
       "    <tr style=\"text-align: right;\">\n",
       "      <th></th>\n",
       "      <th>melanin_scales</th>\n",
       "      <th>melanin_pericarp</th>\n",
       "      <th>anthocyanins_scales</th>\n",
       "      <th>anthocyanins_pericarp</th>\n",
       "      <th>file_name</th>\n",
       "    </tr>\n",
       "  </thead>\n",
       "  <tbody>\n",
       "    <tr>\n",
       "      <th>0</th>\n",
       "      <td>0</td>\n",
       "      <td>0</td>\n",
       "      <td>0</td>\n",
       "      <td>0</td>\n",
       "      <td>session_001_000</td>\n",
       "    </tr>\n",
       "    <tr>\n",
       "      <th>1</th>\n",
       "      <td>1</td>\n",
       "      <td>1</td>\n",
       "      <td>0</td>\n",
       "      <td>0</td>\n",
       "      <td>session_001_001</td>\n",
       "    </tr>\n",
       "    <tr>\n",
       "      <th>2</th>\n",
       "      <td>0</td>\n",
       "      <td>1</td>\n",
       "      <td>0</td>\n",
       "      <td>0</td>\n",
       "      <td>session_001_002</td>\n",
       "    </tr>\n",
       "    <tr>\n",
       "      <th>3</th>\n",
       "      <td>0</td>\n",
       "      <td>0</td>\n",
       "      <td>0</td>\n",
       "      <td>0</td>\n",
       "      <td>session_001_003</td>\n",
       "    </tr>\n",
       "    <tr>\n",
       "      <th>4</th>\n",
       "      <td>0</td>\n",
       "      <td>0</td>\n",
       "      <td>1</td>\n",
       "      <td>0</td>\n",
       "      <td>session_001_004</td>\n",
       "    </tr>\n",
       "  </tbody>\n",
       "</table>\n",
       "</div>"
      ],
      "text/plain": [
       "   melanin_scales  melanin_pericarp  anthocyanins_scales  \\\n",
       "0               0                 0                    0   \n",
       "1               1                 1                    0   \n",
       "2               0                 1                    0   \n",
       "3               0                 0                    0   \n",
       "4               0                 0                    1   \n",
       "\n",
       "   anthocyanins_pericarp        file_name  \n",
       "0                      0  session_001_000  \n",
       "1                      0  session_001_001  \n",
       "2                      0  session_001_002  \n",
       "3                      0  session_001_003  \n",
       "4                      0  session_001_004  "
      ]
     },
     "execution_count": 5,
     "metadata": {},
     "output_type": "execute_result"
    }
   ],
   "source": [
    "colored_pigment = colored_pigment[needed_columns].iloc[1:].rename(columns={ 'меланин': 'melanin_scales', \n",
    "                                                                    'Unnamed: 3': 'melanin_pericarp',\n",
    "                                                                    'антоцианы': 'anthocyanins_scales',\n",
    "                                                                    'Unnamed: 5': 'anthocyanins_pericarp',\n",
    "                                                                    'Unnamed: 8': 'file_name'\n",
    "                                                                }).reset_index(drop=True)\n",
    "colored_pigment = colored_pigment.replace(['нет', 'да'], [0, 1])\n",
    "colored_pigment.head()"
   ]
  },
  {
   "cell_type": "code",
   "execution_count": 6,
   "metadata": {},
   "outputs": [
    {
     "data": {
      "text/html": [
       "<div>\n",
       "<style scoped>\n",
       "    .dataframe tbody tr th:only-of-type {\n",
       "        vertical-align: middle;\n",
       "    }\n",
       "\n",
       "    .dataframe tbody tr th {\n",
       "        vertical-align: top;\n",
       "    }\n",
       "\n",
       "    .dataframe thead th {\n",
       "        text-align: right;\n",
       "    }\n",
       "</style>\n",
       "<table border=\"1\" class=\"dataframe\">\n",
       "  <thead>\n",
       "    <tr style=\"text-align: right;\">\n",
       "      <th></th>\n",
       "      <th>melanin_scales</th>\n",
       "      <th>melanin_pericarp</th>\n",
       "      <th>anthocyanins_scales</th>\n",
       "      <th>anthocyanins_pericarp</th>\n",
       "      <th>file_name</th>\n",
       "      <th>melanin</th>\n",
       "      <th>anthocyanins</th>\n",
       "    </tr>\n",
       "  </thead>\n",
       "  <tbody>\n",
       "    <tr>\n",
       "      <th>0</th>\n",
       "      <td>0</td>\n",
       "      <td>0</td>\n",
       "      <td>0</td>\n",
       "      <td>0</td>\n",
       "      <td>session_001_000</td>\n",
       "      <td>0</td>\n",
       "      <td>0</td>\n",
       "    </tr>\n",
       "    <tr>\n",
       "      <th>1</th>\n",
       "      <td>1</td>\n",
       "      <td>1</td>\n",
       "      <td>0</td>\n",
       "      <td>0</td>\n",
       "      <td>session_001_001</td>\n",
       "      <td>1</td>\n",
       "      <td>0</td>\n",
       "    </tr>\n",
       "    <tr>\n",
       "      <th>2</th>\n",
       "      <td>0</td>\n",
       "      <td>1</td>\n",
       "      <td>0</td>\n",
       "      <td>0</td>\n",
       "      <td>session_001_002</td>\n",
       "      <td>1</td>\n",
       "      <td>0</td>\n",
       "    </tr>\n",
       "    <tr>\n",
       "      <th>3</th>\n",
       "      <td>0</td>\n",
       "      <td>0</td>\n",
       "      <td>0</td>\n",
       "      <td>0</td>\n",
       "      <td>session_001_003</td>\n",
       "      <td>0</td>\n",
       "      <td>0</td>\n",
       "    </tr>\n",
       "    <tr>\n",
       "      <th>4</th>\n",
       "      <td>0</td>\n",
       "      <td>0</td>\n",
       "      <td>1</td>\n",
       "      <td>0</td>\n",
       "      <td>session_001_004</td>\n",
       "      <td>0</td>\n",
       "      <td>1</td>\n",
       "    </tr>\n",
       "  </tbody>\n",
       "</table>\n",
       "</div>"
      ],
      "text/plain": [
       "   melanin_scales  melanin_pericarp  anthocyanins_scales  \\\n",
       "0               0                 0                    0   \n",
       "1               1                 1                    0   \n",
       "2               0                 1                    0   \n",
       "3               0                 0                    0   \n",
       "4               0                 0                    1   \n",
       "\n",
       "   anthocyanins_pericarp        file_name  melanin  anthocyanins  \n",
       "0                      0  session_001_000        0             0  \n",
       "1                      0  session_001_001        1             0  \n",
       "2                      0  session_001_002        1             0  \n",
       "3                      0  session_001_003        0             0  \n",
       "4                      0  session_001_004        0             1  "
      ]
     },
     "execution_count": 6,
     "metadata": {},
     "output_type": "execute_result"
    }
   ],
   "source": [
    "colored_pigment['melanin'] = (colored_pigment['melanin_scales']\n",
    "                              + colored_pigment['melanin_pericarp']).clip(0,1)\n",
    "colored_pigment['anthocyanins'] = (colored_pigment['anthocyanins_scales']\n",
    "                              + colored_pigment['anthocyanins_pericarp']).clip(0,1)\n",
    "colored_pigment.head()"
   ]
  },
  {
   "cell_type": "code",
   "execution_count": 7,
   "metadata": {},
   "outputs": [
    {
     "data": {
      "text/html": [
       "<div>\n",
       "<style scoped>\n",
       "    .dataframe tbody tr th:only-of-type {\n",
       "        vertical-align: middle;\n",
       "    }\n",
       "\n",
       "    .dataframe tbody tr th {\n",
       "        vertical-align: top;\n",
       "    }\n",
       "\n",
       "    .dataframe thead th {\n",
       "        text-align: right;\n",
       "    }\n",
       "</style>\n",
       "<table border=\"1\" class=\"dataframe\">\n",
       "  <thead>\n",
       "    <tr style=\"text-align: right;\">\n",
       "      <th></th>\n",
       "      <th>melanin_scales</th>\n",
       "      <th>melanin_pericarp</th>\n",
       "      <th>anthocyanins_scales</th>\n",
       "      <th>anthocyanins_pericarp</th>\n",
       "      <th>file_name</th>\n",
       "      <th>melanin</th>\n",
       "      <th>anthocyanins</th>\n",
       "    </tr>\n",
       "  </thead>\n",
       "  <tbody>\n",
       "    <tr>\n",
       "      <th>0</th>\n",
       "      <td>0</td>\n",
       "      <td>0</td>\n",
       "      <td>0</td>\n",
       "      <td>0</td>\n",
       "      <td>session_001_000</td>\n",
       "      <td>0</td>\n",
       "      <td>0</td>\n",
       "    </tr>\n",
       "    <tr>\n",
       "      <th>1</th>\n",
       "      <td>1</td>\n",
       "      <td>1</td>\n",
       "      <td>0</td>\n",
       "      <td>0</td>\n",
       "      <td>session_001_001</td>\n",
       "      <td>1</td>\n",
       "      <td>0</td>\n",
       "    </tr>\n",
       "    <tr>\n",
       "      <th>2</th>\n",
       "      <td>0</td>\n",
       "      <td>1</td>\n",
       "      <td>0</td>\n",
       "      <td>0</td>\n",
       "      <td>session_001_002</td>\n",
       "      <td>1</td>\n",
       "      <td>0</td>\n",
       "    </tr>\n",
       "    <tr>\n",
       "      <th>3</th>\n",
       "      <td>0</td>\n",
       "      <td>0</td>\n",
       "      <td>0</td>\n",
       "      <td>0</td>\n",
       "      <td>session_001_003</td>\n",
       "      <td>0</td>\n",
       "      <td>0</td>\n",
       "    </tr>\n",
       "    <tr>\n",
       "      <th>4</th>\n",
       "      <td>0</td>\n",
       "      <td>0</td>\n",
       "      <td>1</td>\n",
       "      <td>0</td>\n",
       "      <td>session_001_004</td>\n",
       "      <td>0</td>\n",
       "      <td>1</td>\n",
       "    </tr>\n",
       "    <tr>\n",
       "      <th>5</th>\n",
       "      <td>0</td>\n",
       "      <td>1</td>\n",
       "      <td>0</td>\n",
       "      <td>0</td>\n",
       "      <td>session_001_005</td>\n",
       "      <td>1</td>\n",
       "      <td>0</td>\n",
       "    </tr>\n",
       "    <tr>\n",
       "      <th>6</th>\n",
       "      <td>1</td>\n",
       "      <td>1</td>\n",
       "      <td>1</td>\n",
       "      <td>0</td>\n",
       "      <td>session_001_006</td>\n",
       "      <td>1</td>\n",
       "      <td>1</td>\n",
       "    </tr>\n",
       "    <tr>\n",
       "      <th>7</th>\n",
       "      <td>1</td>\n",
       "      <td>1</td>\n",
       "      <td>1</td>\n",
       "      <td>1</td>\n",
       "      <td>session_001_007</td>\n",
       "      <td>1</td>\n",
       "      <td>1</td>\n",
       "    </tr>\n",
       "    <tr>\n",
       "      <th>8</th>\n",
       "      <td>0</td>\n",
       "      <td>1</td>\n",
       "      <td>1</td>\n",
       "      <td>1</td>\n",
       "      <td>session_001_008</td>\n",
       "      <td>1</td>\n",
       "      <td>1</td>\n",
       "    </tr>\n",
       "    <tr>\n",
       "      <th>9</th>\n",
       "      <td>1</td>\n",
       "      <td>1</td>\n",
       "      <td>1</td>\n",
       "      <td>1</td>\n",
       "      <td>session_001_009</td>\n",
       "      <td>1</td>\n",
       "      <td>1</td>\n",
       "    </tr>\n",
       "    <tr>\n",
       "      <th>10</th>\n",
       "      <td>0</td>\n",
       "      <td>0</td>\n",
       "      <td>0</td>\n",
       "      <td>1</td>\n",
       "      <td>session_001_010</td>\n",
       "      <td>0</td>\n",
       "      <td>1</td>\n",
       "    </tr>\n",
       "  </tbody>\n",
       "</table>\n",
       "</div>"
      ],
      "text/plain": [
       "    melanin_scales  melanin_pericarp  anthocyanins_scales  \\\n",
       "0                0                 0                    0   \n",
       "1                1                 1                    0   \n",
       "2                0                 1                    0   \n",
       "3                0                 0                    0   \n",
       "4                0                 0                    1   \n",
       "5                0                 1                    0   \n",
       "6                1                 1                    1   \n",
       "7                1                 1                    1   \n",
       "8                0                 1                    1   \n",
       "9                1                 1                    1   \n",
       "10               0                 0                    0   \n",
       "\n",
       "    anthocyanins_pericarp        file_name  melanin  anthocyanins  \n",
       "0                       0  session_001_000        0             0  \n",
       "1                       0  session_001_001        1             0  \n",
       "2                       0  session_001_002        1             0  \n",
       "3                       0  session_001_003        0             0  \n",
       "4                       0  session_001_004        0             1  \n",
       "5                       0  session_001_005        1             0  \n",
       "6                       0  session_001_006        1             1  \n",
       "7                       1  session_001_007        1             1  \n",
       "8                       1  session_001_008        1             1  \n",
       "9                       1  session_001_009        1             1  \n",
       "10                      1  session_001_010        0             1  "
      ]
     },
     "execution_count": 7,
     "metadata": {},
     "output_type": "execute_result"
    }
   ],
   "source": [
    "colored_pigment.head(11)"
   ]
  },
  {
   "cell_type": "markdown",
   "metadata": {},
   "source": [
    "класс, описывающий гиперспектральное изображение с основными используемыми в этой работе методами "
   ]
  },
  {
   "cell_type": "code",
   "execution_count": 8,
   "metadata": {},
   "outputs": [],
   "source": [
    "class Hyper_Img:\n",
    "    \"\"\"\n",
    "    Hyperspectral image with basic methods\n",
    "    \"\"\"\n",
    "    \n",
    "    def __init__(self, path: str, threshold_value: float = 7.5, \n",
    "                 savgol_par: tp.Tuple[int] = (9, 3)) -> None:\n",
    "        self.savgol_par = savgol_par\n",
    "        self._threshold_value = threshold_value\n",
    "        self.path = path\n",
    "        self.img = self._get_tiff()\n",
    "        self.widht = self.img.shape[0]\n",
    "        self.height = self.img.shape[1]\n",
    "        self.pixels =  self._get_pixels()\n",
    "        self.medians = self._get_medians()\n",
    "        self.melanin, self.anthocyanins  = self._get_pigment()\n",
    "        self.pigment: str = 'white'\n",
    "        if self.melanin and self.anthocyanins:\n",
    "            self.pigment = 'melanin and anthocyanins'\n",
    "        elif self.melanin:\n",
    "            self.pigment = 'only melanin'\n",
    "        elif self.anthocyanins:\n",
    "            self.pigment = 'only anthocyanins'\n",
    "    \n",
    "    @staticmethod\n",
    "    def wave_len(x: int, step: int = 4, begin_wave_len: int = 450) -> int:\n",
    "        return int((x - begin_wave_len) // step)\n",
    "    \n",
    "    def _get_tiff(self) -> None:\n",
    "        img = tiff.imread(self.path)\n",
    "        if set(IMG_PATH_WHITE.split('/')).issubset(set(self.path.split('/'))):\n",
    "            bl_img = tiff.imread(CALIBR_BLACK_PATH_WHITE)\n",
    "            wh_img = tiff.imread(CALIBR_WHITE_PATH_WHITE)\n",
    "        else:\n",
    "            bl_img = tiff.imread(CALIBR_BLACK_PATH_COLORED)\n",
    "            wh_img = tiff.imread(CALIBR_WHITE_PATH_COLORED)\n",
    "        new_img = np.where(bl_img > img, 0, img - bl_img)\n",
    "        return new_img /(wh_img - bl_img)\n",
    "    \n",
    "    def _get_pigment(self) -> tp.Tuple[int, int]:\n",
    "        if not set(IMG_PATH.split('/')).issubset(set(self.path.split('.')[0].split('/'))):\n",
    "            raise NameError('Error in path')\n",
    "            \n",
    "        if np.any(np.isnan(self.medians)):\n",
    "            return -3, -3\n",
    "        \n",
    "        if np.allclose(self.medians, np.ones(len(self.medians), dtype=float)) or \\\n",
    "           np.allclose(self.medians, np.zeros(len(self.medians), dtype=float)): \n",
    "            return -1, -1\n",
    "        \n",
    "        if set(IMG_PATH_WHITE.split('/')).issubset(set(self.path.split('/'))):\n",
    "            return 0, 0\n",
    "    \n",
    "        name: str = '_'.join([s for s in self.path.split('/')[-1].split('_')\n",
    "                        if s != 'snapshot' and s != 'cube.tiff' ])\n",
    "            \n",
    "        if name not in np.unique(colored_pigment.file_name):\n",
    "            return -2, -2\n",
    "        \n",
    "        return colored_pigment[colored_pigment.file_name == name].melanin.iloc[0],\\\n",
    "                            colored_pigment[colored_pigment.file_name == name].anthocyanins.iloc[0]\n",
    "        \n",
    "    def _get_pixels(self) -> tp.List[tp.Tuple[int, int]]:\n",
    "        return [(x, y) for x, y in product(range(self.widht), range(self.height)) \n",
    "                if self.threshold_bgr[x,y] != 0]\n",
    "    \n",
    "    def _get_medians(self) -> np.array:\n",
    "        medians: tp.List[float] = list()\n",
    "        for i in range(self.img.shape[2]):\n",
    "            medians.append(np.median(np.array([self.img[p[0]][p[1]][i] for p in self.pixels])))\n",
    "        return savgol_filter(np.array(medians), *self.savgol_par)\n",
    " \n",
    "    @property\n",
    "    def bgr(self) -> np.array:\n",
    "        \n",
    "        #To accurately display colors, you need to choose constants\n",
    "        \n",
    "        im_r = self.img[:,:,Hyper_Img.wave_len(630)]\n",
    "        im_g = self.img[:,:,Hyper_Img.wave_len(510)]\n",
    "        im_b = self.img[:,:,Hyper_Img.wave_len(450)]\n",
    "    \n",
    "        im_r = (im_r / im_r.max())*255\n",
    "        im_g = (im_g / im_g.max())*255\n",
    "        im_b = (im_b / im_b.max())*255\n",
    "    \n",
    "        im_r = np.clip(im_r,0,255).astype(np.uint8)\n",
    "        im_g = np.clip(im_g,0,255).astype(np.uint8)\n",
    "        im_b = np.clip(im_b,0,255).astype(np.uint8)\n",
    "    \n",
    "        im_bgr = np.zeros((self.widht, self.height, 3), dtype = np.uint8)\n",
    "        im_bgr[:,:,0] = im_b\n",
    "        im_bgr[:,:,1] = im_g\n",
    "        im_bgr[:,:,2] = im_r\n",
    "    \n",
    "        return im_bgr\n",
    "    \n",
    "    @property\n",
    "    def threshold_bgr(self) -> np.array:\n",
    "        im_black = cv2.cvtColor(self.bgr, cv2.COLOR_BGR2GRAY)\n",
    "        _, im_thr = cv2.threshold(im_black, self._threshold_value, 255, cv2.THRESH_BINARY)\n",
    "        return im_thr\n",
    "    \n",
    "    def __repr__(self) -> str:\n",
    "        fig, axes = plt.subplots(1, 2)\n",
    "        \n",
    "        axes[0].imshow(self.bgr, cmap = 'gray')\n",
    "        axes[0].set_title('rgb visualization')\n",
    "        \n",
    "        axes[1].imshow(self.threshold_bgr, cmap = 'gray')\n",
    "        axes[1].set_title('segmentation')\n",
    "        \n",
    "        if self.melanin == -1:\n",
    "            return 'pigment: white or black image for calibration'\n",
    "        elif self.melanin < 0:\n",
    "            return 'unknown'\n",
    "        return f'pigment: {self.pigment}'\n",
    "     "
   ]
  },
  {
   "cell_type": "markdown",
   "metadata": {},
   "source": [
    "Примеры изображений (визуализация не точно передает цвета)"
   ]
  },
  {
   "cell_type": "code",
   "execution_count": 9,
   "metadata": {},
   "outputs": [
    {
     "data": {
      "text/plain": [
       "pigment: white or black image for calibration"
      ]
     },
     "execution_count": 9,
     "metadata": {},
     "output_type": "execute_result"
    },
    {
     "data": {
      "image/png": "[encoded data removed]",
      "text/plain": [
       "<Figure size 432x288 with 2 Axes>"
      ]
     },
     "metadata": {
      "needs_background": "light"
     },
     "output_type": "display_data"
    }
   ],
   "source": [
    "Hyper_Img(CALIBR_WHITE_PATH_COLORED)"
   ]
  },
  {
   "cell_type": "code",
   "execution_count": 10,
   "metadata": {},
   "outputs": [
    {
     "data": {
      "text/plain": [
       "pigment: only melanin"
      ]
     },
     "execution_count": 10,
     "metadata": {},
     "output_type": "execute_result"
    },
    {
     "data": {
      "image/png": "[encoded data removed]",
      "text/plain": [
       "<Figure size 432x288 with 2 Axes>"
      ]
     },
     "metadata": {
      "needs_background": "light"
     },
     "output_type": "display_data"
    }
   ],
   "source": [
    "Hyper_Img(IMG_PATH_COLORED + 'session_001_001_snapshot_cube.tiff')"
   ]
  },
  {
   "cell_type": "code",
   "execution_count": 11,
   "metadata": {},
   "outputs": [
    {
     "data": {
      "text/plain": [
       "pigment: only anthocyanins"
      ]
     },
     "execution_count": 11,
     "metadata": {},
     "output_type": "execute_result"
    },
    {
     "data": {
      "image/png": "[encoded data removed]",
      "text/plain": [
       "<Figure size 432x288 with 2 Axes>"
      ]
     },
     "metadata": {
      "needs_background": "light"
     },
     "output_type": "display_data"
    }
   ],
   "source": [
    "Hyper_Img(IMG_PATH_COLORED + 'session_001_004_snapshot_cube.tiff')"
   ]
  },
  {
   "cell_type": "code",
   "execution_count": 12,
   "metadata": {},
   "outputs": [
    {
     "data": {
      "text/plain": [
       "pigment: white"
      ]
     },
     "execution_count": 12,
     "metadata": {},
     "output_type": "execute_result"
    },
    {
     "data": {
      "image/png": "[encoded data removed]",
      "text/plain": [
       "<Figure size 432x288 with 2 Axes>"
      ]
     },
     "metadata": {
      "needs_background": "light"
     },
     "output_type": "display_data"
    }
   ],
   "source": [
    "Hyper_Img(IMG_PATH_COLORED + 'session_001_000_snapshot_cube.tiff')"
   ]
  },
  {
   "cell_type": "code",
   "execution_count": 13,
   "metadata": {},
   "outputs": [
    {
     "data": {
      "text/plain": [
       "pigment: melanin and anthocyanins"
      ]
     },
     "execution_count": 13,
     "metadata": {},
     "output_type": "execute_result"
    },
    {
     "data": {
      "image/png": "[encoded data removed]",
      "text/plain": [
       "<Figure size 432x288 with 2 Axes>"
      ]
     },
     "metadata": {
      "needs_background": "light"
     },
     "output_type": "display_data"
    }
   ],
   "source": [
    "Hyper_Img(IMG_PATH_COLORED + 'session_001_007_snapshot_cube.tiff')"
   ]
  },
  {
   "cell_type": "code",
   "execution_count": 14,
   "metadata": {},
   "outputs": [
    {
     "data": {
      "text/plain": [
       "pigment: white"
      ]
     },
     "execution_count": 14,
     "metadata": {},
     "output_type": "execute_result"
    },
    {
     "data": {
      "image/png": "[encoded data removed]",
      "text/plain": [
       "<Figure size 432x288 with 2 Axes>"
      ]
     },
     "metadata": {
      "needs_background": "light"
     },
     "output_type": "display_data"
    }
   ],
   "source": [
    "Hyper_Img(IMG_PATH_WHITE + 'session_001_013_snapshot_cube.tiff')"
   ]
  },
  {
   "cell_type": "code",
   "execution_count": 15,
   "metadata": {},
   "outputs": [
    {
     "data": {
      "text/plain": [
       "pigment: white"
      ]
     },
     "execution_count": 15,
     "metadata": {},
     "output_type": "execute_result"
    },
    {
     "data": {
      "image/png": "[encoded data removed]",
      "text/plain": [
       "<Figure size 432x288 with 2 Axes>"
      ]
     },
     "metadata": {
      "needs_background": "light"
     },
     "output_type": "display_data"
    }
   ],
   "source": [
    "Hyper_Img(IMG_PATH_WHITE + 'session_001_037_snapshot_cube.tiff')"
   ]
  },
  {
   "cell_type": "markdown",
   "metadata": {},
   "source": [
    "Функция, возвращающая необходимые имена в директории"
   ]
  },
  {
   "cell_type": "code",
   "execution_count": 16,
   "metadata": {},
   "outputs": [],
   "source": [
    "def all_tiff_cube_img(path: str) -> tp.List[str]:\n",
    "    img_names: tp.List[str] = list()\n",
    "    for dirname, _, filenames in os.walk(path):\n",
    "        for filename in filenames: \n",
    "            name = os.path.join(filename)\n",
    "            if name.split('.')[-1] != 'tiff':\n",
    "                continue\n",
    "            if name.split('.')[0].split('_')[-1] != 'cube':\n",
    "                continue\n",
    "            img_names.append(dirname + '/' + name)\n",
    "            \n",
    "    return img_names "
   ]
  },
  {
   "cell_type": "code",
   "execution_count": 17,
   "metadata": {},
   "outputs": [],
   "source": [
    "warnings.simplefilter('ignore')"
   ]
  },
  {
   "cell_type": "markdown",
   "metadata": {},
   "source": [
    "считываем все необходимые изображения "
   ]
  },
  {
   "cell_type": "code",
   "execution_count": 18,
   "metadata": {},
   "outputs": [],
   "source": [
    "#hyper_imgs - list with all hyperspectral images\n",
    "hyper_imgs: tp.List[Hyper_Img] = [Hyper_Img(name) for name in all_tiff_cube_img(IMG_PATH)\n",
    "                                   if Hyper_Img(name).melanin >= 0]        "
   ]
  },
  {
   "cell_type": "markdown",
   "metadata": {},
   "source": [
    "$\\textbf{Графики медиан для каждого канала}$"
   ]
  },
  {
   "cell_type": "code",
   "execution_count": 19,
   "metadata": {},
   "outputs": [],
   "source": [
    "def get_all_medians(hyper_imgs: tp.List[Hyper_Img]) -> pd.DataFrame:\n",
    "    \"\"\"\n",
    "    create DataFrame for graphics\n",
    "    \"\"\"\n",
    "    \n",
    "    x_axis: tp.List[int] = list(np.arange(0,138)*4 + 450)\n",
    "    points: tp.List[tp.Tuple[float, float, int, str]] = list()\n",
    "    \n",
    "    for sample_number, sample in enumerate(hyper_imgs):\n",
    "        \n",
    "        if sample.melanin == -1:\n",
    "            continue\n",
    "        \n",
    "        for p in zip(x_axis, sample.medians):\n",
    "            points.append([p[0], p[1], sample_number, sample.pigment])\n",
    "        \n",
    "\n",
    "    return pd.DataFrame(points, columns = ['Wavelength', 'Median', 'Sample', 'Pigment'])      "
   ]
  },
  {
   "cell_type": "code",
   "execution_count": 20,
   "metadata": {},
   "outputs": [
    {
     "data": {
      "text/html": [
       "<div>\n",
       "<style scoped>\n",
       "    .dataframe tbody tr th:only-of-type {\n",
       "        vertical-align: middle;\n",
       "    }\n",
       "\n",
       "    .dataframe tbody tr th {\n",
       "        vertical-align: top;\n",
       "    }\n",
       "\n",
       "    .dataframe thead th {\n",
       "        text-align: right;\n",
       "    }\n",
       "</style>\n",
       "<table border=\"1\" class=\"dataframe\">\n",
       "  <thead>\n",
       "    <tr style=\"text-align: right;\">\n",
       "      <th></th>\n",
       "      <th>Wavelength</th>\n",
       "      <th>Median</th>\n",
       "      <th>Sample</th>\n",
       "      <th>Pigment</th>\n",
       "    </tr>\n",
       "  </thead>\n",
       "  <tbody>\n",
       "    <tr>\n",
       "      <th>3547</th>\n",
       "      <td>838</td>\n",
       "      <td>0.387735</td>\n",
       "      <td>25</td>\n",
       "      <td>white</td>\n",
       "    </tr>\n",
       "    <tr>\n",
       "      <th>8225</th>\n",
       "      <td>782</td>\n",
       "      <td>0.075436</td>\n",
       "      <td>59</td>\n",
       "      <td>only anthocyanins</td>\n",
       "    </tr>\n",
       "    <tr>\n",
       "      <th>3531</th>\n",
       "      <td>774</td>\n",
       "      <td>0.467102</td>\n",
       "      <td>25</td>\n",
       "      <td>white</td>\n",
       "    </tr>\n",
       "    <tr>\n",
       "      <th>3815</th>\n",
       "      <td>806</td>\n",
       "      <td>0.419608</td>\n",
       "      <td>27</td>\n",
       "      <td>white</td>\n",
       "    </tr>\n",
       "    <tr>\n",
       "      <th>5371</th>\n",
       "      <td>958</td>\n",
       "      <td>0.052878</td>\n",
       "      <td>38</td>\n",
       "      <td>melanin and anthocyanins</td>\n",
       "    </tr>\n",
       "    <tr>\n",
       "      <th>9144</th>\n",
       "      <td>594</td>\n",
       "      <td>0.196750</td>\n",
       "      <td>66</td>\n",
       "      <td>only melanin</td>\n",
       "    </tr>\n",
       "    <tr>\n",
       "      <th>107</th>\n",
       "      <td>878</td>\n",
       "      <td>0.312238</td>\n",
       "      <td>0</td>\n",
       "      <td>white</td>\n",
       "    </tr>\n",
       "  </tbody>\n",
       "</table>\n",
       "</div>"
      ],
      "text/plain": [
       "      Wavelength    Median  Sample                   Pigment\n",
       "3547         838  0.387735      25                     white\n",
       "8225         782  0.075436      59         only anthocyanins\n",
       "3531         774  0.467102      25                     white\n",
       "3815         806  0.419608      27                     white\n",
       "5371         958  0.052878      38  melanin and anthocyanins\n",
       "9144         594  0.196750      66              only melanin\n",
       "107          878  0.312238       0                     white"
      ]
     },
     "execution_count": 20,
     "metadata": {},
     "output_type": "execute_result"
    }
   ],
   "source": [
    "df_all_med = get_all_medians(hyper_imgs)\n",
    "df_all_med.sample(7)"
   ]
  },
  {
   "cell_type": "code",
   "execution_count": 21,
   "metadata": {},
   "outputs": [
    {
     "data": {
      "text/plain": [
       "<AxesSubplot:xlabel='Wavelength', ylabel='Median'>"
      ]
     },
     "execution_count": 21,
     "metadata": {},
     "output_type": "execute_result"
    },
    {
     "data": {
      "image/png": "[encoded data removed]",
      "text/plain": [
       "<Figure size 1080x720 with 1 Axes>"
      ]
     },
     "metadata": {
      "needs_background": "light"
     },
     "output_type": "display_data"
    }
   ],
   "source": [
    "plt.figure(figsize=(15,10))\n",
    "sns.lineplot(data = df_all_med, x = 'Wavelength', y = 'Median', hue = 'Pigment')"
   ]
  },
  {
   "cell_type": "markdown",
   "metadata": {},
   "source": [
    "$\\textbf{PCA}$"
   ]
  },
  {
   "cell_type": "code",
   "execution_count": 22,
   "metadata": {},
   "outputs": [],
   "source": [
    "#Пайплайн\n",
    "feature_pipe = Pipeline([('scaler', StandardScaler()), ('pca', PCA(n_components=5))])"
   ]
  },
  {
   "cell_type": "code",
   "execution_count": 23,
   "metadata": {},
   "outputs": [],
   "source": [
    "def get_med_df(hyper_imgs: tp.List[Hyper_Img]) -> pd.DataFrame:\n",
    "    \"\"\"\n",
    "    create DataFrame for PCA\n",
    "    \"\"\"\n",
    "        \n",
    "    return pd.DataFrame([list(sample.medians) + [sample.pigment] for sample in hyper_imgs], \n",
    "                         columns = list(np.arange(0,138)*4 + 450) + ['Pigment'])    "
   ]
  },
  {
   "cell_type": "code",
   "execution_count": 24,
   "metadata": {},
   "outputs": [
    {
     "data": {
      "text/html": [
       "<div>\n",
       "<style scoped>\n",
       "    .dataframe tbody tr th:only-of-type {\n",
       "        vertical-align: middle;\n",
       "    }\n",
       "\n",
       "    .dataframe tbody tr th {\n",
       "        vertical-align: top;\n",
       "    }\n",
       "\n",
       "    .dataframe thead th {\n",
       "        text-align: right;\n",
       "    }\n",
       "</style>\n",
       "<table border=\"1\" class=\"dataframe\">\n",
       "  <thead>\n",
       "    <tr style=\"text-align: right;\">\n",
       "      <th></th>\n",
       "      <th>450</th>\n",
       "      <th>454</th>\n",
       "      <th>458</th>\n",
       "      <th>462</th>\n",
       "      <th>466</th>\n",
       "      <th>470</th>\n",
       "      <th>474</th>\n",
       "      <th>478</th>\n",
       "      <th>482</th>\n",
       "      <th>486</th>\n",
       "      <th>...</th>\n",
       "      <th>966</th>\n",
       "      <th>970</th>\n",
       "      <th>974</th>\n",
       "      <th>978</th>\n",
       "      <th>982</th>\n",
       "      <th>986</th>\n",
       "      <th>990</th>\n",
       "      <th>994</th>\n",
       "      <th>998</th>\n",
       "      <th>Pigment</th>\n",
       "    </tr>\n",
       "  </thead>\n",
       "  <tbody>\n",
       "    <tr>\n",
       "      <th>25</th>\n",
       "      <td>0.138604</td>\n",
       "      <td>0.166292</td>\n",
       "      <td>0.188355</td>\n",
       "      <td>0.205623</td>\n",
       "      <td>0.218926</td>\n",
       "      <td>0.229099</td>\n",
       "      <td>0.236433</td>\n",
       "      <td>0.243345</td>\n",
       "      <td>0.250288</td>\n",
       "      <td>0.257820</td>\n",
       "      <td>...</td>\n",
       "      <td>0.338450</td>\n",
       "      <td>0.338484</td>\n",
       "      <td>0.338606</td>\n",
       "      <td>0.338808</td>\n",
       "      <td>0.338908</td>\n",
       "      <td>0.339161</td>\n",
       "      <td>0.339374</td>\n",
       "      <td>0.339484</td>\n",
       "      <td>0.339424</td>\n",
       "      <td>white</td>\n",
       "    </tr>\n",
       "    <tr>\n",
       "      <th>45</th>\n",
       "      <td>0.038525</td>\n",
       "      <td>0.044941</td>\n",
       "      <td>0.049708</td>\n",
       "      <td>0.053042</td>\n",
       "      <td>0.055159</td>\n",
       "      <td>0.056314</td>\n",
       "      <td>0.056404</td>\n",
       "      <td>0.056291</td>\n",
       "      <td>0.056338</td>\n",
       "      <td>0.056569</td>\n",
       "      <td>...</td>\n",
       "      <td>0.063975</td>\n",
       "      <td>0.064171</td>\n",
       "      <td>0.064118</td>\n",
       "      <td>0.064106</td>\n",
       "      <td>0.063802</td>\n",
       "      <td>0.063497</td>\n",
       "      <td>0.063144</td>\n",
       "      <td>0.062766</td>\n",
       "      <td>0.062389</td>\n",
       "      <td>only melanin</td>\n",
       "    </tr>\n",
       "    <tr>\n",
       "      <th>24</th>\n",
       "      <td>0.125123</td>\n",
       "      <td>0.150292</td>\n",
       "      <td>0.170223</td>\n",
       "      <td>0.185703</td>\n",
       "      <td>0.197520</td>\n",
       "      <td>0.206731</td>\n",
       "      <td>0.212956</td>\n",
       "      <td>0.218754</td>\n",
       "      <td>0.224243</td>\n",
       "      <td>0.230402</td>\n",
       "      <td>...</td>\n",
       "      <td>0.326247</td>\n",
       "      <td>0.326372</td>\n",
       "      <td>0.327047</td>\n",
       "      <td>0.326163</td>\n",
       "      <td>0.326140</td>\n",
       "      <td>0.326122</td>\n",
       "      <td>0.325860</td>\n",
       "      <td>0.325161</td>\n",
       "      <td>0.323827</td>\n",
       "      <td>white</td>\n",
       "    </tr>\n",
       "    <tr>\n",
       "      <th>50</th>\n",
       "      <td>0.032135</td>\n",
       "      <td>0.036809</td>\n",
       "      <td>0.040437</td>\n",
       "      <td>0.043125</td>\n",
       "      <td>0.044984</td>\n",
       "      <td>0.046165</td>\n",
       "      <td>0.046395</td>\n",
       "      <td>0.046527</td>\n",
       "      <td>0.046709</td>\n",
       "      <td>0.046977</td>\n",
       "      <td>...</td>\n",
       "      <td>0.079362</td>\n",
       "      <td>0.079585</td>\n",
       "      <td>0.079727</td>\n",
       "      <td>0.079859</td>\n",
       "      <td>0.080111</td>\n",
       "      <td>0.080445</td>\n",
       "      <td>0.080652</td>\n",
       "      <td>0.080612</td>\n",
       "      <td>0.080208</td>\n",
       "      <td>melanin and anthocyanins</td>\n",
       "    </tr>\n",
       "    <tr>\n",
       "      <th>70</th>\n",
       "      <td>0.042948</td>\n",
       "      <td>0.050948</td>\n",
       "      <td>0.056670</td>\n",
       "      <td>0.060468</td>\n",
       "      <td>0.062697</td>\n",
       "      <td>0.063799</td>\n",
       "      <td>0.063654</td>\n",
       "      <td>0.063552</td>\n",
       "      <td>0.063590</td>\n",
       "      <td>0.063821</td>\n",
       "      <td>...</td>\n",
       "      <td>0.067802</td>\n",
       "      <td>0.067922</td>\n",
       "      <td>0.068065</td>\n",
       "      <td>0.068179</td>\n",
       "      <td>0.068205</td>\n",
       "      <td>0.068125</td>\n",
       "      <td>0.067984</td>\n",
       "      <td>0.067797</td>\n",
       "      <td>0.067577</td>\n",
       "      <td>melanin and anthocyanins</td>\n",
       "    </tr>\n",
       "    <tr>\n",
       "      <th>47</th>\n",
       "      <td>0.026923</td>\n",
       "      <td>0.030527</td>\n",
       "      <td>0.033772</td>\n",
       "      <td>0.036641</td>\n",
       "      <td>0.039118</td>\n",
       "      <td>0.041196</td>\n",
       "      <td>0.042596</td>\n",
       "      <td>0.043934</td>\n",
       "      <td>0.045236</td>\n",
       "      <td>0.046452</td>\n",
       "      <td>...</td>\n",
       "      <td>0.095604</td>\n",
       "      <td>0.095793</td>\n",
       "      <td>0.096017</td>\n",
       "      <td>0.096245</td>\n",
       "      <td>0.096186</td>\n",
       "      <td>0.096213</td>\n",
       "      <td>0.096242</td>\n",
       "      <td>0.096290</td>\n",
       "      <td>0.096375</td>\n",
       "      <td>only melanin</td>\n",
       "    </tr>\n",
       "    <tr>\n",
       "      <th>30</th>\n",
       "      <td>0.133436</td>\n",
       "      <td>0.158932</td>\n",
       "      <td>0.179744</td>\n",
       "      <td>0.196476</td>\n",
       "      <td>0.209731</td>\n",
       "      <td>0.220029</td>\n",
       "      <td>0.227419</td>\n",
       "      <td>0.234624</td>\n",
       "      <td>0.241427</td>\n",
       "      <td>0.248561</td>\n",
       "      <td>...</td>\n",
       "      <td>0.321769</td>\n",
       "      <td>0.321547</td>\n",
       "      <td>0.321517</td>\n",
       "      <td>0.321795</td>\n",
       "      <td>0.321966</td>\n",
       "      <td>0.322064</td>\n",
       "      <td>0.322053</td>\n",
       "      <td>0.321884</td>\n",
       "      <td>0.321508</td>\n",
       "      <td>white</td>\n",
       "    </tr>\n",
       "  </tbody>\n",
       "</table>\n",
       "<p>7 rows × 139 columns</p>\n",
       "</div>"
      ],
      "text/plain": [
       "         450       454       458       462       466       470       474  \\\n",
       "25  0.138604  0.166292  0.188355  0.205623  0.218926  0.229099  0.236433   \n",
       "45  0.038525  0.044941  0.049708  0.053042  0.055159  0.056314  0.056404   \n",
       "24  0.125123  0.150292  0.170223  0.185703  0.197520  0.206731  0.212956   \n",
       "50  0.032135  0.036809  0.040437  0.043125  0.044984  0.046165  0.046395   \n",
       "70  0.042948  0.050948  0.056670  0.060468  0.062697  0.063799  0.063654   \n",
       "47  0.026923  0.030527  0.033772  0.036641  0.039118  0.041196  0.042596   \n",
       "30  0.133436  0.158932  0.179744  0.196476  0.209731  0.220029  0.227419   \n",
       "\n",
       "         478       482       486  ...       966       970       974       978  \\\n",
       "25  0.243345  0.250288  0.257820  ...  0.338450  0.338484  0.338606  0.338808   \n",
       "45  0.056291  0.056338  0.056569  ...  0.063975  0.064171  0.064118  0.064106   \n",
       "24  0.218754  0.224243  0.230402  ...  0.326247  0.326372  0.327047  0.326163   \n",
       "50  0.046527  0.046709  0.046977  ...  0.079362  0.079585  0.079727  0.079859   \n",
       "70  0.063552  0.063590  0.063821  ...  0.067802  0.067922  0.068065  0.068179   \n",
       "47  0.043934  0.045236  0.046452  ...  0.095604  0.095793  0.096017  0.096245   \n",
       "30  0.234624  0.241427  0.248561  ...  0.321769  0.321547  0.321517  0.321795   \n",
       "\n",
       "         982       986       990       994       998                   Pigment  \n",
       "25  0.338908  0.339161  0.339374  0.339484  0.339424                     white  \n",
       "45  0.063802  0.063497  0.063144  0.062766  0.062389              only melanin  \n",
       "24  0.326140  0.326122  0.325860  0.325161  0.323827                     white  \n",
       "50  0.080111  0.080445  0.080652  0.080612  0.080208  melanin and anthocyanins  \n",
       "70  0.068205  0.068125  0.067984  0.067797  0.067577  melanin and anthocyanins  \n",
       "47  0.096186  0.096213  0.096242  0.096290  0.096375              only melanin  \n",
       "30  0.321966  0.322064  0.322053  0.321884  0.321508                     white  \n",
       "\n",
       "[7 rows x 139 columns]"
      ]
     },
     "execution_count": 24,
     "metadata": {},
     "output_type": "execute_result"
    }
   ],
   "source": [
    "df = get_med_df(hyper_imgs)\n",
    "df.sample(7)"
   ]
  },
  {
   "cell_type": "code",
   "execution_count": 25,
   "metadata": {},
   "outputs": [
    {
     "data": {
      "text/html": [
       "<div>\n",
       "<style scoped>\n",
       "    .dataframe tbody tr th:only-of-type {\n",
       "        vertical-align: middle;\n",
       "    }\n",
       "\n",
       "    .dataframe tbody tr th {\n",
       "        vertical-align: top;\n",
       "    }\n",
       "\n",
       "    .dataframe thead th {\n",
       "        text-align: right;\n",
       "    }\n",
       "</style>\n",
       "<table border=\"1\" class=\"dataframe\">\n",
       "  <thead>\n",
       "    <tr style=\"text-align: right;\">\n",
       "      <th></th>\n",
       "      <th>450</th>\n",
       "      <th>454</th>\n",
       "      <th>458</th>\n",
       "      <th>462</th>\n",
       "      <th>466</th>\n",
       "      <th>470</th>\n",
       "      <th>474</th>\n",
       "      <th>478</th>\n",
       "      <th>482</th>\n",
       "      <th>486</th>\n",
       "      <th>...</th>\n",
       "      <th>962</th>\n",
       "      <th>966</th>\n",
       "      <th>970</th>\n",
       "      <th>974</th>\n",
       "      <th>978</th>\n",
       "      <th>982</th>\n",
       "      <th>986</th>\n",
       "      <th>990</th>\n",
       "      <th>994</th>\n",
       "      <th>998</th>\n",
       "    </tr>\n",
       "  </thead>\n",
       "  <tbody>\n",
       "    <tr>\n",
       "      <th>0</th>\n",
       "      <td>0.090347</td>\n",
       "      <td>0.108321</td>\n",
       "      <td>0.123391</td>\n",
       "      <td>0.135845</td>\n",
       "      <td>0.145975</td>\n",
       "      <td>0.154125</td>\n",
       "      <td>0.159635</td>\n",
       "      <td>0.164918</td>\n",
       "      <td>0.170134</td>\n",
       "      <td>0.175579</td>\n",
       "      <td>...</td>\n",
       "      <td>0.273946</td>\n",
       "      <td>0.272849</td>\n",
       "      <td>0.272059</td>\n",
       "      <td>0.271392</td>\n",
       "      <td>0.270901</td>\n",
       "      <td>0.270276</td>\n",
       "      <td>0.269762</td>\n",
       "      <td>0.269415</td>\n",
       "      <td>0.269293</td>\n",
       "      <td>0.269451</td>\n",
       "    </tr>\n",
       "    <tr>\n",
       "      <th>1</th>\n",
       "      <td>0.131461</td>\n",
       "      <td>0.154961</td>\n",
       "      <td>0.173581</td>\n",
       "      <td>0.188071</td>\n",
       "      <td>0.199181</td>\n",
       "      <td>0.207340</td>\n",
       "      <td>0.213903</td>\n",
       "      <td>0.220067</td>\n",
       "      <td>0.226702</td>\n",
       "      <td>0.233786</td>\n",
       "      <td>...</td>\n",
       "      <td>0.310982</td>\n",
       "      <td>0.311373</td>\n",
       "      <td>0.311499</td>\n",
       "      <td>0.311529</td>\n",
       "      <td>0.311531</td>\n",
       "      <td>0.311579</td>\n",
       "      <td>0.311293</td>\n",
       "      <td>0.311057</td>\n",
       "      <td>0.311002</td>\n",
       "      <td>0.311259</td>\n",
       "    </tr>\n",
       "    <tr>\n",
       "      <th>2</th>\n",
       "      <td>0.131958</td>\n",
       "      <td>0.151448</td>\n",
       "      <td>0.166479</td>\n",
       "      <td>0.177727</td>\n",
       "      <td>0.185868</td>\n",
       "      <td>0.191247</td>\n",
       "      <td>0.194933</td>\n",
       "      <td>0.198650</td>\n",
       "      <td>0.202753</td>\n",
       "      <td>0.207933</td>\n",
       "      <td>...</td>\n",
       "      <td>0.321169</td>\n",
       "      <td>0.321023</td>\n",
       "      <td>0.321085</td>\n",
       "      <td>0.321705</td>\n",
       "      <td>0.322087</td>\n",
       "      <td>0.322119</td>\n",
       "      <td>0.321809</td>\n",
       "      <td>0.321495</td>\n",
       "      <td>0.321334</td>\n",
       "      <td>0.321481</td>\n",
       "    </tr>\n",
       "    <tr>\n",
       "      <th>3</th>\n",
       "      <td>0.113380</td>\n",
       "      <td>0.134184</td>\n",
       "      <td>0.150814</td>\n",
       "      <td>0.163856</td>\n",
       "      <td>0.173894</td>\n",
       "      <td>0.181629</td>\n",
       "      <td>0.186704</td>\n",
       "      <td>0.191711</td>\n",
       "      <td>0.196552</td>\n",
       "      <td>0.201812</td>\n",
       "      <td>...</td>\n",
       "      <td>0.284521</td>\n",
       "      <td>0.284468</td>\n",
       "      <td>0.284835</td>\n",
       "      <td>0.285448</td>\n",
       "      <td>0.285801</td>\n",
       "      <td>0.285875</td>\n",
       "      <td>0.285714</td>\n",
       "      <td>0.285572</td>\n",
       "      <td>0.285572</td>\n",
       "      <td>0.285839</td>\n",
       "    </tr>\n",
       "    <tr>\n",
       "      <th>4</th>\n",
       "      <td>0.117353</td>\n",
       "      <td>0.138548</td>\n",
       "      <td>0.155029</td>\n",
       "      <td>0.167433</td>\n",
       "      <td>0.176401</td>\n",
       "      <td>0.182259</td>\n",
       "      <td>0.186108</td>\n",
       "      <td>0.189203</td>\n",
       "      <td>0.192364</td>\n",
       "      <td>0.196556</td>\n",
       "      <td>...</td>\n",
       "      <td>0.272634</td>\n",
       "      <td>0.273017</td>\n",
       "      <td>0.273216</td>\n",
       "      <td>0.273381</td>\n",
       "      <td>0.273634</td>\n",
       "      <td>0.274150</td>\n",
       "      <td>0.274480</td>\n",
       "      <td>0.274514</td>\n",
       "      <td>0.274098</td>\n",
       "      <td>0.273082</td>\n",
       "    </tr>\n",
       "  </tbody>\n",
       "</table>\n",
       "<p>5 rows × 138 columns</p>\n",
       "</div>"
      ],
      "text/plain": [
       "        450       454       458       462       466       470       474  \\\n",
       "0  0.090347  0.108321  0.123391  0.135845  0.145975  0.154125  0.159635   \n",
       "1  0.131461  0.154961  0.173581  0.188071  0.199181  0.207340  0.213903   \n",
       "2  0.131958  0.151448  0.166479  0.177727  0.185868  0.191247  0.194933   \n",
       "3  0.113380  0.134184  0.150814  0.163856  0.173894  0.181629  0.186704   \n",
       "4  0.117353  0.138548  0.155029  0.167433  0.176401  0.182259  0.186108   \n",
       "\n",
       "        478       482       486  ...       962       966       970       974  \\\n",
       "0  0.164918  0.170134  0.175579  ...  0.273946  0.272849  0.272059  0.271392   \n",
       "1  0.220067  0.226702  0.233786  ...  0.310982  0.311373  0.311499  0.311529   \n",
       "2  0.198650  0.202753  0.207933  ...  0.321169  0.321023  0.321085  0.321705   \n",
       "3  0.191711  0.196552  0.201812  ...  0.284521  0.284468  0.284835  0.285448   \n",
       "4  0.189203  0.192364  0.196556  ...  0.272634  0.273017  0.273216  0.273381   \n",
       "\n",
       "        978       982       986       990       994       998  \n",
       "0  0.270901  0.270276  0.269762  0.269415  0.269293  0.269451  \n",
       "1  0.311531  0.311579  0.311293  0.311057  0.311002  0.311259  \n",
       "2  0.322087  0.322119  0.321809  0.321495  0.321334  0.321481  \n",
       "3  0.285801  0.285875  0.285714  0.285572  0.285572  0.285839  \n",
       "4  0.273634  0.274150  0.274480  0.274514  0.274098  0.273082  \n",
       "\n",
       "[5 rows x 138 columns]"
      ]
     },
     "execution_count": 25,
     "metadata": {},
     "output_type": "execute_result"
    }
   ],
   "source": [
    "X = df.drop(['Pigment'], axis = 1)\n",
    "X.head()"
   ]
  },
  {
   "cell_type": "code",
   "execution_count": 26,
   "metadata": {},
   "outputs": [
    {
     "data": {
      "text/html": [
       "<div>\n",
       "<style scoped>\n",
       "    .dataframe tbody tr th:only-of-type {\n",
       "        vertical-align: middle;\n",
       "    }\n",
       "\n",
       "    .dataframe tbody tr th {\n",
       "        vertical-align: top;\n",
       "    }\n",
       "\n",
       "    .dataframe thead th {\n",
       "        text-align: right;\n",
       "    }\n",
       "</style>\n",
       "<table border=\"1\" class=\"dataframe\">\n",
       "  <thead>\n",
       "    <tr style=\"text-align: right;\">\n",
       "      <th></th>\n",
       "      <th>Pigment</th>\n",
       "    </tr>\n",
       "  </thead>\n",
       "  <tbody>\n",
       "    <tr>\n",
       "      <th>0</th>\n",
       "      <td>white</td>\n",
       "    </tr>\n",
       "    <tr>\n",
       "      <th>1</th>\n",
       "      <td>white</td>\n",
       "    </tr>\n",
       "    <tr>\n",
       "      <th>2</th>\n",
       "      <td>white</td>\n",
       "    </tr>\n",
       "    <tr>\n",
       "      <th>3</th>\n",
       "      <td>white</td>\n",
       "    </tr>\n",
       "    <tr>\n",
       "      <th>4</th>\n",
       "      <td>white</td>\n",
       "    </tr>\n",
       "  </tbody>\n",
       "</table>\n",
       "</div>"
      ],
      "text/plain": [
       "  Pigment\n",
       "0   white\n",
       "1   white\n",
       "2   white\n",
       "3   white\n",
       "4   white"
      ]
     },
     "execution_count": 26,
     "metadata": {},
     "output_type": "execute_result"
    }
   ],
   "source": [
    "y = df[['Pigment']]\n",
    "y.head()"
   ]
  },
  {
   "cell_type": "markdown",
   "metadata": {},
   "source": [
    "обучение и процент дисперсии для каждой компаненты"
   ]
  },
  {
   "cell_type": "code",
   "execution_count": 27,
   "metadata": {},
   "outputs": [
    {
     "data": {
      "text/plain": [
       "array([0.96810148, 0.01908893, 0.00838639, 0.0020263 , 0.00110748])"
      ]
     },
     "execution_count": 27,
     "metadata": {},
     "output_type": "execute_result"
    }
   ],
   "source": [
    "X = feature_pipe.fit_transform(X)\n",
    "feature_pipe['pca'].explained_variance_ratio_"
   ]
  },
  {
   "cell_type": "markdown",
   "metadata": {},
   "source": [
    "визуализация"
   ]
  },
  {
   "cell_type": "code",
   "execution_count": 28,
   "metadata": {},
   "outputs": [
    {
     "data": {
      "text/html": [
       "<div>\n",
       "<style scoped>\n",
       "    .dataframe tbody tr th:only-of-type {\n",
       "        vertical-align: middle;\n",
       "    }\n",
       "\n",
       "    .dataframe tbody tr th {\n",
       "        vertical-align: top;\n",
       "    }\n",
       "\n",
       "    .dataframe thead th {\n",
       "        text-align: right;\n",
       "    }\n",
       "</style>\n",
       "<table border=\"1\" class=\"dataframe\">\n",
       "  <thead>\n",
       "    <tr style=\"text-align: right;\">\n",
       "      <th></th>\n",
       "      <th>1</th>\n",
       "      <th>2</th>\n",
       "      <th>Pigment</th>\n",
       "    </tr>\n",
       "  </thead>\n",
       "  <tbody>\n",
       "    <tr>\n",
       "      <th>49</th>\n",
       "      <td>14.813766</td>\n",
       "      <td>-0.430981</td>\n",
       "      <td>only melanin</td>\n",
       "    </tr>\n",
       "    <tr>\n",
       "      <th>77</th>\n",
       "      <td>16.427761</td>\n",
       "      <td>-1.304710</td>\n",
       "      <td>melanin and anthocyanins</td>\n",
       "    </tr>\n",
       "    <tr>\n",
       "      <th>23</th>\n",
       "      <td>-12.113633</td>\n",
       "      <td>-1.410914</td>\n",
       "      <td>white</td>\n",
       "    </tr>\n",
       "    <tr>\n",
       "      <th>12</th>\n",
       "      <td>-9.846072</td>\n",
       "      <td>0.039408</td>\n",
       "      <td>white</td>\n",
       "    </tr>\n",
       "    <tr>\n",
       "      <th>22</th>\n",
       "      <td>-13.923072</td>\n",
       "      <td>-0.000369</td>\n",
       "      <td>white</td>\n",
       "    </tr>\n",
       "    <tr>\n",
       "      <th>27</th>\n",
       "      <td>-13.129019</td>\n",
       "      <td>-1.486404</td>\n",
       "      <td>white</td>\n",
       "    </tr>\n",
       "    <tr>\n",
       "      <th>7</th>\n",
       "      <td>-8.875321</td>\n",
       "      <td>0.247163</td>\n",
       "      <td>white</td>\n",
       "    </tr>\n",
       "  </tbody>\n",
       "</table>\n",
       "</div>"
      ],
      "text/plain": [
       "            1         2                   Pigment\n",
       "49  14.813766 -0.430981              only melanin\n",
       "77  16.427761 -1.304710  melanin and anthocyanins\n",
       "23 -12.113633 -1.410914                     white\n",
       "12  -9.846072  0.039408                     white\n",
       "22 -13.923072 -0.000369                     white\n",
       "27 -13.129019 -1.486404                     white\n",
       "7   -8.875321  0.247163                     white"
      ]
     },
     "execution_count": 28,
     "metadata": {},
     "output_type": "execute_result"
    }
   ],
   "source": [
    "new_arr = np.array(tuple(zip(X[:,:2], y['Pigment'])))\n",
    "lst_of_value = [(new_arr[i][0][0], new_arr[i][0][1], new_arr[i][1]) for i, _ in enumerate(new_arr)]\n",
    "pd.DataFrame(lst_of_value, columns = ['1', '2', 'Pigment']).sample(7)"
   ]
  },
  {
   "cell_type": "code",
   "execution_count": 29,
   "metadata": {},
   "outputs": [
    {
     "data": {
      "text/plain": [
       "<AxesSubplot:xlabel='1', ylabel='2'>"
      ]
     },
     "execution_count": 29,
     "metadata": {},
     "output_type": "execute_result"
    },
    {
     "data": {
      "image/png": "[encoded data removed]",
      "text/plain": [
       "<Figure size 1080x720 with 1 Axes>"
      ]
     },
     "metadata": {
      "needs_background": "light"
     },
     "output_type": "display_data"
    }
   ],
   "source": [
    "plt.figure(figsize=(15,10))\n",
    "sns.scatterplot(data=pd.DataFrame(lst_of_value, \n",
    "                                  columns = ['1', '2', 'Mutation']), x=\"1\", y=\"2\", hue=\"Mutation\")"
   ]
  },
  {
   "cell_type": "markdown",
   "metadata": {},
   "source": [
    "$\\textbf{Классификация}$"
   ]
  },
  {
   "cell_type": "code",
   "execution_count": 30,
   "metadata": {},
   "outputs": [],
   "source": [
    "def get_med_df_bin_classific(hyper_imgs: tp.List[Hyper_Img], class_name: str) -> pd.DataFrame:\n",
    "    \"\"\"\n",
    "    create DataFrame for binary classification\n",
    "    \"\"\"\n",
    "    \n",
    "    def get_class(pigment: str) -> int:\n",
    "        if class_name in pigment:\n",
    "            return 1\n",
    "        return 0\n",
    "    \n",
    "    return pd.DataFrame([list(sample.medians) + [get_class(sample.pigment)] for sample in hyper_imgs], \n",
    "                         columns = list(np.arange(0,138)*4 + 450) + ['Pigment'])    "
   ]
  },
  {
   "cell_type": "markdown",
   "metadata": {},
   "source": [
    "Стратифицированная кросс-валидация"
   ]
  },
  {
   "cell_type": "code",
   "execution_count": 31,
   "metadata": {},
   "outputs": [],
   "source": [
    "cv = StratifiedKFold(n_splits=3)"
   ]
  },
  {
   "cell_type": "markdown",
   "metadata": {},
   "source": [
    "$\\textbf{Классификация по наличию меланина}$"
   ]
  },
  {
   "cell_type": "markdown",
   "metadata": {},
   "source": [
    "информация о данных"
   ]
  },
  {
   "cell_type": "code",
   "execution_count": 32,
   "metadata": {},
   "outputs": [
    {
     "data": {
      "text/html": [
       "<div>\n",
       "<style scoped>\n",
       "    .dataframe tbody tr th:only-of-type {\n",
       "        vertical-align: middle;\n",
       "    }\n",
       "\n",
       "    .dataframe tbody tr th {\n",
       "        vertical-align: top;\n",
       "    }\n",
       "\n",
       "    .dataframe thead th {\n",
       "        text-align: right;\n",
       "    }\n",
       "</style>\n",
       "<table border=\"1\" class=\"dataframe\">\n",
       "  <thead>\n",
       "    <tr style=\"text-align: right;\">\n",
       "      <th></th>\n",
       "      <th>450</th>\n",
       "      <th>454</th>\n",
       "      <th>458</th>\n",
       "      <th>462</th>\n",
       "      <th>466</th>\n",
       "      <th>470</th>\n",
       "      <th>474</th>\n",
       "      <th>478</th>\n",
       "      <th>482</th>\n",
       "      <th>486</th>\n",
       "      <th>...</th>\n",
       "      <th>966</th>\n",
       "      <th>970</th>\n",
       "      <th>974</th>\n",
       "      <th>978</th>\n",
       "      <th>982</th>\n",
       "      <th>986</th>\n",
       "      <th>990</th>\n",
       "      <th>994</th>\n",
       "      <th>998</th>\n",
       "      <th>Pigment</th>\n",
       "    </tr>\n",
       "  </thead>\n",
       "  <tbody>\n",
       "    <tr>\n",
       "      <th>63</th>\n",
       "      <td>0.012720</td>\n",
       "      <td>0.014500</td>\n",
       "      <td>0.016044</td>\n",
       "      <td>0.017354</td>\n",
       "      <td>0.018430</td>\n",
       "      <td>0.019358</td>\n",
       "      <td>0.019835</td>\n",
       "      <td>0.020141</td>\n",
       "      <td>0.020366</td>\n",
       "      <td>0.020513</td>\n",
       "      <td>...</td>\n",
       "      <td>0.033743</td>\n",
       "      <td>0.033698</td>\n",
       "      <td>0.033473</td>\n",
       "      <td>0.033559</td>\n",
       "      <td>0.033637</td>\n",
       "      <td>0.033751</td>\n",
       "      <td>0.033781</td>\n",
       "      <td>0.033660</td>\n",
       "      <td>0.033318</td>\n",
       "      <td>1</td>\n",
       "    </tr>\n",
       "    <tr>\n",
       "      <th>59</th>\n",
       "      <td>0.124589</td>\n",
       "      <td>0.147464</td>\n",
       "      <td>0.164967</td>\n",
       "      <td>0.177943</td>\n",
       "      <td>0.187237</td>\n",
       "      <td>0.193739</td>\n",
       "      <td>0.197897</td>\n",
       "      <td>0.201466</td>\n",
       "      <td>0.205204</td>\n",
       "      <td>0.209007</td>\n",
       "      <td>...</td>\n",
       "      <td>0.229896</td>\n",
       "      <td>0.229540</td>\n",
       "      <td>0.228901</td>\n",
       "      <td>0.228122</td>\n",
       "      <td>0.227318</td>\n",
       "      <td>0.226679</td>\n",
       "      <td>0.226532</td>\n",
       "      <td>0.227122</td>\n",
       "      <td>0.228697</td>\n",
       "      <td>0</td>\n",
       "    </tr>\n",
       "    <tr>\n",
       "      <th>56</th>\n",
       "      <td>0.129634</td>\n",
       "      <td>0.147845</td>\n",
       "      <td>0.162249</td>\n",
       "      <td>0.173475</td>\n",
       "      <td>0.182155</td>\n",
       "      <td>0.188605</td>\n",
       "      <td>0.193952</td>\n",
       "      <td>0.199226</td>\n",
       "      <td>0.205464</td>\n",
       "      <td>0.213467</td>\n",
       "      <td>...</td>\n",
       "      <td>0.346518</td>\n",
       "      <td>0.346275</td>\n",
       "      <td>0.345989</td>\n",
       "      <td>0.345712</td>\n",
       "      <td>0.345416</td>\n",
       "      <td>0.345299</td>\n",
       "      <td>0.345233</td>\n",
       "      <td>0.345195</td>\n",
       "      <td>0.345161</td>\n",
       "      <td>0</td>\n",
       "    </tr>\n",
       "    <tr>\n",
       "      <th>64</th>\n",
       "      <td>0.125388</td>\n",
       "      <td>0.152327</td>\n",
       "      <td>0.173767</td>\n",
       "      <td>0.190492</td>\n",
       "      <td>0.203291</td>\n",
       "      <td>0.212811</td>\n",
       "      <td>0.219809</td>\n",
       "      <td>0.226264</td>\n",
       "      <td>0.232501</td>\n",
       "      <td>0.238534</td>\n",
       "      <td>...</td>\n",
       "      <td>0.277465</td>\n",
       "      <td>0.276732</td>\n",
       "      <td>0.275620</td>\n",
       "      <td>0.274483</td>\n",
       "      <td>0.273710</td>\n",
       "      <td>0.273013</td>\n",
       "      <td>0.272583</td>\n",
       "      <td>0.272506</td>\n",
       "      <td>0.272868</td>\n",
       "      <td>0</td>\n",
       "    </tr>\n",
       "    <tr>\n",
       "      <th>57</th>\n",
       "      <td>0.052813</td>\n",
       "      <td>0.062144</td>\n",
       "      <td>0.069570</td>\n",
       "      <td>0.075322</td>\n",
       "      <td>0.079634</td>\n",
       "      <td>0.082752</td>\n",
       "      <td>0.084570</td>\n",
       "      <td>0.086090</td>\n",
       "      <td>0.087694</td>\n",
       "      <td>0.089519</td>\n",
       "      <td>...</td>\n",
       "      <td>0.160420</td>\n",
       "      <td>0.160700</td>\n",
       "      <td>0.161026</td>\n",
       "      <td>0.161321</td>\n",
       "      <td>0.161671</td>\n",
       "      <td>0.161719</td>\n",
       "      <td>0.161694</td>\n",
       "      <td>0.161640</td>\n",
       "      <td>0.161603</td>\n",
       "      <td>0</td>\n",
       "    </tr>\n",
       "    <tr>\n",
       "      <th>51</th>\n",
       "      <td>0.036164</td>\n",
       "      <td>0.042136</td>\n",
       "      <td>0.046767</td>\n",
       "      <td>0.050210</td>\n",
       "      <td>0.052619</td>\n",
       "      <td>0.054127</td>\n",
       "      <td>0.054716</td>\n",
       "      <td>0.055088</td>\n",
       "      <td>0.055495</td>\n",
       "      <td>0.056114</td>\n",
       "      <td>...</td>\n",
       "      <td>0.068292</td>\n",
       "      <td>0.068382</td>\n",
       "      <td>0.068530</td>\n",
       "      <td>0.068653</td>\n",
       "      <td>0.068847</td>\n",
       "      <td>0.069146</td>\n",
       "      <td>0.069393</td>\n",
       "      <td>0.069517</td>\n",
       "      <td>0.069444</td>\n",
       "      <td>1</td>\n",
       "    </tr>\n",
       "    <tr>\n",
       "      <th>68</th>\n",
       "      <td>0.067261</td>\n",
       "      <td>0.082089</td>\n",
       "      <td>0.093898</td>\n",
       "      <td>0.103072</td>\n",
       "      <td>0.109997</td>\n",
       "      <td>0.115151</td>\n",
       "      <td>0.118181</td>\n",
       "      <td>0.120780</td>\n",
       "      <td>0.123755</td>\n",
       "      <td>0.127034</td>\n",
       "      <td>...</td>\n",
       "      <td>0.175319</td>\n",
       "      <td>0.174742</td>\n",
       "      <td>0.174136</td>\n",
       "      <td>0.173764</td>\n",
       "      <td>0.173548</td>\n",
       "      <td>0.173555</td>\n",
       "      <td>0.173679</td>\n",
       "      <td>0.173871</td>\n",
       "      <td>0.174085</td>\n",
       "      <td>1</td>\n",
       "    </tr>\n",
       "  </tbody>\n",
       "</table>\n",
       "<p>7 rows × 139 columns</p>\n",
       "</div>"
      ],
      "text/plain": [
       "         450       454       458       462       466       470       474  \\\n",
       "63  0.012720  0.014500  0.016044  0.017354  0.018430  0.019358  0.019835   \n",
       "59  0.124589  0.147464  0.164967  0.177943  0.187237  0.193739  0.197897   \n",
       "56  0.129634  0.147845  0.162249  0.173475  0.182155  0.188605  0.193952   \n",
       "64  0.125388  0.152327  0.173767  0.190492  0.203291  0.212811  0.219809   \n",
       "57  0.052813  0.062144  0.069570  0.075322  0.079634  0.082752  0.084570   \n",
       "51  0.036164  0.042136  0.046767  0.050210  0.052619  0.054127  0.054716   \n",
       "68  0.067261  0.082089  0.093898  0.103072  0.109997  0.115151  0.118181   \n",
       "\n",
       "         478       482       486  ...       966       970       974       978  \\\n",
       "63  0.020141  0.020366  0.020513  ...  0.033743  0.033698  0.033473  0.033559   \n",
       "59  0.201466  0.205204  0.209007  ...  0.229896  0.229540  0.228901  0.228122   \n",
       "56  0.199226  0.205464  0.213467  ...  0.346518  0.346275  0.345989  0.345712   \n",
       "64  0.226264  0.232501  0.238534  ...  0.277465  0.276732  0.275620  0.274483   \n",
       "57  0.086090  0.087694  0.089519  ...  0.160420  0.160700  0.161026  0.161321   \n",
       "51  0.055088  0.055495  0.056114  ...  0.068292  0.068382  0.068530  0.068653   \n",
       "68  0.120780  0.123755  0.127034  ...  0.175319  0.174742  0.174136  0.173764   \n",
       "\n",
       "         982       986       990       994       998  Pigment  \n",
       "63  0.033637  0.033751  0.033781  0.033660  0.033318        1  \n",
       "59  0.227318  0.226679  0.226532  0.227122  0.228697        0  \n",
       "56  0.345416  0.345299  0.345233  0.345195  0.345161        0  \n",
       "64  0.273710  0.273013  0.272583  0.272506  0.272868        0  \n",
       "57  0.161671  0.161719  0.161694  0.161640  0.161603        0  \n",
       "51  0.068847  0.069146  0.069393  0.069517  0.069444        1  \n",
       "68  0.173548  0.173555  0.173679  0.173871  0.174085        1  \n",
       "\n",
       "[7 rows x 139 columns]"
      ]
     },
     "execution_count": 32,
     "metadata": {},
     "output_type": "execute_result"
    }
   ],
   "source": [
    "df = get_med_df_bin_classific(hyper_imgs, 'melanin')\n",
    "df.sample(7)"
   ]
  },
  {
   "cell_type": "markdown",
   "metadata": {},
   "source": [
    "количество образцов каждого класса"
   ]
  },
  {
   "cell_type": "code",
   "execution_count": 33,
   "metadata": {},
   "outputs": [
    {
     "data": {
      "text/html": [
       "<div>\n",
       "<style scoped>\n",
       "    .dataframe tbody tr th:only-of-type {\n",
       "        vertical-align: middle;\n",
       "    }\n",
       "\n",
       "    .dataframe tbody tr th {\n",
       "        vertical-align: top;\n",
       "    }\n",
       "\n",
       "    .dataframe thead th {\n",
       "        text-align: right;\n",
       "    }\n",
       "</style>\n",
       "<table border=\"1\" class=\"dataframe\">\n",
       "  <thead>\n",
       "    <tr style=\"text-align: right;\">\n",
       "      <th></th>\n",
       "      <th>Pigment</th>\n",
       "      <th>Count</th>\n",
       "    </tr>\n",
       "  </thead>\n",
       "  <tbody>\n",
       "    <tr>\n",
       "      <th>0</th>\n",
       "      <td>0</td>\n",
       "      <td>50</td>\n",
       "    </tr>\n",
       "    <tr>\n",
       "      <th>1</th>\n",
       "      <td>1</td>\n",
       "      <td>28</td>\n",
       "    </tr>\n",
       "  </tbody>\n",
       "</table>\n",
       "</div>"
      ],
      "text/plain": [
       "   Pigment  Count\n",
       "0        0     50\n",
       "1        1     28"
      ]
     },
     "execution_count": 33,
     "metadata": {},
     "output_type": "execute_result"
    }
   ],
   "source": [
    "df_count = df.groupby('Pigment', as_index=True).count()[[450]].rename(columns={450:'Count'}).reset_index()\n",
    "df_count"
   ]
  },
  {
   "cell_type": "code",
   "execution_count": 34,
   "metadata": {},
   "outputs": [
    {
     "data": {
      "text/plain": [
       "<AxesSubplot:xlabel='Pigment', ylabel='Count'>"
      ]
     },
     "execution_count": 34,
     "metadata": {},
     "output_type": "execute_result"
    },
    {
     "data": {
      "image/png": "[encoded data removed]",
      "text/plain": [
       "<Figure size 648x648 with 1 Axes>"
      ]
     },
     "metadata": {
      "needs_background": "light"
     },
     "output_type": "display_data"
    }
   ],
   "source": [
    "plt.figure(figsize=(9,9))\n",
    "sns.barplot(data=df_count, x='Pigment', y='Count')"
   ]
  },
  {
   "cell_type": "markdown",
   "metadata": {},
   "source": [
    "разделение выборки на обучающию и тестовую"
   ]
  },
  {
   "cell_type": "code",
   "execution_count": 35,
   "metadata": {},
   "outputs": [
    {
     "data": {
      "text/html": [
       "<div>\n",
       "<style scoped>\n",
       "    .dataframe tbody tr th:only-of-type {\n",
       "        vertical-align: middle;\n",
       "    }\n",
       "\n",
       "    .dataframe tbody tr th {\n",
       "        vertical-align: top;\n",
       "    }\n",
       "\n",
       "    .dataframe thead th {\n",
       "        text-align: right;\n",
       "    }\n",
       "</style>\n",
       "<table border=\"1\" class=\"dataframe\">\n",
       "  <thead>\n",
       "    <tr style=\"text-align: right;\">\n",
       "      <th></th>\n",
       "      <th>450</th>\n",
       "      <th>454</th>\n",
       "      <th>458</th>\n",
       "      <th>462</th>\n",
       "      <th>466</th>\n",
       "      <th>470</th>\n",
       "      <th>474</th>\n",
       "      <th>478</th>\n",
       "      <th>482</th>\n",
       "      <th>486</th>\n",
       "      <th>...</th>\n",
       "      <th>962</th>\n",
       "      <th>966</th>\n",
       "      <th>970</th>\n",
       "      <th>974</th>\n",
       "      <th>978</th>\n",
       "      <th>982</th>\n",
       "      <th>986</th>\n",
       "      <th>990</th>\n",
       "      <th>994</th>\n",
       "      <th>998</th>\n",
       "    </tr>\n",
       "  </thead>\n",
       "  <tbody>\n",
       "    <tr>\n",
       "      <th>0</th>\n",
       "      <td>0.090347</td>\n",
       "      <td>0.108321</td>\n",
       "      <td>0.123391</td>\n",
       "      <td>0.135845</td>\n",
       "      <td>0.145975</td>\n",
       "      <td>0.154125</td>\n",
       "      <td>0.159635</td>\n",
       "      <td>0.164918</td>\n",
       "      <td>0.170134</td>\n",
       "      <td>0.175579</td>\n",
       "      <td>...</td>\n",
       "      <td>0.273946</td>\n",
       "      <td>0.272849</td>\n",
       "      <td>0.272059</td>\n",
       "      <td>0.271392</td>\n",
       "      <td>0.270901</td>\n",
       "      <td>0.270276</td>\n",
       "      <td>0.269762</td>\n",
       "      <td>0.269415</td>\n",
       "      <td>0.269293</td>\n",
       "      <td>0.269451</td>\n",
       "    </tr>\n",
       "    <tr>\n",
       "      <th>1</th>\n",
       "      <td>0.131461</td>\n",
       "      <td>0.154961</td>\n",
       "      <td>0.173581</td>\n",
       "      <td>0.188071</td>\n",
       "      <td>0.199181</td>\n",
       "      <td>0.207340</td>\n",
       "      <td>0.213903</td>\n",
       "      <td>0.220067</td>\n",
       "      <td>0.226702</td>\n",
       "      <td>0.233786</td>\n",
       "      <td>...</td>\n",
       "      <td>0.310982</td>\n",
       "      <td>0.311373</td>\n",
       "      <td>0.311499</td>\n",
       "      <td>0.311529</td>\n",
       "      <td>0.311531</td>\n",
       "      <td>0.311579</td>\n",
       "      <td>0.311293</td>\n",
       "      <td>0.311057</td>\n",
       "      <td>0.311002</td>\n",
       "      <td>0.311259</td>\n",
       "    </tr>\n",
       "    <tr>\n",
       "      <th>2</th>\n",
       "      <td>0.131958</td>\n",
       "      <td>0.151448</td>\n",
       "      <td>0.166479</td>\n",
       "      <td>0.177727</td>\n",
       "      <td>0.185868</td>\n",
       "      <td>0.191247</td>\n",
       "      <td>0.194933</td>\n",
       "      <td>0.198650</td>\n",
       "      <td>0.202753</td>\n",
       "      <td>0.207933</td>\n",
       "      <td>...</td>\n",
       "      <td>0.321169</td>\n",
       "      <td>0.321023</td>\n",
       "      <td>0.321085</td>\n",
       "      <td>0.321705</td>\n",
       "      <td>0.322087</td>\n",
       "      <td>0.322119</td>\n",
       "      <td>0.321809</td>\n",
       "      <td>0.321495</td>\n",
       "      <td>0.321334</td>\n",
       "      <td>0.321481</td>\n",
       "    </tr>\n",
       "    <tr>\n",
       "      <th>3</th>\n",
       "      <td>0.113380</td>\n",
       "      <td>0.134184</td>\n",
       "      <td>0.150814</td>\n",
       "      <td>0.163856</td>\n",
       "      <td>0.173894</td>\n",
       "      <td>0.181629</td>\n",
       "      <td>0.186704</td>\n",
       "      <td>0.191711</td>\n",
       "      <td>0.196552</td>\n",
       "      <td>0.201812</td>\n",
       "      <td>...</td>\n",
       "      <td>0.284521</td>\n",
       "      <td>0.284468</td>\n",
       "      <td>0.284835</td>\n",
       "      <td>0.285448</td>\n",
       "      <td>0.285801</td>\n",
       "      <td>0.285875</td>\n",
       "      <td>0.285714</td>\n",
       "      <td>0.285572</td>\n",
       "      <td>0.285572</td>\n",
       "      <td>0.285839</td>\n",
       "    </tr>\n",
       "    <tr>\n",
       "      <th>4</th>\n",
       "      <td>0.117353</td>\n",
       "      <td>0.138548</td>\n",
       "      <td>0.155029</td>\n",
       "      <td>0.167433</td>\n",
       "      <td>0.176401</td>\n",
       "      <td>0.182259</td>\n",
       "      <td>0.186108</td>\n",
       "      <td>0.189203</td>\n",
       "      <td>0.192364</td>\n",
       "      <td>0.196556</td>\n",
       "      <td>...</td>\n",
       "      <td>0.272634</td>\n",
       "      <td>0.273017</td>\n",
       "      <td>0.273216</td>\n",
       "      <td>0.273381</td>\n",
       "      <td>0.273634</td>\n",
       "      <td>0.274150</td>\n",
       "      <td>0.274480</td>\n",
       "      <td>0.274514</td>\n",
       "      <td>0.274098</td>\n",
       "      <td>0.273082</td>\n",
       "    </tr>\n",
       "  </tbody>\n",
       "</table>\n",
       "<p>5 rows × 138 columns</p>\n",
       "</div>"
      ],
      "text/plain": [
       "        450       454       458       462       466       470       474  \\\n",
       "0  0.090347  0.108321  0.123391  0.135845  0.145975  0.154125  0.159635   \n",
       "1  0.131461  0.154961  0.173581  0.188071  0.199181  0.207340  0.213903   \n",
       "2  0.131958  0.151448  0.166479  0.177727  0.185868  0.191247  0.194933   \n",
       "3  0.113380  0.134184  0.150814  0.163856  0.173894  0.181629  0.186704   \n",
       "4  0.117353  0.138548  0.155029  0.167433  0.176401  0.182259  0.186108   \n",
       "\n",
       "        478       482       486  ...       962       966       970       974  \\\n",
       "0  0.164918  0.170134  0.175579  ...  0.273946  0.272849  0.272059  0.271392   \n",
       "1  0.220067  0.226702  0.233786  ...  0.310982  0.311373  0.311499  0.311529   \n",
       "2  0.198650  0.202753  0.207933  ...  0.321169  0.321023  0.321085  0.321705   \n",
       "3  0.191711  0.196552  0.201812  ...  0.284521  0.284468  0.284835  0.285448   \n",
       "4  0.189203  0.192364  0.196556  ...  0.272634  0.273017  0.273216  0.273381   \n",
       "\n",
       "        978       982       986       990       994       998  \n",
       "0  0.270901  0.270276  0.269762  0.269415  0.269293  0.269451  \n",
       "1  0.311531  0.311579  0.311293  0.311057  0.311002  0.311259  \n",
       "2  0.322087  0.322119  0.321809  0.321495  0.321334  0.321481  \n",
       "3  0.285801  0.285875  0.285714  0.285572  0.285572  0.285839  \n",
       "4  0.273634  0.274150  0.274480  0.274514  0.274098  0.273082  \n",
       "\n",
       "[5 rows x 138 columns]"
      ]
     },
     "execution_count": 35,
     "metadata": {},
     "output_type": "execute_result"
    }
   ],
   "source": [
    "X = df.drop(['Pigment'], axis = 1)\n",
    "X.head()"
   ]
  },
  {
   "cell_type": "code",
   "execution_count": 36,
   "metadata": {},
   "outputs": [
    {
     "data": {
      "text/html": [
       "<div>\n",
       "<style scoped>\n",
       "    .dataframe tbody tr th:only-of-type {\n",
       "        vertical-align: middle;\n",
       "    }\n",
       "\n",
       "    .dataframe tbody tr th {\n",
       "        vertical-align: top;\n",
       "    }\n",
       "\n",
       "    .dataframe thead th {\n",
       "        text-align: right;\n",
       "    }\n",
       "</style>\n",
       "<table border=\"1\" class=\"dataframe\">\n",
       "  <thead>\n",
       "    <tr style=\"text-align: right;\">\n",
       "      <th></th>\n",
       "      <th>Pigment</th>\n",
       "    </tr>\n",
       "  </thead>\n",
       "  <tbody>\n",
       "    <tr>\n",
       "      <th>0</th>\n",
       "      <td>0</td>\n",
       "    </tr>\n",
       "    <tr>\n",
       "      <th>1</th>\n",
       "      <td>0</td>\n",
       "    </tr>\n",
       "    <tr>\n",
       "      <th>2</th>\n",
       "      <td>0</td>\n",
       "    </tr>\n",
       "    <tr>\n",
       "      <th>3</th>\n",
       "      <td>0</td>\n",
       "    </tr>\n",
       "    <tr>\n",
       "      <th>4</th>\n",
       "      <td>0</td>\n",
       "    </tr>\n",
       "  </tbody>\n",
       "</table>\n",
       "</div>"
      ],
      "text/plain": [
       "   Pigment\n",
       "0        0\n",
       "1        0\n",
       "2        0\n",
       "3        0\n",
       "4        0"
      ]
     },
     "execution_count": 36,
     "metadata": {},
     "output_type": "execute_result"
    }
   ],
   "source": [
    "y = df[['Pigment']]\n",
    "y.head()"
   ]
  },
  {
   "cell_type": "code",
   "execution_count": 37,
   "metadata": {},
   "outputs": [],
   "source": [
    "X_train, X_test, y_train, y_test = train_test_split(X, y, test_size=0.2, stratify=y)"
   ]
  },
  {
   "cell_type": "code",
   "execution_count": 38,
   "metadata": {},
   "outputs": [
    {
     "data": {
      "text/html": [
       "<div>\n",
       "<style scoped>\n",
       "    .dataframe tbody tr th:only-of-type {\n",
       "        vertical-align: middle;\n",
       "    }\n",
       "\n",
       "    .dataframe tbody tr th {\n",
       "        vertical-align: top;\n",
       "    }\n",
       "\n",
       "    .dataframe thead th {\n",
       "        text-align: right;\n",
       "    }\n",
       "</style>\n",
       "<table border=\"1\" class=\"dataframe\">\n",
       "  <thead>\n",
       "    <tr style=\"text-align: right;\">\n",
       "      <th></th>\n",
       "      <th>Pigment</th>\n",
       "      <th>Count</th>\n",
       "    </tr>\n",
       "  </thead>\n",
       "  <tbody>\n",
       "    <tr>\n",
       "      <th>0</th>\n",
       "      <td>0</td>\n",
       "      <td>10</td>\n",
       "    </tr>\n",
       "    <tr>\n",
       "      <th>1</th>\n",
       "      <td>1</td>\n",
       "      <td>6</td>\n",
       "    </tr>\n",
       "  </tbody>\n",
       "</table>\n",
       "</div>"
      ],
      "text/plain": [
       "   Pigment  Count\n",
       "0        0     10\n",
       "1        1      6"
      ]
     },
     "execution_count": 38,
     "metadata": {},
     "output_type": "execute_result"
    }
   ],
   "source": [
    "test_count = y_test.reset_index().groupby('Pigment').count().reset_index().rename(columns={'index':'Count'})\n",
    "test_count"
   ]
  },
  {
   "cell_type": "code",
   "execution_count": 39,
   "metadata": {},
   "outputs": [
    {
     "data": {
      "text/plain": [
       "<AxesSubplot:xlabel='Pigment', ylabel='Count'>"
      ]
     },
     "execution_count": 39,
     "metadata": {},
     "output_type": "execute_result"
    },
    {
     "data": {
      "image/png": "[encoded data removed]",
      "text/plain": [
       "<Figure size 648x648 with 1 Axes>"
      ]
     },
     "metadata": {
      "needs_background": "light"
     },
     "output_type": "display_data"
    }
   ],
   "source": [
    "plt.figure(figsize=(9,9))\n",
    "sns.barplot(data=test_count, x='Pigment', y='Count')"
   ]
  },
  {
   "cell_type": "code",
   "execution_count": 40,
   "metadata": {},
   "outputs": [
    {
     "data": {
      "text/html": [
       "<div>\n",
       "<style scoped>\n",
       "    .dataframe tbody tr th:only-of-type {\n",
       "        vertical-align: middle;\n",
       "    }\n",
       "\n",
       "    .dataframe tbody tr th {\n",
       "        vertical-align: top;\n",
       "    }\n",
       "\n",
       "    .dataframe thead th {\n",
       "        text-align: right;\n",
       "    }\n",
       "</style>\n",
       "<table border=\"1\" class=\"dataframe\">\n",
       "  <thead>\n",
       "    <tr style=\"text-align: right;\">\n",
       "      <th></th>\n",
       "      <th>Pigment</th>\n",
       "      <th>Count</th>\n",
       "    </tr>\n",
       "  </thead>\n",
       "  <tbody>\n",
       "    <tr>\n",
       "      <th>0</th>\n",
       "      <td>0</td>\n",
       "      <td>40</td>\n",
       "    </tr>\n",
       "    <tr>\n",
       "      <th>1</th>\n",
       "      <td>1</td>\n",
       "      <td>22</td>\n",
       "    </tr>\n",
       "  </tbody>\n",
       "</table>\n",
       "</div>"
      ],
      "text/plain": [
       "   Pigment  Count\n",
       "0        0     40\n",
       "1        1     22"
      ]
     },
     "execution_count": 40,
     "metadata": {},
     "output_type": "execute_result"
    }
   ],
   "source": [
    "train_count = y_train.reset_index().groupby('Pigment').count().reset_index().rename(columns={'index':'Count'})\n",
    "train_count"
   ]
  },
  {
   "cell_type": "code",
   "execution_count": 41,
   "metadata": {},
   "outputs": [
    {
     "data": {
      "text/plain": [
       "<AxesSubplot:xlabel='Pigment', ylabel='Count'>"
      ]
     },
     "execution_count": 41,
     "metadata": {},
     "output_type": "execute_result"
    },
    {
     "data": {
      "image/png": "[encoded data removed]",
      "text/plain": [
       "<Figure size 648x648 with 1 Axes>"
      ]
     },
     "metadata": {
      "needs_background": "light"
     },
     "output_type": "display_data"
    }
   ],
   "source": [
    "plt.figure(figsize=(9,9))\n",
    "sns.barplot(data=train_count, x='Pigment', y='Count')"
   ]
  },
  {
   "cell_type": "markdown",
   "metadata": {},
   "source": [
    "Логистическая регрессия"
   ]
  },
  {
   "cell_type": "code",
   "execution_count": 42,
   "metadata": {},
   "outputs": [],
   "source": [
    "logistic_regr_pipe = Pipeline([('feature', Pipeline([('scaler', StandardScaler()), ('pca', PCA(n_components=5))])),\n",
    "                               ('logistic_regr', LogisticRegressionCV(cv=cv))])"
   ]
  },
  {
   "cell_type": "code",
   "execution_count": 43,
   "metadata": {},
   "outputs": [],
   "source": [
    "X_train = logistic_regr_pipe['feature'].fit_transform(X_train)\n",
    "X_test = logistic_regr_pipe['feature'].transform(X_test)"
   ]
  },
  {
   "cell_type": "code",
   "execution_count": 44,
   "metadata": {},
   "outputs": [
    {
     "data": {
      "text/plain": [
       "LogisticRegressionCV(cv=StratifiedKFold(n_splits=3, random_state=None, shuffle=False))"
      ]
     },
     "execution_count": 44,
     "metadata": {},
     "output_type": "execute_result"
    }
   ],
   "source": [
    "logistic_regr_pipe['logistic_regr'].fit(X_train, y_train)"
   ]
  },
  {
   "cell_type": "code",
   "execution_count": 45,
   "metadata": {},
   "outputs": [
    {
     "data": {
      "text/plain": [
       "array([-4.32209475])"
      ]
     },
     "execution_count": 45,
     "metadata": {},
     "output_type": "execute_result"
    }
   ],
   "source": [
    "logistic_regr_pipe['logistic_regr'].intercept_"
   ]
  },
  {
   "cell_type": "markdown",
   "metadata": {},
   "source": [
    "Random Forest"
   ]
  },
  {
   "cell_type": "code",
   "execution_count": 46,
   "metadata": {},
   "outputs": [],
   "source": [
    "parameters_random_forest = { 'max_depth':[2, 7], 'min_samples_split': [1, 5], \n",
    "                            'min_samples_leaf': [1, 5]}"
   ]
  },
  {
   "cell_type": "code",
   "execution_count": 47,
   "metadata": {},
   "outputs": [
    {
     "data": {
      "text/plain": [
       "GridSearchCV(cv=StratifiedKFold(n_splits=3, random_state=None, shuffle=False),\n",
       "             estimator=RandomForestClassifier(n_estimators=150),\n",
       "             param_grid={'max_depth': [2, 7], 'min_samples_leaf': [1, 5],\n",
       "                         'min_samples_split': [1, 5]})"
      ]
     },
     "execution_count": 47,
     "metadata": {},
     "output_type": "execute_result"
    }
   ],
   "source": [
    "clf_forest = GridSearchCV(RandomForestClassifier(n_estimators=150), parameters_random_forest, cv=cv)\n",
    "clf_forest.fit(X_train, y_train)"
   ]
  },
  {
   "cell_type": "code",
   "execution_count": 49,
   "metadata": {},
   "outputs": [
    {
     "data": {
      "text/plain": [
       "{'max_depth': 2, 'min_samples_leaf': 1, 'min_samples_split': 5}"
      ]
     },
     "execution_count": 49,
     "metadata": {},
     "output_type": "execute_result"
    }
   ],
   "source": [
    "clf_forest.best_params_"
   ]
  },
  {
   "cell_type": "code",
   "execution_count": 50,
   "metadata": {},
   "outputs": [],
   "source": [
    "random_forest_pipe = Pipeline([('feature', Pipeline([('scaler', StandardScaler()), ('pca', PCA(n_components=5))])),\n",
    "                               ('random_forest', clf_forest.best_estimator_)])"
   ]
  },
  {
   "cell_type": "markdown",
   "metadata": {},
   "source": [
    "Градиентный бустинг"
   ]
  },
  {
   "cell_type": "code",
   "execution_count": 51,
   "metadata": {},
   "outputs": [],
   "source": [
    "parameters_boosting = { 'learning_rate':np.power(2, np.arange(10))}"
   ]
  },
  {
   "cell_type": "code",
   "execution_count": 52,
   "metadata": {},
   "outputs": [
    {
     "data": {
      "text/plain": [
       "GridSearchCV(cv=StratifiedKFold(n_splits=3, random_state=None, shuffle=False),\n",
       "             estimator=GradientBoostingClassifier(n_estimators=150),\n",
       "             param_grid={'learning_rate': array([  1,   2,   4,   8,  16,  32,  64, 128, 256, 512])})"
      ]
     },
     "execution_count": 52,
     "metadata": {},
     "output_type": "execute_result"
    }
   ],
   "source": [
    "clf_boosting = GridSearchCV(GradientBoostingClassifier(n_estimators=150), parameters_boosting, cv=cv)\n",
    "clf_boosting.fit(X_train, y_train)"
   ]
  },
  {
   "cell_type": "code",
   "execution_count": 54,
   "metadata": {},
   "outputs": [
    {
     "data": {
      "text/plain": [
       "{'learning_rate': 1}"
      ]
     },
     "execution_count": 54,
     "metadata": {},
     "output_type": "execute_result"
    }
   ],
   "source": [
    "clf_boosting.best_params_"
   ]
  },
  {
   "cell_type": "code",
   "execution_count": 55,
   "metadata": {},
   "outputs": [],
   "source": [
    "gradient_boosting_pipe = Pipeline([('feature', Pipeline([('scaler', StandardScaler()), ('pca', PCA(n_components=5))])),\n",
    "                               ('gradient_boosting', clf_boosting.best_estimator_)])"
   ]
  },
  {
   "cell_type": "markdown",
   "metadata": {},
   "source": [
    "Результаты"
   ]
  },
  {
   "cell_type": "markdown",
   "metadata": {},
   "source": [
    "таблица с результатами моделей по основным метрикам"
   ]
  },
  {
   "cell_type": "code",
   "execution_count": 56,
   "metadata": {},
   "outputs": [],
   "source": [
    "def get_metrics(models: tp.List[sklearn.base.BaseEstimator], models_name: tp.List[str],\n",
    "                X: np.array, y: np.array) -> pd.DataFrame:\n",
    "    y_predicts = [model.predict(X) for model in models]\n",
    "    accuracy: tp.List[float] = [accuracy_score(y, y_predict) for y_predict in y_predicts]\n",
    "    f1: tp.List[float] = [f1_score(y, y_predict) for y_predict in y_predicts]\n",
    "    precision: tp.List[float] = [precision_score(y, y_predict) for y_predict in y_predicts]\n",
    "    recall: tp.List[float] = [recall_score(y, y_predict) for y_predict in y_predicts]\n",
    "    return pd.DataFrame(zip(models_name, accuracy, f1, precision, recall), \n",
    "                        columns = ['model', 'accuracy', 'f1', 'precision', 'recall'])"
   ]
  },
  {
   "cell_type": "markdown",
   "metadata": {},
   "source": [
    "Результаты на тренеровочной выборки"
   ]
  },
  {
   "cell_type": "code",
   "execution_count": 57,
   "metadata": {},
   "outputs": [
    {
     "data": {
      "text/html": [
       "<div>\n",
       "<style scoped>\n",
       "    .dataframe tbody tr th:only-of-type {\n",
       "        vertical-align: middle;\n",
       "    }\n",
       "\n",
       "    .dataframe tbody tr th {\n",
       "        vertical-align: top;\n",
       "    }\n",
       "\n",
       "    .dataframe thead th {\n",
       "        text-align: right;\n",
       "    }\n",
       "</style>\n",
       "<table border=\"1\" class=\"dataframe\">\n",
       "  <thead>\n",
       "    <tr style=\"text-align: right;\">\n",
       "      <th></th>\n",
       "      <th>model</th>\n",
       "      <th>accuracy</th>\n",
       "      <th>f1</th>\n",
       "      <th>precision</th>\n",
       "      <th>recall</th>\n",
       "    </tr>\n",
       "  </thead>\n",
       "  <tbody>\n",
       "    <tr>\n",
       "      <th>0</th>\n",
       "      <td>Логистическая регрессия</td>\n",
       "      <td>1.000000</td>\n",
       "      <td>1.000000</td>\n",
       "      <td>1.0</td>\n",
       "      <td>1.000000</td>\n",
       "    </tr>\n",
       "    <tr>\n",
       "      <th>1</th>\n",
       "      <td>Random Forest</td>\n",
       "      <td>0.983871</td>\n",
       "      <td>0.976744</td>\n",
       "      <td>1.0</td>\n",
       "      <td>0.954545</td>\n",
       "    </tr>\n",
       "    <tr>\n",
       "      <th>2</th>\n",
       "      <td>Градиентный бустинг</td>\n",
       "      <td>1.000000</td>\n",
       "      <td>1.000000</td>\n",
       "      <td>1.0</td>\n",
       "      <td>1.000000</td>\n",
       "    </tr>\n",
       "  </tbody>\n",
       "</table>\n",
       "</div>"
      ],
      "text/plain": [
       "                     model  accuracy        f1  precision    recall\n",
       "0  Логистическая регрессия  1.000000  1.000000        1.0  1.000000\n",
       "1            Random Forest  0.983871  0.976744        1.0  0.954545\n",
       "2      Градиентный бустинг  1.000000  1.000000        1.0  1.000000"
      ]
     },
     "execution_count": 57,
     "metadata": {},
     "output_type": "execute_result"
    }
   ],
   "source": [
    "get_metrics([logistic_regr_pipe['logistic_regr'], random_forest_pipe['random_forest'], \n",
    "             gradient_boosting_pipe['gradient_boosting']], \n",
    "             ['Логистическая регрессия', 'Random Forest', 'Градиентный бустинг'], X_train, y_train)"
   ]
  },
  {
   "cell_type": "markdown",
   "metadata": {},
   "source": [
    "Результаты на тестовой выборки"
   ]
  },
  {
   "cell_type": "code",
   "execution_count": 58,
   "metadata": {},
   "outputs": [
    {
     "data": {
      "text/html": [
       "<div>\n",
       "<style scoped>\n",
       "    .dataframe tbody tr th:only-of-type {\n",
       "        vertical-align: middle;\n",
       "    }\n",
       "\n",
       "    .dataframe tbody tr th {\n",
       "        vertical-align: top;\n",
       "    }\n",
       "\n",
       "    .dataframe thead th {\n",
       "        text-align: right;\n",
       "    }\n",
       "</style>\n",
       "<table border=\"1\" class=\"dataframe\">\n",
       "  <thead>\n",
       "    <tr style=\"text-align: right;\">\n",
       "      <th></th>\n",
       "      <th>model</th>\n",
       "      <th>accuracy</th>\n",
       "      <th>f1</th>\n",
       "      <th>precision</th>\n",
       "      <th>recall</th>\n",
       "    </tr>\n",
       "  </thead>\n",
       "  <tbody>\n",
       "    <tr>\n",
       "      <th>0</th>\n",
       "      <td>Логистическая регрессия</td>\n",
       "      <td>0.9375</td>\n",
       "      <td>0.909091</td>\n",
       "      <td>1.0</td>\n",
       "      <td>0.833333</td>\n",
       "    </tr>\n",
       "    <tr>\n",
       "      <th>1</th>\n",
       "      <td>Random Forest</td>\n",
       "      <td>0.9375</td>\n",
       "      <td>0.909091</td>\n",
       "      <td>1.0</td>\n",
       "      <td>0.833333</td>\n",
       "    </tr>\n",
       "    <tr>\n",
       "      <th>2</th>\n",
       "      <td>Градиентный бустинг</td>\n",
       "      <td>0.9375</td>\n",
       "      <td>0.909091</td>\n",
       "      <td>1.0</td>\n",
       "      <td>0.833333</td>\n",
       "    </tr>\n",
       "  </tbody>\n",
       "</table>\n",
       "</div>"
      ],
      "text/plain": [
       "                     model  accuracy        f1  precision    recall\n",
       "0  Логистическая регрессия    0.9375  0.909091        1.0  0.833333\n",
       "1            Random Forest    0.9375  0.909091        1.0  0.833333\n",
       "2      Градиентный бустинг    0.9375  0.909091        1.0  0.833333"
      ]
     },
     "execution_count": 58,
     "metadata": {},
     "output_type": "execute_result"
    }
   ],
   "source": [
    "get_metrics([logistic_regr_pipe['logistic_regr'], random_forest_pipe['random_forest'], \n",
    "             gradient_boosting_pipe['gradient_boosting']], \n",
    "             ['Логистическая регрессия', 'Random Forest', 'Градиентный бустинг'], X_test, y_test)"
   ]
  },
  {
   "cell_type": "markdown",
   "metadata": {},
   "source": [
    "$\\textbf{Классификация по наличию антоцианов}$"
   ]
  },
  {
   "cell_type": "code",
   "execution_count": 59,
   "metadata": {},
   "outputs": [
    {
     "data": {
      "text/html": [
       "<div>\n",
       "<style scoped>\n",
       "    .dataframe tbody tr th:only-of-type {\n",
       "        vertical-align: middle;\n",
       "    }\n",
       "\n",
       "    .dataframe tbody tr th {\n",
       "        vertical-align: top;\n",
       "    }\n",
       "\n",
       "    .dataframe thead th {\n",
       "        text-align: right;\n",
       "    }\n",
       "</style>\n",
       "<table border=\"1\" class=\"dataframe\">\n",
       "  <thead>\n",
       "    <tr style=\"text-align: right;\">\n",
       "      <th></th>\n",
       "      <th>450</th>\n",
       "      <th>454</th>\n",
       "      <th>458</th>\n",
       "      <th>462</th>\n",
       "      <th>466</th>\n",
       "      <th>470</th>\n",
       "      <th>474</th>\n",
       "      <th>478</th>\n",
       "      <th>482</th>\n",
       "      <th>486</th>\n",
       "      <th>...</th>\n",
       "      <th>966</th>\n",
       "      <th>970</th>\n",
       "      <th>974</th>\n",
       "      <th>978</th>\n",
       "      <th>982</th>\n",
       "      <th>986</th>\n",
       "      <th>990</th>\n",
       "      <th>994</th>\n",
       "      <th>998</th>\n",
       "      <th>Pigment</th>\n",
       "    </tr>\n",
       "  </thead>\n",
       "  <tbody>\n",
       "    <tr>\n",
       "      <th>24</th>\n",
       "      <td>0.125123</td>\n",
       "      <td>0.150292</td>\n",
       "      <td>0.170223</td>\n",
       "      <td>0.185703</td>\n",
       "      <td>0.197520</td>\n",
       "      <td>0.206731</td>\n",
       "      <td>0.212956</td>\n",
       "      <td>0.218754</td>\n",
       "      <td>0.224243</td>\n",
       "      <td>0.230402</td>\n",
       "      <td>...</td>\n",
       "      <td>0.326247</td>\n",
       "      <td>0.326372</td>\n",
       "      <td>0.327047</td>\n",
       "      <td>0.326163</td>\n",
       "      <td>0.326140</td>\n",
       "      <td>0.326122</td>\n",
       "      <td>0.325860</td>\n",
       "      <td>0.325161</td>\n",
       "      <td>0.323827</td>\n",
       "      <td>0</td>\n",
       "    </tr>\n",
       "    <tr>\n",
       "      <th>19</th>\n",
       "      <td>0.107914</td>\n",
       "      <td>0.126384</td>\n",
       "      <td>0.140881</td>\n",
       "      <td>0.152011</td>\n",
       "      <td>0.160380</td>\n",
       "      <td>0.166625</td>\n",
       "      <td>0.170679</td>\n",
       "      <td>0.174803</td>\n",
       "      <td>0.179435</td>\n",
       "      <td>0.184801</td>\n",
       "      <td>...</td>\n",
       "      <td>0.251502</td>\n",
       "      <td>0.251825</td>\n",
       "      <td>0.251825</td>\n",
       "      <td>0.251502</td>\n",
       "      <td>0.250856</td>\n",
       "      <td>0.249863</td>\n",
       "      <td>0.249238</td>\n",
       "      <td>0.249359</td>\n",
       "      <td>0.250603</td>\n",
       "      <td>0</td>\n",
       "    </tr>\n",
       "    <tr>\n",
       "      <th>64</th>\n",
       "      <td>0.125388</td>\n",
       "      <td>0.152327</td>\n",
       "      <td>0.173767</td>\n",
       "      <td>0.190492</td>\n",
       "      <td>0.203291</td>\n",
       "      <td>0.212811</td>\n",
       "      <td>0.219809</td>\n",
       "      <td>0.226264</td>\n",
       "      <td>0.232501</td>\n",
       "      <td>0.238534</td>\n",
       "      <td>...</td>\n",
       "      <td>0.277465</td>\n",
       "      <td>0.276732</td>\n",
       "      <td>0.275620</td>\n",
       "      <td>0.274483</td>\n",
       "      <td>0.273710</td>\n",
       "      <td>0.273013</td>\n",
       "      <td>0.272583</td>\n",
       "      <td>0.272506</td>\n",
       "      <td>0.272868</td>\n",
       "      <td>1</td>\n",
       "    </tr>\n",
       "    <tr>\n",
       "      <th>22</th>\n",
       "      <td>0.175821</td>\n",
       "      <td>0.207743</td>\n",
       "      <td>0.231502</td>\n",
       "      <td>0.248616</td>\n",
       "      <td>0.260604</td>\n",
       "      <td>0.269463</td>\n",
       "      <td>0.275830</td>\n",
       "      <td>0.281453</td>\n",
       "      <td>0.287221</td>\n",
       "      <td>0.293355</td>\n",
       "      <td>...</td>\n",
       "      <td>0.354019</td>\n",
       "      <td>0.353255</td>\n",
       "      <td>0.352682</td>\n",
       "      <td>0.352326</td>\n",
       "      <td>0.352248</td>\n",
       "      <td>0.351814</td>\n",
       "      <td>0.351428</td>\n",
       "      <td>0.351168</td>\n",
       "      <td>0.351110</td>\n",
       "      <td>0</td>\n",
       "    </tr>\n",
       "    <tr>\n",
       "      <th>6</th>\n",
       "      <td>0.143762</td>\n",
       "      <td>0.170550</td>\n",
       "      <td>0.191274</td>\n",
       "      <td>0.206941</td>\n",
       "      <td>0.218557</td>\n",
       "      <td>0.227309</td>\n",
       "      <td>0.233586</td>\n",
       "      <td>0.239131</td>\n",
       "      <td>0.245009</td>\n",
       "      <td>0.250859</td>\n",
       "      <td>...</td>\n",
       "      <td>0.330364</td>\n",
       "      <td>0.331570</td>\n",
       "      <td>0.333109</td>\n",
       "      <td>0.333647</td>\n",
       "      <td>0.333134</td>\n",
       "      <td>0.331657</td>\n",
       "      <td>0.330072</td>\n",
       "      <td>0.328827</td>\n",
       "      <td>0.328368</td>\n",
       "      <td>0</td>\n",
       "    </tr>\n",
       "    <tr>\n",
       "      <th>62</th>\n",
       "      <td>0.035914</td>\n",
       "      <td>0.043077</td>\n",
       "      <td>0.048647</td>\n",
       "      <td>0.052806</td>\n",
       "      <td>0.055737</td>\n",
       "      <td>0.057630</td>\n",
       "      <td>0.058380</td>\n",
       "      <td>0.058959</td>\n",
       "      <td>0.059459</td>\n",
       "      <td>0.059938</td>\n",
       "      <td>...</td>\n",
       "      <td>0.081182</td>\n",
       "      <td>0.081351</td>\n",
       "      <td>0.081537</td>\n",
       "      <td>0.081900</td>\n",
       "      <td>0.082067</td>\n",
       "      <td>0.082116</td>\n",
       "      <td>0.081967</td>\n",
       "      <td>0.081569</td>\n",
       "      <td>0.080869</td>\n",
       "      <td>0</td>\n",
       "    </tr>\n",
       "    <tr>\n",
       "      <th>2</th>\n",
       "      <td>0.131958</td>\n",
       "      <td>0.151448</td>\n",
       "      <td>0.166479</td>\n",
       "      <td>0.177727</td>\n",
       "      <td>0.185868</td>\n",
       "      <td>0.191247</td>\n",
       "      <td>0.194933</td>\n",
       "      <td>0.198650</td>\n",
       "      <td>0.202753</td>\n",
       "      <td>0.207933</td>\n",
       "      <td>...</td>\n",
       "      <td>0.321023</td>\n",
       "      <td>0.321085</td>\n",
       "      <td>0.321705</td>\n",
       "      <td>0.322087</td>\n",
       "      <td>0.322119</td>\n",
       "      <td>0.321809</td>\n",
       "      <td>0.321495</td>\n",
       "      <td>0.321334</td>\n",
       "      <td>0.321481</td>\n",
       "      <td>0</td>\n",
       "    </tr>\n",
       "  </tbody>\n",
       "</table>\n",
       "<p>7 rows × 139 columns</p>\n",
       "</div>"
      ],
      "text/plain": [
       "         450       454       458       462       466       470       474  \\\n",
       "24  0.125123  0.150292  0.170223  0.185703  0.197520  0.206731  0.212956   \n",
       "19  0.107914  0.126384  0.140881  0.152011  0.160380  0.166625  0.170679   \n",
       "64  0.125388  0.152327  0.173767  0.190492  0.203291  0.212811  0.219809   \n",
       "22  0.175821  0.207743  0.231502  0.248616  0.260604  0.269463  0.275830   \n",
       "6   0.143762  0.170550  0.191274  0.206941  0.218557  0.227309  0.233586   \n",
       "62  0.035914  0.043077  0.048647  0.052806  0.055737  0.057630  0.058380   \n",
       "2   0.131958  0.151448  0.166479  0.177727  0.185868  0.191247  0.194933   \n",
       "\n",
       "         478       482       486  ...       966       970       974       978  \\\n",
       "24  0.218754  0.224243  0.230402  ...  0.326247  0.326372  0.327047  0.326163   \n",
       "19  0.174803  0.179435  0.184801  ...  0.251502  0.251825  0.251825  0.251502   \n",
       "64  0.226264  0.232501  0.238534  ...  0.277465  0.276732  0.275620  0.274483   \n",
       "22  0.281453  0.287221  0.293355  ...  0.354019  0.353255  0.352682  0.352326   \n",
       "6   0.239131  0.245009  0.250859  ...  0.330364  0.331570  0.333109  0.333647   \n",
       "62  0.058959  0.059459  0.059938  ...  0.081182  0.081351  0.081537  0.081900   \n",
       "2   0.198650  0.202753  0.207933  ...  0.321023  0.321085  0.321705  0.322087   \n",
       "\n",
       "         982       986       990       994       998  Pigment  \n",
       "24  0.326140  0.326122  0.325860  0.325161  0.323827        0  \n",
       "19  0.250856  0.249863  0.249238  0.249359  0.250603        0  \n",
       "64  0.273710  0.273013  0.272583  0.272506  0.272868        1  \n",
       "22  0.352248  0.351814  0.351428  0.351168  0.351110        0  \n",
       "6   0.333134  0.331657  0.330072  0.328827  0.328368        0  \n",
       "62  0.082067  0.082116  0.081967  0.081569  0.080869        0  \n",
       "2   0.322119  0.321809  0.321495  0.321334  0.321481        0  \n",
       "\n",
       "[7 rows x 139 columns]"
      ]
     },
     "execution_count": 59,
     "metadata": {},
     "output_type": "execute_result"
    }
   ],
   "source": [
    "df = get_med_df_bin_classific(hyper_imgs, 'anthocyanins')\n",
    "df.sample(7)"
   ]
  },
  {
   "cell_type": "markdown",
   "metadata": {},
   "source": [
    "количество образцов каждого класса"
   ]
  },
  {
   "cell_type": "code",
   "execution_count": 60,
   "metadata": {},
   "outputs": [
    {
     "data": {
      "text/html": [
       "<div>\n",
       "<style scoped>\n",
       "    .dataframe tbody tr th:only-of-type {\n",
       "        vertical-align: middle;\n",
       "    }\n",
       "\n",
       "    .dataframe tbody tr th {\n",
       "        vertical-align: top;\n",
       "    }\n",
       "\n",
       "    .dataframe thead th {\n",
       "        text-align: right;\n",
       "    }\n",
       "</style>\n",
       "<table border=\"1\" class=\"dataframe\">\n",
       "  <thead>\n",
       "    <tr style=\"text-align: right;\">\n",
       "      <th></th>\n",
       "      <th>Pigment</th>\n",
       "      <th>Count</th>\n",
       "    </tr>\n",
       "  </thead>\n",
       "  <tbody>\n",
       "    <tr>\n",
       "      <th>0</th>\n",
       "      <td>0</td>\n",
       "      <td>59</td>\n",
       "    </tr>\n",
       "    <tr>\n",
       "      <th>1</th>\n",
       "      <td>1</td>\n",
       "      <td>19</td>\n",
       "    </tr>\n",
       "  </tbody>\n",
       "</table>\n",
       "</div>"
      ],
      "text/plain": [
       "   Pigment  Count\n",
       "0        0     59\n",
       "1        1     19"
      ]
     },
     "execution_count": 60,
     "metadata": {},
     "output_type": "execute_result"
    }
   ],
   "source": [
    "df_count = df.groupby('Pigment', as_index=True).count()[[450]].rename(columns={450:'Count'}).reset_index()\n",
    "df_count"
   ]
  },
  {
   "cell_type": "code",
   "execution_count": 61,
   "metadata": {},
   "outputs": [
    {
     "data": {
      "text/plain": [
       "<AxesSubplot:xlabel='Pigment', ylabel='Count'>"
      ]
     },
     "execution_count": 61,
     "metadata": {},
     "output_type": "execute_result"
    },
    {
     "data": {
      "image/png": "[encoded data removed]",
      "text/plain": [
       "<Figure size 648x648 with 1 Axes>"
      ]
     },
     "metadata": {
      "needs_background": "light"
     },
     "output_type": "display_data"
    }
   ],
   "source": [
    "plt.figure(figsize=(9,9))\n",
    "sns.barplot(data=df_count, x='Pigment', y='Count')"
   ]
  },
  {
   "cell_type": "markdown",
   "metadata": {},
   "source": [
    "разделение выборки на обучающию и тестовую"
   ]
  },
  {
   "cell_type": "code",
   "execution_count": 62,
   "metadata": {},
   "outputs": [
    {
     "data": {
      "text/html": [
       "<div>\n",
       "<style scoped>\n",
       "    .dataframe tbody tr th:only-of-type {\n",
       "        vertical-align: middle;\n",
       "    }\n",
       "\n",
       "    .dataframe tbody tr th {\n",
       "        vertical-align: top;\n",
       "    }\n",
       "\n",
       "    .dataframe thead th {\n",
       "        text-align: right;\n",
       "    }\n",
       "</style>\n",
       "<table border=\"1\" class=\"dataframe\">\n",
       "  <thead>\n",
       "    <tr style=\"text-align: right;\">\n",
       "      <th></th>\n",
       "      <th>450</th>\n",
       "      <th>454</th>\n",
       "      <th>458</th>\n",
       "      <th>462</th>\n",
       "      <th>466</th>\n",
       "      <th>470</th>\n",
       "      <th>474</th>\n",
       "      <th>478</th>\n",
       "      <th>482</th>\n",
       "      <th>486</th>\n",
       "      <th>...</th>\n",
       "      <th>962</th>\n",
       "      <th>966</th>\n",
       "      <th>970</th>\n",
       "      <th>974</th>\n",
       "      <th>978</th>\n",
       "      <th>982</th>\n",
       "      <th>986</th>\n",
       "      <th>990</th>\n",
       "      <th>994</th>\n",
       "      <th>998</th>\n",
       "    </tr>\n",
       "  </thead>\n",
       "  <tbody>\n",
       "    <tr>\n",
       "      <th>0</th>\n",
       "      <td>0.090347</td>\n",
       "      <td>0.108321</td>\n",
       "      <td>0.123391</td>\n",
       "      <td>0.135845</td>\n",
       "      <td>0.145975</td>\n",
       "      <td>0.154125</td>\n",
       "      <td>0.159635</td>\n",
       "      <td>0.164918</td>\n",
       "      <td>0.170134</td>\n",
       "      <td>0.175579</td>\n",
       "      <td>...</td>\n",
       "      <td>0.273946</td>\n",
       "      <td>0.272849</td>\n",
       "      <td>0.272059</td>\n",
       "      <td>0.271392</td>\n",
       "      <td>0.270901</td>\n",
       "      <td>0.270276</td>\n",
       "      <td>0.269762</td>\n",
       "      <td>0.269415</td>\n",
       "      <td>0.269293</td>\n",
       "      <td>0.269451</td>\n",
       "    </tr>\n",
       "    <tr>\n",
       "      <th>1</th>\n",
       "      <td>0.131461</td>\n",
       "      <td>0.154961</td>\n",
       "      <td>0.173581</td>\n",
       "      <td>0.188071</td>\n",
       "      <td>0.199181</td>\n",
       "      <td>0.207340</td>\n",
       "      <td>0.213903</td>\n",
       "      <td>0.220067</td>\n",
       "      <td>0.226702</td>\n",
       "      <td>0.233786</td>\n",
       "      <td>...</td>\n",
       "      <td>0.310982</td>\n",
       "      <td>0.311373</td>\n",
       "      <td>0.311499</td>\n",
       "      <td>0.311529</td>\n",
       "      <td>0.311531</td>\n",
       "      <td>0.311579</td>\n",
       "      <td>0.311293</td>\n",
       "      <td>0.311057</td>\n",
       "      <td>0.311002</td>\n",
       "      <td>0.311259</td>\n",
       "    </tr>\n",
       "    <tr>\n",
       "      <th>2</th>\n",
       "      <td>0.131958</td>\n",
       "      <td>0.151448</td>\n",
       "      <td>0.166479</td>\n",
       "      <td>0.177727</td>\n",
       "      <td>0.185868</td>\n",
       "      <td>0.191247</td>\n",
       "      <td>0.194933</td>\n",
       "      <td>0.198650</td>\n",
       "      <td>0.202753</td>\n",
       "      <td>0.207933</td>\n",
       "      <td>...</td>\n",
       "      <td>0.321169</td>\n",
       "      <td>0.321023</td>\n",
       "      <td>0.321085</td>\n",
       "      <td>0.321705</td>\n",
       "      <td>0.322087</td>\n",
       "      <td>0.322119</td>\n",
       "      <td>0.321809</td>\n",
       "      <td>0.321495</td>\n",
       "      <td>0.321334</td>\n",
       "      <td>0.321481</td>\n",
       "    </tr>\n",
       "    <tr>\n",
       "      <th>3</th>\n",
       "      <td>0.113380</td>\n",
       "      <td>0.134184</td>\n",
       "      <td>0.150814</td>\n",
       "      <td>0.163856</td>\n",
       "      <td>0.173894</td>\n",
       "      <td>0.181629</td>\n",
       "      <td>0.186704</td>\n",
       "      <td>0.191711</td>\n",
       "      <td>0.196552</td>\n",
       "      <td>0.201812</td>\n",
       "      <td>...</td>\n",
       "      <td>0.284521</td>\n",
       "      <td>0.284468</td>\n",
       "      <td>0.284835</td>\n",
       "      <td>0.285448</td>\n",
       "      <td>0.285801</td>\n",
       "      <td>0.285875</td>\n",
       "      <td>0.285714</td>\n",
       "      <td>0.285572</td>\n",
       "      <td>0.285572</td>\n",
       "      <td>0.285839</td>\n",
       "    </tr>\n",
       "    <tr>\n",
       "      <th>4</th>\n",
       "      <td>0.117353</td>\n",
       "      <td>0.138548</td>\n",
       "      <td>0.155029</td>\n",
       "      <td>0.167433</td>\n",
       "      <td>0.176401</td>\n",
       "      <td>0.182259</td>\n",
       "      <td>0.186108</td>\n",
       "      <td>0.189203</td>\n",
       "      <td>0.192364</td>\n",
       "      <td>0.196556</td>\n",
       "      <td>...</td>\n",
       "      <td>0.272634</td>\n",
       "      <td>0.273017</td>\n",
       "      <td>0.273216</td>\n",
       "      <td>0.273381</td>\n",
       "      <td>0.273634</td>\n",
       "      <td>0.274150</td>\n",
       "      <td>0.274480</td>\n",
       "      <td>0.274514</td>\n",
       "      <td>0.274098</td>\n",
       "      <td>0.273082</td>\n",
       "    </tr>\n",
       "  </tbody>\n",
       "</table>\n",
       "<p>5 rows × 138 columns</p>\n",
       "</div>"
      ],
      "text/plain": [
       "        450       454       458       462       466       470       474  \\\n",
       "0  0.090347  0.108321  0.123391  0.135845  0.145975  0.154125  0.159635   \n",
       "1  0.131461  0.154961  0.173581  0.188071  0.199181  0.207340  0.213903   \n",
       "2  0.131958  0.151448  0.166479  0.177727  0.185868  0.191247  0.194933   \n",
       "3  0.113380  0.134184  0.150814  0.163856  0.173894  0.181629  0.186704   \n",
       "4  0.117353  0.138548  0.155029  0.167433  0.176401  0.182259  0.186108   \n",
       "\n",
       "        478       482       486  ...       962       966       970       974  \\\n",
       "0  0.164918  0.170134  0.175579  ...  0.273946  0.272849  0.272059  0.271392   \n",
       "1  0.220067  0.226702  0.233786  ...  0.310982  0.311373  0.311499  0.311529   \n",
       "2  0.198650  0.202753  0.207933  ...  0.321169  0.321023  0.321085  0.321705   \n",
       "3  0.191711  0.196552  0.201812  ...  0.284521  0.284468  0.284835  0.285448   \n",
       "4  0.189203  0.192364  0.196556  ...  0.272634  0.273017  0.273216  0.273381   \n",
       "\n",
       "        978       982       986       990       994       998  \n",
       "0  0.270901  0.270276  0.269762  0.269415  0.269293  0.269451  \n",
       "1  0.311531  0.311579  0.311293  0.311057  0.311002  0.311259  \n",
       "2  0.322087  0.322119  0.321809  0.321495  0.321334  0.321481  \n",
       "3  0.285801  0.285875  0.285714  0.285572  0.285572  0.285839  \n",
       "4  0.273634  0.274150  0.274480  0.274514  0.274098  0.273082  \n",
       "\n",
       "[5 rows x 138 columns]"
      ]
     },
     "execution_count": 62,
     "metadata": {},
     "output_type": "execute_result"
    }
   ],
   "source": [
    "X = df.drop(['Pigment'], axis = 1)\n",
    "X.head()"
   ]
  },
  {
   "cell_type": "code",
   "execution_count": 63,
   "metadata": {},
   "outputs": [
    {
     "data": {
      "text/html": [
       "<div>\n",
       "<style scoped>\n",
       "    .dataframe tbody tr th:only-of-type {\n",
       "        vertical-align: middle;\n",
       "    }\n",
       "\n",
       "    .dataframe tbody tr th {\n",
       "        vertical-align: top;\n",
       "    }\n",
       "\n",
       "    .dataframe thead th {\n",
       "        text-align: right;\n",
       "    }\n",
       "</style>\n",
       "<table border=\"1\" class=\"dataframe\">\n",
       "  <thead>\n",
       "    <tr style=\"text-align: right;\">\n",
       "      <th></th>\n",
       "      <th>Pigment</th>\n",
       "    </tr>\n",
       "  </thead>\n",
       "  <tbody>\n",
       "    <tr>\n",
       "      <th>0</th>\n",
       "      <td>0</td>\n",
       "    </tr>\n",
       "    <tr>\n",
       "      <th>1</th>\n",
       "      <td>0</td>\n",
       "    </tr>\n",
       "    <tr>\n",
       "      <th>2</th>\n",
       "      <td>0</td>\n",
       "    </tr>\n",
       "    <tr>\n",
       "      <th>3</th>\n",
       "      <td>0</td>\n",
       "    </tr>\n",
       "    <tr>\n",
       "      <th>4</th>\n",
       "      <td>0</td>\n",
       "    </tr>\n",
       "  </tbody>\n",
       "</table>\n",
       "</div>"
      ],
      "text/plain": [
       "   Pigment\n",
       "0        0\n",
       "1        0\n",
       "2        0\n",
       "3        0\n",
       "4        0"
      ]
     },
     "execution_count": 63,
     "metadata": {},
     "output_type": "execute_result"
    }
   ],
   "source": [
    "y = df[['Pigment']]\n",
    "y.head()"
   ]
  },
  {
   "cell_type": "code",
   "execution_count": 64,
   "metadata": {},
   "outputs": [],
   "source": [
    "X_train, X_test, y_train, y_test = train_test_split(X, y, test_size=0.2, stratify=y)"
   ]
  },
  {
   "cell_type": "code",
   "execution_count": 65,
   "metadata": {},
   "outputs": [
    {
     "data": {
      "text/html": [
       "<div>\n",
       "<style scoped>\n",
       "    .dataframe tbody tr th:only-of-type {\n",
       "        vertical-align: middle;\n",
       "    }\n",
       "\n",
       "    .dataframe tbody tr th {\n",
       "        vertical-align: top;\n",
       "    }\n",
       "\n",
       "    .dataframe thead th {\n",
       "        text-align: right;\n",
       "    }\n",
       "</style>\n",
       "<table border=\"1\" class=\"dataframe\">\n",
       "  <thead>\n",
       "    <tr style=\"text-align: right;\">\n",
       "      <th></th>\n",
       "      <th>Pigment</th>\n",
       "      <th>Count</th>\n",
       "    </tr>\n",
       "  </thead>\n",
       "  <tbody>\n",
       "    <tr>\n",
       "      <th>0</th>\n",
       "      <td>0</td>\n",
       "      <td>12</td>\n",
       "    </tr>\n",
       "    <tr>\n",
       "      <th>1</th>\n",
       "      <td>1</td>\n",
       "      <td>4</td>\n",
       "    </tr>\n",
       "  </tbody>\n",
       "</table>\n",
       "</div>"
      ],
      "text/plain": [
       "   Pigment  Count\n",
       "0        0     12\n",
       "1        1      4"
      ]
     },
     "execution_count": 65,
     "metadata": {},
     "output_type": "execute_result"
    }
   ],
   "source": [
    "test_count = y_test.reset_index().groupby('Pigment').count().reset_index().rename(columns={'index':'Count'})\n",
    "test_count"
   ]
  },
  {
   "cell_type": "code",
   "execution_count": 66,
   "metadata": {},
   "outputs": [
    {
     "data": {
      "text/plain": [
       "<AxesSubplot:xlabel='Pigment', ylabel='Count'>"
      ]
     },
     "execution_count": 66,
     "metadata": {},
     "output_type": "execute_result"
    },
    {
     "data": {
      "image/png": "[encoded data removed]",
      "text/plain": [
       "<Figure size 648x648 with 1 Axes>"
      ]
     },
     "metadata": {
      "needs_background": "light"
     },
     "output_type": "display_data"
    }
   ],
   "source": [
    "plt.figure(figsize=(9,9))\n",
    "sns.barplot(data=test_count, x='Pigment', y='Count')"
   ]
  },
  {
   "cell_type": "code",
   "execution_count": 67,
   "metadata": {},
   "outputs": [
    {
     "data": {
      "text/html": [
       "<div>\n",
       "<style scoped>\n",
       "    .dataframe tbody tr th:only-of-type {\n",
       "        vertical-align: middle;\n",
       "    }\n",
       "\n",
       "    .dataframe tbody tr th {\n",
       "        vertical-align: top;\n",
       "    }\n",
       "\n",
       "    .dataframe thead th {\n",
       "        text-align: right;\n",
       "    }\n",
       "</style>\n",
       "<table border=\"1\" class=\"dataframe\">\n",
       "  <thead>\n",
       "    <tr style=\"text-align: right;\">\n",
       "      <th></th>\n",
       "      <th>Pigment</th>\n",
       "      <th>Count</th>\n",
       "    </tr>\n",
       "  </thead>\n",
       "  <tbody>\n",
       "    <tr>\n",
       "      <th>0</th>\n",
       "      <td>0</td>\n",
       "      <td>47</td>\n",
       "    </tr>\n",
       "    <tr>\n",
       "      <th>1</th>\n",
       "      <td>1</td>\n",
       "      <td>15</td>\n",
       "    </tr>\n",
       "  </tbody>\n",
       "</table>\n",
       "</div>"
      ],
      "text/plain": [
       "   Pigment  Count\n",
       "0        0     47\n",
       "1        1     15"
      ]
     },
     "execution_count": 67,
     "metadata": {},
     "output_type": "execute_result"
    }
   ],
   "source": [
    "train_count = y_train.reset_index().groupby('Pigment').count().reset_index().rename(columns={'index':'Count'})\n",
    "train_count"
   ]
  },
  {
   "cell_type": "code",
   "execution_count": 68,
   "metadata": {},
   "outputs": [
    {
     "data": {
      "text/plain": [
       "<AxesSubplot:xlabel='Pigment', ylabel='Count'>"
      ]
     },
     "execution_count": 68,
     "metadata": {},
     "output_type": "execute_result"
    },
    {
     "data": {
      "image/png": "[encoded data removed]",
      "text/plain": [
       "<Figure size 648x648 with 1 Axes>"
      ]
     },
     "metadata": {
      "needs_background": "light"
     },
     "output_type": "display_data"
    }
   ],
   "source": [
    "plt.figure(figsize=(9,9))\n",
    "sns.barplot(data=train_count, x='Pigment', y='Count')"
   ]
  },
  {
   "cell_type": "markdown",
   "metadata": {},
   "source": [
    "Логистическая регрессия"
   ]
  },
  {
   "cell_type": "code",
   "execution_count": 69,
   "metadata": {},
   "outputs": [],
   "source": [
    "logistic_regr_pipe = Pipeline([('feature', Pipeline([('scaler', StandardScaler()), ('pca', PCA(n_components=5))])),\n",
    "                               ('logistic_regr', LogisticRegressionCV(cv=cv))])"
   ]
  },
  {
   "cell_type": "code",
   "execution_count": 70,
   "metadata": {},
   "outputs": [],
   "source": [
    "X_train = logistic_regr_pipe['feature'].fit_transform(X_train)\n",
    "X_test = logistic_regr_pipe['feature'].transform(X_test)"
   ]
  },
  {
   "cell_type": "code",
   "execution_count": 71,
   "metadata": {},
   "outputs": [
    {
     "data": {
      "text/plain": [
       "LogisticRegressionCV(cv=StratifiedKFold(n_splits=3, random_state=None, shuffle=False))"
      ]
     },
     "execution_count": 71,
     "metadata": {},
     "output_type": "execute_result"
    }
   ],
   "source": [
    "logistic_regr_pipe['logistic_regr'].fit(X_train, y_train)"
   ]
  },
  {
   "cell_type": "code",
   "execution_count": 72,
   "metadata": {},
   "outputs": [
    {
     "data": {
      "text/plain": [
       "array([-3.82464572])"
      ]
     },
     "execution_count": 72,
     "metadata": {},
     "output_type": "execute_result"
    }
   ],
   "source": [
    "logistic_regr_pipe['logistic_regr'].intercept_"
   ]
  },
  {
   "cell_type": "markdown",
   "metadata": {},
   "source": [
    "Random Forest"
   ]
  },
  {
   "cell_type": "code",
   "execution_count": 73,
   "metadata": {},
   "outputs": [],
   "source": [
    "parameters_random_forest = { 'max_depth':[2, 5], 'min_samples_split': [1, 5], \n",
    "                            'min_samples_leaf': [1, 5]}"
   ]
  },
  {
   "cell_type": "code",
   "execution_count": 74,
   "metadata": {},
   "outputs": [
    {
     "data": {
      "text/plain": [
       "GridSearchCV(cv=StratifiedKFold(n_splits=3, random_state=None, shuffle=False),\n",
       "             estimator=RandomForestClassifier(n_estimators=150),\n",
       "             param_grid={'max_depth': [2, 5], 'min_samples_leaf': [1, 5],\n",
       "                         'min_samples_split': [1, 5]})"
      ]
     },
     "execution_count": 74,
     "metadata": {},
     "output_type": "execute_result"
    }
   ],
   "source": [
    "clf_forest = GridSearchCV(RandomForestClassifier(n_estimators=150), parameters_random_forest, cv=cv)\n",
    "clf_forest.fit(X_train, y_train)"
   ]
  },
  {
   "cell_type": "code",
   "execution_count": 76,
   "metadata": {},
   "outputs": [
    {
     "data": {
      "text/plain": [
       "{'max_depth': 5, 'min_samples_leaf': 1, 'min_samples_split': 5}"
      ]
     },
     "execution_count": 76,
     "metadata": {},
     "output_type": "execute_result"
    }
   ],
   "source": [
    "clf_forest.best_params_"
   ]
  },
  {
   "cell_type": "code",
   "execution_count": 77,
   "metadata": {},
   "outputs": [],
   "source": [
    "random_forest_pipe = Pipeline([('feature', Pipeline([('scaler', StandardScaler()), ('pca', PCA(n_components=5))])),\n",
    "                               ('random_forest', clf_forest.best_estimator_)])"
   ]
  },
  {
   "cell_type": "markdown",
   "metadata": {},
   "source": [
    "Градиентный бустинг"
   ]
  },
  {
   "cell_type": "code",
   "execution_count": 78,
   "metadata": {},
   "outputs": [],
   "source": [
    "parameters_boosting = { 'learning_rate':np.power(2, np.arange(10))}"
   ]
  },
  {
   "cell_type": "code",
   "execution_count": 79,
   "metadata": {},
   "outputs": [
    {
     "data": {
      "text/plain": [
       "GridSearchCV(cv=StratifiedKFold(n_splits=3, random_state=None, shuffle=False),\n",
       "             estimator=GradientBoostingClassifier(n_estimators=150),\n",
       "             param_grid={'learning_rate': array([  1,   2,   4,   8,  16,  32,  64, 128, 256, 512])})"
      ]
     },
     "execution_count": 79,
     "metadata": {},
     "output_type": "execute_result"
    }
   ],
   "source": [
    "clf_boosting = GridSearchCV(GradientBoostingClassifier(n_estimators=150), parameters_boosting, cv=cv)\n",
    "clf_boosting.fit(X_train, y_train)"
   ]
  },
  {
   "cell_type": "code",
   "execution_count": 81,
   "metadata": {},
   "outputs": [
    {
     "data": {
      "text/plain": [
       "{'learning_rate': 2}"
      ]
     },
     "execution_count": 81,
     "metadata": {},
     "output_type": "execute_result"
    }
   ],
   "source": [
    "clf_boosting.best_params_"
   ]
  },
  {
   "cell_type": "code",
   "execution_count": 82,
   "metadata": {},
   "outputs": [],
   "source": [
    "gradient_boosting_pipe = Pipeline([('feature', Pipeline([('scaler', StandardScaler()), ('pca', PCA(n_components=5))])),\n",
    "                               ('gradient_boosting', clf_boosting.best_estimator_)])"
   ]
  },
  {
   "cell_type": "markdown",
   "metadata": {},
   "source": [
    "Результаты"
   ]
  },
  {
   "cell_type": "markdown",
   "metadata": {},
   "source": [
    "Результаты на тренеровочной выборки"
   ]
  },
  {
   "cell_type": "code",
   "execution_count": 83,
   "metadata": {},
   "outputs": [
    {
     "data": {
      "text/html": [
       "<div>\n",
       "<style scoped>\n",
       "    .dataframe tbody tr th:only-of-type {\n",
       "        vertical-align: middle;\n",
       "    }\n",
       "\n",
       "    .dataframe tbody tr th {\n",
       "        vertical-align: top;\n",
       "    }\n",
       "\n",
       "    .dataframe thead th {\n",
       "        text-align: right;\n",
       "    }\n",
       "</style>\n",
       "<table border=\"1\" class=\"dataframe\">\n",
       "  <thead>\n",
       "    <tr style=\"text-align: right;\">\n",
       "      <th></th>\n",
       "      <th>model</th>\n",
       "      <th>accuracy</th>\n",
       "      <th>f1</th>\n",
       "      <th>precision</th>\n",
       "      <th>recall</th>\n",
       "    </tr>\n",
       "  </thead>\n",
       "  <tbody>\n",
       "    <tr>\n",
       "      <th>0</th>\n",
       "      <td>Логистическая регрессия</td>\n",
       "      <td>0.887097</td>\n",
       "      <td>0.758621</td>\n",
       "      <td>0.785714</td>\n",
       "      <td>0.733333</td>\n",
       "    </tr>\n",
       "    <tr>\n",
       "      <th>1</th>\n",
       "      <td>Random Forest</td>\n",
       "      <td>1.000000</td>\n",
       "      <td>1.000000</td>\n",
       "      <td>1.000000</td>\n",
       "      <td>1.000000</td>\n",
       "    </tr>\n",
       "    <tr>\n",
       "      <th>2</th>\n",
       "      <td>Градиентный бустинг</td>\n",
       "      <td>1.000000</td>\n",
       "      <td>1.000000</td>\n",
       "      <td>1.000000</td>\n",
       "      <td>1.000000</td>\n",
       "    </tr>\n",
       "  </tbody>\n",
       "</table>\n",
       "</div>"
      ],
      "text/plain": [
       "                     model  accuracy        f1  precision    recall\n",
       "0  Логистическая регрессия  0.887097  0.758621   0.785714  0.733333\n",
       "1            Random Forest  1.000000  1.000000   1.000000  1.000000\n",
       "2      Градиентный бустинг  1.000000  1.000000   1.000000  1.000000"
      ]
     },
     "execution_count": 83,
     "metadata": {},
     "output_type": "execute_result"
    }
   ],
   "source": [
    "get_metrics([logistic_regr_pipe['logistic_regr'], random_forest_pipe['random_forest'], \n",
    "             gradient_boosting_pipe['gradient_boosting']], \n",
    "             ['Логистическая регрессия', 'Random Forest', 'Градиентный бустинг'], X_train, y_train)"
   ]
  },
  {
   "cell_type": "markdown",
   "metadata": {},
   "source": [
    "Результаты на тестовой выборки"
   ]
  },
  {
   "cell_type": "code",
   "execution_count": 84,
   "metadata": {},
   "outputs": [
    {
     "data": {
      "text/html": [
       "<div>\n",
       "<style scoped>\n",
       "    .dataframe tbody tr th:only-of-type {\n",
       "        vertical-align: middle;\n",
       "    }\n",
       "\n",
       "    .dataframe tbody tr th {\n",
       "        vertical-align: top;\n",
       "    }\n",
       "\n",
       "    .dataframe thead th {\n",
       "        text-align: right;\n",
       "    }\n",
       "</style>\n",
       "<table border=\"1\" class=\"dataframe\">\n",
       "  <thead>\n",
       "    <tr style=\"text-align: right;\">\n",
       "      <th></th>\n",
       "      <th>model</th>\n",
       "      <th>accuracy</th>\n",
       "      <th>f1</th>\n",
       "      <th>precision</th>\n",
       "      <th>recall</th>\n",
       "    </tr>\n",
       "  </thead>\n",
       "  <tbody>\n",
       "    <tr>\n",
       "      <th>0</th>\n",
       "      <td>Логистическая регрессия</td>\n",
       "      <td>0.875</td>\n",
       "      <td>0.750000</td>\n",
       "      <td>0.75</td>\n",
       "      <td>0.75</td>\n",
       "    </tr>\n",
       "    <tr>\n",
       "      <th>1</th>\n",
       "      <td>Random Forest</td>\n",
       "      <td>0.875</td>\n",
       "      <td>0.666667</td>\n",
       "      <td>1.00</td>\n",
       "      <td>0.50</td>\n",
       "    </tr>\n",
       "    <tr>\n",
       "      <th>2</th>\n",
       "      <td>Градиентный бустинг</td>\n",
       "      <td>0.750</td>\n",
       "      <td>0.333333</td>\n",
       "      <td>0.50</td>\n",
       "      <td>0.25</td>\n",
       "    </tr>\n",
       "  </tbody>\n",
       "</table>\n",
       "</div>"
      ],
      "text/plain": [
       "                     model  accuracy        f1  precision  recall\n",
       "0  Логистическая регрессия     0.875  0.750000       0.75    0.75\n",
       "1            Random Forest     0.875  0.666667       1.00    0.50\n",
       "2      Градиентный бустинг     0.750  0.333333       0.50    0.25"
      ]
     },
     "execution_count": 84,
     "metadata": {},
     "output_type": "execute_result"
    }
   ],
   "source": [
    "get_metrics([logistic_regr_pipe['logistic_regr'], random_forest_pipe['random_forest'], \n",
    "             gradient_boosting_pipe['gradient_boosting']], \n",
    "             ['Логистическая регрессия', 'Random Forest', 'Градиентный бустинг'], X_test, y_test)"
   ]
  },
  {
   "cell_type": "markdown",
   "metadata": {},
   "source": [
    "$\\textbf{Классификация по наличию пигмента}$"
   ]
  },
  {
   "cell_type": "markdown",
   "metadata": {},
   "source": [
    "информация о данных"
   ]
  },
  {
   "cell_type": "code",
   "execution_count": 85,
   "metadata": {},
   "outputs": [
    {
     "data": {
      "text/html": [
       "<div>\n",
       "<style scoped>\n",
       "    .dataframe tbody tr th:only-of-type {\n",
       "        vertical-align: middle;\n",
       "    }\n",
       "\n",
       "    .dataframe tbody tr th {\n",
       "        vertical-align: top;\n",
       "    }\n",
       "\n",
       "    .dataframe thead th {\n",
       "        text-align: right;\n",
       "    }\n",
       "</style>\n",
       "<table border=\"1\" class=\"dataframe\">\n",
       "  <thead>\n",
       "    <tr style=\"text-align: right;\">\n",
       "      <th></th>\n",
       "      <th>450</th>\n",
       "      <th>454</th>\n",
       "      <th>458</th>\n",
       "      <th>462</th>\n",
       "      <th>466</th>\n",
       "      <th>470</th>\n",
       "      <th>474</th>\n",
       "      <th>478</th>\n",
       "      <th>482</th>\n",
       "      <th>486</th>\n",
       "      <th>...</th>\n",
       "      <th>966</th>\n",
       "      <th>970</th>\n",
       "      <th>974</th>\n",
       "      <th>978</th>\n",
       "      <th>982</th>\n",
       "      <th>986</th>\n",
       "      <th>990</th>\n",
       "      <th>994</th>\n",
       "      <th>998</th>\n",
       "      <th>Pigment</th>\n",
       "    </tr>\n",
       "  </thead>\n",
       "  <tbody>\n",
       "    <tr>\n",
       "      <th>56</th>\n",
       "      <td>0.129634</td>\n",
       "      <td>0.147845</td>\n",
       "      <td>0.162249</td>\n",
       "      <td>0.173475</td>\n",
       "      <td>0.182155</td>\n",
       "      <td>0.188605</td>\n",
       "      <td>0.193952</td>\n",
       "      <td>0.199226</td>\n",
       "      <td>0.205464</td>\n",
       "      <td>0.213467</td>\n",
       "      <td>...</td>\n",
       "      <td>0.346518</td>\n",
       "      <td>0.346275</td>\n",
       "      <td>0.345989</td>\n",
       "      <td>0.345712</td>\n",
       "      <td>0.345416</td>\n",
       "      <td>0.345299</td>\n",
       "      <td>0.345233</td>\n",
       "      <td>0.345195</td>\n",
       "      <td>0.345161</td>\n",
       "      <td>1</td>\n",
       "    </tr>\n",
       "    <tr>\n",
       "      <th>10</th>\n",
       "      <td>0.158506</td>\n",
       "      <td>0.187828</td>\n",
       "      <td>0.209954</td>\n",
       "      <td>0.226149</td>\n",
       "      <td>0.237680</td>\n",
       "      <td>0.245846</td>\n",
       "      <td>0.251985</td>\n",
       "      <td>0.257504</td>\n",
       "      <td>0.263459</td>\n",
       "      <td>0.269049</td>\n",
       "      <td>...</td>\n",
       "      <td>0.340978</td>\n",
       "      <td>0.340336</td>\n",
       "      <td>0.340003</td>\n",
       "      <td>0.340068</td>\n",
       "      <td>0.339537</td>\n",
       "      <td>0.339158</td>\n",
       "      <td>0.338857</td>\n",
       "      <td>0.338671</td>\n",
       "      <td>0.338638</td>\n",
       "      <td>1</td>\n",
       "    </tr>\n",
       "    <tr>\n",
       "      <th>73</th>\n",
       "      <td>0.027155</td>\n",
       "      <td>0.031206</td>\n",
       "      <td>0.034539</td>\n",
       "      <td>0.037208</td>\n",
       "      <td>0.039263</td>\n",
       "      <td>0.040841</td>\n",
       "      <td>0.041552</td>\n",
       "      <td>0.042023</td>\n",
       "      <td>0.042601</td>\n",
       "      <td>0.043156</td>\n",
       "      <td>...</td>\n",
       "      <td>0.067069</td>\n",
       "      <td>0.067154</td>\n",
       "      <td>0.067287</td>\n",
       "      <td>0.067361</td>\n",
       "      <td>0.067595</td>\n",
       "      <td>0.067609</td>\n",
       "      <td>0.067586</td>\n",
       "      <td>0.067558</td>\n",
       "      <td>0.067558</td>\n",
       "      <td>0</td>\n",
       "    </tr>\n",
       "    <tr>\n",
       "      <th>45</th>\n",
       "      <td>0.038525</td>\n",
       "      <td>0.044941</td>\n",
       "      <td>0.049708</td>\n",
       "      <td>0.053042</td>\n",
       "      <td>0.055159</td>\n",
       "      <td>0.056314</td>\n",
       "      <td>0.056404</td>\n",
       "      <td>0.056291</td>\n",
       "      <td>0.056338</td>\n",
       "      <td>0.056569</td>\n",
       "      <td>...</td>\n",
       "      <td>0.063975</td>\n",
       "      <td>0.064171</td>\n",
       "      <td>0.064118</td>\n",
       "      <td>0.064106</td>\n",
       "      <td>0.063802</td>\n",
       "      <td>0.063497</td>\n",
       "      <td>0.063144</td>\n",
       "      <td>0.062766</td>\n",
       "      <td>0.062389</td>\n",
       "      <td>0</td>\n",
       "    </tr>\n",
       "    <tr>\n",
       "      <th>40</th>\n",
       "      <td>0.060695</td>\n",
       "      <td>0.069054</td>\n",
       "      <td>0.074664</td>\n",
       "      <td>0.078020</td>\n",
       "      <td>0.079615</td>\n",
       "      <td>0.079879</td>\n",
       "      <td>0.079389</td>\n",
       "      <td>0.078975</td>\n",
       "      <td>0.078892</td>\n",
       "      <td>0.079411</td>\n",
       "      <td>...</td>\n",
       "      <td>0.068921</td>\n",
       "      <td>0.069509</td>\n",
       "      <td>0.069836</td>\n",
       "      <td>0.070064</td>\n",
       "      <td>0.070108</td>\n",
       "      <td>0.070247</td>\n",
       "      <td>0.070358</td>\n",
       "      <td>0.070430</td>\n",
       "      <td>0.070454</td>\n",
       "      <td>0</td>\n",
       "    </tr>\n",
       "    <tr>\n",
       "      <th>36</th>\n",
       "      <td>0.131937</td>\n",
       "      <td>0.157689</td>\n",
       "      <td>0.178477</td>\n",
       "      <td>0.194948</td>\n",
       "      <td>0.207749</td>\n",
       "      <td>0.217225</td>\n",
       "      <td>0.224108</td>\n",
       "      <td>0.230814</td>\n",
       "      <td>0.237221</td>\n",
       "      <td>0.244302</td>\n",
       "      <td>...</td>\n",
       "      <td>0.331660</td>\n",
       "      <td>0.332017</td>\n",
       "      <td>0.332674</td>\n",
       "      <td>0.333633</td>\n",
       "      <td>0.333533</td>\n",
       "      <td>0.333333</td>\n",
       "      <td>0.333156</td>\n",
       "      <td>0.333156</td>\n",
       "      <td>0.333488</td>\n",
       "      <td>1</td>\n",
       "    </tr>\n",
       "    <tr>\n",
       "      <th>59</th>\n",
       "      <td>0.124589</td>\n",
       "      <td>0.147464</td>\n",
       "      <td>0.164967</td>\n",
       "      <td>0.177943</td>\n",
       "      <td>0.187237</td>\n",
       "      <td>0.193739</td>\n",
       "      <td>0.197897</td>\n",
       "      <td>0.201466</td>\n",
       "      <td>0.205204</td>\n",
       "      <td>0.209007</td>\n",
       "      <td>...</td>\n",
       "      <td>0.229896</td>\n",
       "      <td>0.229540</td>\n",
       "      <td>0.228901</td>\n",
       "      <td>0.228122</td>\n",
       "      <td>0.227318</td>\n",
       "      <td>0.226679</td>\n",
       "      <td>0.226532</td>\n",
       "      <td>0.227122</td>\n",
       "      <td>0.228697</td>\n",
       "      <td>0</td>\n",
       "    </tr>\n",
       "  </tbody>\n",
       "</table>\n",
       "<p>7 rows × 139 columns</p>\n",
       "</div>"
      ],
      "text/plain": [
       "         450       454       458       462       466       470       474  \\\n",
       "56  0.129634  0.147845  0.162249  0.173475  0.182155  0.188605  0.193952   \n",
       "10  0.158506  0.187828  0.209954  0.226149  0.237680  0.245846  0.251985   \n",
       "73  0.027155  0.031206  0.034539  0.037208  0.039263  0.040841  0.041552   \n",
       "45  0.038525  0.044941  0.049708  0.053042  0.055159  0.056314  0.056404   \n",
       "40  0.060695  0.069054  0.074664  0.078020  0.079615  0.079879  0.079389   \n",
       "36  0.131937  0.157689  0.178477  0.194948  0.207749  0.217225  0.224108   \n",
       "59  0.124589  0.147464  0.164967  0.177943  0.187237  0.193739  0.197897   \n",
       "\n",
       "         478       482       486  ...       966       970       974       978  \\\n",
       "56  0.199226  0.205464  0.213467  ...  0.346518  0.346275  0.345989  0.345712   \n",
       "10  0.257504  0.263459  0.269049  ...  0.340978  0.340336  0.340003  0.340068   \n",
       "73  0.042023  0.042601  0.043156  ...  0.067069  0.067154  0.067287  0.067361   \n",
       "45  0.056291  0.056338  0.056569  ...  0.063975  0.064171  0.064118  0.064106   \n",
       "40  0.078975  0.078892  0.079411  ...  0.068921  0.069509  0.069836  0.070064   \n",
       "36  0.230814  0.237221  0.244302  ...  0.331660  0.332017  0.332674  0.333633   \n",
       "59  0.201466  0.205204  0.209007  ...  0.229896  0.229540  0.228901  0.228122   \n",
       "\n",
       "         982       986       990       994       998  Pigment  \n",
       "56  0.345416  0.345299  0.345233  0.345195  0.345161        1  \n",
       "10  0.339537  0.339158  0.338857  0.338671  0.338638        1  \n",
       "73  0.067595  0.067609  0.067586  0.067558  0.067558        0  \n",
       "45  0.063802  0.063497  0.063144  0.062766  0.062389        0  \n",
       "40  0.070108  0.070247  0.070358  0.070430  0.070454        0  \n",
       "36  0.333533  0.333333  0.333156  0.333156  0.333488        1  \n",
       "59  0.227318  0.226679  0.226532  0.227122  0.228697        0  \n",
       "\n",
       "[7 rows x 139 columns]"
      ]
     },
     "execution_count": 85,
     "metadata": {},
     "output_type": "execute_result"
    }
   ],
   "source": [
    "df = get_med_df_bin_classific(hyper_imgs, 'white')\n",
    "df.sample(7)"
   ]
  },
  {
   "cell_type": "markdown",
   "metadata": {},
   "source": [
    "количество образцов каждого класса"
   ]
  },
  {
   "cell_type": "code",
   "execution_count": 86,
   "metadata": {},
   "outputs": [
    {
     "data": {
      "text/html": [
       "<div>\n",
       "<style scoped>\n",
       "    .dataframe tbody tr th:only-of-type {\n",
       "        vertical-align: middle;\n",
       "    }\n",
       "\n",
       "    .dataframe tbody tr th {\n",
       "        vertical-align: top;\n",
       "    }\n",
       "\n",
       "    .dataframe thead th {\n",
       "        text-align: right;\n",
       "    }\n",
       "</style>\n",
       "<table border=\"1\" class=\"dataframe\">\n",
       "  <thead>\n",
       "    <tr style=\"text-align: right;\">\n",
       "      <th></th>\n",
       "      <th>Pigment</th>\n",
       "      <th>Count</th>\n",
       "    </tr>\n",
       "  </thead>\n",
       "  <tbody>\n",
       "    <tr>\n",
       "      <th>0</th>\n",
       "      <td>0</td>\n",
       "      <td>38</td>\n",
       "    </tr>\n",
       "    <tr>\n",
       "      <th>1</th>\n",
       "      <td>1</td>\n",
       "      <td>40</td>\n",
       "    </tr>\n",
       "  </tbody>\n",
       "</table>\n",
       "</div>"
      ],
      "text/plain": [
       "   Pigment  Count\n",
       "0        0     38\n",
       "1        1     40"
      ]
     },
     "execution_count": 86,
     "metadata": {},
     "output_type": "execute_result"
    }
   ],
   "source": [
    "df_count = df.groupby('Pigment', as_index=True).count()[[450]].rename(columns={450:'Count'}).reset_index()\n",
    "df_count"
   ]
  },
  {
   "cell_type": "code",
   "execution_count": 87,
   "metadata": {},
   "outputs": [
    {
     "data": {
      "text/plain": [
       "<AxesSubplot:xlabel='Pigment', ylabel='Count'>"
      ]
     },
     "execution_count": 87,
     "metadata": {},
     "output_type": "execute_result"
    },
    {
     "data": {
      "image/png": "[encoded data removed]",
      "text/plain": [
       "<Figure size 648x648 with 1 Axes>"
      ]
     },
     "metadata": {
      "needs_background": "light"
     },
     "output_type": "display_data"
    }
   ],
   "source": [
    "plt.figure(figsize=(9,9))\n",
    "sns.barplot(data=df_count, x='Pigment', y='Count')"
   ]
  },
  {
   "cell_type": "markdown",
   "metadata": {},
   "source": [
    "разделение выборки на обучающию и тестовую"
   ]
  },
  {
   "cell_type": "code",
   "execution_count": 88,
   "metadata": {},
   "outputs": [
    {
     "data": {
      "text/html": [
       "<div>\n",
       "<style scoped>\n",
       "    .dataframe tbody tr th:only-of-type {\n",
       "        vertical-align: middle;\n",
       "    }\n",
       "\n",
       "    .dataframe tbody tr th {\n",
       "        vertical-align: top;\n",
       "    }\n",
       "\n",
       "    .dataframe thead th {\n",
       "        text-align: right;\n",
       "    }\n",
       "</style>\n",
       "<table border=\"1\" class=\"dataframe\">\n",
       "  <thead>\n",
       "    <tr style=\"text-align: right;\">\n",
       "      <th></th>\n",
       "      <th>450</th>\n",
       "      <th>454</th>\n",
       "      <th>458</th>\n",
       "      <th>462</th>\n",
       "      <th>466</th>\n",
       "      <th>470</th>\n",
       "      <th>474</th>\n",
       "      <th>478</th>\n",
       "      <th>482</th>\n",
       "      <th>486</th>\n",
       "      <th>...</th>\n",
       "      <th>962</th>\n",
       "      <th>966</th>\n",
       "      <th>970</th>\n",
       "      <th>974</th>\n",
       "      <th>978</th>\n",
       "      <th>982</th>\n",
       "      <th>986</th>\n",
       "      <th>990</th>\n",
       "      <th>994</th>\n",
       "      <th>998</th>\n",
       "    </tr>\n",
       "  </thead>\n",
       "  <tbody>\n",
       "    <tr>\n",
       "      <th>0</th>\n",
       "      <td>0.090347</td>\n",
       "      <td>0.108321</td>\n",
       "      <td>0.123391</td>\n",
       "      <td>0.135845</td>\n",
       "      <td>0.145975</td>\n",
       "      <td>0.154125</td>\n",
       "      <td>0.159635</td>\n",
       "      <td>0.164918</td>\n",
       "      <td>0.170134</td>\n",
       "      <td>0.175579</td>\n",
       "      <td>...</td>\n",
       "      <td>0.273946</td>\n",
       "      <td>0.272849</td>\n",
       "      <td>0.272059</td>\n",
       "      <td>0.271392</td>\n",
       "      <td>0.270901</td>\n",
       "      <td>0.270276</td>\n",
       "      <td>0.269762</td>\n",
       "      <td>0.269415</td>\n",
       "      <td>0.269293</td>\n",
       "      <td>0.269451</td>\n",
       "    </tr>\n",
       "    <tr>\n",
       "      <th>1</th>\n",
       "      <td>0.131461</td>\n",
       "      <td>0.154961</td>\n",
       "      <td>0.173581</td>\n",
       "      <td>0.188071</td>\n",
       "      <td>0.199181</td>\n",
       "      <td>0.207340</td>\n",
       "      <td>0.213903</td>\n",
       "      <td>0.220067</td>\n",
       "      <td>0.226702</td>\n",
       "      <td>0.233786</td>\n",
       "      <td>...</td>\n",
       "      <td>0.310982</td>\n",
       "      <td>0.311373</td>\n",
       "      <td>0.311499</td>\n",
       "      <td>0.311529</td>\n",
       "      <td>0.311531</td>\n",
       "      <td>0.311579</td>\n",
       "      <td>0.311293</td>\n",
       "      <td>0.311057</td>\n",
       "      <td>0.311002</td>\n",
       "      <td>0.311259</td>\n",
       "    </tr>\n",
       "    <tr>\n",
       "      <th>2</th>\n",
       "      <td>0.131958</td>\n",
       "      <td>0.151448</td>\n",
       "      <td>0.166479</td>\n",
       "      <td>0.177727</td>\n",
       "      <td>0.185868</td>\n",
       "      <td>0.191247</td>\n",
       "      <td>0.194933</td>\n",
       "      <td>0.198650</td>\n",
       "      <td>0.202753</td>\n",
       "      <td>0.207933</td>\n",
       "      <td>...</td>\n",
       "      <td>0.321169</td>\n",
       "      <td>0.321023</td>\n",
       "      <td>0.321085</td>\n",
       "      <td>0.321705</td>\n",
       "      <td>0.322087</td>\n",
       "      <td>0.322119</td>\n",
       "      <td>0.321809</td>\n",
       "      <td>0.321495</td>\n",
       "      <td>0.321334</td>\n",
       "      <td>0.321481</td>\n",
       "    </tr>\n",
       "    <tr>\n",
       "      <th>3</th>\n",
       "      <td>0.113380</td>\n",
       "      <td>0.134184</td>\n",
       "      <td>0.150814</td>\n",
       "      <td>0.163856</td>\n",
       "      <td>0.173894</td>\n",
       "      <td>0.181629</td>\n",
       "      <td>0.186704</td>\n",
       "      <td>0.191711</td>\n",
       "      <td>0.196552</td>\n",
       "      <td>0.201812</td>\n",
       "      <td>...</td>\n",
       "      <td>0.284521</td>\n",
       "      <td>0.284468</td>\n",
       "      <td>0.284835</td>\n",
       "      <td>0.285448</td>\n",
       "      <td>0.285801</td>\n",
       "      <td>0.285875</td>\n",
       "      <td>0.285714</td>\n",
       "      <td>0.285572</td>\n",
       "      <td>0.285572</td>\n",
       "      <td>0.285839</td>\n",
       "    </tr>\n",
       "    <tr>\n",
       "      <th>4</th>\n",
       "      <td>0.117353</td>\n",
       "      <td>0.138548</td>\n",
       "      <td>0.155029</td>\n",
       "      <td>0.167433</td>\n",
       "      <td>0.176401</td>\n",
       "      <td>0.182259</td>\n",
       "      <td>0.186108</td>\n",
       "      <td>0.189203</td>\n",
       "      <td>0.192364</td>\n",
       "      <td>0.196556</td>\n",
       "      <td>...</td>\n",
       "      <td>0.272634</td>\n",
       "      <td>0.273017</td>\n",
       "      <td>0.273216</td>\n",
       "      <td>0.273381</td>\n",
       "      <td>0.273634</td>\n",
       "      <td>0.274150</td>\n",
       "      <td>0.274480</td>\n",
       "      <td>0.274514</td>\n",
       "      <td>0.274098</td>\n",
       "      <td>0.273082</td>\n",
       "    </tr>\n",
       "  </tbody>\n",
       "</table>\n",
       "<p>5 rows × 138 columns</p>\n",
       "</div>"
      ],
      "text/plain": [
       "        450       454       458       462       466       470       474  \\\n",
       "0  0.090347  0.108321  0.123391  0.135845  0.145975  0.154125  0.159635   \n",
       "1  0.131461  0.154961  0.173581  0.188071  0.199181  0.207340  0.213903   \n",
       "2  0.131958  0.151448  0.166479  0.177727  0.185868  0.191247  0.194933   \n",
       "3  0.113380  0.134184  0.150814  0.163856  0.173894  0.181629  0.186704   \n",
       "4  0.117353  0.138548  0.155029  0.167433  0.176401  0.182259  0.186108   \n",
       "\n",
       "        478       482       486  ...       962       966       970       974  \\\n",
       "0  0.164918  0.170134  0.175579  ...  0.273946  0.272849  0.272059  0.271392   \n",
       "1  0.220067  0.226702  0.233786  ...  0.310982  0.311373  0.311499  0.311529   \n",
       "2  0.198650  0.202753  0.207933  ...  0.321169  0.321023  0.321085  0.321705   \n",
       "3  0.191711  0.196552  0.201812  ...  0.284521  0.284468  0.284835  0.285448   \n",
       "4  0.189203  0.192364  0.196556  ...  0.272634  0.273017  0.273216  0.273381   \n",
       "\n",
       "        978       982       986       990       994       998  \n",
       "0  0.270901  0.270276  0.269762  0.269415  0.269293  0.269451  \n",
       "1  0.311531  0.311579  0.311293  0.311057  0.311002  0.311259  \n",
       "2  0.322087  0.322119  0.321809  0.321495  0.321334  0.321481  \n",
       "3  0.285801  0.285875  0.285714  0.285572  0.285572  0.285839  \n",
       "4  0.273634  0.274150  0.274480  0.274514  0.274098  0.273082  \n",
       "\n",
       "[5 rows x 138 columns]"
      ]
     },
     "execution_count": 88,
     "metadata": {},
     "output_type": "execute_result"
    }
   ],
   "source": [
    "X = df.drop(['Pigment'], axis = 1)\n",
    "X.head()"
   ]
  },
  {
   "cell_type": "code",
   "execution_count": 89,
   "metadata": {},
   "outputs": [
    {
     "data": {
      "text/html": [
       "<div>\n",
       "<style scoped>\n",
       "    .dataframe tbody tr th:only-of-type {\n",
       "        vertical-align: middle;\n",
       "    }\n",
       "\n",
       "    .dataframe tbody tr th {\n",
       "        vertical-align: top;\n",
       "    }\n",
       "\n",
       "    .dataframe thead th {\n",
       "        text-align: right;\n",
       "    }\n",
       "</style>\n",
       "<table border=\"1\" class=\"dataframe\">\n",
       "  <thead>\n",
       "    <tr style=\"text-align: right;\">\n",
       "      <th></th>\n",
       "      <th>Pigment</th>\n",
       "    </tr>\n",
       "  </thead>\n",
       "  <tbody>\n",
       "    <tr>\n",
       "      <th>0</th>\n",
       "      <td>1</td>\n",
       "    </tr>\n",
       "    <tr>\n",
       "      <th>1</th>\n",
       "      <td>1</td>\n",
       "    </tr>\n",
       "    <tr>\n",
       "      <th>2</th>\n",
       "      <td>1</td>\n",
       "    </tr>\n",
       "    <tr>\n",
       "      <th>3</th>\n",
       "      <td>1</td>\n",
       "    </tr>\n",
       "    <tr>\n",
       "      <th>4</th>\n",
       "      <td>1</td>\n",
       "    </tr>\n",
       "  </tbody>\n",
       "</table>\n",
       "</div>"
      ],
      "text/plain": [
       "   Pigment\n",
       "0        1\n",
       "1        1\n",
       "2        1\n",
       "3        1\n",
       "4        1"
      ]
     },
     "execution_count": 89,
     "metadata": {},
     "output_type": "execute_result"
    }
   ],
   "source": [
    "y = df[['Pigment']]\n",
    "y.head()"
   ]
  },
  {
   "cell_type": "code",
   "execution_count": 90,
   "metadata": {},
   "outputs": [],
   "source": [
    "X_train, X_test, y_train, y_test = train_test_split(X, y, test_size=0.2, stratify=y)"
   ]
  },
  {
   "cell_type": "code",
   "execution_count": 91,
   "metadata": {},
   "outputs": [
    {
     "data": {
      "text/html": [
       "<div>\n",
       "<style scoped>\n",
       "    .dataframe tbody tr th:only-of-type {\n",
       "        vertical-align: middle;\n",
       "    }\n",
       "\n",
       "    .dataframe tbody tr th {\n",
       "        vertical-align: top;\n",
       "    }\n",
       "\n",
       "    .dataframe thead th {\n",
       "        text-align: right;\n",
       "    }\n",
       "</style>\n",
       "<table border=\"1\" class=\"dataframe\">\n",
       "  <thead>\n",
       "    <tr style=\"text-align: right;\">\n",
       "      <th></th>\n",
       "      <th>Pigment</th>\n",
       "      <th>Count</th>\n",
       "    </tr>\n",
       "  </thead>\n",
       "  <tbody>\n",
       "    <tr>\n",
       "      <th>0</th>\n",
       "      <td>0</td>\n",
       "      <td>8</td>\n",
       "    </tr>\n",
       "    <tr>\n",
       "      <th>1</th>\n",
       "      <td>1</td>\n",
       "      <td>8</td>\n",
       "    </tr>\n",
       "  </tbody>\n",
       "</table>\n",
       "</div>"
      ],
      "text/plain": [
       "   Pigment  Count\n",
       "0        0      8\n",
       "1        1      8"
      ]
     },
     "execution_count": 91,
     "metadata": {},
     "output_type": "execute_result"
    }
   ],
   "source": [
    "test_count = y_test.reset_index().groupby('Pigment').count().reset_index().rename(columns={'index':'Count'})\n",
    "test_count"
   ]
  },
  {
   "cell_type": "code",
   "execution_count": 92,
   "metadata": {},
   "outputs": [
    {
     "data": {
      "text/plain": [
       "<AxesSubplot:xlabel='Pigment', ylabel='Count'>"
      ]
     },
     "execution_count": 92,
     "metadata": {},
     "output_type": "execute_result"
    },
    {
     "data": {
      "image/png": "[encoded data removed]",
      "text/plain": [
       "<Figure size 648x648 with 1 Axes>"
      ]
     },
     "metadata": {
      "needs_background": "light"
     },
     "output_type": "display_data"
    }
   ],
   "source": [
    "plt.figure(figsize=(9,9))\n",
    "sns.barplot(data=test_count, x='Pigment', y='Count')"
   ]
  },
  {
   "cell_type": "code",
   "execution_count": 93,
   "metadata": {},
   "outputs": [
    {
     "data": {
      "text/html": [
       "<div>\n",
       "<style scoped>\n",
       "    .dataframe tbody tr th:only-of-type {\n",
       "        vertical-align: middle;\n",
       "    }\n",
       "\n",
       "    .dataframe tbody tr th {\n",
       "        vertical-align: top;\n",
       "    }\n",
       "\n",
       "    .dataframe thead th {\n",
       "        text-align: right;\n",
       "    }\n",
       "</style>\n",
       "<table border=\"1\" class=\"dataframe\">\n",
       "  <thead>\n",
       "    <tr style=\"text-align: right;\">\n",
       "      <th></th>\n",
       "      <th>Pigment</th>\n",
       "      <th>Count</th>\n",
       "    </tr>\n",
       "  </thead>\n",
       "  <tbody>\n",
       "    <tr>\n",
       "      <th>0</th>\n",
       "      <td>0</td>\n",
       "      <td>30</td>\n",
       "    </tr>\n",
       "    <tr>\n",
       "      <th>1</th>\n",
       "      <td>1</td>\n",
       "      <td>32</td>\n",
       "    </tr>\n",
       "  </tbody>\n",
       "</table>\n",
       "</div>"
      ],
      "text/plain": [
       "   Pigment  Count\n",
       "0        0     30\n",
       "1        1     32"
      ]
     },
     "execution_count": 93,
     "metadata": {},
     "output_type": "execute_result"
    }
   ],
   "source": [
    "train_count = y_train.reset_index().groupby('Pigment').count().reset_index().rename(columns={'index':'Count'})\n",
    "train_count"
   ]
  },
  {
   "cell_type": "code",
   "execution_count": 94,
   "metadata": {},
   "outputs": [
    {
     "data": {
      "text/plain": [
       "<AxesSubplot:xlabel='Pigment', ylabel='Count'>"
      ]
     },
     "execution_count": 94,
     "metadata": {},
     "output_type": "execute_result"
    },
    {
     "data": {
      "image/png": "[encoded data removed]",
      "text/plain": [
       "<Figure size 648x648 with 1 Axes>"
      ]
     },
     "metadata": {
      "needs_background": "light"
     },
     "output_type": "display_data"
    }
   ],
   "source": [
    "plt.figure(figsize=(9,9))\n",
    "sns.barplot(data=train_count, x='Pigment', y='Count')"
   ]
  },
  {
   "cell_type": "markdown",
   "metadata": {},
   "source": [
    "Логистическая регрессия"
   ]
  },
  {
   "cell_type": "code",
   "execution_count": 95,
   "metadata": {},
   "outputs": [],
   "source": [
    "logistic_regr_pipe = Pipeline([('feature', Pipeline([('scaler', StandardScaler()), ('pca', PCA(n_components=5))])),\n",
    "                               ('logistic_regr', LogisticRegressionCV(cv=cv))])"
   ]
  },
  {
   "cell_type": "code",
   "execution_count": 96,
   "metadata": {},
   "outputs": [],
   "source": [
    "X_train = logistic_regr_pipe['feature'].fit_transform(X_train)\n",
    "X_test = logistic_regr_pipe['feature'].transform(X_test)"
   ]
  },
  {
   "cell_type": "code",
   "execution_count": 97,
   "metadata": {},
   "outputs": [
    {
     "data": {
      "text/plain": [
       "LogisticRegressionCV(cv=StratifiedKFold(n_splits=3, random_state=None, shuffle=False))"
      ]
     },
     "execution_count": 97,
     "metadata": {},
     "output_type": "execute_result"
    }
   ],
   "source": [
    "logistic_regr_pipe['logistic_regr'].fit(X_train, y_train)"
   ]
  },
  {
   "cell_type": "code",
   "execution_count": 98,
   "metadata": {},
   "outputs": [
    {
     "data": {
      "text/plain": [
       "array([1.22531569])"
      ]
     },
     "execution_count": 98,
     "metadata": {},
     "output_type": "execute_result"
    }
   ],
   "source": [
    "logistic_regr_pipe['logistic_regr'].intercept_"
   ]
  },
  {
   "cell_type": "markdown",
   "metadata": {},
   "source": [
    "Random Forest"
   ]
  },
  {
   "cell_type": "code",
   "execution_count": 99,
   "metadata": {},
   "outputs": [],
   "source": [
    "parameters_random_forest = { 'max_depth':[2, 7], 'min_samples_split': [1, 5], \n",
    "                            'min_samples_leaf': [1, 5]}"
   ]
  },
  {
   "cell_type": "code",
   "execution_count": 100,
   "metadata": {},
   "outputs": [
    {
     "data": {
      "text/plain": [
       "GridSearchCV(cv=StratifiedKFold(n_splits=3, random_state=None, shuffle=False),\n",
       "             estimator=RandomForestClassifier(n_estimators=150),\n",
       "             param_grid={'max_depth': [2, 7], 'min_samples_leaf': [1, 5],\n",
       "                         'min_samples_split': [1, 5]})"
      ]
     },
     "execution_count": 100,
     "metadata": {},
     "output_type": "execute_result"
    }
   ],
   "source": [
    "clf_forest = GridSearchCV(RandomForestClassifier(n_estimators=150), parameters_random_forest, cv=cv)\n",
    "clf_forest.fit(X_train, y_train)"
   ]
  },
  {
   "cell_type": "code",
   "execution_count": 102,
   "metadata": {},
   "outputs": [
    {
     "data": {
      "text/plain": [
       "{'max_depth': 2, 'min_samples_leaf': 1, 'min_samples_split': 5}"
      ]
     },
     "execution_count": 102,
     "metadata": {},
     "output_type": "execute_result"
    }
   ],
   "source": [
    "clf_forest.best_params_"
   ]
  },
  {
   "cell_type": "code",
   "execution_count": 103,
   "metadata": {},
   "outputs": [],
   "source": [
    "random_forest_pipe = Pipeline([('feature', Pipeline([('scaler', StandardScaler()), ('pca', PCA(n_components=5))])),\n",
    "                               ('random_forest', clf_forest.best_estimator_)])"
   ]
  },
  {
   "cell_type": "markdown",
   "metadata": {},
   "source": [
    "Градиентный бустинг"
   ]
  },
  {
   "cell_type": "code",
   "execution_count": 104,
   "metadata": {},
   "outputs": [],
   "source": [
    "parameters_boosting = { 'learning_rate':np.power(2, np.arange(10))}"
   ]
  },
  {
   "cell_type": "code",
   "execution_count": 105,
   "metadata": {},
   "outputs": [
    {
     "data": {
      "text/plain": [
       "GridSearchCV(cv=StratifiedKFold(n_splits=3, random_state=None, shuffle=False),\n",
       "             estimator=GradientBoostingClassifier(n_estimators=150),\n",
       "             param_grid={'learning_rate': array([  1,   2,   4,   8,  16,  32,  64, 128, 256, 512])})"
      ]
     },
     "execution_count": 105,
     "metadata": {},
     "output_type": "execute_result"
    }
   ],
   "source": [
    "clf_boosting = GridSearchCV(GradientBoostingClassifier(n_estimators=150), parameters_boosting, cv=cv)\n",
    "clf_boosting.fit(X_train, y_train)"
   ]
  },
  {
   "cell_type": "code",
   "execution_count": 107,
   "metadata": {},
   "outputs": [
    {
     "data": {
      "text/plain": [
       "{'learning_rate': 1}"
      ]
     },
     "execution_count": 107,
     "metadata": {},
     "output_type": "execute_result"
    }
   ],
   "source": [
    "clf_boosting.best_params_"
   ]
  },
  {
   "cell_type": "code",
   "execution_count": 108,
   "metadata": {},
   "outputs": [],
   "source": [
    "gradient_boosting_pipe = Pipeline([('feature', Pipeline([('scaler', StandardScaler()), ('pca', PCA(n_components=5))])),\n",
    "                               ('gradient_boosting', clf_boosting.best_estimator_)])"
   ]
  },
  {
   "cell_type": "markdown",
   "metadata": {},
   "source": [
    "Результаты"
   ]
  },
  {
   "cell_type": "markdown",
   "metadata": {},
   "source": [
    "Результаты на тренеровочной выборки"
   ]
  },
  {
   "cell_type": "code",
   "execution_count": 109,
   "metadata": {},
   "outputs": [
    {
     "data": {
      "text/html": [
       "<div>\n",
       "<style scoped>\n",
       "    .dataframe tbody tr th:only-of-type {\n",
       "        vertical-align: middle;\n",
       "    }\n",
       "\n",
       "    .dataframe tbody tr th {\n",
       "        vertical-align: top;\n",
       "    }\n",
       "\n",
       "    .dataframe thead th {\n",
       "        text-align: right;\n",
       "    }\n",
       "</style>\n",
       "<table border=\"1\" class=\"dataframe\">\n",
       "  <thead>\n",
       "    <tr style=\"text-align: right;\">\n",
       "      <th></th>\n",
       "      <th>model</th>\n",
       "      <th>accuracy</th>\n",
       "      <th>f1</th>\n",
       "      <th>precision</th>\n",
       "      <th>recall</th>\n",
       "    </tr>\n",
       "  </thead>\n",
       "  <tbody>\n",
       "    <tr>\n",
       "      <th>0</th>\n",
       "      <td>Логистическая регрессия</td>\n",
       "      <td>1.0</td>\n",
       "      <td>1.0</td>\n",
       "      <td>1.0</td>\n",
       "      <td>1.0</td>\n",
       "    </tr>\n",
       "    <tr>\n",
       "      <th>1</th>\n",
       "      <td>Random Forest</td>\n",
       "      <td>1.0</td>\n",
       "      <td>1.0</td>\n",
       "      <td>1.0</td>\n",
       "      <td>1.0</td>\n",
       "    </tr>\n",
       "    <tr>\n",
       "      <th>2</th>\n",
       "      <td>Градиентный бустинг</td>\n",
       "      <td>1.0</td>\n",
       "      <td>1.0</td>\n",
       "      <td>1.0</td>\n",
       "      <td>1.0</td>\n",
       "    </tr>\n",
       "  </tbody>\n",
       "</table>\n",
       "</div>"
      ],
      "text/plain": [
       "                     model  accuracy   f1  precision  recall\n",
       "0  Логистическая регрессия       1.0  1.0        1.0     1.0\n",
       "1            Random Forest       1.0  1.0        1.0     1.0\n",
       "2      Градиентный бустинг       1.0  1.0        1.0     1.0"
      ]
     },
     "execution_count": 109,
     "metadata": {},
     "output_type": "execute_result"
    }
   ],
   "source": [
    "get_metrics([logistic_regr_pipe['logistic_regr'], random_forest_pipe['random_forest'], \n",
    "             gradient_boosting_pipe['gradient_boosting']], \n",
    "             ['Логистическая регрессия', 'Random Forest', 'Градиентный бустинг'], X_train, y_train)"
   ]
  },
  {
   "cell_type": "markdown",
   "metadata": {},
   "source": [
    "Результаты на тестовой выборки"
   ]
  },
  {
   "cell_type": "code",
   "execution_count": 110,
   "metadata": {},
   "outputs": [
    {
     "data": {
      "text/html": [
       "<div>\n",
       "<style scoped>\n",
       "    .dataframe tbody tr th:only-of-type {\n",
       "        vertical-align: middle;\n",
       "    }\n",
       "\n",
       "    .dataframe tbody tr th {\n",
       "        vertical-align: top;\n",
       "    }\n",
       "\n",
       "    .dataframe thead th {\n",
       "        text-align: right;\n",
       "    }\n",
       "</style>\n",
       "<table border=\"1\" class=\"dataframe\">\n",
       "  <thead>\n",
       "    <tr style=\"text-align: right;\">\n",
       "      <th></th>\n",
       "      <th>model</th>\n",
       "      <th>accuracy</th>\n",
       "      <th>f1</th>\n",
       "      <th>precision</th>\n",
       "      <th>recall</th>\n",
       "    </tr>\n",
       "  </thead>\n",
       "  <tbody>\n",
       "    <tr>\n",
       "      <th>0</th>\n",
       "      <td>Логистическая регрессия</td>\n",
       "      <td>1.0</td>\n",
       "      <td>1.0</td>\n",
       "      <td>1.0</td>\n",
       "      <td>1.0</td>\n",
       "    </tr>\n",
       "    <tr>\n",
       "      <th>1</th>\n",
       "      <td>Random Forest</td>\n",
       "      <td>1.0</td>\n",
       "      <td>1.0</td>\n",
       "      <td>1.0</td>\n",
       "      <td>1.0</td>\n",
       "    </tr>\n",
       "    <tr>\n",
       "      <th>2</th>\n",
       "      <td>Градиентный бустинг</td>\n",
       "      <td>1.0</td>\n",
       "      <td>1.0</td>\n",
       "      <td>1.0</td>\n",
       "      <td>1.0</td>\n",
       "    </tr>\n",
       "  </tbody>\n",
       "</table>\n",
       "</div>"
      ],
      "text/plain": [
       "                     model  accuracy   f1  precision  recall\n",
       "0  Логистическая регрессия       1.0  1.0        1.0     1.0\n",
       "1            Random Forest       1.0  1.0        1.0     1.0\n",
       "2      Градиентный бустинг       1.0  1.0        1.0     1.0"
      ]
     },
     "execution_count": 110,
     "metadata": {},
     "output_type": "execute_result"
    }
   ],
   "source": [
    "get_metrics([logistic_regr_pipe['logistic_regr'], random_forest_pipe['random_forest'], \n",
    "             gradient_boosting_pipe['gradient_boosting']], \n",
    "             ['Логистическая регрессия', 'Random Forest', 'Градиентный бустинг'], X_test, y_test)"
   ]
  }
 ],
 "metadata": {
  "kernelspec": {
   "display_name": "Python 3 (ipykernel)",
   "language": "python",
   "name": "python3"
  },
  "language_info": {
   "codemirror_mode": {
    "name": "ipython",
    "version": 3
   },
   "file_extension": ".py",
   "mimetype": "text/x-python",
   "name": "python",
   "nbconvert_exporter": "python",
   "pygments_lexer": "ipython3",
   "version": "3.10.6"
  }
 },
 "nbformat": 4,
 "nbformat_minor": 4
}
