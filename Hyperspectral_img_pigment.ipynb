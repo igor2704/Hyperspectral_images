{
 "cells": [
  {
   "cell_type": "markdown",
   "metadata": {},
   "source": [
    "Библиотеки"
   ]
  },
  {
   "cell_type": "code",
   "execution_count": 404,
   "metadata": {},
   "outputs": [],
   "source": [
    "import os\n",
    "import typing as tp\n",
    "from itertools import product\n",
    "import warnings\n",
    "\n",
    "import numpy as np\n",
    "import seaborn as sns\n",
    "import pandas as pd\n",
    "import matplotlib.pyplot as plt\n",
    "from scipy.signal import savgol_filter\n",
    "\n",
    "import cv2\n",
    "import tifffile as tiff\n",
    "\n",
    "import sklearn\n",
    "\n",
    "from sklearn.model_selection import train_test_split\n",
    "from sklearn.model_selection import StratifiedKFold\n",
    "from sklearn.model_selection import GridSearchCV\n",
    "\n",
    "from sklearn.decomposition import PCA\n",
    "from sklearn.preprocessing import StandardScaler\n",
    "from sklearn.pipeline import Pipeline\n",
    "\n",
    "from sklearn.metrics import f1_score\n",
    "from sklearn.metrics import precision_score\n",
    "from sklearn.metrics import recall_score\n",
    "from sklearn.metrics import accuracy_score\n",
    "\n",
    "from sklearn.linear_model import LogisticRegressionCV\n",
    "from sklearn.ensemble import RandomForestClassifier\n",
    "from sklearn.ensemble import GradientBoostingClassifier\n",
    "\n",
    "from sklearn.metrics import confusion_matrix"
   ]
  },
  {
   "cell_type": "markdown",
   "metadata": {},
   "source": [
    "Пути и прочие константы"
   ]
  },
  {
   "cell_type": "code",
   "execution_count": 2,
   "metadata": {},
   "outputs": [],
   "source": [
    "IMG_PATH = '/home/jupyter-igor_busov/Seed/Hyperspectral/data/pigment/'\n",
    "IMG_PATH_WHITE = IMG_PATH + 'white/'\n",
    "IMG_PATH_COLORED = IMG_PATH + 'colored/'\n",
    "CALIBR_WHITE_PATH_WHITE = IMG_PATH_WHITE + 'White_session_000_000_cube.tiff'\n",
    "CALIBR_BLACK_PATH_WHITE = IMG_PATH_WHITE + 'Black_session_000_004_snapshot_cube.tiff'\n",
    "CALIBR_WHITE_PATH_COLORED = IMG_PATH_COLORED + 'White_session_000_000_snapshot_cube.tiff'\n",
    "CALIBR_BLACK_PATH_COLORED = IMG_PATH_COLORED + 'Black_session_000_001_snapshot_cube.tiff'"
   ]
  },
  {
   "cell_type": "markdown",
   "metadata": {},
   "source": [
    "$\\textbf{Код}$"
   ]
  },
  {
   "cell_type": "markdown",
   "metadata": {},
   "source": [
    "Таблица с информацией о пигментном составе цветных изображений"
   ]
  },
  {
   "cell_type": "code",
   "execution_count": 3,
   "metadata": {},
   "outputs": [
    {
     "data": {
      "text/html": [
       "<div>\n",
       "<style scoped>\n",
       "    .dataframe tbody tr th:only-of-type {\n",
       "        vertical-align: middle;\n",
       "    }\n",
       "\n",
       "    .dataframe tbody tr th {\n",
       "        vertical-align: top;\n",
       "    }\n",
       "\n",
       "    .dataframe thead th {\n",
       "        text-align: right;\n",
       "    }\n",
       "</style>\n",
       "<table border=\"1\" class=\"dataframe\">\n",
       "  <thead>\n",
       "    <tr style=\"text-align: right;\">\n",
       "      <th></th>\n",
       "      <th>Номер образца</th>\n",
       "      <th>Название образца</th>\n",
       "      <th>меланин</th>\n",
       "      <th>Unnamed: 3</th>\n",
       "      <th>антоцианы</th>\n",
       "      <th>Unnamed: 5</th>\n",
       "      <th>пленчатый/голозерный</th>\n",
       "      <th>Гены окраски</th>\n",
       "      <th>Unnamed: 8</th>\n",
       "      <th>Unnamed: 9</th>\n",
       "      <th>...</th>\n",
       "      <th>Unnamed: 16</th>\n",
       "      <th>Unnamed: 17</th>\n",
       "      <th>Unnamed: 18</th>\n",
       "      <th>Unnamed: 19</th>\n",
       "      <th>Unnamed: 20</th>\n",
       "      <th>Unnamed: 21</th>\n",
       "      <th>Unnamed: 22</th>\n",
       "      <th>Unnamed: 23</th>\n",
       "      <th>Unnamed: 24</th>\n",
       "      <th>Unnamed: 25</th>\n",
       "    </tr>\n",
       "  </thead>\n",
       "  <tbody>\n",
       "    <tr>\n",
       "      <th>0</th>\n",
       "      <td>NaN</td>\n",
       "      <td>NaN</td>\n",
       "      <td>чешуя</td>\n",
       "      <td>перикарп</td>\n",
       "      <td>перикарп</td>\n",
       "      <td>алейрон</td>\n",
       "      <td>NaN</td>\n",
       "      <td>NaN</td>\n",
       "      <td>имя файла</td>\n",
       "      <td>NaN</td>\n",
       "      <td>...</td>\n",
       "      <td>NaN</td>\n",
       "      <td>NaN</td>\n",
       "      <td>NaN</td>\n",
       "      <td>NaN</td>\n",
       "      <td>NaN</td>\n",
       "      <td>NaN</td>\n",
       "      <td>NaN</td>\n",
       "      <td>NaN</td>\n",
       "      <td>NaN</td>\n",
       "      <td>NaN</td>\n",
       "    </tr>\n",
       "    <tr>\n",
       "      <th>1</th>\n",
       "      <td>1.0</td>\n",
       "      <td>Rec</td>\n",
       "      <td>нет</td>\n",
       "      <td>нет</td>\n",
       "      <td>нет</td>\n",
       "      <td>нет</td>\n",
       "      <td>голозерный</td>\n",
       "      <td>нет</td>\n",
       "      <td>session_001_000</td>\n",
       "      <td>NaN</td>\n",
       "      <td>...</td>\n",
       "      <td>NaN</td>\n",
       "      <td>NaN</td>\n",
       "      <td>NaN</td>\n",
       "      <td>NaN</td>\n",
       "      <td>NaN</td>\n",
       "      <td>NaN</td>\n",
       "      <td>NaN</td>\n",
       "      <td>NaN</td>\n",
       "      <td>NaN</td>\n",
       "      <td>NaN</td>\n",
       "    </tr>\n",
       "    <tr>\n",
       "      <th>2</th>\n",
       "      <td>2.0</td>\n",
       "      <td>BLP</td>\n",
       "      <td>да</td>\n",
       "      <td>да</td>\n",
       "      <td>нет</td>\n",
       "      <td>нет</td>\n",
       "      <td>пленчатый</td>\n",
       "      <td>Blp</td>\n",
       "      <td>session_001_001</td>\n",
       "      <td>NaN</td>\n",
       "      <td>...</td>\n",
       "      <td>NaN</td>\n",
       "      <td>NaN</td>\n",
       "      <td>NaN</td>\n",
       "      <td>NaN</td>\n",
       "      <td>NaN</td>\n",
       "      <td>NaN</td>\n",
       "      <td>NaN</td>\n",
       "      <td>NaN</td>\n",
       "      <td>NaN</td>\n",
       "      <td>NaN</td>\n",
       "    </tr>\n",
       "    <tr>\n",
       "      <th>3</th>\n",
       "      <td>3.0</td>\n",
       "      <td>BLP-nud</td>\n",
       "      <td>нет</td>\n",
       "      <td>да</td>\n",
       "      <td>нет</td>\n",
       "      <td>нет</td>\n",
       "      <td>голозерный</td>\n",
       "      <td>Blp</td>\n",
       "      <td>session_001_002</td>\n",
       "      <td>NaN</td>\n",
       "      <td>...</td>\n",
       "      <td>NaN</td>\n",
       "      <td>NaN</td>\n",
       "      <td>NaN</td>\n",
       "      <td>NaN</td>\n",
       "      <td>NaN</td>\n",
       "      <td>NaN</td>\n",
       "      <td>NaN</td>\n",
       "      <td>NaN</td>\n",
       "      <td>NaN</td>\n",
       "      <td>NaN</td>\n",
       "    </tr>\n",
       "    <tr>\n",
       "      <th>4</th>\n",
       "      <td>4.0</td>\n",
       "      <td>Bowman</td>\n",
       "      <td>нет</td>\n",
       "      <td>нет</td>\n",
       "      <td>нет</td>\n",
       "      <td>нет</td>\n",
       "      <td>пленчатый</td>\n",
       "      <td>нет</td>\n",
       "      <td>session_001_003</td>\n",
       "      <td>NaN</td>\n",
       "      <td>...</td>\n",
       "      <td>NaN</td>\n",
       "      <td>NaN</td>\n",
       "      <td>NaN</td>\n",
       "      <td>NaN</td>\n",
       "      <td>NaN</td>\n",
       "      <td>NaN</td>\n",
       "      <td>NaN</td>\n",
       "      <td>NaN</td>\n",
       "      <td>NaN</td>\n",
       "      <td>NaN</td>\n",
       "    </tr>\n",
       "  </tbody>\n",
       "</table>\n",
       "<p>5 rows × 26 columns</p>\n",
       "</div>"
      ],
      "text/plain": [
       "   Номер образца Название образца меланин Unnamed: 3 антоцианы Unnamed: 5  \\\n",
       "0            NaN              NaN   чешуя   перикарп  перикарп    алейрон   \n",
       "1            1.0              Rec     нет        нет       нет        нет   \n",
       "2            2.0              BLP      да         да       нет        нет   \n",
       "3            3.0          BLP-nud     нет         да       нет        нет   \n",
       "4            4.0           Bowman     нет        нет       нет        нет   \n",
       "\n",
       "  пленчатый/голозерный Гены окраски       Unnamed: 8  Unnamed: 9  ...  \\\n",
       "0                  NaN          NaN       имя файла          NaN  ...   \n",
       "1           голозерный          нет  session_001_000         NaN  ...   \n",
       "2            пленчатый          Blp  session_001_001         NaN  ...   \n",
       "3           голозерный          Blp  session_001_002         NaN  ...   \n",
       "4            пленчатый          нет  session_001_003         NaN  ...   \n",
       "\n",
       "   Unnamed: 16  Unnamed: 17  Unnamed: 18  Unnamed: 19  Unnamed: 20  \\\n",
       "0          NaN          NaN          NaN          NaN          NaN   \n",
       "1          NaN          NaN          NaN          NaN          NaN   \n",
       "2          NaN          NaN          NaN          NaN          NaN   \n",
       "3          NaN          NaN          NaN          NaN          NaN   \n",
       "4          NaN          NaN          NaN          NaN          NaN   \n",
       "\n",
       "   Unnamed: 21  Unnamed: 22  Unnamed: 23  Unnamed: 24  Unnamed: 25  \n",
       "0          NaN          NaN          NaN          NaN          NaN  \n",
       "1          NaN          NaN          NaN          NaN          NaN  \n",
       "2          NaN          NaN          NaN          NaN          NaN  \n",
       "3          NaN          NaN          NaN          NaN          NaN  \n",
       "4          NaN          NaN          NaN          NaN          NaN  \n",
       "\n",
       "[5 rows x 26 columns]"
      ]
     },
     "execution_count": 3,
     "metadata": {},
     "output_type": "execute_result"
    }
   ],
   "source": [
    "colored_pigment = pd.read_csv(IMG_PATH + 'colored_pigment.csv')\n",
    "colored_pigment.head()"
   ]
  },
  {
   "cell_type": "code",
   "execution_count": 4,
   "metadata": {},
   "outputs": [],
   "source": [
    "needed_columns = [ 'меланин', 'Unnamed: 3', 'антоцианы', 'Unnamed: 5', 'Unnamed: 8']"
   ]
  },
  {
   "cell_type": "code",
   "execution_count": 5,
   "metadata": {},
   "outputs": [
    {
     "data": {
      "text/html": [
       "<div>\n",
       "<style scoped>\n",
       "    .dataframe tbody tr th:only-of-type {\n",
       "        vertical-align: middle;\n",
       "    }\n",
       "\n",
       "    .dataframe tbody tr th {\n",
       "        vertical-align: top;\n",
       "    }\n",
       "\n",
       "    .dataframe thead th {\n",
       "        text-align: right;\n",
       "    }\n",
       "</style>\n",
       "<table border=\"1\" class=\"dataframe\">\n",
       "  <thead>\n",
       "    <tr style=\"text-align: right;\">\n",
       "      <th></th>\n",
       "      <th>melanin_scales</th>\n",
       "      <th>melanin_pericarp</th>\n",
       "      <th>anthocyanins_scales</th>\n",
       "      <th>anthocyanins_pericarp</th>\n",
       "      <th>file_name</th>\n",
       "    </tr>\n",
       "  </thead>\n",
       "  <tbody>\n",
       "    <tr>\n",
       "      <th>0</th>\n",
       "      <td>0</td>\n",
       "      <td>0</td>\n",
       "      <td>0</td>\n",
       "      <td>0</td>\n",
       "      <td>session_001_000</td>\n",
       "    </tr>\n",
       "    <tr>\n",
       "      <th>1</th>\n",
       "      <td>1</td>\n",
       "      <td>1</td>\n",
       "      <td>0</td>\n",
       "      <td>0</td>\n",
       "      <td>session_001_001</td>\n",
       "    </tr>\n",
       "    <tr>\n",
       "      <th>2</th>\n",
       "      <td>0</td>\n",
       "      <td>1</td>\n",
       "      <td>0</td>\n",
       "      <td>0</td>\n",
       "      <td>session_001_002</td>\n",
       "    </tr>\n",
       "    <tr>\n",
       "      <th>3</th>\n",
       "      <td>0</td>\n",
       "      <td>0</td>\n",
       "      <td>0</td>\n",
       "      <td>0</td>\n",
       "      <td>session_001_003</td>\n",
       "    </tr>\n",
       "    <tr>\n",
       "      <th>4</th>\n",
       "      <td>0</td>\n",
       "      <td>0</td>\n",
       "      <td>1</td>\n",
       "      <td>0</td>\n",
       "      <td>session_001_004</td>\n",
       "    </tr>\n",
       "  </tbody>\n",
       "</table>\n",
       "</div>"
      ],
      "text/plain": [
       "   melanin_scales  melanin_pericarp  anthocyanins_scales  \\\n",
       "0               0                 0                    0   \n",
       "1               1                 1                    0   \n",
       "2               0                 1                    0   \n",
       "3               0                 0                    0   \n",
       "4               0                 0                    1   \n",
       "\n",
       "   anthocyanins_pericarp        file_name  \n",
       "0                      0  session_001_000  \n",
       "1                      0  session_001_001  \n",
       "2                      0  session_001_002  \n",
       "3                      0  session_001_003  \n",
       "4                      0  session_001_004  "
      ]
     },
     "execution_count": 5,
     "metadata": {},
     "output_type": "execute_result"
    }
   ],
   "source": [
    "colored_pigment = colored_pigment[needed_columns].iloc[1:].rename(columns={ 'меланин': 'melanin_scales', \n",
    "                                                                    'Unnamed: 3': 'melanin_pericarp',\n",
    "                                                                    'антоцианы': 'anthocyanins_scales',\n",
    "                                                                    'Unnamed: 5': 'anthocyanins_pericarp',\n",
    "                                                                    'Unnamed: 8': 'file_name'\n",
    "                                                                }).reset_index(drop=True)\n",
    "colored_pigment = colored_pigment.replace(['нет', 'да'], [0, 1])\n",
    "colored_pigment.head()"
   ]
  },
  {
   "cell_type": "code",
   "execution_count": 6,
   "metadata": {},
   "outputs": [
    {
     "data": {
      "text/html": [
       "<div>\n",
       "<style scoped>\n",
       "    .dataframe tbody tr th:only-of-type {\n",
       "        vertical-align: middle;\n",
       "    }\n",
       "\n",
       "    .dataframe tbody tr th {\n",
       "        vertical-align: top;\n",
       "    }\n",
       "\n",
       "    .dataframe thead th {\n",
       "        text-align: right;\n",
       "    }\n",
       "</style>\n",
       "<table border=\"1\" class=\"dataframe\">\n",
       "  <thead>\n",
       "    <tr style=\"text-align: right;\">\n",
       "      <th></th>\n",
       "      <th>melanin_scales</th>\n",
       "      <th>melanin_pericarp</th>\n",
       "      <th>anthocyanins_scales</th>\n",
       "      <th>anthocyanins_pericarp</th>\n",
       "      <th>file_name</th>\n",
       "      <th>melanin</th>\n",
       "      <th>anthocyanins</th>\n",
       "    </tr>\n",
       "  </thead>\n",
       "  <tbody>\n",
       "    <tr>\n",
       "      <th>0</th>\n",
       "      <td>0</td>\n",
       "      <td>0</td>\n",
       "      <td>0</td>\n",
       "      <td>0</td>\n",
       "      <td>session_001_000</td>\n",
       "      <td>0</td>\n",
       "      <td>0</td>\n",
       "    </tr>\n",
       "    <tr>\n",
       "      <th>1</th>\n",
       "      <td>1</td>\n",
       "      <td>1</td>\n",
       "      <td>0</td>\n",
       "      <td>0</td>\n",
       "      <td>session_001_001</td>\n",
       "      <td>1</td>\n",
       "      <td>0</td>\n",
       "    </tr>\n",
       "    <tr>\n",
       "      <th>2</th>\n",
       "      <td>0</td>\n",
       "      <td>1</td>\n",
       "      <td>0</td>\n",
       "      <td>0</td>\n",
       "      <td>session_001_002</td>\n",
       "      <td>1</td>\n",
       "      <td>0</td>\n",
       "    </tr>\n",
       "    <tr>\n",
       "      <th>3</th>\n",
       "      <td>0</td>\n",
       "      <td>0</td>\n",
       "      <td>0</td>\n",
       "      <td>0</td>\n",
       "      <td>session_001_003</td>\n",
       "      <td>0</td>\n",
       "      <td>0</td>\n",
       "    </tr>\n",
       "    <tr>\n",
       "      <th>4</th>\n",
       "      <td>0</td>\n",
       "      <td>0</td>\n",
       "      <td>1</td>\n",
       "      <td>0</td>\n",
       "      <td>session_001_004</td>\n",
       "      <td>0</td>\n",
       "      <td>1</td>\n",
       "    </tr>\n",
       "  </tbody>\n",
       "</table>\n",
       "</div>"
      ],
      "text/plain": [
       "   melanin_scales  melanin_pericarp  anthocyanins_scales  \\\n",
       "0               0                 0                    0   \n",
       "1               1                 1                    0   \n",
       "2               0                 1                    0   \n",
       "3               0                 0                    0   \n",
       "4               0                 0                    1   \n",
       "\n",
       "   anthocyanins_pericarp        file_name  melanin  anthocyanins  \n",
       "0                      0  session_001_000        0             0  \n",
       "1                      0  session_001_001        1             0  \n",
       "2                      0  session_001_002        1             0  \n",
       "3                      0  session_001_003        0             0  \n",
       "4                      0  session_001_004        0             1  "
      ]
     },
     "execution_count": 6,
     "metadata": {},
     "output_type": "execute_result"
    }
   ],
   "source": [
    "colored_pigment['melanin'] = (colored_pigment['melanin_scales']\n",
    "                              + colored_pigment['melanin_pericarp']).clip(0,1)\n",
    "colored_pigment['anthocyanins'] = (colored_pigment['anthocyanins_scales']\n",
    "                              + colored_pigment['anthocyanins_pericarp']).clip(0,1)\n",
    "colored_pigment.head()"
   ]
  },
  {
   "cell_type": "markdown",
   "metadata": {},
   "source": [
    "класс, описывающий гиперспектральное изображение с основными используемыми в этой работе методами "
   ]
  },
  {
   "cell_type": "code",
   "execution_count": 7,
   "metadata": {},
   "outputs": [],
   "source": [
    "class Hyper_Img:\n",
    "    \"\"\"\n",
    "    Hyperspectral image with basic methods\n",
    "    \"\"\"\n",
    "    \n",
    "    def __init__(self, path: str, threshold_value: float = 7.5, \n",
    "                 savgol_par: tp.Tuple[int] = (9, 3)) -> None:\n",
    "        self.savgol_par = savgol_par\n",
    "        self._threshold_value = threshold_value\n",
    "        self.path = path\n",
    "        self.img = self._get_tiff()\n",
    "        self.widht = self.img.shape[0]\n",
    "        self.height = self.img.shape[1]\n",
    "        self.pixels =  self._get_pixels()\n",
    "        self.medians = self._get_medians()\n",
    "        self.melanin, self.anthocyanins  = self._get_pigment()\n",
    "        self.pigment: str = 'white'\n",
    "        if self.melanin and self.anthocyanins:\n",
    "            self.pigment = 'melanin and anthocyanins'\n",
    "        elif self.melanin:\n",
    "            self.pigment = 'only melanin'\n",
    "        elif self.anthocyanins:\n",
    "            self.pigment = 'only anthocyanins'\n",
    "    \n",
    "    @staticmethod\n",
    "    def wave_len(x: int, step: int = 4, begin_wave_len: int = 450) -> int:\n",
    "        return int((x - begin_wave_len) // step)\n",
    "    \n",
    "    def _get_tiff(self) -> None:\n",
    "        img = tiff.imread(self.path)\n",
    "        if set(IMG_PATH_WHITE.split('/')).issubset(set(self.path.split('/'))):\n",
    "            bl_img = tiff.imread(CALIBR_BLACK_PATH_WHITE)\n",
    "            wh_img = tiff.imread(CALIBR_WHITE_PATH_WHITE)\n",
    "        else:\n",
    "            bl_img = tiff.imread(CALIBR_BLACK_PATH_COLORED)\n",
    "            wh_img = tiff.imread(CALIBR_WHITE_PATH_COLORED)\n",
    "        new_img = np.where(bl_img > img, 0, img - bl_img)\n",
    "        return new_img /(wh_img - bl_img)\n",
    "    \n",
    "    def _get_pigment(self) -> tp.Tuple[int, int]:\n",
    "        if not set(IMG_PATH.split('/')).issubset(set(self.path.split('.')[0].split('/'))):\n",
    "            raise NameError('Error in path')\n",
    "            \n",
    "        if np.any(np.isnan(self.medians)):\n",
    "            return -3, -3\n",
    "        \n",
    "        if np.allclose(self.medians, np.ones(len(self.medians), dtype=float)) or \\\n",
    "           np.allclose(self.medians, np.zeros(len(self.medians), dtype=float)): \n",
    "            return -1, -1\n",
    "        \n",
    "        if set(IMG_PATH_WHITE.split('/')).issubset(set(self.path.split('/'))):\n",
    "            return 0, 0\n",
    "    \n",
    "        name: str = '_'.join([s for s in self.path.split('/')[-1].split('_')\n",
    "                        if s != 'snapshot' and s != 'cube.tiff' ])\n",
    "            \n",
    "        if name not in np.unique(colored_pigment.file_name):\n",
    "            return -2, -2\n",
    "        \n",
    "        return colored_pigment[colored_pigment.file_name == name].melanin.iloc[0],\\\n",
    "                            colored_pigment[colored_pigment.file_name == name].anthocyanins.iloc[0]\n",
    "        \n",
    "    def _get_pixels(self) -> tp.List[tp.Tuple[int, int]]:\n",
    "        return [(x, y) for x, y in product(range(self.widht), range(self.height)) \n",
    "                if self.threshold_bgr[x,y] != 0]\n",
    "    \n",
    "    def _get_medians(self) -> np.array:\n",
    "        medians: tp.List[float] = list()\n",
    "        for i in range(self.img.shape[2]):\n",
    "            medians.append(np.median(np.array([self.img[p[0]][p[1]][i] for p in self.pixels])))\n",
    "        return savgol_filter(np.array(medians), *self.savgol_par)\n",
    " \n",
    "    @property\n",
    "    def bgr(self) -> np.array:\n",
    "        \n",
    "        #To accurately display colors, you need to choose constants\n",
    "        \n",
    "        im_r = self.img[:,:,Hyper_Img.wave_len(630)]\n",
    "        im_g = self.img[:,:,Hyper_Img.wave_len(510)]\n",
    "        im_b = self.img[:,:,Hyper_Img.wave_len(450)]\n",
    "    \n",
    "        im_r = (im_r / im_r.max())*255\n",
    "        im_g = (im_g / im_g.max())*255\n",
    "        im_b = (im_b / im_b.max())*255\n",
    "    \n",
    "        im_r = np.clip(im_r,0,255).astype(np.uint8)\n",
    "        im_g = np.clip(im_g,0,255).astype(np.uint8)\n",
    "        im_b = np.clip(im_b,0,255).astype(np.uint8)\n",
    "    \n",
    "        im_bgr = np.zeros((self.widht, self.height, 3), dtype = np.uint8)\n",
    "        im_bgr[:,:,0] = im_b\n",
    "        im_bgr[:,:,1] = im_g\n",
    "        im_bgr[:,:,2] = im_r\n",
    "    \n",
    "        return im_bgr\n",
    "    \n",
    "    @property\n",
    "    def threshold_bgr(self) -> np.array:\n",
    "        im_black = cv2.cvtColor(self.bgr, cv2.COLOR_BGR2GRAY)\n",
    "        _, im_thr = cv2.threshold(im_black, self._threshold_value, 255, cv2.THRESH_BINARY)\n",
    "        return im_thr\n",
    "    \n",
    "    def __repr__(self) -> str:\n",
    "        fig, axes = plt.subplots(1, 2)\n",
    "        \n",
    "        axes[0].imshow(self.bgr, cmap = 'gray')\n",
    "        axes[0].set_title('rgb visualization')\n",
    "        \n",
    "        axes[1].imshow(self.threshold_bgr, cmap = 'gray')\n",
    "        axes[1].set_title('segmentation')\n",
    "        \n",
    "        if self.melanin == -1:\n",
    "            return 'pigment: white or black image for calibration'\n",
    "        elif self.melanin < 0:\n",
    "            return 'unknown'\n",
    "        return f'pigment: {self.pigment}'\n",
    "     "
   ]
  },
  {
   "cell_type": "markdown",
   "metadata": {},
   "source": [
    "Примеры изображений (визуализация не точно передает цвета)"
   ]
  },
  {
   "cell_type": "code",
   "execution_count": 8,
   "metadata": {},
   "outputs": [
    {
     "data": {
      "text/plain": [
       "pigment: white or black image for calibration"
      ]
     },
     "execution_count": 8,
     "metadata": {},
     "output_type": "execute_result"
    },
    {
     "data": {
      "image/png": "[encoded data removed]",
      "text/plain": [
       "<Figure size 432x288 with 2 Axes>"
      ]
     },
     "metadata": {
      "needs_background": "light"
     },
     "output_type": "display_data"
    }
   ],
   "source": [
    "Hyper_Img(CALIBR_WHITE_PATH_COLORED)"
   ]
  },
  {
   "cell_type": "code",
   "execution_count": 9,
   "metadata": {},
   "outputs": [
    {
     "data": {
      "text/plain": [
       "pigment: only melanin"
      ]
     },
     "execution_count": 9,
     "metadata": {},
     "output_type": "execute_result"
    },
    {
     "data": {
      "image/png": "[encoded data removed]",
      "text/plain": [
       "<Figure size 432x288 with 2 Axes>"
      ]
     },
     "metadata": {
      "needs_background": "light"
     },
     "output_type": "display_data"
    }
   ],
   "source": [
    "Hyper_Img(IMG_PATH_COLORED + 'session_001_001_snapshot_cube.tiff')"
   ]
  },
  {
   "cell_type": "code",
   "execution_count": 10,
   "metadata": {},
   "outputs": [
    {
     "data": {
      "text/plain": [
       "pigment: only anthocyanins"
      ]
     },
     "execution_count": 10,
     "metadata": {},
     "output_type": "execute_result"
    },
    {
     "data": {
      "image/png": "[encoded data removed]",
      "text/plain": [
       "<Figure size 432x288 with 2 Axes>"
      ]
     },
     "metadata": {
      "needs_background": "light"
     },
     "output_type": "display_data"
    }
   ],
   "source": [
    "Hyper_Img(IMG_PATH_COLORED + 'session_001_004_snapshot_cube.tiff')"
   ]
  },
  {
   "cell_type": "code",
   "execution_count": 11,
   "metadata": {},
   "outputs": [
    {
     "data": {
      "text/plain": [
       "pigment: white"
      ]
     },
     "execution_count": 11,
     "metadata": {},
     "output_type": "execute_result"
    },
    {
     "data": {
      "image/png": "[encoded data removed]",
      "text/plain": [
       "<Figure size 432x288 with 2 Axes>"
      ]
     },
     "metadata": {
      "needs_background": "light"
     },
     "output_type": "display_data"
    }
   ],
   "source": [
    "Hyper_Img(IMG_PATH_COLORED + 'session_001_000_snapshot_cube.tiff')"
   ]
  },
  {
   "cell_type": "code",
   "execution_count": 12,
   "metadata": {},
   "outputs": [
    {
     "data": {
      "text/plain": [
       "pigment: melanin and anthocyanins"
      ]
     },
     "execution_count": 12,
     "metadata": {},
     "output_type": "execute_result"
    },
    {
     "data": {
      "image/png": "[encoded data removed]",
      "text/plain": [
       "<Figure size 432x288 with 2 Axes>"
      ]
     },
     "metadata": {
      "needs_background": "light"
     },
     "output_type": "display_data"
    }
   ],
   "source": [
    "Hyper_Img(IMG_PATH_COLORED + 'session_001_007_snapshot_cube.tiff')"
   ]
  },
  {
   "cell_type": "code",
   "execution_count": 13,
   "metadata": {},
   "outputs": [
    {
     "data": {
      "text/plain": [
       "pigment: white"
      ]
     },
     "execution_count": 13,
     "metadata": {},
     "output_type": "execute_result"
    },
    {
     "data": {
      "image/png": "[encoded data removed]",
      "text/plain": [
       "<Figure size 432x288 with 2 Axes>"
      ]
     },
     "metadata": {
      "needs_background": "light"
     },
     "output_type": "display_data"
    }
   ],
   "source": [
    "Hyper_Img(IMG_PATH_WHITE + 'session_001_013_snapshot_cube.tiff')"
   ]
  },
  {
   "cell_type": "code",
   "execution_count": 14,
   "metadata": {},
   "outputs": [
    {
     "data": {
      "text/plain": [
       "pigment: white"
      ]
     },
     "execution_count": 14,
     "metadata": {},
     "output_type": "execute_result"
    },
    {
     "data": {
      "image/png": "[encoded data removed]",
      "text/plain": [
       "<Figure size 432x288 with 2 Axes>"
      ]
     },
     "metadata": {
      "needs_background": "light"
     },
     "output_type": "display_data"
    }
   ],
   "source": [
    "Hyper_Img(IMG_PATH_WHITE + 'session_001_037_snapshot_cube.tiff')"
   ]
  },
  {
   "cell_type": "markdown",
   "metadata": {},
   "source": [
    "Функция, возвращающая необходимые имена в директории"
   ]
  },
  {
   "cell_type": "code",
   "execution_count": 15,
   "metadata": {},
   "outputs": [],
   "source": [
    "def all_tiff_cube_img(path: str) -> tp.List[str]:\n",
    "    img_names: tp.List[str] = list()\n",
    "    for dirname, _, filenames in os.walk(path):\n",
    "        for filename in filenames: \n",
    "            name = os.path.join(filename)\n",
    "            if name.split('.')[-1] != 'tiff':\n",
    "                continue\n",
    "            if name.split('.')[0].split('_')[-1] != 'cube':\n",
    "                continue\n",
    "            img_names.append(dirname + '/' + name)\n",
    "            \n",
    "    return img_names "
   ]
  },
  {
   "cell_type": "code",
   "execution_count": 16,
   "metadata": {},
   "outputs": [],
   "source": [
    "warnings.simplefilter('ignore')"
   ]
  },
  {
   "cell_type": "markdown",
   "metadata": {},
   "source": [
    "считываем все необходимые изображения "
   ]
  },
  {
   "cell_type": "code",
   "execution_count": 17,
   "metadata": {},
   "outputs": [],
   "source": [
    "#hyper_imgs - list with all hyperspectral images\n",
    "hyper_imgs: tp.List[Hyper_Img] = [Hyper_Img(name) for name in all_tiff_cube_img(IMG_PATH)\n",
    "                                   if Hyper_Img(name).melanin >= 0]        "
   ]
  },
  {
   "cell_type": "markdown",
   "metadata": {},
   "source": [
    "$\\textbf{Графики медиан для каждого канала}$"
   ]
  },
  {
   "cell_type": "code",
   "execution_count": 18,
   "metadata": {},
   "outputs": [],
   "source": [
    "def get_all_medians(hyper_imgs: tp.List[Hyper_Img]) -> pd.DataFrame:\n",
    "    \"\"\"\n",
    "    create DataFrame for graphics\n",
    "    \"\"\"\n",
    "    \n",
    "    x_axis: tp.List[int] = list(np.arange(0,138)*4 + 450)\n",
    "    points: tp.List[tp.Tuple[float, float, int, str]] = list()\n",
    "    \n",
    "    for sample_number, sample in enumerate(hyper_imgs):\n",
    "        \n",
    "        if sample.melanin == -1:\n",
    "            continue\n",
    "        \n",
    "        for p in zip(x_axis, sample.medians):\n",
    "            points.append([p[0], p[1], sample_number, sample.pigment])\n",
    "        \n",
    "\n",
    "    return pd.DataFrame(points, columns = ['Wavelength', 'Median', 'Sample', 'Pigment'])      "
   ]
  },
  {
   "cell_type": "code",
   "execution_count": 19,
   "metadata": {},
   "outputs": [
    {
     "data": {
      "text/html": [
       "<div>\n",
       "<style scoped>\n",
       "    .dataframe tbody tr th:only-of-type {\n",
       "        vertical-align: middle;\n",
       "    }\n",
       "\n",
       "    .dataframe tbody tr th {\n",
       "        vertical-align: top;\n",
       "    }\n",
       "\n",
       "    .dataframe thead th {\n",
       "        text-align: right;\n",
       "    }\n",
       "</style>\n",
       "<table border=\"1\" class=\"dataframe\">\n",
       "  <thead>\n",
       "    <tr style=\"text-align: right;\">\n",
       "      <th></th>\n",
       "      <th>Wavelength</th>\n",
       "      <th>Median</th>\n",
       "      <th>Sample</th>\n",
       "      <th>Pigment</th>\n",
       "    </tr>\n",
       "  </thead>\n",
       "  <tbody>\n",
       "    <tr>\n",
       "      <th>9373</th>\n",
       "      <td>958</td>\n",
       "      <td>0.049281</td>\n",
       "      <td>67</td>\n",
       "      <td>melanin and anthocyanins</td>\n",
       "    </tr>\n",
       "    <tr>\n",
       "      <th>2751</th>\n",
       "      <td>966</td>\n",
       "      <td>0.251502</td>\n",
       "      <td>19</td>\n",
       "      <td>white</td>\n",
       "    </tr>\n",
       "    <tr>\n",
       "      <th>4811</th>\n",
       "      <td>926</td>\n",
       "      <td>0.327975</td>\n",
       "      <td>34</td>\n",
       "      <td>white</td>\n",
       "    </tr>\n",
       "    <tr>\n",
       "      <th>283</th>\n",
       "      <td>478</td>\n",
       "      <td>0.198650</td>\n",
       "      <td>2</td>\n",
       "      <td>white</td>\n",
       "    </tr>\n",
       "    <tr>\n",
       "      <th>136</th>\n",
       "      <td>994</td>\n",
       "      <td>0.269293</td>\n",
       "      <td>0</td>\n",
       "      <td>white</td>\n",
       "    </tr>\n",
       "    <tr>\n",
       "      <th>2614</th>\n",
       "      <td>970</td>\n",
       "      <td>0.357164</td>\n",
       "      <td>18</td>\n",
       "      <td>white</td>\n",
       "    </tr>\n",
       "    <tr>\n",
       "      <th>10165</th>\n",
       "      <td>814</td>\n",
       "      <td>0.000000</td>\n",
       "      <td>73</td>\n",
       "      <td>only melanin</td>\n",
       "    </tr>\n",
       "  </tbody>\n",
       "</table>\n",
       "</div>"
      ],
      "text/plain": [
       "       Wavelength    Median  Sample                   Pigment\n",
       "9373          958  0.049281      67  melanin and anthocyanins\n",
       "2751          966  0.251502      19                     white\n",
       "4811          926  0.327975      34                     white\n",
       "283           478  0.198650       2                     white\n",
       "136           994  0.269293       0                     white\n",
       "2614          970  0.357164      18                     white\n",
       "10165         814  0.000000      73              only melanin"
      ]
     },
     "execution_count": 19,
     "metadata": {},
     "output_type": "execute_result"
    }
   ],
   "source": [
    "df_all_med = get_all_medians(hyper_imgs)\n",
    "df_all_med.sample(7)"
   ]
  },
  {
   "cell_type": "code",
   "execution_count": 20,
   "metadata": {},
   "outputs": [
    {
     "data": {
      "text/plain": [
       "<AxesSubplot:xlabel='Wavelength', ylabel='Median'>"
      ]
     },
     "execution_count": 20,
     "metadata": {},
     "output_type": "execute_result"
    },
    {
     "data": {
      "image/png": "[encoded data removed]",
      "text/plain": [
       "<Figure size 1080x720 with 1 Axes>"
      ]
     },
     "metadata": {
      "needs_background": "light"
     },
     "output_type": "display_data"
    }
   ],
   "source": [
    "plt.figure(figsize=(15,10))\n",
    "sns.lineplot(data=df_all_med, x='Wavelength', y='Median', hue='Pigment')"
   ]
  },
  {
   "cell_type": "markdown",
   "metadata": {},
   "source": [
    "$\\textbf{PCA}$"
   ]
  },
  {
   "cell_type": "code",
   "execution_count": 21,
   "metadata": {},
   "outputs": [],
   "source": [
    "#Пайплайн\n",
    "feature_pipe = Pipeline([('scaler', StandardScaler()), ('pca', PCA(n_components=5))])"
   ]
  },
  {
   "cell_type": "code",
   "execution_count": 22,
   "metadata": {},
   "outputs": [],
   "source": [
    "def get_med_df(hyper_imgs: tp.List[Hyper_Img]) -> pd.DataFrame:\n",
    "    \"\"\"\n",
    "    create DataFrame for PCA\n",
    "    \"\"\"\n",
    "        \n",
    "    return pd.DataFrame([list(sample.medians) + [sample.pigment] for sample in hyper_imgs], \n",
    "                         columns = list(np.arange(0,138)*4 + 450) + ['Pigment'])    "
   ]
  },
  {
   "cell_type": "code",
   "execution_count": 23,
   "metadata": {},
   "outputs": [
    {
     "data": {
      "text/html": [
       "<div>\n",
       "<style scoped>\n",
       "    .dataframe tbody tr th:only-of-type {\n",
       "        vertical-align: middle;\n",
       "    }\n",
       "\n",
       "    .dataframe tbody tr th {\n",
       "        vertical-align: top;\n",
       "    }\n",
       "\n",
       "    .dataframe thead th {\n",
       "        text-align: right;\n",
       "    }\n",
       "</style>\n",
       "<table border=\"1\" class=\"dataframe\">\n",
       "  <thead>\n",
       "    <tr style=\"text-align: right;\">\n",
       "      <th></th>\n",
       "      <th>450</th>\n",
       "      <th>454</th>\n",
       "      <th>458</th>\n",
       "      <th>462</th>\n",
       "      <th>466</th>\n",
       "      <th>470</th>\n",
       "      <th>474</th>\n",
       "      <th>478</th>\n",
       "      <th>482</th>\n",
       "      <th>486</th>\n",
       "      <th>...</th>\n",
       "      <th>966</th>\n",
       "      <th>970</th>\n",
       "      <th>974</th>\n",
       "      <th>978</th>\n",
       "      <th>982</th>\n",
       "      <th>986</th>\n",
       "      <th>990</th>\n",
       "      <th>994</th>\n",
       "      <th>998</th>\n",
       "      <th>Pigment</th>\n",
       "    </tr>\n",
       "  </thead>\n",
       "  <tbody>\n",
       "    <tr>\n",
       "      <th>22</th>\n",
       "      <td>0.175821</td>\n",
       "      <td>0.207743</td>\n",
       "      <td>0.231502</td>\n",
       "      <td>0.248616</td>\n",
       "      <td>0.260604</td>\n",
       "      <td>0.269463</td>\n",
       "      <td>0.275830</td>\n",
       "      <td>0.281453</td>\n",
       "      <td>0.287221</td>\n",
       "      <td>0.293355</td>\n",
       "      <td>...</td>\n",
       "      <td>0.354019</td>\n",
       "      <td>0.353255</td>\n",
       "      <td>0.352682</td>\n",
       "      <td>0.352326</td>\n",
       "      <td>0.352248</td>\n",
       "      <td>0.351814</td>\n",
       "      <td>0.351428</td>\n",
       "      <td>0.351168</td>\n",
       "      <td>0.351110</td>\n",
       "      <td>white</td>\n",
       "    </tr>\n",
       "    <tr>\n",
       "      <th>26</th>\n",
       "      <td>0.154625</td>\n",
       "      <td>0.182635</td>\n",
       "      <td>0.204124</td>\n",
       "      <td>0.220113</td>\n",
       "      <td>0.231627</td>\n",
       "      <td>0.239408</td>\n",
       "      <td>0.245125</td>\n",
       "      <td>0.250004</td>\n",
       "      <td>0.255147</td>\n",
       "      <td>0.260982</td>\n",
       "      <td>...</td>\n",
       "      <td>0.323259</td>\n",
       "      <td>0.323102</td>\n",
       "      <td>0.323711</td>\n",
       "      <td>0.324782</td>\n",
       "      <td>0.325850</td>\n",
       "      <td>0.326914</td>\n",
       "      <td>0.327637</td>\n",
       "      <td>0.327778</td>\n",
       "      <td>0.327091</td>\n",
       "      <td>white</td>\n",
       "    </tr>\n",
       "    <tr>\n",
       "      <th>38</th>\n",
       "      <td>0.028603</td>\n",
       "      <td>0.033040</td>\n",
       "      <td>0.036488</td>\n",
       "      <td>0.039066</td>\n",
       "      <td>0.040890</td>\n",
       "      <td>0.042131</td>\n",
       "      <td>0.042602</td>\n",
       "      <td>0.042925</td>\n",
       "      <td>0.043304</td>\n",
       "      <td>0.043649</td>\n",
       "      <td>...</td>\n",
       "      <td>0.053401</td>\n",
       "      <td>0.053466</td>\n",
       "      <td>0.053438</td>\n",
       "      <td>0.053591</td>\n",
       "      <td>0.053675</td>\n",
       "      <td>0.053744</td>\n",
       "      <td>0.053722</td>\n",
       "      <td>0.053566</td>\n",
       "      <td>0.053237</td>\n",
       "      <td>melanin and anthocyanins</td>\n",
       "    </tr>\n",
       "    <tr>\n",
       "      <th>39</th>\n",
       "      <td>0.081831</td>\n",
       "      <td>0.095181</td>\n",
       "      <td>0.104806</td>\n",
       "      <td>0.111360</td>\n",
       "      <td>0.115496</td>\n",
       "      <td>0.117876</td>\n",
       "      <td>0.119099</td>\n",
       "      <td>0.120252</td>\n",
       "      <td>0.121501</td>\n",
       "      <td>0.123639</td>\n",
       "      <td>...</td>\n",
       "      <td>0.139197</td>\n",
       "      <td>0.139204</td>\n",
       "      <td>0.139160</td>\n",
       "      <td>0.139108</td>\n",
       "      <td>0.138955</td>\n",
       "      <td>0.138825</td>\n",
       "      <td>0.138746</td>\n",
       "      <td>0.138757</td>\n",
       "      <td>0.138898</td>\n",
       "      <td>only melanin</td>\n",
       "    </tr>\n",
       "    <tr>\n",
       "      <th>61</th>\n",
       "      <td>0.057563</td>\n",
       "      <td>0.067491</td>\n",
       "      <td>0.074752</td>\n",
       "      <td>0.079746</td>\n",
       "      <td>0.082876</td>\n",
       "      <td>0.084639</td>\n",
       "      <td>0.084913</td>\n",
       "      <td>0.085070</td>\n",
       "      <td>0.085255</td>\n",
       "      <td>0.085680</td>\n",
       "      <td>...</td>\n",
       "      <td>0.088200</td>\n",
       "      <td>0.087962</td>\n",
       "      <td>0.087823</td>\n",
       "      <td>0.087569</td>\n",
       "      <td>0.087386</td>\n",
       "      <td>0.087297</td>\n",
       "      <td>0.087283</td>\n",
       "      <td>0.087354</td>\n",
       "      <td>0.087518</td>\n",
       "      <td>melanin and anthocyanins</td>\n",
       "    </tr>\n",
       "    <tr>\n",
       "      <th>73</th>\n",
       "      <td>0.027155</td>\n",
       "      <td>0.031206</td>\n",
       "      <td>0.034539</td>\n",
       "      <td>0.037208</td>\n",
       "      <td>0.039263</td>\n",
       "      <td>0.040841</td>\n",
       "      <td>0.041552</td>\n",
       "      <td>0.042023</td>\n",
       "      <td>0.042601</td>\n",
       "      <td>0.043156</td>\n",
       "      <td>...</td>\n",
       "      <td>0.067069</td>\n",
       "      <td>0.067154</td>\n",
       "      <td>0.067287</td>\n",
       "      <td>0.067361</td>\n",
       "      <td>0.067595</td>\n",
       "      <td>0.067609</td>\n",
       "      <td>0.067586</td>\n",
       "      <td>0.067558</td>\n",
       "      <td>0.067558</td>\n",
       "      <td>only melanin</td>\n",
       "    </tr>\n",
       "    <tr>\n",
       "      <th>60</th>\n",
       "      <td>0.026126</td>\n",
       "      <td>0.030251</td>\n",
       "      <td>0.033419</td>\n",
       "      <td>0.035742</td>\n",
       "      <td>0.037330</td>\n",
       "      <td>0.038347</td>\n",
       "      <td>0.038528</td>\n",
       "      <td>0.038759</td>\n",
       "      <td>0.038940</td>\n",
       "      <td>0.039086</td>\n",
       "      <td>...</td>\n",
       "      <td>0.046041</td>\n",
       "      <td>0.046302</td>\n",
       "      <td>0.046513</td>\n",
       "      <td>0.046658</td>\n",
       "      <td>0.046800</td>\n",
       "      <td>0.046874</td>\n",
       "      <td>0.046926</td>\n",
       "      <td>0.046971</td>\n",
       "      <td>0.047026</td>\n",
       "      <td>only melanin</td>\n",
       "    </tr>\n",
       "  </tbody>\n",
       "</table>\n",
       "<p>7 rows × 139 columns</p>\n",
       "</div>"
      ],
      "text/plain": [
       "         450       454       458       462       466       470       474  \\\n",
       "22  0.175821  0.207743  0.231502  0.248616  0.260604  0.269463  0.275830   \n",
       "26  0.154625  0.182635  0.204124  0.220113  0.231627  0.239408  0.245125   \n",
       "38  0.028603  0.033040  0.036488  0.039066  0.040890  0.042131  0.042602   \n",
       "39  0.081831  0.095181  0.104806  0.111360  0.115496  0.117876  0.119099   \n",
       "61  0.057563  0.067491  0.074752  0.079746  0.082876  0.084639  0.084913   \n",
       "73  0.027155  0.031206  0.034539  0.037208  0.039263  0.040841  0.041552   \n",
       "60  0.026126  0.030251  0.033419  0.035742  0.037330  0.038347  0.038528   \n",
       "\n",
       "         478       482       486  ...       966       970       974       978  \\\n",
       "22  0.281453  0.287221  0.293355  ...  0.354019  0.353255  0.352682  0.352326   \n",
       "26  0.250004  0.255147  0.260982  ...  0.323259  0.323102  0.323711  0.324782   \n",
       "38  0.042925  0.043304  0.043649  ...  0.053401  0.053466  0.053438  0.053591   \n",
       "39  0.120252  0.121501  0.123639  ...  0.139197  0.139204  0.139160  0.139108   \n",
       "61  0.085070  0.085255  0.085680  ...  0.088200  0.087962  0.087823  0.087569   \n",
       "73  0.042023  0.042601  0.043156  ...  0.067069  0.067154  0.067287  0.067361   \n",
       "60  0.038759  0.038940  0.039086  ...  0.046041  0.046302  0.046513  0.046658   \n",
       "\n",
       "         982       986       990       994       998                   Pigment  \n",
       "22  0.352248  0.351814  0.351428  0.351168  0.351110                     white  \n",
       "26  0.325850  0.326914  0.327637  0.327778  0.327091                     white  \n",
       "38  0.053675  0.053744  0.053722  0.053566  0.053237  melanin and anthocyanins  \n",
       "39  0.138955  0.138825  0.138746  0.138757  0.138898              only melanin  \n",
       "61  0.087386  0.087297  0.087283  0.087354  0.087518  melanin and anthocyanins  \n",
       "73  0.067595  0.067609  0.067586  0.067558  0.067558              only melanin  \n",
       "60  0.046800  0.046874  0.046926  0.046971  0.047026              only melanin  \n",
       "\n",
       "[7 rows x 139 columns]"
      ]
     },
     "execution_count": 23,
     "metadata": {},
     "output_type": "execute_result"
    }
   ],
   "source": [
    "df = get_med_df(hyper_imgs)\n",
    "df.sample(7)"
   ]
  },
  {
   "cell_type": "code",
   "execution_count": 24,
   "metadata": {},
   "outputs": [
    {
     "data": {
      "text/html": [
       "<div>\n",
       "<style scoped>\n",
       "    .dataframe tbody tr th:only-of-type {\n",
       "        vertical-align: middle;\n",
       "    }\n",
       "\n",
       "    .dataframe tbody tr th {\n",
       "        vertical-align: top;\n",
       "    }\n",
       "\n",
       "    .dataframe thead th {\n",
       "        text-align: right;\n",
       "    }\n",
       "</style>\n",
       "<table border=\"1\" class=\"dataframe\">\n",
       "  <thead>\n",
       "    <tr style=\"text-align: right;\">\n",
       "      <th></th>\n",
       "      <th>450</th>\n",
       "      <th>454</th>\n",
       "      <th>458</th>\n",
       "      <th>462</th>\n",
       "      <th>466</th>\n",
       "      <th>470</th>\n",
       "      <th>474</th>\n",
       "      <th>478</th>\n",
       "      <th>482</th>\n",
       "      <th>486</th>\n",
       "      <th>...</th>\n",
       "      <th>962</th>\n",
       "      <th>966</th>\n",
       "      <th>970</th>\n",
       "      <th>974</th>\n",
       "      <th>978</th>\n",
       "      <th>982</th>\n",
       "      <th>986</th>\n",
       "      <th>990</th>\n",
       "      <th>994</th>\n",
       "      <th>998</th>\n",
       "    </tr>\n",
       "  </thead>\n",
       "  <tbody>\n",
       "    <tr>\n",
       "      <th>0</th>\n",
       "      <td>0.090347</td>\n",
       "      <td>0.108321</td>\n",
       "      <td>0.123391</td>\n",
       "      <td>0.135845</td>\n",
       "      <td>0.145975</td>\n",
       "      <td>0.154125</td>\n",
       "      <td>0.159635</td>\n",
       "      <td>0.164918</td>\n",
       "      <td>0.170134</td>\n",
       "      <td>0.175579</td>\n",
       "      <td>...</td>\n",
       "      <td>0.273946</td>\n",
       "      <td>0.272849</td>\n",
       "      <td>0.272059</td>\n",
       "      <td>0.271392</td>\n",
       "      <td>0.270901</td>\n",
       "      <td>0.270276</td>\n",
       "      <td>0.269762</td>\n",
       "      <td>0.269415</td>\n",
       "      <td>0.269293</td>\n",
       "      <td>0.269451</td>\n",
       "    </tr>\n",
       "    <tr>\n",
       "      <th>1</th>\n",
       "      <td>0.131461</td>\n",
       "      <td>0.154961</td>\n",
       "      <td>0.173581</td>\n",
       "      <td>0.188071</td>\n",
       "      <td>0.199181</td>\n",
       "      <td>0.207340</td>\n",
       "      <td>0.213903</td>\n",
       "      <td>0.220067</td>\n",
       "      <td>0.226702</td>\n",
       "      <td>0.233786</td>\n",
       "      <td>...</td>\n",
       "      <td>0.310982</td>\n",
       "      <td>0.311373</td>\n",
       "      <td>0.311499</td>\n",
       "      <td>0.311529</td>\n",
       "      <td>0.311531</td>\n",
       "      <td>0.311579</td>\n",
       "      <td>0.311293</td>\n",
       "      <td>0.311057</td>\n",
       "      <td>0.311002</td>\n",
       "      <td>0.311259</td>\n",
       "    </tr>\n",
       "    <tr>\n",
       "      <th>2</th>\n",
       "      <td>0.131958</td>\n",
       "      <td>0.151448</td>\n",
       "      <td>0.166479</td>\n",
       "      <td>0.177727</td>\n",
       "      <td>0.185868</td>\n",
       "      <td>0.191247</td>\n",
       "      <td>0.194933</td>\n",
       "      <td>0.198650</td>\n",
       "      <td>0.202753</td>\n",
       "      <td>0.207933</td>\n",
       "      <td>...</td>\n",
       "      <td>0.321169</td>\n",
       "      <td>0.321023</td>\n",
       "      <td>0.321085</td>\n",
       "      <td>0.321705</td>\n",
       "      <td>0.322087</td>\n",
       "      <td>0.322119</td>\n",
       "      <td>0.321809</td>\n",
       "      <td>0.321495</td>\n",
       "      <td>0.321334</td>\n",
       "      <td>0.321481</td>\n",
       "    </tr>\n",
       "    <tr>\n",
       "      <th>3</th>\n",
       "      <td>0.113380</td>\n",
       "      <td>0.134184</td>\n",
       "      <td>0.150814</td>\n",
       "      <td>0.163856</td>\n",
       "      <td>0.173894</td>\n",
       "      <td>0.181629</td>\n",
       "      <td>0.186704</td>\n",
       "      <td>0.191711</td>\n",
       "      <td>0.196552</td>\n",
       "      <td>0.201812</td>\n",
       "      <td>...</td>\n",
       "      <td>0.284521</td>\n",
       "      <td>0.284468</td>\n",
       "      <td>0.284835</td>\n",
       "      <td>0.285448</td>\n",
       "      <td>0.285801</td>\n",
       "      <td>0.285875</td>\n",
       "      <td>0.285714</td>\n",
       "      <td>0.285572</td>\n",
       "      <td>0.285572</td>\n",
       "      <td>0.285839</td>\n",
       "    </tr>\n",
       "    <tr>\n",
       "      <th>4</th>\n",
       "      <td>0.117353</td>\n",
       "      <td>0.138548</td>\n",
       "      <td>0.155029</td>\n",
       "      <td>0.167433</td>\n",
       "      <td>0.176401</td>\n",
       "      <td>0.182259</td>\n",
       "      <td>0.186108</td>\n",
       "      <td>0.189203</td>\n",
       "      <td>0.192364</td>\n",
       "      <td>0.196556</td>\n",
       "      <td>...</td>\n",
       "      <td>0.272634</td>\n",
       "      <td>0.273017</td>\n",
       "      <td>0.273216</td>\n",
       "      <td>0.273381</td>\n",
       "      <td>0.273634</td>\n",
       "      <td>0.274150</td>\n",
       "      <td>0.274480</td>\n",
       "      <td>0.274514</td>\n",
       "      <td>0.274098</td>\n",
       "      <td>0.273082</td>\n",
       "    </tr>\n",
       "  </tbody>\n",
       "</table>\n",
       "<p>5 rows × 138 columns</p>\n",
       "</div>"
      ],
      "text/plain": [
       "        450       454       458       462       466       470       474  \\\n",
       "0  0.090347  0.108321  0.123391  0.135845  0.145975  0.154125  0.159635   \n",
       "1  0.131461  0.154961  0.173581  0.188071  0.199181  0.207340  0.213903   \n",
       "2  0.131958  0.151448  0.166479  0.177727  0.185868  0.191247  0.194933   \n",
       "3  0.113380  0.134184  0.150814  0.163856  0.173894  0.181629  0.186704   \n",
       "4  0.117353  0.138548  0.155029  0.167433  0.176401  0.182259  0.186108   \n",
       "\n",
       "        478       482       486  ...       962       966       970       974  \\\n",
       "0  0.164918  0.170134  0.175579  ...  0.273946  0.272849  0.272059  0.271392   \n",
       "1  0.220067  0.226702  0.233786  ...  0.310982  0.311373  0.311499  0.311529   \n",
       "2  0.198650  0.202753  0.207933  ...  0.321169  0.321023  0.321085  0.321705   \n",
       "3  0.191711  0.196552  0.201812  ...  0.284521  0.284468  0.284835  0.285448   \n",
       "4  0.189203  0.192364  0.196556  ...  0.272634  0.273017  0.273216  0.273381   \n",
       "\n",
       "        978       982       986       990       994       998  \n",
       "0  0.270901  0.270276  0.269762  0.269415  0.269293  0.269451  \n",
       "1  0.311531  0.311579  0.311293  0.311057  0.311002  0.311259  \n",
       "2  0.322087  0.322119  0.321809  0.321495  0.321334  0.321481  \n",
       "3  0.285801  0.285875  0.285714  0.285572  0.285572  0.285839  \n",
       "4  0.273634  0.274150  0.274480  0.274514  0.274098  0.273082  \n",
       "\n",
       "[5 rows x 138 columns]"
      ]
     },
     "execution_count": 24,
     "metadata": {},
     "output_type": "execute_result"
    }
   ],
   "source": [
    "X = df.drop(['Pigment'], axis = 1)\n",
    "X.head()"
   ]
  },
  {
   "cell_type": "code",
   "execution_count": 25,
   "metadata": {},
   "outputs": [
    {
     "data": {
      "text/html": [
       "<div>\n",
       "<style scoped>\n",
       "    .dataframe tbody tr th:only-of-type {\n",
       "        vertical-align: middle;\n",
       "    }\n",
       "\n",
       "    .dataframe tbody tr th {\n",
       "        vertical-align: top;\n",
       "    }\n",
       "\n",
       "    .dataframe thead th {\n",
       "        text-align: right;\n",
       "    }\n",
       "</style>\n",
       "<table border=\"1\" class=\"dataframe\">\n",
       "  <thead>\n",
       "    <tr style=\"text-align: right;\">\n",
       "      <th></th>\n",
       "      <th>Pigment</th>\n",
       "    </tr>\n",
       "  </thead>\n",
       "  <tbody>\n",
       "    <tr>\n",
       "      <th>0</th>\n",
       "      <td>white</td>\n",
       "    </tr>\n",
       "    <tr>\n",
       "      <th>1</th>\n",
       "      <td>white</td>\n",
       "    </tr>\n",
       "    <tr>\n",
       "      <th>2</th>\n",
       "      <td>white</td>\n",
       "    </tr>\n",
       "    <tr>\n",
       "      <th>3</th>\n",
       "      <td>white</td>\n",
       "    </tr>\n",
       "    <tr>\n",
       "      <th>4</th>\n",
       "      <td>white</td>\n",
       "    </tr>\n",
       "  </tbody>\n",
       "</table>\n",
       "</div>"
      ],
      "text/plain": [
       "  Pigment\n",
       "0   white\n",
       "1   white\n",
       "2   white\n",
       "3   white\n",
       "4   white"
      ]
     },
     "execution_count": 25,
     "metadata": {},
     "output_type": "execute_result"
    }
   ],
   "source": [
    "y = df[['Pigment']]\n",
    "y.head()"
   ]
  },
  {
   "cell_type": "markdown",
   "metadata": {},
   "source": [
    "обучение и процент дисперсии для каждой компаненты"
   ]
  },
  {
   "cell_type": "code",
   "execution_count": 26,
   "metadata": {},
   "outputs": [
    {
     "data": {
      "text/plain": [
       "array([0.96810148, 0.01908893, 0.00838639, 0.0020263 , 0.00110748])"
      ]
     },
     "execution_count": 26,
     "metadata": {},
     "output_type": "execute_result"
    }
   ],
   "source": [
    "X = feature_pipe.fit_transform(X)\n",
    "feature_pipe['pca'].explained_variance_ratio_"
   ]
  },
  {
   "cell_type": "markdown",
   "metadata": {},
   "source": [
    "визуализация"
   ]
  },
  {
   "cell_type": "code",
   "execution_count": 27,
   "metadata": {},
   "outputs": [
    {
     "data": {
      "text/html": [
       "<div>\n",
       "<style scoped>\n",
       "    .dataframe tbody tr th:only-of-type {\n",
       "        vertical-align: middle;\n",
       "    }\n",
       "\n",
       "    .dataframe tbody tr th {\n",
       "        vertical-align: top;\n",
       "    }\n",
       "\n",
       "    .dataframe thead th {\n",
       "        text-align: right;\n",
       "    }\n",
       "</style>\n",
       "<table border=\"1\" class=\"dataframe\">\n",
       "  <thead>\n",
       "    <tr style=\"text-align: right;\">\n",
       "      <th></th>\n",
       "      <th>1</th>\n",
       "      <th>2</th>\n",
       "      <th>Pigment</th>\n",
       "    </tr>\n",
       "  </thead>\n",
       "  <tbody>\n",
       "    <tr>\n",
       "      <th>20</th>\n",
       "      <td>-12.075124</td>\n",
       "      <td>-0.529734</td>\n",
       "      <td>white</td>\n",
       "    </tr>\n",
       "    <tr>\n",
       "      <th>8</th>\n",
       "      <td>-11.643625</td>\n",
       "      <td>-1.116725</td>\n",
       "      <td>white</td>\n",
       "    </tr>\n",
       "    <tr>\n",
       "      <th>61</th>\n",
       "      <td>12.646016</td>\n",
       "      <td>1.012615</td>\n",
       "      <td>melanin and anthocyanins</td>\n",
       "    </tr>\n",
       "    <tr>\n",
       "      <th>11</th>\n",
       "      <td>-7.593723</td>\n",
       "      <td>-2.754133</td>\n",
       "      <td>white</td>\n",
       "    </tr>\n",
       "    <tr>\n",
       "      <th>59</th>\n",
       "      <td>-1.850806</td>\n",
       "      <td>4.727959</td>\n",
       "      <td>only anthocyanins</td>\n",
       "    </tr>\n",
       "    <tr>\n",
       "      <th>74</th>\n",
       "      <td>17.020122</td>\n",
       "      <td>-1.904664</td>\n",
       "      <td>only melanin</td>\n",
       "    </tr>\n",
       "    <tr>\n",
       "      <th>2</th>\n",
       "      <td>-9.297794</td>\n",
       "      <td>-0.787337</td>\n",
       "      <td>white</td>\n",
       "    </tr>\n",
       "  </tbody>\n",
       "</table>\n",
       "</div>"
      ],
      "text/plain": [
       "            1         2                   Pigment\n",
       "20 -12.075124 -0.529734                     white\n",
       "8  -11.643625 -1.116725                     white\n",
       "61  12.646016  1.012615  melanin and anthocyanins\n",
       "11  -7.593723 -2.754133                     white\n",
       "59  -1.850806  4.727959         only anthocyanins\n",
       "74  17.020122 -1.904664              only melanin\n",
       "2   -9.297794 -0.787337                     white"
      ]
     },
     "execution_count": 27,
     "metadata": {},
     "output_type": "execute_result"
    }
   ],
   "source": [
    "new_arr = np.array(tuple(zip(X[:,:2], y['Pigment'])))\n",
    "lst_of_value = [(new_arr[i][0][0], new_arr[i][0][1], new_arr[i][1]) for i, _ in enumerate(new_arr)]\n",
    "pd.DataFrame(lst_of_value, columns = ['1', '2', 'Pigment']).sample(7)"
   ]
  },
  {
   "cell_type": "code",
   "execution_count": 28,
   "metadata": {},
   "outputs": [
    {
     "data": {
      "text/plain": [
       "<AxesSubplot:xlabel='1', ylabel='2'>"
      ]
     },
     "execution_count": 28,
     "metadata": {},
     "output_type": "execute_result"
    },
    {
     "data": {
      "image/png": "[encoded data removed]",
      "text/plain": [
       "<Figure size 1080x720 with 1 Axes>"
      ]
     },
     "metadata": {
      "needs_background": "light"
     },
     "output_type": "display_data"
    }
   ],
   "source": [
    "plt.figure(figsize=(15,10))\n",
    "sns.scatterplot(data=pd.DataFrame(lst_of_value, \n",
    "                                  columns=['1', '2', 'Mutation']), x='1', y='2', hue='Mutation')"
   ]
  },
  {
   "cell_type": "markdown",
   "metadata": {},
   "source": [
    "$\\textbf{Классификация}$"
   ]
  },
  {
   "cell_type": "code",
   "execution_count": 29,
   "metadata": {},
   "outputs": [],
   "source": [
    "def get_med_df_bin_classific(hyper_imgs: tp.List[Hyper_Img], class_name: str) -> pd.DataFrame:\n",
    "    \"\"\"\n",
    "    create DataFrame for binary classification\n",
    "    \"\"\"\n",
    "    \n",
    "    def get_class(pigment: str) -> int:\n",
    "        if class_name in pigment:\n",
    "            return 1\n",
    "        return 0\n",
    "    \n",
    "    return pd.DataFrame([list(sample.medians) + [get_class(sample.pigment)] for sample in hyper_imgs], \n",
    "                         columns = list(np.arange(0,138)*4 + 450) + ['Pigment'])    "
   ]
  },
  {
   "cell_type": "code",
   "execution_count": 30,
   "metadata": {},
   "outputs": [],
   "source": [
    "def get_med_df_multi_classific(hyper_imgs: tp.List[Hyper_Img]) -> pd.DataFrame:\n",
    "    \"\"\"\n",
    "    create DataFrame for multi-class classification\n",
    "    \"\"\"\n",
    "    \n",
    "    def get_class(sample) -> int:\n",
    "        if sample.melanin and sample.anthocyanins:\n",
    "            return 3\n",
    "        elif sample.anthocyanins:\n",
    "            return 2\n",
    "        elif sample.melanin:\n",
    "            return 1\n",
    "        return 0\n",
    "    \n",
    "    return pd.DataFrame([list(sample.medians) + [get_class(sample)] for sample in hyper_imgs\n",
    "                         if sample.melanin >= 0], \n",
    "                         columns = list(np.arange(0,138)*4 + 450) + ['Pigment']) "
   ]
  },
  {
   "cell_type": "markdown",
   "metadata": {},
   "source": [
    "Стратифицированная кросс-валидация"
   ]
  },
  {
   "cell_type": "code",
   "execution_count": 31,
   "metadata": {},
   "outputs": [],
   "source": [
    "cv = StratifiedKFold(n_splits=3)"
   ]
  },
  {
   "cell_type": "markdown",
   "metadata": {},
   "source": [
    "$\\textbf{Классификация по наличию меланина}$"
   ]
  },
  {
   "cell_type": "markdown",
   "metadata": {},
   "source": [
    "информация о данных"
   ]
  },
  {
   "cell_type": "code",
   "execution_count": 32,
   "metadata": {},
   "outputs": [
    {
     "data": {
      "text/html": [
       "<div>\n",
       "<style scoped>\n",
       "    .dataframe tbody tr th:only-of-type {\n",
       "        vertical-align: middle;\n",
       "    }\n",
       "\n",
       "    .dataframe tbody tr th {\n",
       "        vertical-align: top;\n",
       "    }\n",
       "\n",
       "    .dataframe thead th {\n",
       "        text-align: right;\n",
       "    }\n",
       "</style>\n",
       "<table border=\"1\" class=\"dataframe\">\n",
       "  <thead>\n",
       "    <tr style=\"text-align: right;\">\n",
       "      <th></th>\n",
       "      <th>450</th>\n",
       "      <th>454</th>\n",
       "      <th>458</th>\n",
       "      <th>462</th>\n",
       "      <th>466</th>\n",
       "      <th>470</th>\n",
       "      <th>474</th>\n",
       "      <th>478</th>\n",
       "      <th>482</th>\n",
       "      <th>486</th>\n",
       "      <th>...</th>\n",
       "      <th>966</th>\n",
       "      <th>970</th>\n",
       "      <th>974</th>\n",
       "      <th>978</th>\n",
       "      <th>982</th>\n",
       "      <th>986</th>\n",
       "      <th>990</th>\n",
       "      <th>994</th>\n",
       "      <th>998</th>\n",
       "      <th>Pigment</th>\n",
       "    </tr>\n",
       "  </thead>\n",
       "  <tbody>\n",
       "    <tr>\n",
       "      <th>17</th>\n",
       "      <td>0.174240</td>\n",
       "      <td>0.199714</td>\n",
       "      <td>0.218527</td>\n",
       "      <td>0.231956</td>\n",
       "      <td>0.241281</td>\n",
       "      <td>0.247890</td>\n",
       "      <td>0.253086</td>\n",
       "      <td>0.257993</td>\n",
       "      <td>0.263075</td>\n",
       "      <td>0.268357</td>\n",
       "      <td>...</td>\n",
       "      <td>0.343012</td>\n",
       "      <td>0.344083</td>\n",
       "      <td>0.344330</td>\n",
       "      <td>0.344165</td>\n",
       "      <td>0.343700</td>\n",
       "      <td>0.343017</td>\n",
       "      <td>0.342174</td>\n",
       "      <td>0.341236</td>\n",
       "      <td>0.340269</td>\n",
       "      <td>0</td>\n",
       "    </tr>\n",
       "    <tr>\n",
       "      <th>44</th>\n",
       "      <td>0.057748</td>\n",
       "      <td>0.067405</td>\n",
       "      <td>0.074306</td>\n",
       "      <td>0.078884</td>\n",
       "      <td>0.081573</td>\n",
       "      <td>0.082854</td>\n",
       "      <td>0.082794</td>\n",
       "      <td>0.082622</td>\n",
       "      <td>0.082737</td>\n",
       "      <td>0.083182</td>\n",
       "      <td>...</td>\n",
       "      <td>0.076953</td>\n",
       "      <td>0.076921</td>\n",
       "      <td>0.076984</td>\n",
       "      <td>0.077001</td>\n",
       "      <td>0.077217</td>\n",
       "      <td>0.077418</td>\n",
       "      <td>0.077517</td>\n",
       "      <td>0.077433</td>\n",
       "      <td>0.077085</td>\n",
       "      <td>1</td>\n",
       "    </tr>\n",
       "    <tr>\n",
       "      <th>4</th>\n",
       "      <td>0.117353</td>\n",
       "      <td>0.138548</td>\n",
       "      <td>0.155029</td>\n",
       "      <td>0.167433</td>\n",
       "      <td>0.176401</td>\n",
       "      <td>0.182259</td>\n",
       "      <td>0.186108</td>\n",
       "      <td>0.189203</td>\n",
       "      <td>0.192364</td>\n",
       "      <td>0.196556</td>\n",
       "      <td>...</td>\n",
       "      <td>0.273017</td>\n",
       "      <td>0.273216</td>\n",
       "      <td>0.273381</td>\n",
       "      <td>0.273634</td>\n",
       "      <td>0.274150</td>\n",
       "      <td>0.274480</td>\n",
       "      <td>0.274514</td>\n",
       "      <td>0.274098</td>\n",
       "      <td>0.273082</td>\n",
       "      <td>0</td>\n",
       "    </tr>\n",
       "    <tr>\n",
       "      <th>60</th>\n",
       "      <td>0.026126</td>\n",
       "      <td>0.030251</td>\n",
       "      <td>0.033419</td>\n",
       "      <td>0.035742</td>\n",
       "      <td>0.037330</td>\n",
       "      <td>0.038347</td>\n",
       "      <td>0.038528</td>\n",
       "      <td>0.038759</td>\n",
       "      <td>0.038940</td>\n",
       "      <td>0.039086</td>\n",
       "      <td>...</td>\n",
       "      <td>0.046041</td>\n",
       "      <td>0.046302</td>\n",
       "      <td>0.046513</td>\n",
       "      <td>0.046658</td>\n",
       "      <td>0.046800</td>\n",
       "      <td>0.046874</td>\n",
       "      <td>0.046926</td>\n",
       "      <td>0.046971</td>\n",
       "      <td>0.047026</td>\n",
       "      <td>1</td>\n",
       "    </tr>\n",
       "    <tr>\n",
       "      <th>62</th>\n",
       "      <td>0.035914</td>\n",
       "      <td>0.043077</td>\n",
       "      <td>0.048647</td>\n",
       "      <td>0.052806</td>\n",
       "      <td>0.055737</td>\n",
       "      <td>0.057630</td>\n",
       "      <td>0.058380</td>\n",
       "      <td>0.058959</td>\n",
       "      <td>0.059459</td>\n",
       "      <td>0.059938</td>\n",
       "      <td>...</td>\n",
       "      <td>0.081182</td>\n",
       "      <td>0.081351</td>\n",
       "      <td>0.081537</td>\n",
       "      <td>0.081900</td>\n",
       "      <td>0.082067</td>\n",
       "      <td>0.082116</td>\n",
       "      <td>0.081967</td>\n",
       "      <td>0.081569</td>\n",
       "      <td>0.080869</td>\n",
       "      <td>1</td>\n",
       "    </tr>\n",
       "    <tr>\n",
       "      <th>13</th>\n",
       "      <td>0.125385</td>\n",
       "      <td>0.147528</td>\n",
       "      <td>0.165240</td>\n",
       "      <td>0.179101</td>\n",
       "      <td>0.189687</td>\n",
       "      <td>0.197314</td>\n",
       "      <td>0.202848</td>\n",
       "      <td>0.207825</td>\n",
       "      <td>0.212576</td>\n",
       "      <td>0.218216</td>\n",
       "      <td>...</td>\n",
       "      <td>0.303074</td>\n",
       "      <td>0.302515</td>\n",
       "      <td>0.301727</td>\n",
       "      <td>0.300944</td>\n",
       "      <td>0.300509</td>\n",
       "      <td>0.300166</td>\n",
       "      <td>0.299815</td>\n",
       "      <td>0.299375</td>\n",
       "      <td>0.298765</td>\n",
       "      <td>0</td>\n",
       "    </tr>\n",
       "    <tr>\n",
       "      <th>69</th>\n",
       "      <td>0.054434</td>\n",
       "      <td>0.064371</td>\n",
       "      <td>0.071646</td>\n",
       "      <td>0.076651</td>\n",
       "      <td>0.079779</td>\n",
       "      <td>0.081422</td>\n",
       "      <td>0.081631</td>\n",
       "      <td>0.081874</td>\n",
       "      <td>0.082318</td>\n",
       "      <td>0.083239</td>\n",
       "      <td>...</td>\n",
       "      <td>0.092279</td>\n",
       "      <td>0.092146</td>\n",
       "      <td>0.092045</td>\n",
       "      <td>0.091951</td>\n",
       "      <td>0.091900</td>\n",
       "      <td>0.091906</td>\n",
       "      <td>0.091939</td>\n",
       "      <td>0.091988</td>\n",
       "      <td>0.092046</td>\n",
       "      <td>1</td>\n",
       "    </tr>\n",
       "  </tbody>\n",
       "</table>\n",
       "<p>7 rows × 139 columns</p>\n",
       "</div>"
      ],
      "text/plain": [
       "         450       454       458       462       466       470       474  \\\n",
       "17  0.174240  0.199714  0.218527  0.231956  0.241281  0.247890  0.253086   \n",
       "44  0.057748  0.067405  0.074306  0.078884  0.081573  0.082854  0.082794   \n",
       "4   0.117353  0.138548  0.155029  0.167433  0.176401  0.182259  0.186108   \n",
       "60  0.026126  0.030251  0.033419  0.035742  0.037330  0.038347  0.038528   \n",
       "62  0.035914  0.043077  0.048647  0.052806  0.055737  0.057630  0.058380   \n",
       "13  0.125385  0.147528  0.165240  0.179101  0.189687  0.197314  0.202848   \n",
       "69  0.054434  0.064371  0.071646  0.076651  0.079779  0.081422  0.081631   \n",
       "\n",
       "         478       482       486  ...       966       970       974       978  \\\n",
       "17  0.257993  0.263075  0.268357  ...  0.343012  0.344083  0.344330  0.344165   \n",
       "44  0.082622  0.082737  0.083182  ...  0.076953  0.076921  0.076984  0.077001   \n",
       "4   0.189203  0.192364  0.196556  ...  0.273017  0.273216  0.273381  0.273634   \n",
       "60  0.038759  0.038940  0.039086  ...  0.046041  0.046302  0.046513  0.046658   \n",
       "62  0.058959  0.059459  0.059938  ...  0.081182  0.081351  0.081537  0.081900   \n",
       "13  0.207825  0.212576  0.218216  ...  0.303074  0.302515  0.301727  0.300944   \n",
       "69  0.081874  0.082318  0.083239  ...  0.092279  0.092146  0.092045  0.091951   \n",
       "\n",
       "         982       986       990       994       998  Pigment  \n",
       "17  0.343700  0.343017  0.342174  0.341236  0.340269        0  \n",
       "44  0.077217  0.077418  0.077517  0.077433  0.077085        1  \n",
       "4   0.274150  0.274480  0.274514  0.274098  0.273082        0  \n",
       "60  0.046800  0.046874  0.046926  0.046971  0.047026        1  \n",
       "62  0.082067  0.082116  0.081967  0.081569  0.080869        1  \n",
       "13  0.300509  0.300166  0.299815  0.299375  0.298765        0  \n",
       "69  0.091900  0.091906  0.091939  0.091988  0.092046        1  \n",
       "\n",
       "[7 rows x 139 columns]"
      ]
     },
     "execution_count": 32,
     "metadata": {},
     "output_type": "execute_result"
    }
   ],
   "source": [
    "df = get_med_df_bin_classific(hyper_imgs, 'melanin')\n",
    "df.sample(7)"
   ]
  },
  {
   "cell_type": "markdown",
   "metadata": {},
   "source": [
    "количество образцов каждого класса"
   ]
  },
  {
   "cell_type": "code",
   "execution_count": 33,
   "metadata": {},
   "outputs": [
    {
     "data": {
      "text/html": [
       "<div>\n",
       "<style scoped>\n",
       "    .dataframe tbody tr th:only-of-type {\n",
       "        vertical-align: middle;\n",
       "    }\n",
       "\n",
       "    .dataframe tbody tr th {\n",
       "        vertical-align: top;\n",
       "    }\n",
       "\n",
       "    .dataframe thead th {\n",
       "        text-align: right;\n",
       "    }\n",
       "</style>\n",
       "<table border=\"1\" class=\"dataframe\">\n",
       "  <thead>\n",
       "    <tr style=\"text-align: right;\">\n",
       "      <th></th>\n",
       "      <th>Pigment</th>\n",
       "      <th>Count</th>\n",
       "    </tr>\n",
       "  </thead>\n",
       "  <tbody>\n",
       "    <tr>\n",
       "      <th>0</th>\n",
       "      <td>0</td>\n",
       "      <td>50</td>\n",
       "    </tr>\n",
       "    <tr>\n",
       "      <th>1</th>\n",
       "      <td>1</td>\n",
       "      <td>28</td>\n",
       "    </tr>\n",
       "  </tbody>\n",
       "</table>\n",
       "</div>"
      ],
      "text/plain": [
       "   Pigment  Count\n",
       "0        0     50\n",
       "1        1     28"
      ]
     },
     "execution_count": 33,
     "metadata": {},
     "output_type": "execute_result"
    }
   ],
   "source": [
    "df_count = df.groupby('Pigment', as_index=True).count()[[450]].rename(columns={450:'Count'}).reset_index()\n",
    "df_count"
   ]
  },
  {
   "cell_type": "code",
   "execution_count": 34,
   "metadata": {},
   "outputs": [
    {
     "data": {
      "text/plain": [
       "<AxesSubplot:xlabel='Pigment', ylabel='Count'>"
      ]
     },
     "execution_count": 34,
     "metadata": {},
     "output_type": "execute_result"
    },
    {
     "data": {
      "image/png": "[encoded data removed]",
      "text/plain": [
       "<Figure size 648x648 with 1 Axes>"
      ]
     },
     "metadata": {
      "needs_background": "light"
     },
     "output_type": "display_data"
    }
   ],
   "source": [
    "plt.figure(figsize=(9,9))\n",
    "sns.barplot(data=df_count, x='Pigment', y='Count')"
   ]
  },
  {
   "cell_type": "markdown",
   "metadata": {},
   "source": [
    "разделение выборки на обучающию и тестовую"
   ]
  },
  {
   "cell_type": "code",
   "execution_count": 35,
   "metadata": {},
   "outputs": [
    {
     "data": {
      "text/html": [
       "<div>\n",
       "<style scoped>\n",
       "    .dataframe tbody tr th:only-of-type {\n",
       "        vertical-align: middle;\n",
       "    }\n",
       "\n",
       "    .dataframe tbody tr th {\n",
       "        vertical-align: top;\n",
       "    }\n",
       "\n",
       "    .dataframe thead th {\n",
       "        text-align: right;\n",
       "    }\n",
       "</style>\n",
       "<table border=\"1\" class=\"dataframe\">\n",
       "  <thead>\n",
       "    <tr style=\"text-align: right;\">\n",
       "      <th></th>\n",
       "      <th>450</th>\n",
       "      <th>454</th>\n",
       "      <th>458</th>\n",
       "      <th>462</th>\n",
       "      <th>466</th>\n",
       "      <th>470</th>\n",
       "      <th>474</th>\n",
       "      <th>478</th>\n",
       "      <th>482</th>\n",
       "      <th>486</th>\n",
       "      <th>...</th>\n",
       "      <th>962</th>\n",
       "      <th>966</th>\n",
       "      <th>970</th>\n",
       "      <th>974</th>\n",
       "      <th>978</th>\n",
       "      <th>982</th>\n",
       "      <th>986</th>\n",
       "      <th>990</th>\n",
       "      <th>994</th>\n",
       "      <th>998</th>\n",
       "    </tr>\n",
       "  </thead>\n",
       "  <tbody>\n",
       "    <tr>\n",
       "      <th>0</th>\n",
       "      <td>0.090347</td>\n",
       "      <td>0.108321</td>\n",
       "      <td>0.123391</td>\n",
       "      <td>0.135845</td>\n",
       "      <td>0.145975</td>\n",
       "      <td>0.154125</td>\n",
       "      <td>0.159635</td>\n",
       "      <td>0.164918</td>\n",
       "      <td>0.170134</td>\n",
       "      <td>0.175579</td>\n",
       "      <td>...</td>\n",
       "      <td>0.273946</td>\n",
       "      <td>0.272849</td>\n",
       "      <td>0.272059</td>\n",
       "      <td>0.271392</td>\n",
       "      <td>0.270901</td>\n",
       "      <td>0.270276</td>\n",
       "      <td>0.269762</td>\n",
       "      <td>0.269415</td>\n",
       "      <td>0.269293</td>\n",
       "      <td>0.269451</td>\n",
       "    </tr>\n",
       "    <tr>\n",
       "      <th>1</th>\n",
       "      <td>0.131461</td>\n",
       "      <td>0.154961</td>\n",
       "      <td>0.173581</td>\n",
       "      <td>0.188071</td>\n",
       "      <td>0.199181</td>\n",
       "      <td>0.207340</td>\n",
       "      <td>0.213903</td>\n",
       "      <td>0.220067</td>\n",
       "      <td>0.226702</td>\n",
       "      <td>0.233786</td>\n",
       "      <td>...</td>\n",
       "      <td>0.310982</td>\n",
       "      <td>0.311373</td>\n",
       "      <td>0.311499</td>\n",
       "      <td>0.311529</td>\n",
       "      <td>0.311531</td>\n",
       "      <td>0.311579</td>\n",
       "      <td>0.311293</td>\n",
       "      <td>0.311057</td>\n",
       "      <td>0.311002</td>\n",
       "      <td>0.311259</td>\n",
       "    </tr>\n",
       "    <tr>\n",
       "      <th>2</th>\n",
       "      <td>0.131958</td>\n",
       "      <td>0.151448</td>\n",
       "      <td>0.166479</td>\n",
       "      <td>0.177727</td>\n",
       "      <td>0.185868</td>\n",
       "      <td>0.191247</td>\n",
       "      <td>0.194933</td>\n",
       "      <td>0.198650</td>\n",
       "      <td>0.202753</td>\n",
       "      <td>0.207933</td>\n",
       "      <td>...</td>\n",
       "      <td>0.321169</td>\n",
       "      <td>0.321023</td>\n",
       "      <td>0.321085</td>\n",
       "      <td>0.321705</td>\n",
       "      <td>0.322087</td>\n",
       "      <td>0.322119</td>\n",
       "      <td>0.321809</td>\n",
       "      <td>0.321495</td>\n",
       "      <td>0.321334</td>\n",
       "      <td>0.321481</td>\n",
       "    </tr>\n",
       "    <tr>\n",
       "      <th>3</th>\n",
       "      <td>0.113380</td>\n",
       "      <td>0.134184</td>\n",
       "      <td>0.150814</td>\n",
       "      <td>0.163856</td>\n",
       "      <td>0.173894</td>\n",
       "      <td>0.181629</td>\n",
       "      <td>0.186704</td>\n",
       "      <td>0.191711</td>\n",
       "      <td>0.196552</td>\n",
       "      <td>0.201812</td>\n",
       "      <td>...</td>\n",
       "      <td>0.284521</td>\n",
       "      <td>0.284468</td>\n",
       "      <td>0.284835</td>\n",
       "      <td>0.285448</td>\n",
       "      <td>0.285801</td>\n",
       "      <td>0.285875</td>\n",
       "      <td>0.285714</td>\n",
       "      <td>0.285572</td>\n",
       "      <td>0.285572</td>\n",
       "      <td>0.285839</td>\n",
       "    </tr>\n",
       "    <tr>\n",
       "      <th>4</th>\n",
       "      <td>0.117353</td>\n",
       "      <td>0.138548</td>\n",
       "      <td>0.155029</td>\n",
       "      <td>0.167433</td>\n",
       "      <td>0.176401</td>\n",
       "      <td>0.182259</td>\n",
       "      <td>0.186108</td>\n",
       "      <td>0.189203</td>\n",
       "      <td>0.192364</td>\n",
       "      <td>0.196556</td>\n",
       "      <td>...</td>\n",
       "      <td>0.272634</td>\n",
       "      <td>0.273017</td>\n",
       "      <td>0.273216</td>\n",
       "      <td>0.273381</td>\n",
       "      <td>0.273634</td>\n",
       "      <td>0.274150</td>\n",
       "      <td>0.274480</td>\n",
       "      <td>0.274514</td>\n",
       "      <td>0.274098</td>\n",
       "      <td>0.273082</td>\n",
       "    </tr>\n",
       "  </tbody>\n",
       "</table>\n",
       "<p>5 rows × 138 columns</p>\n",
       "</div>"
      ],
      "text/plain": [
       "        450       454       458       462       466       470       474  \\\n",
       "0  0.090347  0.108321  0.123391  0.135845  0.145975  0.154125  0.159635   \n",
       "1  0.131461  0.154961  0.173581  0.188071  0.199181  0.207340  0.213903   \n",
       "2  0.131958  0.151448  0.166479  0.177727  0.185868  0.191247  0.194933   \n",
       "3  0.113380  0.134184  0.150814  0.163856  0.173894  0.181629  0.186704   \n",
       "4  0.117353  0.138548  0.155029  0.167433  0.176401  0.182259  0.186108   \n",
       "\n",
       "        478       482       486  ...       962       966       970       974  \\\n",
       "0  0.164918  0.170134  0.175579  ...  0.273946  0.272849  0.272059  0.271392   \n",
       "1  0.220067  0.226702  0.233786  ...  0.310982  0.311373  0.311499  0.311529   \n",
       "2  0.198650  0.202753  0.207933  ...  0.321169  0.321023  0.321085  0.321705   \n",
       "3  0.191711  0.196552  0.201812  ...  0.284521  0.284468  0.284835  0.285448   \n",
       "4  0.189203  0.192364  0.196556  ...  0.272634  0.273017  0.273216  0.273381   \n",
       "\n",
       "        978       982       986       990       994       998  \n",
       "0  0.270901  0.270276  0.269762  0.269415  0.269293  0.269451  \n",
       "1  0.311531  0.311579  0.311293  0.311057  0.311002  0.311259  \n",
       "2  0.322087  0.322119  0.321809  0.321495  0.321334  0.321481  \n",
       "3  0.285801  0.285875  0.285714  0.285572  0.285572  0.285839  \n",
       "4  0.273634  0.274150  0.274480  0.274514  0.274098  0.273082  \n",
       "\n",
       "[5 rows x 138 columns]"
      ]
     },
     "execution_count": 35,
     "metadata": {},
     "output_type": "execute_result"
    }
   ],
   "source": [
    "X = df.drop(['Pigment'], axis = 1)\n",
    "X.head()"
   ]
  },
  {
   "cell_type": "code",
   "execution_count": 36,
   "metadata": {},
   "outputs": [
    {
     "data": {
      "text/html": [
       "<div>\n",
       "<style scoped>\n",
       "    .dataframe tbody tr th:only-of-type {\n",
       "        vertical-align: middle;\n",
       "    }\n",
       "\n",
       "    .dataframe tbody tr th {\n",
       "        vertical-align: top;\n",
       "    }\n",
       "\n",
       "    .dataframe thead th {\n",
       "        text-align: right;\n",
       "    }\n",
       "</style>\n",
       "<table border=\"1\" class=\"dataframe\">\n",
       "  <thead>\n",
       "    <tr style=\"text-align: right;\">\n",
       "      <th></th>\n",
       "      <th>Pigment</th>\n",
       "    </tr>\n",
       "  </thead>\n",
       "  <tbody>\n",
       "    <tr>\n",
       "      <th>0</th>\n",
       "      <td>0</td>\n",
       "    </tr>\n",
       "    <tr>\n",
       "      <th>1</th>\n",
       "      <td>0</td>\n",
       "    </tr>\n",
       "    <tr>\n",
       "      <th>2</th>\n",
       "      <td>0</td>\n",
       "    </tr>\n",
       "    <tr>\n",
       "      <th>3</th>\n",
       "      <td>0</td>\n",
       "    </tr>\n",
       "    <tr>\n",
       "      <th>4</th>\n",
       "      <td>0</td>\n",
       "    </tr>\n",
       "  </tbody>\n",
       "</table>\n",
       "</div>"
      ],
      "text/plain": [
       "   Pigment\n",
       "0        0\n",
       "1        0\n",
       "2        0\n",
       "3        0\n",
       "4        0"
      ]
     },
     "execution_count": 36,
     "metadata": {},
     "output_type": "execute_result"
    }
   ],
   "source": [
    "y = df[['Pigment']]\n",
    "y.head()"
   ]
  },
  {
   "cell_type": "code",
   "execution_count": 37,
   "metadata": {},
   "outputs": [],
   "source": [
    "X_train, X_test, y_train, y_test = train_test_split(X, y, test_size=0.2, stratify=y)"
   ]
  },
  {
   "cell_type": "code",
   "execution_count": 38,
   "metadata": {},
   "outputs": [
    {
     "data": {
      "text/html": [
       "<div>\n",
       "<style scoped>\n",
       "    .dataframe tbody tr th:only-of-type {\n",
       "        vertical-align: middle;\n",
       "    }\n",
       "\n",
       "    .dataframe tbody tr th {\n",
       "        vertical-align: top;\n",
       "    }\n",
       "\n",
       "    .dataframe thead th {\n",
       "        text-align: right;\n",
       "    }\n",
       "</style>\n",
       "<table border=\"1\" class=\"dataframe\">\n",
       "  <thead>\n",
       "    <tr style=\"text-align: right;\">\n",
       "      <th></th>\n",
       "      <th>Pigment</th>\n",
       "      <th>Count</th>\n",
       "    </tr>\n",
       "  </thead>\n",
       "  <tbody>\n",
       "    <tr>\n",
       "      <th>0</th>\n",
       "      <td>0</td>\n",
       "      <td>10</td>\n",
       "    </tr>\n",
       "    <tr>\n",
       "      <th>1</th>\n",
       "      <td>1</td>\n",
       "      <td>6</td>\n",
       "    </tr>\n",
       "  </tbody>\n",
       "</table>\n",
       "</div>"
      ],
      "text/plain": [
       "   Pigment  Count\n",
       "0        0     10\n",
       "1        1      6"
      ]
     },
     "execution_count": 38,
     "metadata": {},
     "output_type": "execute_result"
    }
   ],
   "source": [
    "test_count = y_test.reset_index().groupby('Pigment').count().reset_index().rename(columns={'index':'Count'})\n",
    "test_count"
   ]
  },
  {
   "cell_type": "code",
   "execution_count": 39,
   "metadata": {},
   "outputs": [
    {
     "data": {
      "text/plain": [
       "<AxesSubplot:xlabel='Pigment', ylabel='Count'>"
      ]
     },
     "execution_count": 39,
     "metadata": {},
     "output_type": "execute_result"
    },
    {
     "data": {
      "image/png": "[encoded data removed]",
      "text/plain": [
       "<Figure size 648x648 with 1 Axes>"
      ]
     },
     "metadata": {
      "needs_background": "light"
     },
     "output_type": "display_data"
    }
   ],
   "source": [
    "plt.figure(figsize=(9,9))\n",
    "sns.barplot(data=test_count, x='Pigment', y='Count')"
   ]
  },
  {
   "cell_type": "code",
   "execution_count": 40,
   "metadata": {},
   "outputs": [
    {
     "data": {
      "text/html": [
       "<div>\n",
       "<style scoped>\n",
       "    .dataframe tbody tr th:only-of-type {\n",
       "        vertical-align: middle;\n",
       "    }\n",
       "\n",
       "    .dataframe tbody tr th {\n",
       "        vertical-align: top;\n",
       "    }\n",
       "\n",
       "    .dataframe thead th {\n",
       "        text-align: right;\n",
       "    }\n",
       "</style>\n",
       "<table border=\"1\" class=\"dataframe\">\n",
       "  <thead>\n",
       "    <tr style=\"text-align: right;\">\n",
       "      <th></th>\n",
       "      <th>Pigment</th>\n",
       "      <th>Count</th>\n",
       "    </tr>\n",
       "  </thead>\n",
       "  <tbody>\n",
       "    <tr>\n",
       "      <th>0</th>\n",
       "      <td>0</td>\n",
       "      <td>40</td>\n",
       "    </tr>\n",
       "    <tr>\n",
       "      <th>1</th>\n",
       "      <td>1</td>\n",
       "      <td>22</td>\n",
       "    </tr>\n",
       "  </tbody>\n",
       "</table>\n",
       "</div>"
      ],
      "text/plain": [
       "   Pigment  Count\n",
       "0        0     40\n",
       "1        1     22"
      ]
     },
     "execution_count": 40,
     "metadata": {},
     "output_type": "execute_result"
    }
   ],
   "source": [
    "train_count = y_train.reset_index().groupby('Pigment').count().reset_index().rename(columns={'index':'Count'})\n",
    "train_count"
   ]
  },
  {
   "cell_type": "code",
   "execution_count": 41,
   "metadata": {},
   "outputs": [
    {
     "data": {
      "text/plain": [
       "<AxesSubplot:xlabel='Pigment', ylabel='Count'>"
      ]
     },
     "execution_count": 41,
     "metadata": {},
     "output_type": "execute_result"
    },
    {
     "data": {
      "image/png": "[encoded data removed]",
      "text/plain": [
       "<Figure size 648x648 with 1 Axes>"
      ]
     },
     "metadata": {
      "needs_background": "light"
     },
     "output_type": "display_data"
    }
   ],
   "source": [
    "plt.figure(figsize=(9,9))\n",
    "sns.barplot(data=train_count, x='Pigment', y='Count')"
   ]
  },
  {
   "cell_type": "markdown",
   "metadata": {},
   "source": [
    "Логистическая регрессия"
   ]
  },
  {
   "cell_type": "code",
   "execution_count": 42,
   "metadata": {},
   "outputs": [],
   "source": [
    "logistic_regr_pipe = Pipeline([('feature', Pipeline([('scaler', StandardScaler()), ('pca', PCA(n_components=5))])),\n",
    "                               ('logistic_regr', LogisticRegressionCV(cv=cv))])"
   ]
  },
  {
   "cell_type": "code",
   "execution_count": 43,
   "metadata": {},
   "outputs": [],
   "source": [
    "X_train = logistic_regr_pipe['feature'].fit_transform(X_train)\n",
    "X_test = logistic_regr_pipe['feature'].transform(X_test)"
   ]
  },
  {
   "cell_type": "code",
   "execution_count": 44,
   "metadata": {},
   "outputs": [
    {
     "data": {
      "text/plain": [
       "LogisticRegressionCV(cv=StratifiedKFold(n_splits=3, random_state=None, shuffle=False))"
      ]
     },
     "execution_count": 44,
     "metadata": {},
     "output_type": "execute_result"
    }
   ],
   "source": [
    "logistic_regr_pipe['logistic_regr'].fit(X_train, y_train)"
   ]
  },
  {
   "cell_type": "code",
   "execution_count": 45,
   "metadata": {},
   "outputs": [
    {
     "data": {
      "text/plain": [
       "array([-6.87018872])"
      ]
     },
     "execution_count": 45,
     "metadata": {},
     "output_type": "execute_result"
    }
   ],
   "source": [
    "logistic_regr_pipe['logistic_regr'].intercept_"
   ]
  },
  {
   "cell_type": "markdown",
   "metadata": {},
   "source": [
    "Random Forest"
   ]
  },
  {
   "cell_type": "code",
   "execution_count": 46,
   "metadata": {},
   "outputs": [],
   "source": [
    "parameters_random_forest = { 'max_depth':[2, 7], 'min_samples_split': [1, 5], \n",
    "                            'min_samples_leaf': [1, 5]}"
   ]
  },
  {
   "cell_type": "code",
   "execution_count": 47,
   "metadata": {},
   "outputs": [
    {
     "data": {
      "text/plain": [
       "GridSearchCV(cv=StratifiedKFold(n_splits=3, random_state=None, shuffle=False),\n",
       "             estimator=RandomForestClassifier(n_estimators=150),\n",
       "             param_grid={'max_depth': [2, 7], 'min_samples_leaf': [1, 5],\n",
       "                         'min_samples_split': [1, 5]})"
      ]
     },
     "execution_count": 47,
     "metadata": {},
     "output_type": "execute_result"
    }
   ],
   "source": [
    "clf_forest = GridSearchCV(RandomForestClassifier(n_estimators=150), parameters_random_forest, cv=cv)\n",
    "clf_forest.fit(X_train, y_train)"
   ]
  },
  {
   "cell_type": "code",
   "execution_count": 48,
   "metadata": {},
   "outputs": [
    {
     "data": {
      "text/plain": [
       "{'max_depth': 7, 'min_samples_leaf': 1, 'min_samples_split': 5}"
      ]
     },
     "execution_count": 48,
     "metadata": {},
     "output_type": "execute_result"
    }
   ],
   "source": [
    "clf_forest.best_params_"
   ]
  },
  {
   "cell_type": "code",
   "execution_count": 49,
   "metadata": {},
   "outputs": [],
   "source": [
    "random_forest_pipe = Pipeline([('feature', Pipeline([('scaler', StandardScaler()), ('pca', PCA(n_components=5))])),\n",
    "                               ('random_forest', clf_forest.best_estimator_)])"
   ]
  },
  {
   "cell_type": "markdown",
   "metadata": {},
   "source": [
    "Градиентный бустинг"
   ]
  },
  {
   "cell_type": "code",
   "execution_count": 50,
   "metadata": {},
   "outputs": [],
   "source": [
    "parameters_boosting = { 'learning_rate':np.power(2, np.arange(10))}"
   ]
  },
  {
   "cell_type": "code",
   "execution_count": 51,
   "metadata": {},
   "outputs": [
    {
     "data": {
      "text/plain": [
       "GridSearchCV(cv=StratifiedKFold(n_splits=3, random_state=None, shuffle=False),\n",
       "             estimator=GradientBoostingClassifier(n_estimators=150),\n",
       "             param_grid={'learning_rate': array([  1,   2,   4,   8,  16,  32,  64, 128, 256, 512])})"
      ]
     },
     "execution_count": 51,
     "metadata": {},
     "output_type": "execute_result"
    }
   ],
   "source": [
    "clf_boosting = GridSearchCV(GradientBoostingClassifier(n_estimators=150), parameters_boosting, cv=cv)\n",
    "clf_boosting.fit(X_train, y_train)"
   ]
  },
  {
   "cell_type": "code",
   "execution_count": 52,
   "metadata": {},
   "outputs": [
    {
     "data": {
      "text/plain": [
       "{'learning_rate': 1}"
      ]
     },
     "execution_count": 52,
     "metadata": {},
     "output_type": "execute_result"
    }
   ],
   "source": [
    "clf_boosting.best_params_"
   ]
  },
  {
   "cell_type": "code",
   "execution_count": 53,
   "metadata": {},
   "outputs": [],
   "source": [
    "gradient_boosting_pipe = Pipeline([('feature', Pipeline([('scaler', StandardScaler()), ('pca', PCA(n_components=5))])),\n",
    "                               ('gradient_boosting', clf_boosting.best_estimator_)])"
   ]
  },
  {
   "cell_type": "markdown",
   "metadata": {},
   "source": [
    "Результаты"
   ]
  },
  {
   "cell_type": "markdown",
   "metadata": {},
   "source": [
    "таблица с результатами моделей по основным метрикам"
   ]
  },
  {
   "cell_type": "code",
   "execution_count": 54,
   "metadata": {},
   "outputs": [],
   "source": [
    "def get_metrics(models: tp.List[sklearn.base.BaseEstimator], models_name: tp.List[str],\n",
    "                X: np.array, y: np.array) -> pd.DataFrame:\n",
    "    y_predicts = [model.predict(X) for model in models]\n",
    "    accuracy: tp.List[float] = [accuracy_score(y, y_predict) for y_predict in y_predicts]\n",
    "    f1: tp.List[float] = [f1_score(y, y_predict) for y_predict in y_predicts]\n",
    "    precision: tp.List[float] = [precision_score(y, y_predict) for y_predict in y_predicts]\n",
    "    recall: tp.List[float] = [recall_score(y, y_predict) for y_predict in y_predicts]\n",
    "    return pd.DataFrame(zip(models_name, accuracy, f1, precision, recall), \n",
    "                        columns = ['model', 'accuracy', 'f1', 'precision', 'recall'])"
   ]
  },
  {
   "cell_type": "markdown",
   "metadata": {},
   "source": [
    "Результаты на тренеровочной выборки"
   ]
  },
  {
   "cell_type": "code",
   "execution_count": 55,
   "metadata": {},
   "outputs": [
    {
     "data": {
      "text/html": [
       "<div>\n",
       "<style scoped>\n",
       "    .dataframe tbody tr th:only-of-type {\n",
       "        vertical-align: middle;\n",
       "    }\n",
       "\n",
       "    .dataframe tbody tr th {\n",
       "        vertical-align: top;\n",
       "    }\n",
       "\n",
       "    .dataframe thead th {\n",
       "        text-align: right;\n",
       "    }\n",
       "</style>\n",
       "<table border=\"1\" class=\"dataframe\">\n",
       "  <thead>\n",
       "    <tr style=\"text-align: right;\">\n",
       "      <th></th>\n",
       "      <th>model</th>\n",
       "      <th>accuracy</th>\n",
       "      <th>f1</th>\n",
       "      <th>precision</th>\n",
       "      <th>recall</th>\n",
       "    </tr>\n",
       "  </thead>\n",
       "  <tbody>\n",
       "    <tr>\n",
       "      <th>0</th>\n",
       "      <td>Логистическая регрессия</td>\n",
       "      <td>1.0</td>\n",
       "      <td>1.0</td>\n",
       "      <td>1.0</td>\n",
       "      <td>1.0</td>\n",
       "    </tr>\n",
       "    <tr>\n",
       "      <th>1</th>\n",
       "      <td>Random Forest</td>\n",
       "      <td>1.0</td>\n",
       "      <td>1.0</td>\n",
       "      <td>1.0</td>\n",
       "      <td>1.0</td>\n",
       "    </tr>\n",
       "    <tr>\n",
       "      <th>2</th>\n",
       "      <td>Градиентный бустинг</td>\n",
       "      <td>1.0</td>\n",
       "      <td>1.0</td>\n",
       "      <td>1.0</td>\n",
       "      <td>1.0</td>\n",
       "    </tr>\n",
       "  </tbody>\n",
       "</table>\n",
       "</div>"
      ],
      "text/plain": [
       "                     model  accuracy   f1  precision  recall\n",
       "0  Логистическая регрессия       1.0  1.0        1.0     1.0\n",
       "1            Random Forest       1.0  1.0        1.0     1.0\n",
       "2      Градиентный бустинг       1.0  1.0        1.0     1.0"
      ]
     },
     "execution_count": 55,
     "metadata": {},
     "output_type": "execute_result"
    }
   ],
   "source": [
    "get_metrics([logistic_regr_pipe['logistic_regr'], random_forest_pipe['random_forest'], \n",
    "             gradient_boosting_pipe['gradient_boosting']], \n",
    "             ['Логистическая регрессия', 'Random Forest', 'Градиентный бустинг'], X_train, y_train)"
   ]
  },
  {
   "cell_type": "markdown",
   "metadata": {},
   "source": [
    "Результаты на тестовой выборки"
   ]
  },
  {
   "cell_type": "code",
   "execution_count": 56,
   "metadata": {},
   "outputs": [
    {
     "data": {
      "text/html": [
       "<div>\n",
       "<style scoped>\n",
       "    .dataframe tbody tr th:only-of-type {\n",
       "        vertical-align: middle;\n",
       "    }\n",
       "\n",
       "    .dataframe tbody tr th {\n",
       "        vertical-align: top;\n",
       "    }\n",
       "\n",
       "    .dataframe thead th {\n",
       "        text-align: right;\n",
       "    }\n",
       "</style>\n",
       "<table border=\"1\" class=\"dataframe\">\n",
       "  <thead>\n",
       "    <tr style=\"text-align: right;\">\n",
       "      <th></th>\n",
       "      <th>model</th>\n",
       "      <th>accuracy</th>\n",
       "      <th>f1</th>\n",
       "      <th>precision</th>\n",
       "      <th>recall</th>\n",
       "    </tr>\n",
       "  </thead>\n",
       "  <tbody>\n",
       "    <tr>\n",
       "      <th>0</th>\n",
       "      <td>Логистическая регрессия</td>\n",
       "      <td>1.0</td>\n",
       "      <td>1.0</td>\n",
       "      <td>1.0</td>\n",
       "      <td>1.0</td>\n",
       "    </tr>\n",
       "    <tr>\n",
       "      <th>1</th>\n",
       "      <td>Random Forest</td>\n",
       "      <td>1.0</td>\n",
       "      <td>1.0</td>\n",
       "      <td>1.0</td>\n",
       "      <td>1.0</td>\n",
       "    </tr>\n",
       "    <tr>\n",
       "      <th>2</th>\n",
       "      <td>Градиентный бустинг</td>\n",
       "      <td>1.0</td>\n",
       "      <td>1.0</td>\n",
       "      <td>1.0</td>\n",
       "      <td>1.0</td>\n",
       "    </tr>\n",
       "  </tbody>\n",
       "</table>\n",
       "</div>"
      ],
      "text/plain": [
       "                     model  accuracy   f1  precision  recall\n",
       "0  Логистическая регрессия       1.0  1.0        1.0     1.0\n",
       "1            Random Forest       1.0  1.0        1.0     1.0\n",
       "2      Градиентный бустинг       1.0  1.0        1.0     1.0"
      ]
     },
     "execution_count": 56,
     "metadata": {},
     "output_type": "execute_result"
    }
   ],
   "source": [
    "get_metrics([logistic_regr_pipe['logistic_regr'], random_forest_pipe['random_forest'], \n",
    "             gradient_boosting_pipe['gradient_boosting']], \n",
    "             ['Логистическая регрессия', 'Random Forest', 'Градиентный бустинг'], X_test, y_test)"
   ]
  },
  {
   "cell_type": "markdown",
   "metadata": {},
   "source": [
    "$\\textbf{Классификация по наличию антоцианов}$"
   ]
  },
  {
   "cell_type": "code",
   "execution_count": 57,
   "metadata": {},
   "outputs": [
    {
     "data": {
      "text/html": [
       "<div>\n",
       "<style scoped>\n",
       "    .dataframe tbody tr th:only-of-type {\n",
       "        vertical-align: middle;\n",
       "    }\n",
       "\n",
       "    .dataframe tbody tr th {\n",
       "        vertical-align: top;\n",
       "    }\n",
       "\n",
       "    .dataframe thead th {\n",
       "        text-align: right;\n",
       "    }\n",
       "</style>\n",
       "<table border=\"1\" class=\"dataframe\">\n",
       "  <thead>\n",
       "    <tr style=\"text-align: right;\">\n",
       "      <th></th>\n",
       "      <th>450</th>\n",
       "      <th>454</th>\n",
       "      <th>458</th>\n",
       "      <th>462</th>\n",
       "      <th>466</th>\n",
       "      <th>470</th>\n",
       "      <th>474</th>\n",
       "      <th>478</th>\n",
       "      <th>482</th>\n",
       "      <th>486</th>\n",
       "      <th>...</th>\n",
       "      <th>966</th>\n",
       "      <th>970</th>\n",
       "      <th>974</th>\n",
       "      <th>978</th>\n",
       "      <th>982</th>\n",
       "      <th>986</th>\n",
       "      <th>990</th>\n",
       "      <th>994</th>\n",
       "      <th>998</th>\n",
       "      <th>Pigment</th>\n",
       "    </tr>\n",
       "  </thead>\n",
       "  <tbody>\n",
       "    <tr>\n",
       "      <th>71</th>\n",
       "      <td>0.035545</td>\n",
       "      <td>0.040421</td>\n",
       "      <td>0.044105</td>\n",
       "      <td>0.046764</td>\n",
       "      <td>0.048564</td>\n",
       "      <td>0.049654</td>\n",
       "      <td>0.050084</td>\n",
       "      <td>0.050472</td>\n",
       "      <td>0.050869</td>\n",
       "      <td>0.051740</td>\n",
       "      <td>...</td>\n",
       "      <td>0.067610</td>\n",
       "      <td>0.067864</td>\n",
       "      <td>0.068218</td>\n",
       "      <td>0.068451</td>\n",
       "      <td>0.068535</td>\n",
       "      <td>0.068525</td>\n",
       "      <td>0.068489</td>\n",
       "      <td>0.068468</td>\n",
       "      <td>0.068502</td>\n",
       "      <td>0</td>\n",
       "    </tr>\n",
       "    <tr>\n",
       "      <th>2</th>\n",
       "      <td>0.131958</td>\n",
       "      <td>0.151448</td>\n",
       "      <td>0.166479</td>\n",
       "      <td>0.177727</td>\n",
       "      <td>0.185868</td>\n",
       "      <td>0.191247</td>\n",
       "      <td>0.194933</td>\n",
       "      <td>0.198650</td>\n",
       "      <td>0.202753</td>\n",
       "      <td>0.207933</td>\n",
       "      <td>...</td>\n",
       "      <td>0.321023</td>\n",
       "      <td>0.321085</td>\n",
       "      <td>0.321705</td>\n",
       "      <td>0.322087</td>\n",
       "      <td>0.322119</td>\n",
       "      <td>0.321809</td>\n",
       "      <td>0.321495</td>\n",
       "      <td>0.321334</td>\n",
       "      <td>0.321481</td>\n",
       "      <td>0</td>\n",
       "    </tr>\n",
       "    <tr>\n",
       "      <th>68</th>\n",
       "      <td>0.067261</td>\n",
       "      <td>0.082089</td>\n",
       "      <td>0.093898</td>\n",
       "      <td>0.103072</td>\n",
       "      <td>0.109997</td>\n",
       "      <td>0.115151</td>\n",
       "      <td>0.118181</td>\n",
       "      <td>0.120780</td>\n",
       "      <td>0.123755</td>\n",
       "      <td>0.127034</td>\n",
       "      <td>...</td>\n",
       "      <td>0.175319</td>\n",
       "      <td>0.174742</td>\n",
       "      <td>0.174136</td>\n",
       "      <td>0.173764</td>\n",
       "      <td>0.173548</td>\n",
       "      <td>0.173555</td>\n",
       "      <td>0.173679</td>\n",
       "      <td>0.173871</td>\n",
       "      <td>0.174085</td>\n",
       "      <td>0</td>\n",
       "    </tr>\n",
       "    <tr>\n",
       "      <th>77</th>\n",
       "      <td>0.029102</td>\n",
       "      <td>0.033172</td>\n",
       "      <td>0.036294</td>\n",
       "      <td>0.038579</td>\n",
       "      <td>0.040134</td>\n",
       "      <td>0.041049</td>\n",
       "      <td>0.041327</td>\n",
       "      <td>0.041485</td>\n",
       "      <td>0.041669</td>\n",
       "      <td>0.041810</td>\n",
       "      <td>...</td>\n",
       "      <td>0.041684</td>\n",
       "      <td>0.041719</td>\n",
       "      <td>0.041613</td>\n",
       "      <td>0.041649</td>\n",
       "      <td>0.041748</td>\n",
       "      <td>0.041885</td>\n",
       "      <td>0.042039</td>\n",
       "      <td>0.042191</td>\n",
       "      <td>0.042325</td>\n",
       "      <td>1</td>\n",
       "    </tr>\n",
       "    <tr>\n",
       "      <th>9</th>\n",
       "      <td>0.092652</td>\n",
       "      <td>0.108803</td>\n",
       "      <td>0.122123</td>\n",
       "      <td>0.132827</td>\n",
       "      <td>0.141131</td>\n",
       "      <td>0.146968</td>\n",
       "      <td>0.150135</td>\n",
       "      <td>0.153184</td>\n",
       "      <td>0.157066</td>\n",
       "      <td>0.161787</td>\n",
       "      <td>...</td>\n",
       "      <td>0.280626</td>\n",
       "      <td>0.280601</td>\n",
       "      <td>0.280662</td>\n",
       "      <td>0.280737</td>\n",
       "      <td>0.280987</td>\n",
       "      <td>0.281487</td>\n",
       "      <td>0.282067</td>\n",
       "      <td>0.282673</td>\n",
       "      <td>0.283245</td>\n",
       "      <td>0</td>\n",
       "    </tr>\n",
       "    <tr>\n",
       "      <th>13</th>\n",
       "      <td>0.125385</td>\n",
       "      <td>0.147528</td>\n",
       "      <td>0.165240</td>\n",
       "      <td>0.179101</td>\n",
       "      <td>0.189687</td>\n",
       "      <td>0.197314</td>\n",
       "      <td>0.202848</td>\n",
       "      <td>0.207825</td>\n",
       "      <td>0.212576</td>\n",
       "      <td>0.218216</td>\n",
       "      <td>...</td>\n",
       "      <td>0.303074</td>\n",
       "      <td>0.302515</td>\n",
       "      <td>0.301727</td>\n",
       "      <td>0.300944</td>\n",
       "      <td>0.300509</td>\n",
       "      <td>0.300166</td>\n",
       "      <td>0.299815</td>\n",
       "      <td>0.299375</td>\n",
       "      <td>0.298765</td>\n",
       "      <td>0</td>\n",
       "    </tr>\n",
       "    <tr>\n",
       "      <th>12</th>\n",
       "      <td>0.138192</td>\n",
       "      <td>0.164460</td>\n",
       "      <td>0.185207</td>\n",
       "      <td>0.201217</td>\n",
       "      <td>0.213276</td>\n",
       "      <td>0.222108</td>\n",
       "      <td>0.228444</td>\n",
       "      <td>0.233509</td>\n",
       "      <td>0.238733</td>\n",
       "      <td>0.244143</td>\n",
       "      <td>...</td>\n",
       "      <td>0.317530</td>\n",
       "      <td>0.317524</td>\n",
       "      <td>0.317590</td>\n",
       "      <td>0.317464</td>\n",
       "      <td>0.317419</td>\n",
       "      <td>0.317054</td>\n",
       "      <td>0.316399</td>\n",
       "      <td>0.315389</td>\n",
       "      <td>0.313960</td>\n",
       "      <td>0</td>\n",
       "    </tr>\n",
       "  </tbody>\n",
       "</table>\n",
       "<p>7 rows × 139 columns</p>\n",
       "</div>"
      ],
      "text/plain": [
       "         450       454       458       462       466       470       474  \\\n",
       "71  0.035545  0.040421  0.044105  0.046764  0.048564  0.049654  0.050084   \n",
       "2   0.131958  0.151448  0.166479  0.177727  0.185868  0.191247  0.194933   \n",
       "68  0.067261  0.082089  0.093898  0.103072  0.109997  0.115151  0.118181   \n",
       "77  0.029102  0.033172  0.036294  0.038579  0.040134  0.041049  0.041327   \n",
       "9   0.092652  0.108803  0.122123  0.132827  0.141131  0.146968  0.150135   \n",
       "13  0.125385  0.147528  0.165240  0.179101  0.189687  0.197314  0.202848   \n",
       "12  0.138192  0.164460  0.185207  0.201217  0.213276  0.222108  0.228444   \n",
       "\n",
       "         478       482       486  ...       966       970       974       978  \\\n",
       "71  0.050472  0.050869  0.051740  ...  0.067610  0.067864  0.068218  0.068451   \n",
       "2   0.198650  0.202753  0.207933  ...  0.321023  0.321085  0.321705  0.322087   \n",
       "68  0.120780  0.123755  0.127034  ...  0.175319  0.174742  0.174136  0.173764   \n",
       "77  0.041485  0.041669  0.041810  ...  0.041684  0.041719  0.041613  0.041649   \n",
       "9   0.153184  0.157066  0.161787  ...  0.280626  0.280601  0.280662  0.280737   \n",
       "13  0.207825  0.212576  0.218216  ...  0.303074  0.302515  0.301727  0.300944   \n",
       "12  0.233509  0.238733  0.244143  ...  0.317530  0.317524  0.317590  0.317464   \n",
       "\n",
       "         982       986       990       994       998  Pigment  \n",
       "71  0.068535  0.068525  0.068489  0.068468  0.068502        0  \n",
       "2   0.322119  0.321809  0.321495  0.321334  0.321481        0  \n",
       "68  0.173548  0.173555  0.173679  0.173871  0.174085        0  \n",
       "77  0.041748  0.041885  0.042039  0.042191  0.042325        1  \n",
       "9   0.280987  0.281487  0.282067  0.282673  0.283245        0  \n",
       "13  0.300509  0.300166  0.299815  0.299375  0.298765        0  \n",
       "12  0.317419  0.317054  0.316399  0.315389  0.313960        0  \n",
       "\n",
       "[7 rows x 139 columns]"
      ]
     },
     "execution_count": 57,
     "metadata": {},
     "output_type": "execute_result"
    }
   ],
   "source": [
    "df = get_med_df_bin_classific(hyper_imgs, 'anthocyanins')\n",
    "df.sample(7)"
   ]
  },
  {
   "cell_type": "markdown",
   "metadata": {},
   "source": [
    "количество образцов каждого класса"
   ]
  },
  {
   "cell_type": "code",
   "execution_count": 58,
   "metadata": {},
   "outputs": [
    {
     "data": {
      "text/html": [
       "<div>\n",
       "<style scoped>\n",
       "    .dataframe tbody tr th:only-of-type {\n",
       "        vertical-align: middle;\n",
       "    }\n",
       "\n",
       "    .dataframe tbody tr th {\n",
       "        vertical-align: top;\n",
       "    }\n",
       "\n",
       "    .dataframe thead th {\n",
       "        text-align: right;\n",
       "    }\n",
       "</style>\n",
       "<table border=\"1\" class=\"dataframe\">\n",
       "  <thead>\n",
       "    <tr style=\"text-align: right;\">\n",
       "      <th></th>\n",
       "      <th>Pigment</th>\n",
       "      <th>Count</th>\n",
       "    </tr>\n",
       "  </thead>\n",
       "  <tbody>\n",
       "    <tr>\n",
       "      <th>0</th>\n",
       "      <td>0</td>\n",
       "      <td>59</td>\n",
       "    </tr>\n",
       "    <tr>\n",
       "      <th>1</th>\n",
       "      <td>1</td>\n",
       "      <td>19</td>\n",
       "    </tr>\n",
       "  </tbody>\n",
       "</table>\n",
       "</div>"
      ],
      "text/plain": [
       "   Pigment  Count\n",
       "0        0     59\n",
       "1        1     19"
      ]
     },
     "execution_count": 58,
     "metadata": {},
     "output_type": "execute_result"
    }
   ],
   "source": [
    "df_count = df.groupby('Pigment', as_index=True).count()[[450]].rename(columns={450:'Count'}).reset_index()\n",
    "df_count"
   ]
  },
  {
   "cell_type": "code",
   "execution_count": 59,
   "metadata": {},
   "outputs": [
    {
     "data": {
      "text/plain": [
       "<AxesSubplot:xlabel='Pigment', ylabel='Count'>"
      ]
     },
     "execution_count": 59,
     "metadata": {},
     "output_type": "execute_result"
    },
    {
     "data": {
      "image/png": "[encoded data removed]",
      "text/plain": [
       "<Figure size 648x648 with 1 Axes>"
      ]
     },
     "metadata": {
      "needs_background": "light"
     },
     "output_type": "display_data"
    }
   ],
   "source": [
    "plt.figure(figsize=(9,9))\n",
    "sns.barplot(data=df_count, x='Pigment', y='Count')"
   ]
  },
  {
   "cell_type": "markdown",
   "metadata": {},
   "source": [
    "разделение выборки на обучающию и тестовую"
   ]
  },
  {
   "cell_type": "code",
   "execution_count": 60,
   "metadata": {},
   "outputs": [
    {
     "data": {
      "text/html": [
       "<div>\n",
       "<style scoped>\n",
       "    .dataframe tbody tr th:only-of-type {\n",
       "        vertical-align: middle;\n",
       "    }\n",
       "\n",
       "    .dataframe tbody tr th {\n",
       "        vertical-align: top;\n",
       "    }\n",
       "\n",
       "    .dataframe thead th {\n",
       "        text-align: right;\n",
       "    }\n",
       "</style>\n",
       "<table border=\"1\" class=\"dataframe\">\n",
       "  <thead>\n",
       "    <tr style=\"text-align: right;\">\n",
       "      <th></th>\n",
       "      <th>450</th>\n",
       "      <th>454</th>\n",
       "      <th>458</th>\n",
       "      <th>462</th>\n",
       "      <th>466</th>\n",
       "      <th>470</th>\n",
       "      <th>474</th>\n",
       "      <th>478</th>\n",
       "      <th>482</th>\n",
       "      <th>486</th>\n",
       "      <th>...</th>\n",
       "      <th>962</th>\n",
       "      <th>966</th>\n",
       "      <th>970</th>\n",
       "      <th>974</th>\n",
       "      <th>978</th>\n",
       "      <th>982</th>\n",
       "      <th>986</th>\n",
       "      <th>990</th>\n",
       "      <th>994</th>\n",
       "      <th>998</th>\n",
       "    </tr>\n",
       "  </thead>\n",
       "  <tbody>\n",
       "    <tr>\n",
       "      <th>0</th>\n",
       "      <td>0.090347</td>\n",
       "      <td>0.108321</td>\n",
       "      <td>0.123391</td>\n",
       "      <td>0.135845</td>\n",
       "      <td>0.145975</td>\n",
       "      <td>0.154125</td>\n",
       "      <td>0.159635</td>\n",
       "      <td>0.164918</td>\n",
       "      <td>0.170134</td>\n",
       "      <td>0.175579</td>\n",
       "      <td>...</td>\n",
       "      <td>0.273946</td>\n",
       "      <td>0.272849</td>\n",
       "      <td>0.272059</td>\n",
       "      <td>0.271392</td>\n",
       "      <td>0.270901</td>\n",
       "      <td>0.270276</td>\n",
       "      <td>0.269762</td>\n",
       "      <td>0.269415</td>\n",
       "      <td>0.269293</td>\n",
       "      <td>0.269451</td>\n",
       "    </tr>\n",
       "    <tr>\n",
       "      <th>1</th>\n",
       "      <td>0.131461</td>\n",
       "      <td>0.154961</td>\n",
       "      <td>0.173581</td>\n",
       "      <td>0.188071</td>\n",
       "      <td>0.199181</td>\n",
       "      <td>0.207340</td>\n",
       "      <td>0.213903</td>\n",
       "      <td>0.220067</td>\n",
       "      <td>0.226702</td>\n",
       "      <td>0.233786</td>\n",
       "      <td>...</td>\n",
       "      <td>0.310982</td>\n",
       "      <td>0.311373</td>\n",
       "      <td>0.311499</td>\n",
       "      <td>0.311529</td>\n",
       "      <td>0.311531</td>\n",
       "      <td>0.311579</td>\n",
       "      <td>0.311293</td>\n",
       "      <td>0.311057</td>\n",
       "      <td>0.311002</td>\n",
       "      <td>0.311259</td>\n",
       "    </tr>\n",
       "    <tr>\n",
       "      <th>2</th>\n",
       "      <td>0.131958</td>\n",
       "      <td>0.151448</td>\n",
       "      <td>0.166479</td>\n",
       "      <td>0.177727</td>\n",
       "      <td>0.185868</td>\n",
       "      <td>0.191247</td>\n",
       "      <td>0.194933</td>\n",
       "      <td>0.198650</td>\n",
       "      <td>0.202753</td>\n",
       "      <td>0.207933</td>\n",
       "      <td>...</td>\n",
       "      <td>0.321169</td>\n",
       "      <td>0.321023</td>\n",
       "      <td>0.321085</td>\n",
       "      <td>0.321705</td>\n",
       "      <td>0.322087</td>\n",
       "      <td>0.322119</td>\n",
       "      <td>0.321809</td>\n",
       "      <td>0.321495</td>\n",
       "      <td>0.321334</td>\n",
       "      <td>0.321481</td>\n",
       "    </tr>\n",
       "    <tr>\n",
       "      <th>3</th>\n",
       "      <td>0.113380</td>\n",
       "      <td>0.134184</td>\n",
       "      <td>0.150814</td>\n",
       "      <td>0.163856</td>\n",
       "      <td>0.173894</td>\n",
       "      <td>0.181629</td>\n",
       "      <td>0.186704</td>\n",
       "      <td>0.191711</td>\n",
       "      <td>0.196552</td>\n",
       "      <td>0.201812</td>\n",
       "      <td>...</td>\n",
       "      <td>0.284521</td>\n",
       "      <td>0.284468</td>\n",
       "      <td>0.284835</td>\n",
       "      <td>0.285448</td>\n",
       "      <td>0.285801</td>\n",
       "      <td>0.285875</td>\n",
       "      <td>0.285714</td>\n",
       "      <td>0.285572</td>\n",
       "      <td>0.285572</td>\n",
       "      <td>0.285839</td>\n",
       "    </tr>\n",
       "    <tr>\n",
       "      <th>4</th>\n",
       "      <td>0.117353</td>\n",
       "      <td>0.138548</td>\n",
       "      <td>0.155029</td>\n",
       "      <td>0.167433</td>\n",
       "      <td>0.176401</td>\n",
       "      <td>0.182259</td>\n",
       "      <td>0.186108</td>\n",
       "      <td>0.189203</td>\n",
       "      <td>0.192364</td>\n",
       "      <td>0.196556</td>\n",
       "      <td>...</td>\n",
       "      <td>0.272634</td>\n",
       "      <td>0.273017</td>\n",
       "      <td>0.273216</td>\n",
       "      <td>0.273381</td>\n",
       "      <td>0.273634</td>\n",
       "      <td>0.274150</td>\n",
       "      <td>0.274480</td>\n",
       "      <td>0.274514</td>\n",
       "      <td>0.274098</td>\n",
       "      <td>0.273082</td>\n",
       "    </tr>\n",
       "  </tbody>\n",
       "</table>\n",
       "<p>5 rows × 138 columns</p>\n",
       "</div>"
      ],
      "text/plain": [
       "        450       454       458       462       466       470       474  \\\n",
       "0  0.090347  0.108321  0.123391  0.135845  0.145975  0.154125  0.159635   \n",
       "1  0.131461  0.154961  0.173581  0.188071  0.199181  0.207340  0.213903   \n",
       "2  0.131958  0.151448  0.166479  0.177727  0.185868  0.191247  0.194933   \n",
       "3  0.113380  0.134184  0.150814  0.163856  0.173894  0.181629  0.186704   \n",
       "4  0.117353  0.138548  0.155029  0.167433  0.176401  0.182259  0.186108   \n",
       "\n",
       "        478       482       486  ...       962       966       970       974  \\\n",
       "0  0.164918  0.170134  0.175579  ...  0.273946  0.272849  0.272059  0.271392   \n",
       "1  0.220067  0.226702  0.233786  ...  0.310982  0.311373  0.311499  0.311529   \n",
       "2  0.198650  0.202753  0.207933  ...  0.321169  0.321023  0.321085  0.321705   \n",
       "3  0.191711  0.196552  0.201812  ...  0.284521  0.284468  0.284835  0.285448   \n",
       "4  0.189203  0.192364  0.196556  ...  0.272634  0.273017  0.273216  0.273381   \n",
       "\n",
       "        978       982       986       990       994       998  \n",
       "0  0.270901  0.270276  0.269762  0.269415  0.269293  0.269451  \n",
       "1  0.311531  0.311579  0.311293  0.311057  0.311002  0.311259  \n",
       "2  0.322087  0.322119  0.321809  0.321495  0.321334  0.321481  \n",
       "3  0.285801  0.285875  0.285714  0.285572  0.285572  0.285839  \n",
       "4  0.273634  0.274150  0.274480  0.274514  0.274098  0.273082  \n",
       "\n",
       "[5 rows x 138 columns]"
      ]
     },
     "execution_count": 60,
     "metadata": {},
     "output_type": "execute_result"
    }
   ],
   "source": [
    "X = df.drop(['Pigment'], axis = 1)\n",
    "X.head()"
   ]
  },
  {
   "cell_type": "code",
   "execution_count": 61,
   "metadata": {},
   "outputs": [
    {
     "data": {
      "text/html": [
       "<div>\n",
       "<style scoped>\n",
       "    .dataframe tbody tr th:only-of-type {\n",
       "        vertical-align: middle;\n",
       "    }\n",
       "\n",
       "    .dataframe tbody tr th {\n",
       "        vertical-align: top;\n",
       "    }\n",
       "\n",
       "    .dataframe thead th {\n",
       "        text-align: right;\n",
       "    }\n",
       "</style>\n",
       "<table border=\"1\" class=\"dataframe\">\n",
       "  <thead>\n",
       "    <tr style=\"text-align: right;\">\n",
       "      <th></th>\n",
       "      <th>Pigment</th>\n",
       "    </tr>\n",
       "  </thead>\n",
       "  <tbody>\n",
       "    <tr>\n",
       "      <th>0</th>\n",
       "      <td>0</td>\n",
       "    </tr>\n",
       "    <tr>\n",
       "      <th>1</th>\n",
       "      <td>0</td>\n",
       "    </tr>\n",
       "    <tr>\n",
       "      <th>2</th>\n",
       "      <td>0</td>\n",
       "    </tr>\n",
       "    <tr>\n",
       "      <th>3</th>\n",
       "      <td>0</td>\n",
       "    </tr>\n",
       "    <tr>\n",
       "      <th>4</th>\n",
       "      <td>0</td>\n",
       "    </tr>\n",
       "  </tbody>\n",
       "</table>\n",
       "</div>"
      ],
      "text/plain": [
       "   Pigment\n",
       "0        0\n",
       "1        0\n",
       "2        0\n",
       "3        0\n",
       "4        0"
      ]
     },
     "execution_count": 61,
     "metadata": {},
     "output_type": "execute_result"
    }
   ],
   "source": [
    "y = df[['Pigment']]\n",
    "y.head()"
   ]
  },
  {
   "cell_type": "code",
   "execution_count": 62,
   "metadata": {},
   "outputs": [],
   "source": [
    "X_train, X_test, y_train, y_test = train_test_split(X, y, test_size=0.2, stratify=y)"
   ]
  },
  {
   "cell_type": "code",
   "execution_count": 63,
   "metadata": {},
   "outputs": [
    {
     "data": {
      "text/html": [
       "<div>\n",
       "<style scoped>\n",
       "    .dataframe tbody tr th:only-of-type {\n",
       "        vertical-align: middle;\n",
       "    }\n",
       "\n",
       "    .dataframe tbody tr th {\n",
       "        vertical-align: top;\n",
       "    }\n",
       "\n",
       "    .dataframe thead th {\n",
       "        text-align: right;\n",
       "    }\n",
       "</style>\n",
       "<table border=\"1\" class=\"dataframe\">\n",
       "  <thead>\n",
       "    <tr style=\"text-align: right;\">\n",
       "      <th></th>\n",
       "      <th>Pigment</th>\n",
       "      <th>Count</th>\n",
       "    </tr>\n",
       "  </thead>\n",
       "  <tbody>\n",
       "    <tr>\n",
       "      <th>0</th>\n",
       "      <td>0</td>\n",
       "      <td>12</td>\n",
       "    </tr>\n",
       "    <tr>\n",
       "      <th>1</th>\n",
       "      <td>1</td>\n",
       "      <td>4</td>\n",
       "    </tr>\n",
       "  </tbody>\n",
       "</table>\n",
       "</div>"
      ],
      "text/plain": [
       "   Pigment  Count\n",
       "0        0     12\n",
       "1        1      4"
      ]
     },
     "execution_count": 63,
     "metadata": {},
     "output_type": "execute_result"
    }
   ],
   "source": [
    "test_count = y_test.reset_index().groupby('Pigment').count().reset_index().rename(columns={'index':'Count'})\n",
    "test_count"
   ]
  },
  {
   "cell_type": "code",
   "execution_count": 64,
   "metadata": {},
   "outputs": [
    {
     "data": {
      "text/plain": [
       "<AxesSubplot:xlabel='Pigment', ylabel='Count'>"
      ]
     },
     "execution_count": 64,
     "metadata": {},
     "output_type": "execute_result"
    },
    {
     "data": {
      "image/png": "[encoded data removed]",
      "text/plain": [
       "<Figure size 648x648 with 1 Axes>"
      ]
     },
     "metadata": {
      "needs_background": "light"
     },
     "output_type": "display_data"
    }
   ],
   "source": [
    "plt.figure(figsize=(9,9))\n",
    "sns.barplot(data=test_count, x='Pigment', y='Count')"
   ]
  },
  {
   "cell_type": "code",
   "execution_count": 65,
   "metadata": {},
   "outputs": [
    {
     "data": {
      "text/html": [
       "<div>\n",
       "<style scoped>\n",
       "    .dataframe tbody tr th:only-of-type {\n",
       "        vertical-align: middle;\n",
       "    }\n",
       "\n",
       "    .dataframe tbody tr th {\n",
       "        vertical-align: top;\n",
       "    }\n",
       "\n",
       "    .dataframe thead th {\n",
       "        text-align: right;\n",
       "    }\n",
       "</style>\n",
       "<table border=\"1\" class=\"dataframe\">\n",
       "  <thead>\n",
       "    <tr style=\"text-align: right;\">\n",
       "      <th></th>\n",
       "      <th>Pigment</th>\n",
       "      <th>Count</th>\n",
       "    </tr>\n",
       "  </thead>\n",
       "  <tbody>\n",
       "    <tr>\n",
       "      <th>0</th>\n",
       "      <td>0</td>\n",
       "      <td>47</td>\n",
       "    </tr>\n",
       "    <tr>\n",
       "      <th>1</th>\n",
       "      <td>1</td>\n",
       "      <td>15</td>\n",
       "    </tr>\n",
       "  </tbody>\n",
       "</table>\n",
       "</div>"
      ],
      "text/plain": [
       "   Pigment  Count\n",
       "0        0     47\n",
       "1        1     15"
      ]
     },
     "execution_count": 65,
     "metadata": {},
     "output_type": "execute_result"
    }
   ],
   "source": [
    "train_count = y_train.reset_index().groupby('Pigment').count().reset_index().rename(columns={'index':'Count'})\n",
    "train_count"
   ]
  },
  {
   "cell_type": "code",
   "execution_count": 66,
   "metadata": {},
   "outputs": [
    {
     "data": {
      "text/plain": [
       "<AxesSubplot:xlabel='Pigment', ylabel='Count'>"
      ]
     },
     "execution_count": 66,
     "metadata": {},
     "output_type": "execute_result"
    },
    {
     "data": {
      "image/png": "[encoded data removed]",
      "text/plain": [
       "<Figure size 648x648 with 1 Axes>"
      ]
     },
     "metadata": {
      "needs_background": "light"
     },
     "output_type": "display_data"
    }
   ],
   "source": [
    "plt.figure(figsize=(9,9))\n",
    "sns.barplot(data=train_count, x='Pigment', y='Count')"
   ]
  },
  {
   "cell_type": "markdown",
   "metadata": {},
   "source": [
    "Логистическая регрессия"
   ]
  },
  {
   "cell_type": "code",
   "execution_count": 67,
   "metadata": {},
   "outputs": [],
   "source": [
    "logistic_regr_pipe = Pipeline([('feature', Pipeline([('scaler', StandardScaler()), ('pca', PCA(n_components=5))])),\n",
    "                               ('logistic_regr', LogisticRegressionCV(cv=cv))])"
   ]
  },
  {
   "cell_type": "code",
   "execution_count": 68,
   "metadata": {},
   "outputs": [],
   "source": [
    "X_train = logistic_regr_pipe['feature'].fit_transform(X_train)\n",
    "X_test = logistic_regr_pipe['feature'].transform(X_test)"
   ]
  },
  {
   "cell_type": "code",
   "execution_count": 69,
   "metadata": {},
   "outputs": [
    {
     "data": {
      "text/plain": [
       "LogisticRegressionCV(cv=StratifiedKFold(n_splits=3, random_state=None, shuffle=False))"
      ]
     },
     "execution_count": 69,
     "metadata": {},
     "output_type": "execute_result"
    }
   ],
   "source": [
    "logistic_regr_pipe['logistic_regr'].fit(X_train, y_train)"
   ]
  },
  {
   "cell_type": "code",
   "execution_count": 70,
   "metadata": {},
   "outputs": [
    {
     "data": {
      "text/plain": [
       "array([-4.32954299])"
      ]
     },
     "execution_count": 70,
     "metadata": {},
     "output_type": "execute_result"
    }
   ],
   "source": [
    "logistic_regr_pipe['logistic_regr'].intercept_"
   ]
  },
  {
   "cell_type": "markdown",
   "metadata": {},
   "source": [
    "Random Forest"
   ]
  },
  {
   "cell_type": "code",
   "execution_count": 71,
   "metadata": {},
   "outputs": [],
   "source": [
    "parameters_random_forest = { 'max_depth':[2, 5], 'min_samples_split': [1, 5], \n",
    "                            'min_samples_leaf': [1, 5]}"
   ]
  },
  {
   "cell_type": "code",
   "execution_count": 72,
   "metadata": {},
   "outputs": [
    {
     "data": {
      "text/plain": [
       "GridSearchCV(cv=StratifiedKFold(n_splits=3, random_state=None, shuffle=False),\n",
       "             estimator=RandomForestClassifier(n_estimators=150),\n",
       "             param_grid={'max_depth': [2, 5], 'min_samples_leaf': [1, 5],\n",
       "                         'min_samples_split': [1, 5]})"
      ]
     },
     "execution_count": 72,
     "metadata": {},
     "output_type": "execute_result"
    }
   ],
   "source": [
    "clf_forest = GridSearchCV(RandomForestClassifier(n_estimators=150), parameters_random_forest, cv=cv)\n",
    "clf_forest.fit(X_train, y_train)"
   ]
  },
  {
   "cell_type": "code",
   "execution_count": 73,
   "metadata": {},
   "outputs": [
    {
     "data": {
      "text/plain": [
       "{'max_depth': 5, 'min_samples_leaf': 1, 'min_samples_split': 5}"
      ]
     },
     "execution_count": 73,
     "metadata": {},
     "output_type": "execute_result"
    }
   ],
   "source": [
    "clf_forest.best_params_"
   ]
  },
  {
   "cell_type": "code",
   "execution_count": 74,
   "metadata": {},
   "outputs": [],
   "source": [
    "random_forest_pipe = Pipeline([('feature', Pipeline([('scaler', StandardScaler()), ('pca', PCA(n_components=5))])),\n",
    "                               ('random_forest', clf_forest.best_estimator_)])"
   ]
  },
  {
   "cell_type": "markdown",
   "metadata": {},
   "source": [
    "Градиентный бустинг"
   ]
  },
  {
   "cell_type": "code",
   "execution_count": 75,
   "metadata": {},
   "outputs": [],
   "source": [
    "parameters_boosting = { 'learning_rate':np.power(2, np.arange(10))}"
   ]
  },
  {
   "cell_type": "code",
   "execution_count": 76,
   "metadata": {},
   "outputs": [
    {
     "data": {
      "text/plain": [
       "GridSearchCV(cv=StratifiedKFold(n_splits=3, random_state=None, shuffle=False),\n",
       "             estimator=GradientBoostingClassifier(n_estimators=150),\n",
       "             param_grid={'learning_rate': array([  1,   2,   4,   8,  16,  32,  64, 128, 256, 512])})"
      ]
     },
     "execution_count": 76,
     "metadata": {},
     "output_type": "execute_result"
    }
   ],
   "source": [
    "clf_boosting = GridSearchCV(GradientBoostingClassifier(n_estimators=150), parameters_boosting, cv=cv)\n",
    "clf_boosting.fit(X_train, y_train)"
   ]
  },
  {
   "cell_type": "code",
   "execution_count": 77,
   "metadata": {},
   "outputs": [
    {
     "data": {
      "text/plain": [
       "{'learning_rate': 2}"
      ]
     },
     "execution_count": 77,
     "metadata": {},
     "output_type": "execute_result"
    }
   ],
   "source": [
    "clf_boosting.best_params_"
   ]
  },
  {
   "cell_type": "code",
   "execution_count": 78,
   "metadata": {},
   "outputs": [],
   "source": [
    "gradient_boosting_pipe = Pipeline([('feature', Pipeline([('scaler', StandardScaler()), ('pca', PCA(n_components=5))])),\n",
    "                               ('gradient_boosting', clf_boosting.best_estimator_)])"
   ]
  },
  {
   "cell_type": "markdown",
   "metadata": {},
   "source": [
    "Результаты"
   ]
  },
  {
   "cell_type": "markdown",
   "metadata": {},
   "source": [
    "Результаты на тренеровочной выборки"
   ]
  },
  {
   "cell_type": "code",
   "execution_count": 79,
   "metadata": {},
   "outputs": [
    {
     "data": {
      "text/html": [
       "<div>\n",
       "<style scoped>\n",
       "    .dataframe tbody tr th:only-of-type {\n",
       "        vertical-align: middle;\n",
       "    }\n",
       "\n",
       "    .dataframe tbody tr th {\n",
       "        vertical-align: top;\n",
       "    }\n",
       "\n",
       "    .dataframe thead th {\n",
       "        text-align: right;\n",
       "    }\n",
       "</style>\n",
       "<table border=\"1\" class=\"dataframe\">\n",
       "  <thead>\n",
       "    <tr style=\"text-align: right;\">\n",
       "      <th></th>\n",
       "      <th>model</th>\n",
       "      <th>accuracy</th>\n",
       "      <th>f1</th>\n",
       "      <th>precision</th>\n",
       "      <th>recall</th>\n",
       "    </tr>\n",
       "  </thead>\n",
       "  <tbody>\n",
       "    <tr>\n",
       "      <th>0</th>\n",
       "      <td>Логистическая регрессия</td>\n",
       "      <td>0.854839</td>\n",
       "      <td>0.666667</td>\n",
       "      <td>0.75</td>\n",
       "      <td>0.6</td>\n",
       "    </tr>\n",
       "    <tr>\n",
       "      <th>1</th>\n",
       "      <td>Random Forest</td>\n",
       "      <td>1.000000</td>\n",
       "      <td>1.000000</td>\n",
       "      <td>1.00</td>\n",
       "      <td>1.0</td>\n",
       "    </tr>\n",
       "    <tr>\n",
       "      <th>2</th>\n",
       "      <td>Градиентный бустинг</td>\n",
       "      <td>1.000000</td>\n",
       "      <td>1.000000</td>\n",
       "      <td>1.00</td>\n",
       "      <td>1.0</td>\n",
       "    </tr>\n",
       "  </tbody>\n",
       "</table>\n",
       "</div>"
      ],
      "text/plain": [
       "                     model  accuracy        f1  precision  recall\n",
       "0  Логистическая регрессия  0.854839  0.666667       0.75     0.6\n",
       "1            Random Forest  1.000000  1.000000       1.00     1.0\n",
       "2      Градиентный бустинг  1.000000  1.000000       1.00     1.0"
      ]
     },
     "execution_count": 79,
     "metadata": {},
     "output_type": "execute_result"
    }
   ],
   "source": [
    "get_metrics([logistic_regr_pipe['logistic_regr'], random_forest_pipe['random_forest'], \n",
    "             gradient_boosting_pipe['gradient_boosting']], \n",
    "             ['Логистическая регрессия', 'Random Forest', 'Градиентный бустинг'], X_train, y_train)"
   ]
  },
  {
   "cell_type": "markdown",
   "metadata": {},
   "source": [
    "Результаты на тестовой выборки"
   ]
  },
  {
   "cell_type": "code",
   "execution_count": 80,
   "metadata": {},
   "outputs": [
    {
     "data": {
      "text/html": [
       "<div>\n",
       "<style scoped>\n",
       "    .dataframe tbody tr th:only-of-type {\n",
       "        vertical-align: middle;\n",
       "    }\n",
       "\n",
       "    .dataframe tbody tr th {\n",
       "        vertical-align: top;\n",
       "    }\n",
       "\n",
       "    .dataframe thead th {\n",
       "        text-align: right;\n",
       "    }\n",
       "</style>\n",
       "<table border=\"1\" class=\"dataframe\">\n",
       "  <thead>\n",
       "    <tr style=\"text-align: right;\">\n",
       "      <th></th>\n",
       "      <th>model</th>\n",
       "      <th>accuracy</th>\n",
       "      <th>f1</th>\n",
       "      <th>precision</th>\n",
       "      <th>recall</th>\n",
       "    </tr>\n",
       "  </thead>\n",
       "  <tbody>\n",
       "    <tr>\n",
       "      <th>0</th>\n",
       "      <td>Логистическая регрессия</td>\n",
       "      <td>0.9375</td>\n",
       "      <td>0.857143</td>\n",
       "      <td>1.00</td>\n",
       "      <td>0.75</td>\n",
       "    </tr>\n",
       "    <tr>\n",
       "      <th>1</th>\n",
       "      <td>Random Forest</td>\n",
       "      <td>0.8750</td>\n",
       "      <td>0.750000</td>\n",
       "      <td>0.75</td>\n",
       "      <td>0.75</td>\n",
       "    </tr>\n",
       "    <tr>\n",
       "      <th>2</th>\n",
       "      <td>Градиентный бустинг</td>\n",
       "      <td>0.9375</td>\n",
       "      <td>0.857143</td>\n",
       "      <td>1.00</td>\n",
       "      <td>0.75</td>\n",
       "    </tr>\n",
       "  </tbody>\n",
       "</table>\n",
       "</div>"
      ],
      "text/plain": [
       "                     model  accuracy        f1  precision  recall\n",
       "0  Логистическая регрессия    0.9375  0.857143       1.00    0.75\n",
       "1            Random Forest    0.8750  0.750000       0.75    0.75\n",
       "2      Градиентный бустинг    0.9375  0.857143       1.00    0.75"
      ]
     },
     "execution_count": 80,
     "metadata": {},
     "output_type": "execute_result"
    }
   ],
   "source": [
    "get_metrics([logistic_regr_pipe['logistic_regr'], random_forest_pipe['random_forest'], \n",
    "             gradient_boosting_pipe['gradient_boosting']], \n",
    "             ['Логистическая регрессия', 'Random Forest', 'Градиентный бустинг'], X_test, y_test)"
   ]
  },
  {
   "cell_type": "markdown",
   "metadata": {},
   "source": [
    "$\\textbf{Классификация по наличию пигмента}$"
   ]
  },
  {
   "cell_type": "markdown",
   "metadata": {},
   "source": [
    "информация о данных"
   ]
  },
  {
   "cell_type": "code",
   "execution_count": 221,
   "metadata": {},
   "outputs": [
    {
     "data": {
      "text/html": [
       "<div>\n",
       "<style scoped>\n",
       "    .dataframe tbody tr th:only-of-type {\n",
       "        vertical-align: middle;\n",
       "    }\n",
       "\n",
       "    .dataframe tbody tr th {\n",
       "        vertical-align: top;\n",
       "    }\n",
       "\n",
       "    .dataframe thead th {\n",
       "        text-align: right;\n",
       "    }\n",
       "</style>\n",
       "<table border=\"1\" class=\"dataframe\">\n",
       "  <thead>\n",
       "    <tr style=\"text-align: right;\">\n",
       "      <th></th>\n",
       "      <th>450</th>\n",
       "      <th>454</th>\n",
       "      <th>458</th>\n",
       "      <th>462</th>\n",
       "      <th>466</th>\n",
       "      <th>470</th>\n",
       "      <th>474</th>\n",
       "      <th>478</th>\n",
       "      <th>482</th>\n",
       "      <th>486</th>\n",
       "      <th>...</th>\n",
       "      <th>966</th>\n",
       "      <th>970</th>\n",
       "      <th>974</th>\n",
       "      <th>978</th>\n",
       "      <th>982</th>\n",
       "      <th>986</th>\n",
       "      <th>990</th>\n",
       "      <th>994</th>\n",
       "      <th>998</th>\n",
       "      <th>Pigment</th>\n",
       "    </tr>\n",
       "  </thead>\n",
       "  <tbody>\n",
       "    <tr>\n",
       "      <th>25</th>\n",
       "      <td>0.138604</td>\n",
       "      <td>0.166292</td>\n",
       "      <td>0.188355</td>\n",
       "      <td>0.205623</td>\n",
       "      <td>0.218926</td>\n",
       "      <td>0.229099</td>\n",
       "      <td>0.236433</td>\n",
       "      <td>0.243345</td>\n",
       "      <td>0.250288</td>\n",
       "      <td>0.257820</td>\n",
       "      <td>...</td>\n",
       "      <td>0.338450</td>\n",
       "      <td>0.338484</td>\n",
       "      <td>0.338606</td>\n",
       "      <td>0.338808</td>\n",
       "      <td>0.338908</td>\n",
       "      <td>0.339161</td>\n",
       "      <td>0.339374</td>\n",
       "      <td>0.339484</td>\n",
       "      <td>0.339424</td>\n",
       "      <td>1</td>\n",
       "    </tr>\n",
       "    <tr>\n",
       "      <th>6</th>\n",
       "      <td>0.143762</td>\n",
       "      <td>0.170550</td>\n",
       "      <td>0.191274</td>\n",
       "      <td>0.206941</td>\n",
       "      <td>0.218557</td>\n",
       "      <td>0.227309</td>\n",
       "      <td>0.233586</td>\n",
       "      <td>0.239131</td>\n",
       "      <td>0.245009</td>\n",
       "      <td>0.250859</td>\n",
       "      <td>...</td>\n",
       "      <td>0.330364</td>\n",
       "      <td>0.331570</td>\n",
       "      <td>0.333109</td>\n",
       "      <td>0.333647</td>\n",
       "      <td>0.333134</td>\n",
       "      <td>0.331657</td>\n",
       "      <td>0.330072</td>\n",
       "      <td>0.328827</td>\n",
       "      <td>0.328368</td>\n",
       "      <td>1</td>\n",
       "    </tr>\n",
       "    <tr>\n",
       "      <th>2</th>\n",
       "      <td>0.131958</td>\n",
       "      <td>0.151448</td>\n",
       "      <td>0.166479</td>\n",
       "      <td>0.177727</td>\n",
       "      <td>0.185868</td>\n",
       "      <td>0.191247</td>\n",
       "      <td>0.194933</td>\n",
       "      <td>0.198650</td>\n",
       "      <td>0.202753</td>\n",
       "      <td>0.207933</td>\n",
       "      <td>...</td>\n",
       "      <td>0.321023</td>\n",
       "      <td>0.321085</td>\n",
       "      <td>0.321705</td>\n",
       "      <td>0.322087</td>\n",
       "      <td>0.322119</td>\n",
       "      <td>0.321809</td>\n",
       "      <td>0.321495</td>\n",
       "      <td>0.321334</td>\n",
       "      <td>0.321481</td>\n",
       "      <td>1</td>\n",
       "    </tr>\n",
       "    <tr>\n",
       "      <th>14</th>\n",
       "      <td>0.091759</td>\n",
       "      <td>0.107985</td>\n",
       "      <td>0.121245</td>\n",
       "      <td>0.131836</td>\n",
       "      <td>0.140051</td>\n",
       "      <td>0.146269</td>\n",
       "      <td>0.149687</td>\n",
       "      <td>0.152649</td>\n",
       "      <td>0.156098</td>\n",
       "      <td>0.160856</td>\n",
       "      <td>...</td>\n",
       "      <td>0.291007</td>\n",
       "      <td>0.291064</td>\n",
       "      <td>0.291167</td>\n",
       "      <td>0.291266</td>\n",
       "      <td>0.291236</td>\n",
       "      <td>0.291073</td>\n",
       "      <td>0.290921</td>\n",
       "      <td>0.290846</td>\n",
       "      <td>0.290909</td>\n",
       "      <td>1</td>\n",
       "    </tr>\n",
       "    <tr>\n",
       "      <th>22</th>\n",
       "      <td>0.175821</td>\n",
       "      <td>0.207743</td>\n",
       "      <td>0.231502</td>\n",
       "      <td>0.248616</td>\n",
       "      <td>0.260604</td>\n",
       "      <td>0.269463</td>\n",
       "      <td>0.275830</td>\n",
       "      <td>0.281453</td>\n",
       "      <td>0.287221</td>\n",
       "      <td>0.293355</td>\n",
       "      <td>...</td>\n",
       "      <td>0.354019</td>\n",
       "      <td>0.353255</td>\n",
       "      <td>0.352682</td>\n",
       "      <td>0.352326</td>\n",
       "      <td>0.352248</td>\n",
       "      <td>0.351814</td>\n",
       "      <td>0.351428</td>\n",
       "      <td>0.351168</td>\n",
       "      <td>0.351110</td>\n",
       "      <td>1</td>\n",
       "    </tr>\n",
       "    <tr>\n",
       "      <th>38</th>\n",
       "      <td>0.028603</td>\n",
       "      <td>0.033040</td>\n",
       "      <td>0.036488</td>\n",
       "      <td>0.039066</td>\n",
       "      <td>0.040890</td>\n",
       "      <td>0.042131</td>\n",
       "      <td>0.042602</td>\n",
       "      <td>0.042925</td>\n",
       "      <td>0.043304</td>\n",
       "      <td>0.043649</td>\n",
       "      <td>...</td>\n",
       "      <td>0.053401</td>\n",
       "      <td>0.053466</td>\n",
       "      <td>0.053438</td>\n",
       "      <td>0.053591</td>\n",
       "      <td>0.053675</td>\n",
       "      <td>0.053744</td>\n",
       "      <td>0.053722</td>\n",
       "      <td>0.053566</td>\n",
       "      <td>0.053237</td>\n",
       "      <td>0</td>\n",
       "    </tr>\n",
       "    <tr>\n",
       "      <th>16</th>\n",
       "      <td>0.152134</td>\n",
       "      <td>0.178436</td>\n",
       "      <td>0.198146</td>\n",
       "      <td>0.212436</td>\n",
       "      <td>0.222476</td>\n",
       "      <td>0.229380</td>\n",
       "      <td>0.234412</td>\n",
       "      <td>0.239266</td>\n",
       "      <td>0.244656</td>\n",
       "      <td>0.250399</td>\n",
       "      <td>...</td>\n",
       "      <td>0.321695</td>\n",
       "      <td>0.321006</td>\n",
       "      <td>0.320089</td>\n",
       "      <td>0.319143</td>\n",
       "      <td>0.318279</td>\n",
       "      <td>0.317525</td>\n",
       "      <td>0.317096</td>\n",
       "      <td>0.317127</td>\n",
       "      <td>0.317755</td>\n",
       "      <td>1</td>\n",
       "    </tr>\n",
       "  </tbody>\n",
       "</table>\n",
       "<p>7 rows × 139 columns</p>\n",
       "</div>"
      ],
      "text/plain": [
       "         450       454       458       462       466       470       474  \\\n",
       "25  0.138604  0.166292  0.188355  0.205623  0.218926  0.229099  0.236433   \n",
       "6   0.143762  0.170550  0.191274  0.206941  0.218557  0.227309  0.233586   \n",
       "2   0.131958  0.151448  0.166479  0.177727  0.185868  0.191247  0.194933   \n",
       "14  0.091759  0.107985  0.121245  0.131836  0.140051  0.146269  0.149687   \n",
       "22  0.175821  0.207743  0.231502  0.248616  0.260604  0.269463  0.275830   \n",
       "38  0.028603  0.033040  0.036488  0.039066  0.040890  0.042131  0.042602   \n",
       "16  0.152134  0.178436  0.198146  0.212436  0.222476  0.229380  0.234412   \n",
       "\n",
       "         478       482       486  ...       966       970       974       978  \\\n",
       "25  0.243345  0.250288  0.257820  ...  0.338450  0.338484  0.338606  0.338808   \n",
       "6   0.239131  0.245009  0.250859  ...  0.330364  0.331570  0.333109  0.333647   \n",
       "2   0.198650  0.202753  0.207933  ...  0.321023  0.321085  0.321705  0.322087   \n",
       "14  0.152649  0.156098  0.160856  ...  0.291007  0.291064  0.291167  0.291266   \n",
       "22  0.281453  0.287221  0.293355  ...  0.354019  0.353255  0.352682  0.352326   \n",
       "38  0.042925  0.043304  0.043649  ...  0.053401  0.053466  0.053438  0.053591   \n",
       "16  0.239266  0.244656  0.250399  ...  0.321695  0.321006  0.320089  0.319143   \n",
       "\n",
       "         982       986       990       994       998  Pigment  \n",
       "25  0.338908  0.339161  0.339374  0.339484  0.339424        1  \n",
       "6   0.333134  0.331657  0.330072  0.328827  0.328368        1  \n",
       "2   0.322119  0.321809  0.321495  0.321334  0.321481        1  \n",
       "14  0.291236  0.291073  0.290921  0.290846  0.290909        1  \n",
       "22  0.352248  0.351814  0.351428  0.351168  0.351110        1  \n",
       "38  0.053675  0.053744  0.053722  0.053566  0.053237        0  \n",
       "16  0.318279  0.317525  0.317096  0.317127  0.317755        1  \n",
       "\n",
       "[7 rows x 139 columns]"
      ]
     },
     "execution_count": 221,
     "metadata": {},
     "output_type": "execute_result"
    }
   ],
   "source": [
    "df = get_med_df_bin_classific(hyper_imgs, 'white')\n",
    "df.sample(7)"
   ]
  },
  {
   "cell_type": "markdown",
   "metadata": {},
   "source": [
    "количество образцов каждого класса"
   ]
  },
  {
   "cell_type": "code",
   "execution_count": 222,
   "metadata": {},
   "outputs": [
    {
     "data": {
      "text/html": [
       "<div>\n",
       "<style scoped>\n",
       "    .dataframe tbody tr th:only-of-type {\n",
       "        vertical-align: middle;\n",
       "    }\n",
       "\n",
       "    .dataframe tbody tr th {\n",
       "        vertical-align: top;\n",
       "    }\n",
       "\n",
       "    .dataframe thead th {\n",
       "        text-align: right;\n",
       "    }\n",
       "</style>\n",
       "<table border=\"1\" class=\"dataframe\">\n",
       "  <thead>\n",
       "    <tr style=\"text-align: right;\">\n",
       "      <th></th>\n",
       "      <th>Pigment</th>\n",
       "      <th>Count</th>\n",
       "    </tr>\n",
       "  </thead>\n",
       "  <tbody>\n",
       "    <tr>\n",
       "      <th>0</th>\n",
       "      <td>0</td>\n",
       "      <td>38</td>\n",
       "    </tr>\n",
       "    <tr>\n",
       "      <th>1</th>\n",
       "      <td>1</td>\n",
       "      <td>40</td>\n",
       "    </tr>\n",
       "  </tbody>\n",
       "</table>\n",
       "</div>"
      ],
      "text/plain": [
       "   Pigment  Count\n",
       "0        0     38\n",
       "1        1     40"
      ]
     },
     "execution_count": 222,
     "metadata": {},
     "output_type": "execute_result"
    }
   ],
   "source": [
    "df_count = df.groupby('Pigment', as_index=True).count()[[450]].rename(columns={450:'Count'}).reset_index()\n",
    "df_count"
   ]
  },
  {
   "cell_type": "code",
   "execution_count": 223,
   "metadata": {},
   "outputs": [
    {
     "data": {
      "text/plain": [
       "<AxesSubplot:xlabel='Pigment', ylabel='Count'>"
      ]
     },
     "execution_count": 223,
     "metadata": {},
     "output_type": "execute_result"
    },
    {
     "data": {
      "image/png": "[encoded data removed]",
      "text/plain": [
       "<Figure size 648x648 with 1 Axes>"
      ]
     },
     "metadata": {
      "needs_background": "light"
     },
     "output_type": "display_data"
    }
   ],
   "source": [
    "plt.figure(figsize=(9,9))\n",
    "sns.barplot(data=df_count, x='Pigment', y='Count')"
   ]
  },
  {
   "cell_type": "markdown",
   "metadata": {},
   "source": [
    "разделение выборки на обучающию и тестовую"
   ]
  },
  {
   "cell_type": "code",
   "execution_count": 224,
   "metadata": {},
   "outputs": [
    {
     "data": {
      "text/html": [
       "<div>\n",
       "<style scoped>\n",
       "    .dataframe tbody tr th:only-of-type {\n",
       "        vertical-align: middle;\n",
       "    }\n",
       "\n",
       "    .dataframe tbody tr th {\n",
       "        vertical-align: top;\n",
       "    }\n",
       "\n",
       "    .dataframe thead th {\n",
       "        text-align: right;\n",
       "    }\n",
       "</style>\n",
       "<table border=\"1\" class=\"dataframe\">\n",
       "  <thead>\n",
       "    <tr style=\"text-align: right;\">\n",
       "      <th></th>\n",
       "      <th>450</th>\n",
       "      <th>454</th>\n",
       "      <th>458</th>\n",
       "      <th>462</th>\n",
       "      <th>466</th>\n",
       "      <th>470</th>\n",
       "      <th>474</th>\n",
       "      <th>478</th>\n",
       "      <th>482</th>\n",
       "      <th>486</th>\n",
       "      <th>...</th>\n",
       "      <th>962</th>\n",
       "      <th>966</th>\n",
       "      <th>970</th>\n",
       "      <th>974</th>\n",
       "      <th>978</th>\n",
       "      <th>982</th>\n",
       "      <th>986</th>\n",
       "      <th>990</th>\n",
       "      <th>994</th>\n",
       "      <th>998</th>\n",
       "    </tr>\n",
       "  </thead>\n",
       "  <tbody>\n",
       "    <tr>\n",
       "      <th>0</th>\n",
       "      <td>0.090347</td>\n",
       "      <td>0.108321</td>\n",
       "      <td>0.123391</td>\n",
       "      <td>0.135845</td>\n",
       "      <td>0.145975</td>\n",
       "      <td>0.154125</td>\n",
       "      <td>0.159635</td>\n",
       "      <td>0.164918</td>\n",
       "      <td>0.170134</td>\n",
       "      <td>0.175579</td>\n",
       "      <td>...</td>\n",
       "      <td>0.273946</td>\n",
       "      <td>0.272849</td>\n",
       "      <td>0.272059</td>\n",
       "      <td>0.271392</td>\n",
       "      <td>0.270901</td>\n",
       "      <td>0.270276</td>\n",
       "      <td>0.269762</td>\n",
       "      <td>0.269415</td>\n",
       "      <td>0.269293</td>\n",
       "      <td>0.269451</td>\n",
       "    </tr>\n",
       "    <tr>\n",
       "      <th>1</th>\n",
       "      <td>0.131461</td>\n",
       "      <td>0.154961</td>\n",
       "      <td>0.173581</td>\n",
       "      <td>0.188071</td>\n",
       "      <td>0.199181</td>\n",
       "      <td>0.207340</td>\n",
       "      <td>0.213903</td>\n",
       "      <td>0.220067</td>\n",
       "      <td>0.226702</td>\n",
       "      <td>0.233786</td>\n",
       "      <td>...</td>\n",
       "      <td>0.310982</td>\n",
       "      <td>0.311373</td>\n",
       "      <td>0.311499</td>\n",
       "      <td>0.311529</td>\n",
       "      <td>0.311531</td>\n",
       "      <td>0.311579</td>\n",
       "      <td>0.311293</td>\n",
       "      <td>0.311057</td>\n",
       "      <td>0.311002</td>\n",
       "      <td>0.311259</td>\n",
       "    </tr>\n",
       "    <tr>\n",
       "      <th>2</th>\n",
       "      <td>0.131958</td>\n",
       "      <td>0.151448</td>\n",
       "      <td>0.166479</td>\n",
       "      <td>0.177727</td>\n",
       "      <td>0.185868</td>\n",
       "      <td>0.191247</td>\n",
       "      <td>0.194933</td>\n",
       "      <td>0.198650</td>\n",
       "      <td>0.202753</td>\n",
       "      <td>0.207933</td>\n",
       "      <td>...</td>\n",
       "      <td>0.321169</td>\n",
       "      <td>0.321023</td>\n",
       "      <td>0.321085</td>\n",
       "      <td>0.321705</td>\n",
       "      <td>0.322087</td>\n",
       "      <td>0.322119</td>\n",
       "      <td>0.321809</td>\n",
       "      <td>0.321495</td>\n",
       "      <td>0.321334</td>\n",
       "      <td>0.321481</td>\n",
       "    </tr>\n",
       "    <tr>\n",
       "      <th>3</th>\n",
       "      <td>0.113380</td>\n",
       "      <td>0.134184</td>\n",
       "      <td>0.150814</td>\n",
       "      <td>0.163856</td>\n",
       "      <td>0.173894</td>\n",
       "      <td>0.181629</td>\n",
       "      <td>0.186704</td>\n",
       "      <td>0.191711</td>\n",
       "      <td>0.196552</td>\n",
       "      <td>0.201812</td>\n",
       "      <td>...</td>\n",
       "      <td>0.284521</td>\n",
       "      <td>0.284468</td>\n",
       "      <td>0.284835</td>\n",
       "      <td>0.285448</td>\n",
       "      <td>0.285801</td>\n",
       "      <td>0.285875</td>\n",
       "      <td>0.285714</td>\n",
       "      <td>0.285572</td>\n",
       "      <td>0.285572</td>\n",
       "      <td>0.285839</td>\n",
       "    </tr>\n",
       "    <tr>\n",
       "      <th>4</th>\n",
       "      <td>0.117353</td>\n",
       "      <td>0.138548</td>\n",
       "      <td>0.155029</td>\n",
       "      <td>0.167433</td>\n",
       "      <td>0.176401</td>\n",
       "      <td>0.182259</td>\n",
       "      <td>0.186108</td>\n",
       "      <td>0.189203</td>\n",
       "      <td>0.192364</td>\n",
       "      <td>0.196556</td>\n",
       "      <td>...</td>\n",
       "      <td>0.272634</td>\n",
       "      <td>0.273017</td>\n",
       "      <td>0.273216</td>\n",
       "      <td>0.273381</td>\n",
       "      <td>0.273634</td>\n",
       "      <td>0.274150</td>\n",
       "      <td>0.274480</td>\n",
       "      <td>0.274514</td>\n",
       "      <td>0.274098</td>\n",
       "      <td>0.273082</td>\n",
       "    </tr>\n",
       "  </tbody>\n",
       "</table>\n",
       "<p>5 rows × 138 columns</p>\n",
       "</div>"
      ],
      "text/plain": [
       "        450       454       458       462       466       470       474  \\\n",
       "0  0.090347  0.108321  0.123391  0.135845  0.145975  0.154125  0.159635   \n",
       "1  0.131461  0.154961  0.173581  0.188071  0.199181  0.207340  0.213903   \n",
       "2  0.131958  0.151448  0.166479  0.177727  0.185868  0.191247  0.194933   \n",
       "3  0.113380  0.134184  0.150814  0.163856  0.173894  0.181629  0.186704   \n",
       "4  0.117353  0.138548  0.155029  0.167433  0.176401  0.182259  0.186108   \n",
       "\n",
       "        478       482       486  ...       962       966       970       974  \\\n",
       "0  0.164918  0.170134  0.175579  ...  0.273946  0.272849  0.272059  0.271392   \n",
       "1  0.220067  0.226702  0.233786  ...  0.310982  0.311373  0.311499  0.311529   \n",
       "2  0.198650  0.202753  0.207933  ...  0.321169  0.321023  0.321085  0.321705   \n",
       "3  0.191711  0.196552  0.201812  ...  0.284521  0.284468  0.284835  0.285448   \n",
       "4  0.189203  0.192364  0.196556  ...  0.272634  0.273017  0.273216  0.273381   \n",
       "\n",
       "        978       982       986       990       994       998  \n",
       "0  0.270901  0.270276  0.269762  0.269415  0.269293  0.269451  \n",
       "1  0.311531  0.311579  0.311293  0.311057  0.311002  0.311259  \n",
       "2  0.322087  0.322119  0.321809  0.321495  0.321334  0.321481  \n",
       "3  0.285801  0.285875  0.285714  0.285572  0.285572  0.285839  \n",
       "4  0.273634  0.274150  0.274480  0.274514  0.274098  0.273082  \n",
       "\n",
       "[5 rows x 138 columns]"
      ]
     },
     "execution_count": 224,
     "metadata": {},
     "output_type": "execute_result"
    }
   ],
   "source": [
    "X = df.drop(['Pigment'], axis = 1)\n",
    "X.head()"
   ]
  },
  {
   "cell_type": "code",
   "execution_count": 225,
   "metadata": {},
   "outputs": [
    {
     "data": {
      "text/html": [
       "<div>\n",
       "<style scoped>\n",
       "    .dataframe tbody tr th:only-of-type {\n",
       "        vertical-align: middle;\n",
       "    }\n",
       "\n",
       "    .dataframe tbody tr th {\n",
       "        vertical-align: top;\n",
       "    }\n",
       "\n",
       "    .dataframe thead th {\n",
       "        text-align: right;\n",
       "    }\n",
       "</style>\n",
       "<table border=\"1\" class=\"dataframe\">\n",
       "  <thead>\n",
       "    <tr style=\"text-align: right;\">\n",
       "      <th></th>\n",
       "      <th>Pigment</th>\n",
       "    </tr>\n",
       "  </thead>\n",
       "  <tbody>\n",
       "    <tr>\n",
       "      <th>0</th>\n",
       "      <td>1</td>\n",
       "    </tr>\n",
       "    <tr>\n",
       "      <th>1</th>\n",
       "      <td>1</td>\n",
       "    </tr>\n",
       "    <tr>\n",
       "      <th>2</th>\n",
       "      <td>1</td>\n",
       "    </tr>\n",
       "    <tr>\n",
       "      <th>3</th>\n",
       "      <td>1</td>\n",
       "    </tr>\n",
       "    <tr>\n",
       "      <th>4</th>\n",
       "      <td>1</td>\n",
       "    </tr>\n",
       "  </tbody>\n",
       "</table>\n",
       "</div>"
      ],
      "text/plain": [
       "   Pigment\n",
       "0        1\n",
       "1        1\n",
       "2        1\n",
       "3        1\n",
       "4        1"
      ]
     },
     "execution_count": 225,
     "metadata": {},
     "output_type": "execute_result"
    }
   ],
   "source": [
    "y = df[['Pigment']]\n",
    "y.head()"
   ]
  },
  {
   "cell_type": "code",
   "execution_count": 267,
   "metadata": {},
   "outputs": [],
   "source": [
    "X_train, X_test, y_train, y_test = train_test_split(X, y, test_size=0.2, stratify=y)"
   ]
  },
  {
   "cell_type": "code",
   "execution_count": 268,
   "metadata": {},
   "outputs": [
    {
     "data": {
      "text/html": [
       "<div>\n",
       "<style scoped>\n",
       "    .dataframe tbody tr th:only-of-type {\n",
       "        vertical-align: middle;\n",
       "    }\n",
       "\n",
       "    .dataframe tbody tr th {\n",
       "        vertical-align: top;\n",
       "    }\n",
       "\n",
       "    .dataframe thead th {\n",
       "        text-align: right;\n",
       "    }\n",
       "</style>\n",
       "<table border=\"1\" class=\"dataframe\">\n",
       "  <thead>\n",
       "    <tr style=\"text-align: right;\">\n",
       "      <th></th>\n",
       "      <th>Pigment</th>\n",
       "      <th>Count</th>\n",
       "    </tr>\n",
       "  </thead>\n",
       "  <tbody>\n",
       "    <tr>\n",
       "      <th>0</th>\n",
       "      <td>0</td>\n",
       "      <td>8</td>\n",
       "    </tr>\n",
       "    <tr>\n",
       "      <th>1</th>\n",
       "      <td>1</td>\n",
       "      <td>8</td>\n",
       "    </tr>\n",
       "  </tbody>\n",
       "</table>\n",
       "</div>"
      ],
      "text/plain": [
       "   Pigment  Count\n",
       "0        0      8\n",
       "1        1      8"
      ]
     },
     "execution_count": 268,
     "metadata": {},
     "output_type": "execute_result"
    }
   ],
   "source": [
    "test_count = y_test.reset_index().groupby('Pigment').count().reset_index().rename(columns={'index':'Count'})\n",
    "test_count"
   ]
  },
  {
   "cell_type": "code",
   "execution_count": 269,
   "metadata": {},
   "outputs": [
    {
     "data": {
      "text/plain": [
       "<AxesSubplot:xlabel='Pigment', ylabel='Count'>"
      ]
     },
     "execution_count": 269,
     "metadata": {},
     "output_type": "execute_result"
    },
    {
     "data": {
      "image/png": "[encoded data removed]",
      "text/plain": [
       "<Figure size 648x648 with 1 Axes>"
      ]
     },
     "metadata": {
      "needs_background": "light"
     },
     "output_type": "display_data"
    }
   ],
   "source": [
    "plt.figure(figsize=(9,9))\n",
    "sns.barplot(data=test_count, x='Pigment', y='Count')"
   ]
  },
  {
   "cell_type": "code",
   "execution_count": 270,
   "metadata": {},
   "outputs": [
    {
     "data": {
      "text/html": [
       "<div>\n",
       "<style scoped>\n",
       "    .dataframe tbody tr th:only-of-type {\n",
       "        vertical-align: middle;\n",
       "    }\n",
       "\n",
       "    .dataframe tbody tr th {\n",
       "        vertical-align: top;\n",
       "    }\n",
       "\n",
       "    .dataframe thead th {\n",
       "        text-align: right;\n",
       "    }\n",
       "</style>\n",
       "<table border=\"1\" class=\"dataframe\">\n",
       "  <thead>\n",
       "    <tr style=\"text-align: right;\">\n",
       "      <th></th>\n",
       "      <th>Pigment</th>\n",
       "      <th>Count</th>\n",
       "    </tr>\n",
       "  </thead>\n",
       "  <tbody>\n",
       "    <tr>\n",
       "      <th>0</th>\n",
       "      <td>0</td>\n",
       "      <td>30</td>\n",
       "    </tr>\n",
       "    <tr>\n",
       "      <th>1</th>\n",
       "      <td>1</td>\n",
       "      <td>32</td>\n",
       "    </tr>\n",
       "  </tbody>\n",
       "</table>\n",
       "</div>"
      ],
      "text/plain": [
       "   Pigment  Count\n",
       "0        0     30\n",
       "1        1     32"
      ]
     },
     "execution_count": 270,
     "metadata": {},
     "output_type": "execute_result"
    }
   ],
   "source": [
    "train_count = y_train.reset_index().groupby('Pigment').count().reset_index().rename(columns={'index':'Count'})\n",
    "train_count"
   ]
  },
  {
   "cell_type": "code",
   "execution_count": 271,
   "metadata": {},
   "outputs": [
    {
     "data": {
      "text/plain": [
       "<AxesSubplot:xlabel='Pigment', ylabel='Count'>"
      ]
     },
     "execution_count": 271,
     "metadata": {},
     "output_type": "execute_result"
    },
    {
     "data": {
      "image/png": "[encoded data removed]",
      "text/plain": [
       "<Figure size 648x648 with 1 Axes>"
      ]
     },
     "metadata": {
      "needs_background": "light"
     },
     "output_type": "display_data"
    }
   ],
   "source": [
    "plt.figure(figsize=(9,9))\n",
    "sns.barplot(data=train_count, x='Pigment', y='Count')"
   ]
  },
  {
   "cell_type": "markdown",
   "metadata": {},
   "source": [
    "Логистическая регрессия"
   ]
  },
  {
   "cell_type": "code",
   "execution_count": 272,
   "metadata": {},
   "outputs": [],
   "source": [
    "logistic_regr_pipe = Pipeline([('feature', Pipeline([('scaler', StandardScaler()), ('pca', PCA(n_components=5))])),\n",
    "                               ('logistic_regr', LogisticRegressionCV(cv=cv))])"
   ]
  },
  {
   "cell_type": "code",
   "execution_count": 273,
   "metadata": {},
   "outputs": [],
   "source": [
    "X_train = logistic_regr_pipe['feature'].fit_transform(X_train)\n",
    "X_test = logistic_regr_pipe['feature'].transform(X_test)"
   ]
  },
  {
   "cell_type": "code",
   "execution_count": 274,
   "metadata": {},
   "outputs": [
    {
     "data": {
      "text/plain": [
       "LogisticRegressionCV(cv=StratifiedKFold(n_splits=3, random_state=None, shuffle=False))"
      ]
     },
     "execution_count": 274,
     "metadata": {},
     "output_type": "execute_result"
    }
   ],
   "source": [
    "logistic_regr_pipe['logistic_regr'].fit(X_train, y_train)"
   ]
  },
  {
   "cell_type": "code",
   "execution_count": 275,
   "metadata": {},
   "outputs": [
    {
     "data": {
      "text/plain": [
       "array([0.13254965])"
      ]
     },
     "execution_count": 275,
     "metadata": {},
     "output_type": "execute_result"
    }
   ],
   "source": [
    "logistic_regr_pipe['logistic_regr'].intercept_"
   ]
  },
  {
   "cell_type": "markdown",
   "metadata": {},
   "source": [
    "Random Forest"
   ]
  },
  {
   "cell_type": "code",
   "execution_count": 276,
   "metadata": {},
   "outputs": [],
   "source": [
    "parameters_random_forest = { 'max_depth':[2, 7], 'min_samples_split': [1, 5], \n",
    "                            'min_samples_leaf': [1, 5]}"
   ]
  },
  {
   "cell_type": "code",
   "execution_count": 277,
   "metadata": {},
   "outputs": [
    {
     "data": {
      "text/plain": [
       "GridSearchCV(cv=StratifiedKFold(n_splits=3, random_state=None, shuffle=False),\n",
       "             estimator=RandomForestClassifier(n_estimators=150),\n",
       "             param_grid={'max_depth': [2, 7], 'min_samples_leaf': [1, 5],\n",
       "                         'min_samples_split': [1, 5]})"
      ]
     },
     "execution_count": 277,
     "metadata": {},
     "output_type": "execute_result"
    }
   ],
   "source": [
    "clf_forest = GridSearchCV(RandomForestClassifier(n_estimators=150), parameters_random_forest, cv=cv)\n",
    "clf_forest.fit(X_train, y_train)"
   ]
  },
  {
   "cell_type": "code",
   "execution_count": 278,
   "metadata": {},
   "outputs": [
    {
     "data": {
      "text/plain": [
       "{'max_depth': 2, 'min_samples_leaf': 1, 'min_samples_split': 5}"
      ]
     },
     "execution_count": 278,
     "metadata": {},
     "output_type": "execute_result"
    }
   ],
   "source": [
    "clf_forest.best_params_"
   ]
  },
  {
   "cell_type": "code",
   "execution_count": 279,
   "metadata": {},
   "outputs": [],
   "source": [
    "random_forest_pipe = Pipeline([('feature', Pipeline([('scaler', StandardScaler()), ('pca', PCA(n_components=5))])),\n",
    "                               ('random_forest', clf_forest.best_estimator_)])"
   ]
  },
  {
   "cell_type": "markdown",
   "metadata": {},
   "source": [
    "Градиентный бустинг"
   ]
  },
  {
   "cell_type": "code",
   "execution_count": 280,
   "metadata": {},
   "outputs": [],
   "source": [
    "parameters_boosting = { 'learning_rate':np.power(2, np.arange(10))}"
   ]
  },
  {
   "cell_type": "code",
   "execution_count": 281,
   "metadata": {},
   "outputs": [
    {
     "data": {
      "text/plain": [
       "GridSearchCV(cv=StratifiedKFold(n_splits=3, random_state=None, shuffle=False),\n",
       "             estimator=GradientBoostingClassifier(n_estimators=150),\n",
       "             param_grid={'learning_rate': array([  1,   2,   4,   8,  16,  32,  64, 128, 256, 512])})"
      ]
     },
     "execution_count": 281,
     "metadata": {},
     "output_type": "execute_result"
    }
   ],
   "source": [
    "clf_boosting = GridSearchCV(GradientBoostingClassifier(n_estimators=150), parameters_boosting, cv=cv)\n",
    "clf_boosting.fit(X_train, y_train)"
   ]
  },
  {
   "cell_type": "code",
   "execution_count": 282,
   "metadata": {},
   "outputs": [
    {
     "data": {
      "text/plain": [
       "{'learning_rate': 1}"
      ]
     },
     "execution_count": 282,
     "metadata": {},
     "output_type": "execute_result"
    }
   ],
   "source": [
    "clf_boosting.best_params_"
   ]
  },
  {
   "cell_type": "code",
   "execution_count": 283,
   "metadata": {},
   "outputs": [],
   "source": [
    "gradient_boosting_pipe = Pipeline([('feature', Pipeline([('scaler', StandardScaler()), ('pca', PCA(n_components=5))])),\n",
    "                               ('gradient_boosting', clf_boosting.best_estimator_)])"
   ]
  },
  {
   "cell_type": "markdown",
   "metadata": {},
   "source": [
    "Результаты"
   ]
  },
  {
   "cell_type": "markdown",
   "metadata": {},
   "source": [
    "Результаты на тренеровочной выборки"
   ]
  },
  {
   "cell_type": "code",
   "execution_count": 284,
   "metadata": {},
   "outputs": [
    {
     "data": {
      "text/html": [
       "<div>\n",
       "<style scoped>\n",
       "    .dataframe tbody tr th:only-of-type {\n",
       "        vertical-align: middle;\n",
       "    }\n",
       "\n",
       "    .dataframe tbody tr th {\n",
       "        vertical-align: top;\n",
       "    }\n",
       "\n",
       "    .dataframe thead th {\n",
       "        text-align: right;\n",
       "    }\n",
       "</style>\n",
       "<table border=\"1\" class=\"dataframe\">\n",
       "  <thead>\n",
       "    <tr style=\"text-align: right;\">\n",
       "      <th></th>\n",
       "      <th>model</th>\n",
       "      <th>accuracy</th>\n",
       "      <th>f1</th>\n",
       "      <th>precision</th>\n",
       "      <th>recall</th>\n",
       "    </tr>\n",
       "  </thead>\n",
       "  <tbody>\n",
       "    <tr>\n",
       "      <th>0</th>\n",
       "      <td>Логистическая регрессия</td>\n",
       "      <td>1.0</td>\n",
       "      <td>1.0</td>\n",
       "      <td>1.0</td>\n",
       "      <td>1.0</td>\n",
       "    </tr>\n",
       "    <tr>\n",
       "      <th>1</th>\n",
       "      <td>Random Forest</td>\n",
       "      <td>1.0</td>\n",
       "      <td>1.0</td>\n",
       "      <td>1.0</td>\n",
       "      <td>1.0</td>\n",
       "    </tr>\n",
       "    <tr>\n",
       "      <th>2</th>\n",
       "      <td>Градиентный бустинг</td>\n",
       "      <td>1.0</td>\n",
       "      <td>1.0</td>\n",
       "      <td>1.0</td>\n",
       "      <td>1.0</td>\n",
       "    </tr>\n",
       "  </tbody>\n",
       "</table>\n",
       "</div>"
      ],
      "text/plain": [
       "                     model  accuracy   f1  precision  recall\n",
       "0  Логистическая регрессия       1.0  1.0        1.0     1.0\n",
       "1            Random Forest       1.0  1.0        1.0     1.0\n",
       "2      Градиентный бустинг       1.0  1.0        1.0     1.0"
      ]
     },
     "execution_count": 284,
     "metadata": {},
     "output_type": "execute_result"
    }
   ],
   "source": [
    "get_metrics([logistic_regr_pipe['logistic_regr'], random_forest_pipe['random_forest'], \n",
    "             gradient_boosting_pipe['gradient_boosting']], \n",
    "             ['Логистическая регрессия', 'Random Forest', 'Градиентный бустинг'], X_train, y_train)"
   ]
  },
  {
   "cell_type": "markdown",
   "metadata": {},
   "source": [
    "Результаты на тестовой выборки"
   ]
  },
  {
   "cell_type": "code",
   "execution_count": 285,
   "metadata": {},
   "outputs": [
    {
     "data": {
      "text/html": [
       "<div>\n",
       "<style scoped>\n",
       "    .dataframe tbody tr th:only-of-type {\n",
       "        vertical-align: middle;\n",
       "    }\n",
       "\n",
       "    .dataframe tbody tr th {\n",
       "        vertical-align: top;\n",
       "    }\n",
       "\n",
       "    .dataframe thead th {\n",
       "        text-align: right;\n",
       "    }\n",
       "</style>\n",
       "<table border=\"1\" class=\"dataframe\">\n",
       "  <thead>\n",
       "    <tr style=\"text-align: right;\">\n",
       "      <th></th>\n",
       "      <th>model</th>\n",
       "      <th>accuracy</th>\n",
       "      <th>f1</th>\n",
       "      <th>precision</th>\n",
       "      <th>recall</th>\n",
       "    </tr>\n",
       "  </thead>\n",
       "  <tbody>\n",
       "    <tr>\n",
       "      <th>0</th>\n",
       "      <td>Логистическая регрессия</td>\n",
       "      <td>1.0</td>\n",
       "      <td>1.0</td>\n",
       "      <td>1.0</td>\n",
       "      <td>1.0</td>\n",
       "    </tr>\n",
       "    <tr>\n",
       "      <th>1</th>\n",
       "      <td>Random Forest</td>\n",
       "      <td>1.0</td>\n",
       "      <td>1.0</td>\n",
       "      <td>1.0</td>\n",
       "      <td>1.0</td>\n",
       "    </tr>\n",
       "    <tr>\n",
       "      <th>2</th>\n",
       "      <td>Градиентный бустинг</td>\n",
       "      <td>1.0</td>\n",
       "      <td>1.0</td>\n",
       "      <td>1.0</td>\n",
       "      <td>1.0</td>\n",
       "    </tr>\n",
       "  </tbody>\n",
       "</table>\n",
       "</div>"
      ],
      "text/plain": [
       "                     model  accuracy   f1  precision  recall\n",
       "0  Логистическая регрессия       1.0  1.0        1.0     1.0\n",
       "1            Random Forest       1.0  1.0        1.0     1.0\n",
       "2      Градиентный бустинг       1.0  1.0        1.0     1.0"
      ]
     },
     "execution_count": 285,
     "metadata": {},
     "output_type": "execute_result"
    }
   ],
   "source": [
    "get_metrics([logistic_regr_pipe['logistic_regr'], random_forest_pipe['random_forest'], \n",
    "             gradient_boosting_pipe['gradient_boosting']], \n",
    "             ['Логистическая регрессия', 'Random Forest', 'Градиентный бустинг'], X_test, y_test)"
   ]
  },
  {
   "cell_type": "markdown",
   "metadata": {},
   "source": [
    "$\\textbf{Мультиклассовая классификация}$"
   ]
  },
  {
   "cell_type": "code",
   "execution_count": 405,
   "metadata": {},
   "outputs": [
    {
     "data": {
      "text/html": [
       "<div>\n",
       "<style scoped>\n",
       "    .dataframe tbody tr th:only-of-type {\n",
       "        vertical-align: middle;\n",
       "    }\n",
       "\n",
       "    .dataframe tbody tr th {\n",
       "        vertical-align: top;\n",
       "    }\n",
       "\n",
       "    .dataframe thead th {\n",
       "        text-align: right;\n",
       "    }\n",
       "</style>\n",
       "<table border=\"1\" class=\"dataframe\">\n",
       "  <thead>\n",
       "    <tr style=\"text-align: right;\">\n",
       "      <th></th>\n",
       "      <th>450</th>\n",
       "      <th>454</th>\n",
       "      <th>458</th>\n",
       "      <th>462</th>\n",
       "      <th>466</th>\n",
       "      <th>470</th>\n",
       "      <th>474</th>\n",
       "      <th>478</th>\n",
       "      <th>482</th>\n",
       "      <th>486</th>\n",
       "      <th>...</th>\n",
       "      <th>966</th>\n",
       "      <th>970</th>\n",
       "      <th>974</th>\n",
       "      <th>978</th>\n",
       "      <th>982</th>\n",
       "      <th>986</th>\n",
       "      <th>990</th>\n",
       "      <th>994</th>\n",
       "      <th>998</th>\n",
       "      <th>Pigment</th>\n",
       "    </tr>\n",
       "  </thead>\n",
       "  <tbody>\n",
       "    <tr>\n",
       "      <th>4</th>\n",
       "      <td>0.117353</td>\n",
       "      <td>0.138548</td>\n",
       "      <td>0.155029</td>\n",
       "      <td>0.167433</td>\n",
       "      <td>0.176401</td>\n",
       "      <td>0.182259</td>\n",
       "      <td>0.186108</td>\n",
       "      <td>0.189203</td>\n",
       "      <td>0.192364</td>\n",
       "      <td>0.196556</td>\n",
       "      <td>...</td>\n",
       "      <td>0.273017</td>\n",
       "      <td>0.273216</td>\n",
       "      <td>0.273381</td>\n",
       "      <td>0.273634</td>\n",
       "      <td>0.274150</td>\n",
       "      <td>0.274480</td>\n",
       "      <td>0.274514</td>\n",
       "      <td>0.274098</td>\n",
       "      <td>0.273082</td>\n",
       "      <td>0</td>\n",
       "    </tr>\n",
       "    <tr>\n",
       "      <th>46</th>\n",
       "      <td>0.043984</td>\n",
       "      <td>0.052460</td>\n",
       "      <td>0.058802</td>\n",
       "      <td>0.063306</td>\n",
       "      <td>0.066266</td>\n",
       "      <td>0.068041</td>\n",
       "      <td>0.068407</td>\n",
       "      <td>0.068762</td>\n",
       "      <td>0.069245</td>\n",
       "      <td>0.070009</td>\n",
       "      <td>...</td>\n",
       "      <td>0.089456</td>\n",
       "      <td>0.089718</td>\n",
       "      <td>0.089795</td>\n",
       "      <td>0.089541</td>\n",
       "      <td>0.089242</td>\n",
       "      <td>0.088876</td>\n",
       "      <td>0.088527</td>\n",
       "      <td>0.088261</td>\n",
       "      <td>0.088143</td>\n",
       "      <td>1</td>\n",
       "    </tr>\n",
       "    <tr>\n",
       "      <th>15</th>\n",
       "      <td>0.111644</td>\n",
       "      <td>0.128725</td>\n",
       "      <td>0.141756</td>\n",
       "      <td>0.151423</td>\n",
       "      <td>0.158409</td>\n",
       "      <td>0.163454</td>\n",
       "      <td>0.166785</td>\n",
       "      <td>0.169983</td>\n",
       "      <td>0.174062</td>\n",
       "      <td>0.179132</td>\n",
       "      <td>...</td>\n",
       "      <td>0.285072</td>\n",
       "      <td>0.285169</td>\n",
       "      <td>0.285129</td>\n",
       "      <td>0.284980</td>\n",
       "      <td>0.284228</td>\n",
       "      <td>0.283685</td>\n",
       "      <td>0.283242</td>\n",
       "      <td>0.282980</td>\n",
       "      <td>0.282981</td>\n",
       "      <td>0</td>\n",
       "    </tr>\n",
       "    <tr>\n",
       "      <th>47</th>\n",
       "      <td>0.026923</td>\n",
       "      <td>0.030527</td>\n",
       "      <td>0.033772</td>\n",
       "      <td>0.036641</td>\n",
       "      <td>0.039118</td>\n",
       "      <td>0.041196</td>\n",
       "      <td>0.042596</td>\n",
       "      <td>0.043934</td>\n",
       "      <td>0.045236</td>\n",
       "      <td>0.046452</td>\n",
       "      <td>...</td>\n",
       "      <td>0.095604</td>\n",
       "      <td>0.095793</td>\n",
       "      <td>0.096017</td>\n",
       "      <td>0.096245</td>\n",
       "      <td>0.096186</td>\n",
       "      <td>0.096213</td>\n",
       "      <td>0.096242</td>\n",
       "      <td>0.096290</td>\n",
       "      <td>0.096375</td>\n",
       "      <td>1</td>\n",
       "    </tr>\n",
       "    <tr>\n",
       "      <th>60</th>\n",
       "      <td>0.026126</td>\n",
       "      <td>0.030251</td>\n",
       "      <td>0.033419</td>\n",
       "      <td>0.035742</td>\n",
       "      <td>0.037330</td>\n",
       "      <td>0.038347</td>\n",
       "      <td>0.038528</td>\n",
       "      <td>0.038759</td>\n",
       "      <td>0.038940</td>\n",
       "      <td>0.039086</td>\n",
       "      <td>...</td>\n",
       "      <td>0.046041</td>\n",
       "      <td>0.046302</td>\n",
       "      <td>0.046513</td>\n",
       "      <td>0.046658</td>\n",
       "      <td>0.046800</td>\n",
       "      <td>0.046874</td>\n",
       "      <td>0.046926</td>\n",
       "      <td>0.046971</td>\n",
       "      <td>0.047026</td>\n",
       "      <td>1</td>\n",
       "    </tr>\n",
       "    <tr>\n",
       "      <th>42</th>\n",
       "      <td>0.034937</td>\n",
       "      <td>0.040470</td>\n",
       "      <td>0.044541</td>\n",
       "      <td>0.047364</td>\n",
       "      <td>0.049155</td>\n",
       "      <td>0.050203</td>\n",
       "      <td>0.050309</td>\n",
       "      <td>0.050464</td>\n",
       "      <td>0.050599</td>\n",
       "      <td>0.050952</td>\n",
       "      <td>...</td>\n",
       "      <td>0.053403</td>\n",
       "      <td>0.053007</td>\n",
       "      <td>0.052764</td>\n",
       "      <td>0.052778</td>\n",
       "      <td>0.052830</td>\n",
       "      <td>0.053043</td>\n",
       "      <td>0.053251</td>\n",
       "      <td>0.053378</td>\n",
       "      <td>0.053346</td>\n",
       "      <td>3</td>\n",
       "    </tr>\n",
       "    <tr>\n",
       "      <th>66</th>\n",
       "      <td>0.025642</td>\n",
       "      <td>0.029917</td>\n",
       "      <td>0.033447</td>\n",
       "      <td>0.036292</td>\n",
       "      <td>0.038509</td>\n",
       "      <td>0.040261</td>\n",
       "      <td>0.041094</td>\n",
       "      <td>0.041740</td>\n",
       "      <td>0.042434</td>\n",
       "      <td>0.043049</td>\n",
       "      <td>...</td>\n",
       "      <td>0.064754</td>\n",
       "      <td>0.065002</td>\n",
       "      <td>0.065163</td>\n",
       "      <td>0.065133</td>\n",
       "      <td>0.065068</td>\n",
       "      <td>0.064984</td>\n",
       "      <td>0.065018</td>\n",
       "      <td>0.065257</td>\n",
       "      <td>0.065787</td>\n",
       "      <td>1</td>\n",
       "    </tr>\n",
       "  </tbody>\n",
       "</table>\n",
       "<p>7 rows × 139 columns</p>\n",
       "</div>"
      ],
      "text/plain": [
       "         450       454       458       462       466       470       474  \\\n",
       "4   0.117353  0.138548  0.155029  0.167433  0.176401  0.182259  0.186108   \n",
       "46  0.043984  0.052460  0.058802  0.063306  0.066266  0.068041  0.068407   \n",
       "15  0.111644  0.128725  0.141756  0.151423  0.158409  0.163454  0.166785   \n",
       "47  0.026923  0.030527  0.033772  0.036641  0.039118  0.041196  0.042596   \n",
       "60  0.026126  0.030251  0.033419  0.035742  0.037330  0.038347  0.038528   \n",
       "42  0.034937  0.040470  0.044541  0.047364  0.049155  0.050203  0.050309   \n",
       "66  0.025642  0.029917  0.033447  0.036292  0.038509  0.040261  0.041094   \n",
       "\n",
       "         478       482       486  ...       966       970       974       978  \\\n",
       "4   0.189203  0.192364  0.196556  ...  0.273017  0.273216  0.273381  0.273634   \n",
       "46  0.068762  0.069245  0.070009  ...  0.089456  0.089718  0.089795  0.089541   \n",
       "15  0.169983  0.174062  0.179132  ...  0.285072  0.285169  0.285129  0.284980   \n",
       "47  0.043934  0.045236  0.046452  ...  0.095604  0.095793  0.096017  0.096245   \n",
       "60  0.038759  0.038940  0.039086  ...  0.046041  0.046302  0.046513  0.046658   \n",
       "42  0.050464  0.050599  0.050952  ...  0.053403  0.053007  0.052764  0.052778   \n",
       "66  0.041740  0.042434  0.043049  ...  0.064754  0.065002  0.065163  0.065133   \n",
       "\n",
       "         982       986       990       994       998  Pigment  \n",
       "4   0.274150  0.274480  0.274514  0.274098  0.273082        0  \n",
       "46  0.089242  0.088876  0.088527  0.088261  0.088143        1  \n",
       "15  0.284228  0.283685  0.283242  0.282980  0.282981        0  \n",
       "47  0.096186  0.096213  0.096242  0.096290  0.096375        1  \n",
       "60  0.046800  0.046874  0.046926  0.046971  0.047026        1  \n",
       "42  0.052830  0.053043  0.053251  0.053378  0.053346        3  \n",
       "66  0.065068  0.064984  0.065018  0.065257  0.065787        1  \n",
       "\n",
       "[7 rows x 139 columns]"
      ]
     },
     "execution_count": 405,
     "metadata": {},
     "output_type": "execute_result"
    }
   ],
   "source": [
    "df = get_med_df_multi_classific(hyper_imgs)\n",
    "df.sample(7)"
   ]
  },
  {
   "cell_type": "code",
   "execution_count": 406,
   "metadata": {},
   "outputs": [
    {
     "data": {
      "text/html": [
       "<div>\n",
       "<style scoped>\n",
       "    .dataframe tbody tr th:only-of-type {\n",
       "        vertical-align: middle;\n",
       "    }\n",
       "\n",
       "    .dataframe tbody tr th {\n",
       "        vertical-align: top;\n",
       "    }\n",
       "\n",
       "    .dataframe thead th {\n",
       "        text-align: right;\n",
       "    }\n",
       "</style>\n",
       "<table border=\"1\" class=\"dataframe\">\n",
       "  <thead>\n",
       "    <tr style=\"text-align: right;\">\n",
       "      <th></th>\n",
       "      <th>Pigment</th>\n",
       "      <th>Count</th>\n",
       "    </tr>\n",
       "  </thead>\n",
       "  <tbody>\n",
       "    <tr>\n",
       "      <th>0</th>\n",
       "      <td>0</td>\n",
       "      <td>40</td>\n",
       "    </tr>\n",
       "    <tr>\n",
       "      <th>1</th>\n",
       "      <td>1</td>\n",
       "      <td>19</td>\n",
       "    </tr>\n",
       "    <tr>\n",
       "      <th>2</th>\n",
       "      <td>2</td>\n",
       "      <td>10</td>\n",
       "    </tr>\n",
       "    <tr>\n",
       "      <th>3</th>\n",
       "      <td>3</td>\n",
       "      <td>9</td>\n",
       "    </tr>\n",
       "  </tbody>\n",
       "</table>\n",
       "</div>"
      ],
      "text/plain": [
       "   Pigment  Count\n",
       "0        0     40\n",
       "1        1     19\n",
       "2        2     10\n",
       "3        3      9"
      ]
     },
     "execution_count": 406,
     "metadata": {},
     "output_type": "execute_result"
    }
   ],
   "source": [
    "df_count = df.groupby(['Pigment'], as_index=True).count()[[450]].rename(columns={450:'Count'}).reset_index()\n",
    "df_count"
   ]
  },
  {
   "cell_type": "code",
   "execution_count": 407,
   "metadata": {},
   "outputs": [
    {
     "data": {
      "text/plain": [
       "<AxesSubplot:xlabel='Pigment', ylabel='Count'>"
      ]
     },
     "execution_count": 407,
     "metadata": {},
     "output_type": "execute_result"
    },
    {
     "data": {
      "image/png": "[encoded data removed]",
      "text/plain": [
       "<Figure size 648x648 with 1 Axes>"
      ]
     },
     "metadata": {
      "needs_background": "light"
     },
     "output_type": "display_data"
    }
   ],
   "source": [
    "plt.figure(figsize=(9,9))\n",
    "sns.barplot(data=df_count, x='Pigment', y='Count')"
   ]
  },
  {
   "cell_type": "markdown",
   "metadata": {},
   "source": [
    "разделение выборки на обучающию и тестовую"
   ]
  },
  {
   "cell_type": "code",
   "execution_count": 408,
   "metadata": {},
   "outputs": [
    {
     "data": {
      "text/html": [
       "<div>\n",
       "<style scoped>\n",
       "    .dataframe tbody tr th:only-of-type {\n",
       "        vertical-align: middle;\n",
       "    }\n",
       "\n",
       "    .dataframe tbody tr th {\n",
       "        vertical-align: top;\n",
       "    }\n",
       "\n",
       "    .dataframe thead th {\n",
       "        text-align: right;\n",
       "    }\n",
       "</style>\n",
       "<table border=\"1\" class=\"dataframe\">\n",
       "  <thead>\n",
       "    <tr style=\"text-align: right;\">\n",
       "      <th></th>\n",
       "      <th>450</th>\n",
       "      <th>454</th>\n",
       "      <th>458</th>\n",
       "      <th>462</th>\n",
       "      <th>466</th>\n",
       "      <th>470</th>\n",
       "      <th>474</th>\n",
       "      <th>478</th>\n",
       "      <th>482</th>\n",
       "      <th>486</th>\n",
       "      <th>...</th>\n",
       "      <th>962</th>\n",
       "      <th>966</th>\n",
       "      <th>970</th>\n",
       "      <th>974</th>\n",
       "      <th>978</th>\n",
       "      <th>982</th>\n",
       "      <th>986</th>\n",
       "      <th>990</th>\n",
       "      <th>994</th>\n",
       "      <th>998</th>\n",
       "    </tr>\n",
       "  </thead>\n",
       "  <tbody>\n",
       "    <tr>\n",
       "      <th>0</th>\n",
       "      <td>0.090347</td>\n",
       "      <td>0.108321</td>\n",
       "      <td>0.123391</td>\n",
       "      <td>0.135845</td>\n",
       "      <td>0.145975</td>\n",
       "      <td>0.154125</td>\n",
       "      <td>0.159635</td>\n",
       "      <td>0.164918</td>\n",
       "      <td>0.170134</td>\n",
       "      <td>0.175579</td>\n",
       "      <td>...</td>\n",
       "      <td>0.273946</td>\n",
       "      <td>0.272849</td>\n",
       "      <td>0.272059</td>\n",
       "      <td>0.271392</td>\n",
       "      <td>0.270901</td>\n",
       "      <td>0.270276</td>\n",
       "      <td>0.269762</td>\n",
       "      <td>0.269415</td>\n",
       "      <td>0.269293</td>\n",
       "      <td>0.269451</td>\n",
       "    </tr>\n",
       "    <tr>\n",
       "      <th>1</th>\n",
       "      <td>0.131461</td>\n",
       "      <td>0.154961</td>\n",
       "      <td>0.173581</td>\n",
       "      <td>0.188071</td>\n",
       "      <td>0.199181</td>\n",
       "      <td>0.207340</td>\n",
       "      <td>0.213903</td>\n",
       "      <td>0.220067</td>\n",
       "      <td>0.226702</td>\n",
       "      <td>0.233786</td>\n",
       "      <td>...</td>\n",
       "      <td>0.310982</td>\n",
       "      <td>0.311373</td>\n",
       "      <td>0.311499</td>\n",
       "      <td>0.311529</td>\n",
       "      <td>0.311531</td>\n",
       "      <td>0.311579</td>\n",
       "      <td>0.311293</td>\n",
       "      <td>0.311057</td>\n",
       "      <td>0.311002</td>\n",
       "      <td>0.311259</td>\n",
       "    </tr>\n",
       "    <tr>\n",
       "      <th>2</th>\n",
       "      <td>0.131958</td>\n",
       "      <td>0.151448</td>\n",
       "      <td>0.166479</td>\n",
       "      <td>0.177727</td>\n",
       "      <td>0.185868</td>\n",
       "      <td>0.191247</td>\n",
       "      <td>0.194933</td>\n",
       "      <td>0.198650</td>\n",
       "      <td>0.202753</td>\n",
       "      <td>0.207933</td>\n",
       "      <td>...</td>\n",
       "      <td>0.321169</td>\n",
       "      <td>0.321023</td>\n",
       "      <td>0.321085</td>\n",
       "      <td>0.321705</td>\n",
       "      <td>0.322087</td>\n",
       "      <td>0.322119</td>\n",
       "      <td>0.321809</td>\n",
       "      <td>0.321495</td>\n",
       "      <td>0.321334</td>\n",
       "      <td>0.321481</td>\n",
       "    </tr>\n",
       "    <tr>\n",
       "      <th>3</th>\n",
       "      <td>0.113380</td>\n",
       "      <td>0.134184</td>\n",
       "      <td>0.150814</td>\n",
       "      <td>0.163856</td>\n",
       "      <td>0.173894</td>\n",
       "      <td>0.181629</td>\n",
       "      <td>0.186704</td>\n",
       "      <td>0.191711</td>\n",
       "      <td>0.196552</td>\n",
       "      <td>0.201812</td>\n",
       "      <td>...</td>\n",
       "      <td>0.284521</td>\n",
       "      <td>0.284468</td>\n",
       "      <td>0.284835</td>\n",
       "      <td>0.285448</td>\n",
       "      <td>0.285801</td>\n",
       "      <td>0.285875</td>\n",
       "      <td>0.285714</td>\n",
       "      <td>0.285572</td>\n",
       "      <td>0.285572</td>\n",
       "      <td>0.285839</td>\n",
       "    </tr>\n",
       "    <tr>\n",
       "      <th>4</th>\n",
       "      <td>0.117353</td>\n",
       "      <td>0.138548</td>\n",
       "      <td>0.155029</td>\n",
       "      <td>0.167433</td>\n",
       "      <td>0.176401</td>\n",
       "      <td>0.182259</td>\n",
       "      <td>0.186108</td>\n",
       "      <td>0.189203</td>\n",
       "      <td>0.192364</td>\n",
       "      <td>0.196556</td>\n",
       "      <td>...</td>\n",
       "      <td>0.272634</td>\n",
       "      <td>0.273017</td>\n",
       "      <td>0.273216</td>\n",
       "      <td>0.273381</td>\n",
       "      <td>0.273634</td>\n",
       "      <td>0.274150</td>\n",
       "      <td>0.274480</td>\n",
       "      <td>0.274514</td>\n",
       "      <td>0.274098</td>\n",
       "      <td>0.273082</td>\n",
       "    </tr>\n",
       "  </tbody>\n",
       "</table>\n",
       "<p>5 rows × 138 columns</p>\n",
       "</div>"
      ],
      "text/plain": [
       "        450       454       458       462       466       470       474  \\\n",
       "0  0.090347  0.108321  0.123391  0.135845  0.145975  0.154125  0.159635   \n",
       "1  0.131461  0.154961  0.173581  0.188071  0.199181  0.207340  0.213903   \n",
       "2  0.131958  0.151448  0.166479  0.177727  0.185868  0.191247  0.194933   \n",
       "3  0.113380  0.134184  0.150814  0.163856  0.173894  0.181629  0.186704   \n",
       "4  0.117353  0.138548  0.155029  0.167433  0.176401  0.182259  0.186108   \n",
       "\n",
       "        478       482       486  ...       962       966       970       974  \\\n",
       "0  0.164918  0.170134  0.175579  ...  0.273946  0.272849  0.272059  0.271392   \n",
       "1  0.220067  0.226702  0.233786  ...  0.310982  0.311373  0.311499  0.311529   \n",
       "2  0.198650  0.202753  0.207933  ...  0.321169  0.321023  0.321085  0.321705   \n",
       "3  0.191711  0.196552  0.201812  ...  0.284521  0.284468  0.284835  0.285448   \n",
       "4  0.189203  0.192364  0.196556  ...  0.272634  0.273017  0.273216  0.273381   \n",
       "\n",
       "        978       982       986       990       994       998  \n",
       "0  0.270901  0.270276  0.269762  0.269415  0.269293  0.269451  \n",
       "1  0.311531  0.311579  0.311293  0.311057  0.311002  0.311259  \n",
       "2  0.322087  0.322119  0.321809  0.321495  0.321334  0.321481  \n",
       "3  0.285801  0.285875  0.285714  0.285572  0.285572  0.285839  \n",
       "4  0.273634  0.274150  0.274480  0.274514  0.274098  0.273082  \n",
       "\n",
       "[5 rows x 138 columns]"
      ]
     },
     "execution_count": 408,
     "metadata": {},
     "output_type": "execute_result"
    }
   ],
   "source": [
    "X = df.drop(['Pigment'], axis = 1)\n",
    "X.head()"
   ]
  },
  {
   "cell_type": "code",
   "execution_count": 409,
   "metadata": {},
   "outputs": [
    {
     "data": {
      "text/html": [
       "<div>\n",
       "<style scoped>\n",
       "    .dataframe tbody tr th:only-of-type {\n",
       "        vertical-align: middle;\n",
       "    }\n",
       "\n",
       "    .dataframe tbody tr th {\n",
       "        vertical-align: top;\n",
       "    }\n",
       "\n",
       "    .dataframe thead th {\n",
       "        text-align: right;\n",
       "    }\n",
       "</style>\n",
       "<table border=\"1\" class=\"dataframe\">\n",
       "  <thead>\n",
       "    <tr style=\"text-align: right;\">\n",
       "      <th></th>\n",
       "      <th>Pigment</th>\n",
       "    </tr>\n",
       "  </thead>\n",
       "  <tbody>\n",
       "    <tr>\n",
       "      <th>22</th>\n",
       "      <td>0</td>\n",
       "    </tr>\n",
       "    <tr>\n",
       "      <th>6</th>\n",
       "      <td>0</td>\n",
       "    </tr>\n",
       "    <tr>\n",
       "      <th>59</th>\n",
       "      <td>2</td>\n",
       "    </tr>\n",
       "    <tr>\n",
       "      <th>32</th>\n",
       "      <td>0</td>\n",
       "    </tr>\n",
       "    <tr>\n",
       "      <th>74</th>\n",
       "      <td>1</td>\n",
       "    </tr>\n",
       "  </tbody>\n",
       "</table>\n",
       "</div>"
      ],
      "text/plain": [
       "    Pigment\n",
       "22        0\n",
       "6         0\n",
       "59        2\n",
       "32        0\n",
       "74        1"
      ]
     },
     "execution_count": 409,
     "metadata": {},
     "output_type": "execute_result"
    }
   ],
   "source": [
    "y = df[['Pigment']]\n",
    "y.sample(5)"
   ]
  },
  {
   "cell_type": "code",
   "execution_count": 410,
   "metadata": {},
   "outputs": [],
   "source": [
    "X_train, X_test, y_train, y_test = train_test_split(X, y, test_size=0.2, stratify=y)"
   ]
  },
  {
   "cell_type": "code",
   "execution_count": 411,
   "metadata": {},
   "outputs": [
    {
     "data": {
      "text/html": [
       "<div>\n",
       "<style scoped>\n",
       "    .dataframe tbody tr th:only-of-type {\n",
       "        vertical-align: middle;\n",
       "    }\n",
       "\n",
       "    .dataframe tbody tr th {\n",
       "        vertical-align: top;\n",
       "    }\n",
       "\n",
       "    .dataframe thead th {\n",
       "        text-align: right;\n",
       "    }\n",
       "</style>\n",
       "<table border=\"1\" class=\"dataframe\">\n",
       "  <thead>\n",
       "    <tr style=\"text-align: right;\">\n",
       "      <th></th>\n",
       "      <th>Pigment</th>\n",
       "      <th>Count</th>\n",
       "    </tr>\n",
       "  </thead>\n",
       "  <tbody>\n",
       "    <tr>\n",
       "      <th>0</th>\n",
       "      <td>0</td>\n",
       "      <td>8</td>\n",
       "    </tr>\n",
       "    <tr>\n",
       "      <th>1</th>\n",
       "      <td>1</td>\n",
       "      <td>4</td>\n",
       "    </tr>\n",
       "    <tr>\n",
       "      <th>2</th>\n",
       "      <td>2</td>\n",
       "      <td>2</td>\n",
       "    </tr>\n",
       "    <tr>\n",
       "      <th>3</th>\n",
       "      <td>3</td>\n",
       "      <td>2</td>\n",
       "    </tr>\n",
       "  </tbody>\n",
       "</table>\n",
       "</div>"
      ],
      "text/plain": [
       "   Pigment  Count\n",
       "0        0      8\n",
       "1        1      4\n",
       "2        2      2\n",
       "3        3      2"
      ]
     },
     "execution_count": 411,
     "metadata": {},
     "output_type": "execute_result"
    }
   ],
   "source": [
    "test_count = y_test.reset_index().groupby('Pigment').count().reset_index().rename(columns={'index':'Count'})\n",
    "test_count"
   ]
  },
  {
   "cell_type": "code",
   "execution_count": 412,
   "metadata": {},
   "outputs": [
    {
     "data": {
      "text/plain": [
       "<AxesSubplot:xlabel='Pigment', ylabel='Count'>"
      ]
     },
     "execution_count": 412,
     "metadata": {},
     "output_type": "execute_result"
    },
    {
     "data": {
      "image/png": "[encoded data removed]",
      "text/plain": [
       "<Figure size 648x648 with 1 Axes>"
      ]
     },
     "metadata": {
      "needs_background": "light"
     },
     "output_type": "display_data"
    }
   ],
   "source": [
    "plt.figure(figsize=(9,9))\n",
    "sns.barplot(data=test_count, x='Pigment', y='Count')"
   ]
  },
  {
   "cell_type": "code",
   "execution_count": 413,
   "metadata": {},
   "outputs": [
    {
     "data": {
      "text/html": [
       "<div>\n",
       "<style scoped>\n",
       "    .dataframe tbody tr th:only-of-type {\n",
       "        vertical-align: middle;\n",
       "    }\n",
       "\n",
       "    .dataframe tbody tr th {\n",
       "        vertical-align: top;\n",
       "    }\n",
       "\n",
       "    .dataframe thead th {\n",
       "        text-align: right;\n",
       "    }\n",
       "</style>\n",
       "<table border=\"1\" class=\"dataframe\">\n",
       "  <thead>\n",
       "    <tr style=\"text-align: right;\">\n",
       "      <th></th>\n",
       "      <th>Pigment</th>\n",
       "      <th>Count</th>\n",
       "    </tr>\n",
       "  </thead>\n",
       "  <tbody>\n",
       "    <tr>\n",
       "      <th>0</th>\n",
       "      <td>0</td>\n",
       "      <td>32</td>\n",
       "    </tr>\n",
       "    <tr>\n",
       "      <th>1</th>\n",
       "      <td>1</td>\n",
       "      <td>15</td>\n",
       "    </tr>\n",
       "    <tr>\n",
       "      <th>2</th>\n",
       "      <td>2</td>\n",
       "      <td>8</td>\n",
       "    </tr>\n",
       "    <tr>\n",
       "      <th>3</th>\n",
       "      <td>3</td>\n",
       "      <td>7</td>\n",
       "    </tr>\n",
       "  </tbody>\n",
       "</table>\n",
       "</div>"
      ],
      "text/plain": [
       "   Pigment  Count\n",
       "0        0     32\n",
       "1        1     15\n",
       "2        2      8\n",
       "3        3      7"
      ]
     },
     "execution_count": 413,
     "metadata": {},
     "output_type": "execute_result"
    }
   ],
   "source": [
    "train_count = y_train.reset_index().groupby(['Pigment']).count().reset_index().rename(columns={'index':'Count'})\n",
    "train_count"
   ]
  },
  {
   "cell_type": "code",
   "execution_count": 414,
   "metadata": {},
   "outputs": [
    {
     "data": {
      "text/plain": [
       "<AxesSubplot:xlabel='Pigment', ylabel='Count'>"
      ]
     },
     "execution_count": 414,
     "metadata": {},
     "output_type": "execute_result"
    },
    {
     "data": {
      "image/png": "[encoded data removed]",
      "text/plain": [
       "<Figure size 648x648 with 1 Axes>"
      ]
     },
     "metadata": {
      "needs_background": "light"
     },
     "output_type": "display_data"
    }
   ],
   "source": [
    "plt.figure(figsize=(9,9))\n",
    "sns.barplot(data=train_count, x='Pigment', y='Count')"
   ]
  },
  {
   "cell_type": "markdown",
   "metadata": {},
   "source": [
    "Логистическая регрессия"
   ]
  },
  {
   "cell_type": "code",
   "execution_count": 415,
   "metadata": {},
   "outputs": [],
   "source": [
    "logistic_regr_pipe = Pipeline([('feature', Pipeline([('scaler', StandardScaler()), ('pca', PCA(n_components=5))])),\n",
    "                               ('logistic_regr', LogisticRegressionCV(cv=cv))])"
   ]
  },
  {
   "cell_type": "code",
   "execution_count": 416,
   "metadata": {},
   "outputs": [],
   "source": [
    "X_train = logistic_regr_pipe['feature'].fit_transform(X_train)\n",
    "X_test = logistic_regr_pipe['feature'].transform(X_test)"
   ]
  },
  {
   "cell_type": "code",
   "execution_count": 417,
   "metadata": {},
   "outputs": [
    {
     "data": {
      "text/plain": [
       "LogisticRegressionCV(cv=StratifiedKFold(n_splits=3, random_state=None, shuffle=False))"
      ]
     },
     "execution_count": 417,
     "metadata": {},
     "output_type": "execute_result"
    }
   ],
   "source": [
    "logistic_regr_pipe['logistic_regr'].fit(X_train, y_train)"
   ]
  },
  {
   "cell_type": "code",
   "execution_count": 418,
   "metadata": {},
   "outputs": [
    {
     "data": {
      "text/plain": [
       "array([ 6.076134  , -1.96691211,  3.29823551, -7.40745741])"
      ]
     },
     "execution_count": 418,
     "metadata": {},
     "output_type": "execute_result"
    }
   ],
   "source": [
    "logistic_regr_pipe['logistic_regr'].intercept_"
   ]
  },
  {
   "cell_type": "code",
   "execution_count": 419,
   "metadata": {},
   "outputs": [
    {
     "data": {
      "text/html": [
       "<div>\n",
       "<style scoped>\n",
       "    .dataframe tbody tr th:only-of-type {\n",
       "        vertical-align: middle;\n",
       "    }\n",
       "\n",
       "    .dataframe tbody tr th {\n",
       "        vertical-align: top;\n",
       "    }\n",
       "\n",
       "    .dataframe thead th {\n",
       "        text-align: right;\n",
       "    }\n",
       "</style>\n",
       "<table border=\"1\" class=\"dataframe\">\n",
       "  <thead>\n",
       "    <tr style=\"text-align: right;\">\n",
       "      <th></th>\n",
       "      <th>0</th>\n",
       "      <th>1</th>\n",
       "      <th>2</th>\n",
       "      <th>3</th>\n",
       "    </tr>\n",
       "  </thead>\n",
       "  <tbody>\n",
       "    <tr>\n",
       "      <th>0</th>\n",
       "      <td>8</td>\n",
       "      <td>0</td>\n",
       "      <td>0</td>\n",
       "      <td>0</td>\n",
       "    </tr>\n",
       "    <tr>\n",
       "      <th>1</th>\n",
       "      <td>0</td>\n",
       "      <td>4</td>\n",
       "      <td>0</td>\n",
       "      <td>0</td>\n",
       "    </tr>\n",
       "    <tr>\n",
       "      <th>2</th>\n",
       "      <td>0</td>\n",
       "      <td>0</td>\n",
       "      <td>2</td>\n",
       "      <td>0</td>\n",
       "    </tr>\n",
       "    <tr>\n",
       "      <th>3</th>\n",
       "      <td>0</td>\n",
       "      <td>1</td>\n",
       "      <td>0</td>\n",
       "      <td>1</td>\n",
       "    </tr>\n",
       "  </tbody>\n",
       "</table>\n",
       "</div>"
      ],
      "text/plain": [
       "   0  1  2  3\n",
       "0  8  0  0  0\n",
       "1  0  4  0  0\n",
       "2  0  0  2  0\n",
       "3  0  1  0  1"
      ]
     },
     "execution_count": 419,
     "metadata": {},
     "output_type": "execute_result"
    }
   ],
   "source": [
    "conf_matrix = confusion_matrix(y_test, logistic_regr_pipe['logistic_regr'].predict(X_test))\n",
    "conf_matrix = pd.DataFrame(conf_matrix, columns=[0, 1, 2, 3])\n",
    "conf_matrix"
   ]
  },
  {
   "cell_type": "code",
   "execution_count": 420,
   "metadata": {},
   "outputs": [
    {
     "data": {
      "text/plain": [
       "<AxesSubplot:>"
      ]
     },
     "execution_count": 420,
     "metadata": {},
     "output_type": "execute_result"
    },
    {
     "data": {
      "image/png": "[encoded data removed]",
      "text/plain": [
       "<Figure size 648x504 with 2 Axes>"
      ]
     },
     "metadata": {
      "needs_background": "light"
     },
     "output_type": "display_data"
    }
   ],
   "source": [
    "plt.figure(figsize=(9,7))\n",
    "sns.heatmap(conf_matrix, annot=True)"
   ]
  },
  {
   "cell_type": "markdown",
   "metadata": {},
   "source": [
    "Random Forest"
   ]
  },
  {
   "cell_type": "code",
   "execution_count": 421,
   "metadata": {},
   "outputs": [],
   "source": [
    "parameters_random_forest = { 'max_depth':[2, 5], 'min_samples_leaf': [1, 5]}"
   ]
  },
  {
   "cell_type": "code",
   "execution_count": 422,
   "metadata": {},
   "outputs": [
    {
     "data": {
      "text/plain": [
       "GridSearchCV(cv=StratifiedKFold(n_splits=3, random_state=None, shuffle=False),\n",
       "             estimator=RandomForestClassifier(n_estimators=150),\n",
       "             param_grid={'max_depth': [2, 5], 'min_samples_leaf': [1, 5]})"
      ]
     },
     "execution_count": 422,
     "metadata": {},
     "output_type": "execute_result"
    }
   ],
   "source": [
    "clf_forest = GridSearchCV(RandomForestClassifier(n_estimators=150), \n",
    "                          parameters_random_forest, cv=cv)\n",
    "clf_forest.fit(X_train, y_train)"
   ]
  },
  {
   "cell_type": "code",
   "execution_count": 423,
   "metadata": {},
   "outputs": [
    {
     "data": {
      "text/plain": [
       "{'max_depth': 5, 'min_samples_leaf': 1}"
      ]
     },
     "execution_count": 423,
     "metadata": {},
     "output_type": "execute_result"
    }
   ],
   "source": [
    "clf_forest.best_params_"
   ]
  },
  {
   "cell_type": "code",
   "execution_count": 424,
   "metadata": {},
   "outputs": [],
   "source": [
    "random_forest_pipe = Pipeline([('feature', Pipeline([('scaler', StandardScaler()), ('pca', PCA(n_components=5))])),\n",
    "                               ('random_forest', clf_forest.best_estimator_)])"
   ]
  },
  {
   "cell_type": "code",
   "execution_count": 425,
   "metadata": {},
   "outputs": [
    {
     "data": {
      "text/plain": [
       "4"
      ]
     },
     "execution_count": 425,
     "metadata": {},
     "output_type": "execute_result"
    }
   ],
   "source": [
    " random_forest_pipe['random_forest'].n_classes_"
   ]
  },
  {
   "cell_type": "code",
   "execution_count": 426,
   "metadata": {},
   "outputs": [
    {
     "data": {
      "text/html": [
       "<div>\n",
       "<style scoped>\n",
       "    .dataframe tbody tr th:only-of-type {\n",
       "        vertical-align: middle;\n",
       "    }\n",
       "\n",
       "    .dataframe tbody tr th {\n",
       "        vertical-align: top;\n",
       "    }\n",
       "\n",
       "    .dataframe thead th {\n",
       "        text-align: right;\n",
       "    }\n",
       "</style>\n",
       "<table border=\"1\" class=\"dataframe\">\n",
       "  <thead>\n",
       "    <tr style=\"text-align: right;\">\n",
       "      <th></th>\n",
       "      <th>0</th>\n",
       "      <th>1</th>\n",
       "      <th>2</th>\n",
       "      <th>3</th>\n",
       "    </tr>\n",
       "  </thead>\n",
       "  <tbody>\n",
       "    <tr>\n",
       "      <th>0</th>\n",
       "      <td>8</td>\n",
       "      <td>0</td>\n",
       "      <td>0</td>\n",
       "      <td>0</td>\n",
       "    </tr>\n",
       "    <tr>\n",
       "      <th>1</th>\n",
       "      <td>0</td>\n",
       "      <td>3</td>\n",
       "      <td>0</td>\n",
       "      <td>1</td>\n",
       "    </tr>\n",
       "    <tr>\n",
       "      <th>2</th>\n",
       "      <td>0</td>\n",
       "      <td>0</td>\n",
       "      <td>2</td>\n",
       "      <td>0</td>\n",
       "    </tr>\n",
       "    <tr>\n",
       "      <th>3</th>\n",
       "      <td>0</td>\n",
       "      <td>2</td>\n",
       "      <td>0</td>\n",
       "      <td>0</td>\n",
       "    </tr>\n",
       "  </tbody>\n",
       "</table>\n",
       "</div>"
      ],
      "text/plain": [
       "   0  1  2  3\n",
       "0  8  0  0  0\n",
       "1  0  3  0  1\n",
       "2  0  0  2  0\n",
       "3  0  2  0  0"
      ]
     },
     "execution_count": 426,
     "metadata": {},
     "output_type": "execute_result"
    }
   ],
   "source": [
    "conf_matrix = confusion_matrix(y_test, random_forest_pipe['random_forest'].predict(X_test))\n",
    "conf_matrix = pd.DataFrame(conf_matrix, columns=[0, 1, 2, 3])\n",
    "conf_matrix"
   ]
  },
  {
   "cell_type": "code",
   "execution_count": 427,
   "metadata": {},
   "outputs": [
    {
     "data": {
      "text/plain": [
       "<AxesSubplot:>"
      ]
     },
     "execution_count": 427,
     "metadata": {},
     "output_type": "execute_result"
    },
    {
     "data": {
      "image/png": "[encoded data removed]",
      "text/plain": [
       "<Figure size 648x504 with 2 Axes>"
      ]
     },
     "metadata": {
      "needs_background": "light"
     },
     "output_type": "display_data"
    }
   ],
   "source": [
    "plt.figure(figsize=(9,7))\n",
    "sns.heatmap(conf_matrix, annot=True)"
   ]
  },
  {
   "cell_type": "markdown",
   "metadata": {},
   "source": [
    "Градиентный бустинг"
   ]
  },
  {
   "cell_type": "code",
   "execution_count": 428,
   "metadata": {},
   "outputs": [],
   "source": [
    "parameters_boosting = { 'learning_rate':np.power(2, np.arange(10))}"
   ]
  },
  {
   "cell_type": "code",
   "execution_count": 429,
   "metadata": {},
   "outputs": [
    {
     "data": {
      "text/plain": [
       "GridSearchCV(cv=StratifiedKFold(n_splits=3, random_state=None, shuffle=False),\n",
       "             estimator=GradientBoostingClassifier(n_estimators=150),\n",
       "             param_grid={'learning_rate': array([  1,   2,   4,   8,  16,  32,  64, 128, 256, 512])})"
      ]
     },
     "execution_count": 429,
     "metadata": {},
     "output_type": "execute_result"
    }
   ],
   "source": [
    "clf_boosting = GridSearchCV(GradientBoostingClassifier(n_estimators=150), parameters_boosting, cv=cv)\n",
    "clf_boosting.fit(X_train, y_train)"
   ]
  },
  {
   "cell_type": "code",
   "execution_count": 430,
   "metadata": {},
   "outputs": [
    {
     "data": {
      "text/plain": [
       "{'learning_rate': 4}"
      ]
     },
     "execution_count": 430,
     "metadata": {},
     "output_type": "execute_result"
    }
   ],
   "source": [
    "clf_boosting.best_params_"
   ]
  },
  {
   "cell_type": "code",
   "execution_count": 431,
   "metadata": {},
   "outputs": [],
   "source": [
    "gradient_boosting_pipe = Pipeline([('feature', Pipeline([('scaler', StandardScaler()), ('pca', PCA(n_components=5))])),\n",
    "                               ('gradient_boosting', clf_boosting.best_estimator_)])"
   ]
  },
  {
   "cell_type": "code",
   "execution_count": 432,
   "metadata": {},
   "outputs": [
    {
     "data": {
      "text/plain": [
       "4"
      ]
     },
     "execution_count": 432,
     "metadata": {},
     "output_type": "execute_result"
    }
   ],
   "source": [
    " gradient_boosting_pipe['gradient_boosting'].n_classes_"
   ]
  },
  {
   "cell_type": "code",
   "execution_count": 433,
   "metadata": {},
   "outputs": [
    {
     "data": {
      "text/html": [
       "<div>\n",
       "<style scoped>\n",
       "    .dataframe tbody tr th:only-of-type {\n",
       "        vertical-align: middle;\n",
       "    }\n",
       "\n",
       "    .dataframe tbody tr th {\n",
       "        vertical-align: top;\n",
       "    }\n",
       "\n",
       "    .dataframe thead th {\n",
       "        text-align: right;\n",
       "    }\n",
       "</style>\n",
       "<table border=\"1\" class=\"dataframe\">\n",
       "  <thead>\n",
       "    <tr style=\"text-align: right;\">\n",
       "      <th></th>\n",
       "      <th>0</th>\n",
       "      <th>1</th>\n",
       "      <th>2</th>\n",
       "      <th>3</th>\n",
       "    </tr>\n",
       "  </thead>\n",
       "  <tbody>\n",
       "    <tr>\n",
       "      <th>0</th>\n",
       "      <td>8</td>\n",
       "      <td>0</td>\n",
       "      <td>0</td>\n",
       "      <td>0</td>\n",
       "    </tr>\n",
       "    <tr>\n",
       "      <th>1</th>\n",
       "      <td>0</td>\n",
       "      <td>4</td>\n",
       "      <td>0</td>\n",
       "      <td>0</td>\n",
       "    </tr>\n",
       "    <tr>\n",
       "      <th>2</th>\n",
       "      <td>0</td>\n",
       "      <td>0</td>\n",
       "      <td>2</td>\n",
       "      <td>0</td>\n",
       "    </tr>\n",
       "    <tr>\n",
       "      <th>3</th>\n",
       "      <td>0</td>\n",
       "      <td>2</td>\n",
       "      <td>0</td>\n",
       "      <td>0</td>\n",
       "    </tr>\n",
       "  </tbody>\n",
       "</table>\n",
       "</div>"
      ],
      "text/plain": [
       "   0  1  2  3\n",
       "0  8  0  0  0\n",
       "1  0  4  0  0\n",
       "2  0  0  2  0\n",
       "3  0  2  0  0"
      ]
     },
     "execution_count": 433,
     "metadata": {},
     "output_type": "execute_result"
    }
   ],
   "source": [
    "conf_matrix = confusion_matrix(y_test, gradient_boosting_pipe['gradient_boosting'].predict(X_test))\n",
    "conf_matrix = pd.DataFrame(conf_matrix, columns=[0, 1, 2, 3])\n",
    "conf_matrix"
   ]
  },
  {
   "cell_type": "code",
   "execution_count": 434,
   "metadata": {},
   "outputs": [
    {
     "data": {
      "text/plain": [
       "<AxesSubplot:>"
      ]
     },
     "execution_count": 434,
     "metadata": {},
     "output_type": "execute_result"
    },
    {
     "data": {
      "image/png": "[encoded data removed]",
      "text/plain": [
       "<Figure size 648x504 with 2 Axes>"
      ]
     },
     "metadata": {
      "needs_background": "light"
     },
     "output_type": "display_data"
    }
   ],
   "source": [
    "plt.figure(figsize=(9,7))\n",
    "sns.heatmap(conf_matrix, annot=True)"
   ]
  },
  {
   "cell_type": "markdown",
   "metadata": {},
   "source": [
    "Результаты"
   ]
  },
  {
   "cell_type": "code",
   "execution_count": 435,
   "metadata": {},
   "outputs": [],
   "source": [
    "def muticlass_predict_to_multilabel(y: np.array) -> tp.Tuple[np.array, np.array]:\n",
    "    y_first_cl = np.zeros(len(y))\n",
    "    y_second_cl = np.zeros(len(y))\n",
    "    for idx, y_val in enumerate(y):\n",
    "        if y_val == 3:\n",
    "            y_first_cl[idx] = 1\n",
    "            y_second_cl[idx] = 1\n",
    "        elif y_val == 2:\n",
    "            y_first_cl[idx] = 0\n",
    "            y_second_cl[idx] = 1\n",
    "        elif y_val == 1:\n",
    "            y_first_cl[idx] = 1\n",
    "            y_second_cl[idx] = 0\n",
    "    return y_first_cl, y_second_cl"
   ]
  },
  {
   "cell_type": "code",
   "execution_count": 436,
   "metadata": {},
   "outputs": [],
   "source": [
    "def get_average_metrics(models: tp.List[sklearn.base.BaseEstimator], models_name: tp.List[str],\n",
    "                X: np.array, y: np.array) -> pd.DataFrame:\n",
    "    y_multilabel = muticlass_predict_to_multilabel(y)\n",
    "    y_predicts = [model.predict(X) for model in models]\n",
    "    accuracy: tp.List[float] = [sum([accuracy_score(y_multilabel[i], y_pr) for i, y_pr \n",
    "                                     in enumerate(muticlass_predict_to_multilabel(y_predict))])/len(y_multilabel) \n",
    "                                for y_predict in y_predicts]\n",
    "    f1: tp.List[float] = [sum([f1_score(y_multilabel[i], y_pr) for i, y_pr \n",
    "                                     in enumerate(muticlass_predict_to_multilabel(y_predict))])/len(y_multilabel) \n",
    "                                for y_predict in y_predicts]\n",
    "    precision: tp.List[float] = [sum([precision_score(y_multilabel[i], y_pr) for i, y_pr \n",
    "                                     in enumerate(muticlass_predict_to_multilabel(y_predict))])/len(y_multilabel) \n",
    "                                for y_predict in y_predicts]\n",
    "    recall: tp.List[float] = [sum([recall_score(y_multilabel[i], y_pr) for i, y_pr \n",
    "                                     in enumerate(muticlass_predict_to_multilabel(y_predict))])/len(y_multilabel) \n",
    "                                for y_predict in y_predicts]\n",
    "    return pd.DataFrame(zip(models_name, accuracy, f1, precision, recall), \n",
    "                        columns = ['model', 'accuracy', 'f1', 'precision', 'recall'])"
   ]
  },
  {
   "cell_type": "markdown",
   "metadata": {},
   "source": [
    "Результаты на тренеровочной выборки"
   ]
  },
  {
   "cell_type": "code",
   "execution_count": 437,
   "metadata": {},
   "outputs": [
    {
     "data": {
      "text/html": [
       "<div>\n",
       "<style scoped>\n",
       "    .dataframe tbody tr th:only-of-type {\n",
       "        vertical-align: middle;\n",
       "    }\n",
       "\n",
       "    .dataframe tbody tr th {\n",
       "        vertical-align: top;\n",
       "    }\n",
       "\n",
       "    .dataframe thead th {\n",
       "        text-align: right;\n",
       "    }\n",
       "</style>\n",
       "<table border=\"1\" class=\"dataframe\">\n",
       "  <thead>\n",
       "    <tr style=\"text-align: right;\">\n",
       "      <th></th>\n",
       "      <th>model</th>\n",
       "      <th>accuracy</th>\n",
       "      <th>f1</th>\n",
       "      <th>precision</th>\n",
       "      <th>recall</th>\n",
       "    </tr>\n",
       "  </thead>\n",
       "  <tbody>\n",
       "    <tr>\n",
       "      <th>0</th>\n",
       "      <td>Логистическая регрессия</td>\n",
       "      <td>0.975806</td>\n",
       "      <td>0.948276</td>\n",
       "      <td>0.964286</td>\n",
       "      <td>0.933333</td>\n",
       "    </tr>\n",
       "    <tr>\n",
       "      <th>1</th>\n",
       "      <td>Random Forest</td>\n",
       "      <td>1.000000</td>\n",
       "      <td>1.000000</td>\n",
       "      <td>1.000000</td>\n",
       "      <td>1.000000</td>\n",
       "    </tr>\n",
       "    <tr>\n",
       "      <th>2</th>\n",
       "      <td>Градиентный бустинг</td>\n",
       "      <td>1.000000</td>\n",
       "      <td>1.000000</td>\n",
       "      <td>1.000000</td>\n",
       "      <td>1.000000</td>\n",
       "    </tr>\n",
       "  </tbody>\n",
       "</table>\n",
       "</div>"
      ],
      "text/plain": [
       "                     model  accuracy        f1  precision    recall\n",
       "0  Логистическая регрессия  0.975806  0.948276   0.964286  0.933333\n",
       "1            Random Forest  1.000000  1.000000   1.000000  1.000000\n",
       "2      Градиентный бустинг  1.000000  1.000000   1.000000  1.000000"
      ]
     },
     "execution_count": 437,
     "metadata": {},
     "output_type": "execute_result"
    }
   ],
   "source": [
    "get_average_metrics([logistic_regr_pipe['logistic_regr'], random_forest_pipe['random_forest'], \n",
    "             gradient_boosting_pipe['gradient_boosting']], \n",
    "             ['Логистическая регрессия', 'Random Forest', 'Градиентный бустинг'], X_train, y_train['Pigment'])"
   ]
  },
  {
   "cell_type": "markdown",
   "metadata": {},
   "source": [
    "Результаты на тестовой выборки"
   ]
  },
  {
   "cell_type": "code",
   "execution_count": 438,
   "metadata": {},
   "outputs": [
    {
     "data": {
      "text/html": [
       "<div>\n",
       "<style scoped>\n",
       "    .dataframe tbody tr th:only-of-type {\n",
       "        vertical-align: middle;\n",
       "    }\n",
       "\n",
       "    .dataframe tbody tr th {\n",
       "        vertical-align: top;\n",
       "    }\n",
       "\n",
       "    .dataframe thead th {\n",
       "        text-align: right;\n",
       "    }\n",
       "</style>\n",
       "<table border=\"1\" class=\"dataframe\">\n",
       "  <thead>\n",
       "    <tr style=\"text-align: right;\">\n",
       "      <th></th>\n",
       "      <th>model</th>\n",
       "      <th>accuracy</th>\n",
       "      <th>f1</th>\n",
       "      <th>precision</th>\n",
       "      <th>recall</th>\n",
       "    </tr>\n",
       "  </thead>\n",
       "  <tbody>\n",
       "    <tr>\n",
       "      <th>0</th>\n",
       "      <td>Логистическая регрессия</td>\n",
       "      <td>0.96875</td>\n",
       "      <td>0.928571</td>\n",
       "      <td>1.000000</td>\n",
       "      <td>0.875</td>\n",
       "    </tr>\n",
       "    <tr>\n",
       "      <th>1</th>\n",
       "      <td>Random Forest</td>\n",
       "      <td>0.90625</td>\n",
       "      <td>0.785714</td>\n",
       "      <td>0.833333</td>\n",
       "      <td>0.750</td>\n",
       "    </tr>\n",
       "    <tr>\n",
       "      <th>2</th>\n",
       "      <td>Градиентный бустинг</td>\n",
       "      <td>0.93750</td>\n",
       "      <td>0.833333</td>\n",
       "      <td>1.000000</td>\n",
       "      <td>0.750</td>\n",
       "    </tr>\n",
       "  </tbody>\n",
       "</table>\n",
       "</div>"
      ],
      "text/plain": [
       "                     model  accuracy        f1  precision  recall\n",
       "0  Логистическая регрессия   0.96875  0.928571   1.000000   0.875\n",
       "1            Random Forest   0.90625  0.785714   0.833333   0.750\n",
       "2      Градиентный бустинг   0.93750  0.833333   1.000000   0.750"
      ]
     },
     "execution_count": 438,
     "metadata": {},
     "output_type": "execute_result"
    }
   ],
   "source": [
    "get_average_metrics([logistic_regr_pipe['logistic_regr'], random_forest_pipe['random_forest'], \n",
    "             gradient_boosting_pipe['gradient_boosting']], \n",
    "             ['Логистическая регрессия', 'Random Forest', 'Градиентный бустинг'], X_test, y_test['Pigment'])"
   ]
  },
  {
   "cell_type": "code",
   "execution_count": null,
   "metadata": {},
   "outputs": [],
   "source": []
  }
 ],
 "metadata": {
  "kernelspec": {
   "display_name": "Python 3 (ipykernel)",
   "language": "python",
   "name": "python3"
  },
  "language_info": {
   "codemirror_mode": {
    "name": "ipython",
    "version": 3
   },
   "file_extension": ".py",
   "mimetype": "text/x-python",
   "name": "python",
   "nbconvert_exporter": "python",
   "pygments_lexer": "ipython3",
   "version": "3.10.6"
  }
 },
 "nbformat": 4,
 "nbformat_minor": 4
}
